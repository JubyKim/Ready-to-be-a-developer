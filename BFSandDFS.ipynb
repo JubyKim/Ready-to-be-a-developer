{
 "cells": [
  {
   "cell_type": "code",
   "execution_count": 59,
   "id": "4cce7d35",
   "metadata": {},
   "outputs": [],
   "source": [
    "def solution(numbers, target):\n",
    "    n = len(numbers)\n",
    "    answer = 0\n",
    "    \n",
    "    def dfs(idx, result):\n",
    "        if idx == n: #n 만큼 반복했다면.\n",
    "            if result == target:\n",
    "                nonlocal answer\n",
    "                answer += 1\n",
    "            return\n",
    "        else:\n",
    "            dfs(idx+1, result+numbers[idx])\n",
    "            dfs(idx+1, result-numbers[idx])\n",
    "            \n",
    "    dfs(0,0)\n",
    "    return answer"
   ]
  },
  {
   "cell_type": "code",
   "execution_count": 60,
   "id": "3b34dd7a",
   "metadata": {},
   "outputs": [
    {
     "data": {
      "text/plain": [
       "2"
      ]
     },
     "execution_count": 60,
     "metadata": {},
     "output_type": "execute_result"
    }
   ],
   "source": [
    "solution([4,1,2,1],4)"
   ]
  },
  {
   "cell_type": "code",
   "execution_count": null,
   "id": "0a188acf",
   "metadata": {},
   "outputs": [],
   "source": [
    "[[1, 1, 0], [1, 1, 0], [0, 0, 1]],2)"
   ]
  },
  {
   "cell_type": "code",
   "execution_count": 105,
   "id": "afecf110",
   "metadata": {},
   "outputs": [],
   "source": [
    "import numpy as np\n",
    "def solution(n, computers):\n",
    "    answer = 0\n",
    "    graph = { i : [] for i in range(len(computers))\n",
    "    }\n",
    "    for idx, item in enumerate(computers):\n",
    "        graph[idx] = np.where(np.array(item) == 1)[0]\n",
    "        \n",
    "    def dfs(graph, str_node):\n",
    "        queue = [str_node]\n",
    "        visit = []\n",
    "        while queue:\n",
    "            node = queue.pop(0)\n",
    "            if node not in visit:\n",
    "                visit.append(node)\n",
    "                queue.extend(graph[node])\n",
    "        return visit\n",
    "#     print(dfs(graph,0))\n",
    "    answer = n - len(dfs(graph,0)) + 1\n",
    "    return answer\n"
   ]
  },
  {
   "cell_type": "code",
   "execution_count": 293,
   "id": "b10c5ed7",
   "metadata": {},
   "outputs": [],
   "source": [
    "def solution(tickets):\n",
    "    root = {i[0] : [] for i in tickets}\n",
    "    \n",
    "    cities = [j for i in tickets for j in i]\n",
    "    cities = set(cities)\n",
    "    \n",
    "    visited = {c : False for c in cities}\n",
    "    \n",
    "    print(visited)\n",
    "    \n",
    "    for t in tickets: #makeGraph\n",
    "        root[t[0]].append(t[1])\n",
    "        \n",
    "        \n",
    "    def dfs(graph, str_node):\n",
    "        queue = [str_node]\n",
    "        visit = []\n",
    "        \n",
    "        while list(visited.values()).count(True) != len(cities) :\n",
    "            node = queue.pop(0)\n",
    "            visited[node] = True\n",
    "            visit.append(node)\n",
    "            queue.extend(graph[node])\n",
    "            print(visited)\n",
    "            print(visit)\n",
    "        return visit\n",
    "    \n",
    "    keys = sorted(root.keys())\n",
    "    \n",
    "    for i in keys:\n",
    "        try : \n",
    "            print(dfs(root,i))\n",
    "        except :\n",
    "            print(\"error\")\n",
    "    \n",
    "#     keys = sorted(root.keys())\n",
    "    \n",
    "#     for i in keys:\n",
    "#         try :\n",
    "#             answer = dfs(root,i)\n",
    "#             return\n",
    "#         except:\n",
    "#             print(\"error\")\n",
    "\n",
    "#     print(answer)\n",
    "\n",
    "# #     answer = dfs(root, 'ICN')\n",
    "#     answer = dfs(root, 'HND')\n",
    "# #     answer = dfs(root, 'JFK')"
   ]
  },
  {
   "cell_type": "code",
   "execution_count": 295,
   "id": "3f497e5b",
   "metadata": {},
   "outputs": [
    {
     "name": "stdout",
     "output_type": "stream",
     "text": [
      "{'ATL': False, 'SFO': False, 'ICN': False}\n",
      "{'ATL': True, 'SFO': False, 'ICN': False}\n",
      "['ATL']\n",
      "{'ATL': True, 'SFO': False, 'ICN': True}\n",
      "['ATL', 'ICN']\n",
      "{'ATL': True, 'SFO': True, 'ICN': True}\n",
      "['ATL', 'ICN', 'SFO']\n",
      "['ATL', 'ICN', 'SFO']\n",
      "[]\n",
      "[]\n"
     ]
    }
   ],
   "source": [
    "# solution([[\"ICN\", \"JFK\"], [\"HND\", \"IAD\"], [\"JFK\", \"HND\"]])\n",
    "\n",
    "# 행 결과 〉\t\n",
    "# 테스트 2\n",
    "solution([[\"ICN\", \"SFO\"], [\"ICN\", \"ATL\"], [\"SFO\", \"ATL\"], [\"ATL\", \"ICN\"], [\"ATL\",\"SFO\"]])\n",
    "# 기댓값 〉\t[\"ICN\", \"ATL\", \"ICN\", \"SFO\", \"ATL\", \"SFO\"]\n",
    "# 실행 결과 〉 "
   ]
  },
  {
   "cell_type": "code",
   "execution_count": 296,
   "id": "9a68fbf8",
   "metadata": {},
   "outputs": [],
   "source": [
    "tickets = [[\"ICN\", \"SFO\"], [\"ICN\", \"ATL\"], [\"SFO\", \"ATL\"], [\"ATL\", \"ICN\"], [\"ATL\", \"SFO\"]]\n",
    "cities = [j for i in tickets for j in i]\n",
    "cities = set(cities)"
   ]
  },
  {
   "cell_type": "code",
   "execution_count": 11,
   "id": "4d18b8a3",
   "metadata": {},
   "outputs": [
    {
     "name": "stdout",
     "output_type": "stream",
     "text": [
      "4 5\n",
      "00110\n",
      "00011\n",
      "11111\n",
      "00000\n",
      "[[0, 0, 1, 1, 0], [0, 0, 0, 1, 1], [1, 1, 1, 1, 1], [0, 0, 0, 0, 0]]\n",
      "3\n"
     ]
    }
   ],
   "source": [
    "# N, M을 공백을 기준으로 구분하여 입력 받기\n",
    "n, m = map(int, input().split())\n",
    "\n",
    "# 2차원 리스트의 맵 정보 입력 받기\n",
    "graph = []\n",
    "for i in range(n):\n",
    "    graph.append(list(map(int, input())))\n",
    "print(graph)\n",
    "\n",
    "# DFS로 특정한 노드를 방문한 뒤에 연결된 모든 노드들도 방문\n",
    "def dfs(x, y):\n",
    "    # 주어진 범위를 벗어나는 경우에는 즉시 종료\n",
    "    if x <= -1 or x >= n or y <= -1 or y >= m:\n",
    "        return\n",
    "    \n",
    "    # 현재 노드를 아직 방문하지 않았다면\n",
    "    if graph[x][y] == 0: \n",
    "        # 해당 노드 방문 처리\n",
    "        graph[x][y] = 1\n",
    "        \n",
    "        # 상, 하, 좌, 우의 위치들도 모두 재귀적으로 호출\n",
    "        dfs(x - 1, y)\n",
    "        dfs(x, y - 1)\n",
    "        dfs(x + 1, y)\n",
    "        dfs(x, y + 1)\n",
    "        return True\n",
    "    return\n",
    "\n",
    "# 모든 노드(위치)에 대하여 음료수 채우기\n",
    "result = 0\n",
    "for i in range(n):\n",
    "    for j in range(m):\n",
    "        # 현재 위치에서 DFS 수행\n",
    "        if dfs(i, j) == True:\n",
    "            result += 1\n",
    "\n",
    "print(result) # 정답 출력"
   ]
  },
  {
   "cell_type": "code",
   "execution_count": 51,
   "id": "8767d49c",
   "metadata": {},
   "outputs": [
    {
     "name": "stdout",
     "output_type": "stream",
     "text": [
      "3 3\n",
      "110\n",
      "110\n",
      "011\n",
      "(0, 0)\n",
      "(1, 0)\n",
      "(2, 0)\n"
     ]
    }
   ],
   "source": [
    "# https://steadily-worked.tistory.com/495\n",
    "from collections import deque\n",
    "\n",
    "# 6 10\n",
    "# 0110000011\n",
    "# 1101111101\n",
    "# 1101010111\n",
    "# 1111010111\n",
    "# 0100111000\n",
    "# 1011110111\n",
    "\n",
    "n,m = map(int,input().split())\n",
    "graph = []\n",
    "for i in range(n):\n",
    "    graph.append(list(map(int,input())))\n",
    "    \n",
    "stack = [(0,0)]\n",
    "visit = []\n",
    "\n",
    "def dfs():\n",
    "    while stack :\n",
    "        node = stack.pop()\n",
    "        if graph[node[0]][node[1]] == 1 :\n",
    "            visit.append(node)\n",
    "            if node[0] < n-1 :\n",
    "                stack.append(((node[0]+1),node[1]))\n",
    "            elif node[1] < n-1:\n",
    "                stack.append(((node[0]),node[1]+1))\n"
   ]
  },
  {
   "cell_type": "code",
   "execution_count": 50,
   "id": "f4fd8992",
   "metadata": {},
   "outputs": [
    {
     "data": {
      "text/plain": [
       "{(0, 0), (0, 1), (1, 0), (1, 1), (2, 1), (2, 2)}"
      ]
     },
     "execution_count": 50,
     "metadata": {},
     "output_type": "execute_result"
    }
   ],
   "source": [
    "set(visit)"
   ]
  },
  {
   "cell_type": "code",
   "execution_count": 53,
   "id": "065d174a",
   "metadata": {},
   "outputs": [
    {
     "name": "stdout",
     "output_type": "stream",
     "text": [
      "4 5 1\n",
      "1 2\n",
      "1 3\n",
      "1 4\n",
      "2 3\n",
      "3 4\n",
      "[[], [2, 3, 4], [1, 3], [1, 2, 4], [1, 3]]\n",
      "[[False, False, False, False, False]]\n"
     ]
    }
   ],
   "source": [
    "from collections import  deque\n",
    "\n",
    "n, m, v = map(int, input().split())\n",
    "graph = [[] for _ in range(n + 1)]\n",
    "\n",
    "for i in range(m):\n",
    "    a, b = map(int, input().split())\n",
    "    graph[a].append(b)\n",
    "    graph[b].append(a)\n",
    "    graph[a].sort()\n",
    "    graph[b].sort()\n",
    "print(graph)\n",
    "\n",
    "visited = [False] * (n + 1)\n",
    "\n",
    "def dfs(graph, v, visited):\n",
    "    visited[v] = True\n",
    "    print(v, end=' ')\n",
    "    for i in graph[v]:\n",
    "        if not visited[i]:\n",
    "            dfs(graph, i, visited)\n",
    "\n",
    "def Bfs(graph, v, visited):\n",
    "    visited = [False] * (n + 1)\n",
    "    queue = deque([v])\n",
    "    visited[v] = True\n",
    "    while queue:\n",
    "        pop = queue.popleft()\n",
    "        print(pop, end=' ')\n",
    "        for i in graph[pop]:\n",
    "            if not visited[i]:\n",
    "                queue.append(i)\n",
    "                visited[i] = True\n",
    "\n",
    "# dfs(graph, v, visited)\n",
    "# print()\n",
    "# Bfs(graph, v, visited)"
   ]
  },
  {
   "cell_type": "code",
   "execution_count": 123,
   "id": "06d2b5a0",
   "metadata": {},
   "outputs": [
    {
     "name": "stdout",
     "output_type": "stream",
     "text": [
      "3 3\n",
      "111\n",
      "111\n",
      "111\n",
      "5\n",
      "8\n",
      "10\n",
      "14\n",
      "16\n",
      "19\n",
      "None\n"
     ]
    }
   ],
   "source": [
    "#아이스크림 문제\n",
    "import sys\n",
    "\n",
    "n, m = map(int,input().split())\n",
    "\n",
    "graph = []\n",
    "\n",
    "for i in range(n):\n",
    "    graph.append(list(map(int,input())))\n",
    "\n",
    "queue = [(0,0)]\n",
    "count = 0 \n",
    "x = 0\n",
    "y = 0\n",
    "result = 0\n",
    "resultList = []\n",
    "\n",
    "def findRoot(): # 1인 애들  \n",
    "    node = queue.pop(0)\n",
    "    returnVal = 0\n",
    "    global result\n",
    "    global count\n",
    "    flag = False\n",
    "    result += 1\n",
    "    \n",
    "    if node[0] < n-1 :\n",
    "        if graph[node[0]+1][node[1]]  == 1 :\n",
    "            queue.append((node[0]+1,node[1]))\n",
    "            x = node[0]\n",
    "            y = node[1]+1\n",
    "            findRoot()\n",
    "            \n",
    "    if node[1] < m-1 :\n",
    "        if graph[node[0]][node[1]+1]  == 1 :\n",
    "            queue.append((node[0],node[1]+1))\n",
    "            x = node[0]\n",
    "            y = node[1]+1\n",
    "            findRoot()\n",
    "            \n",
    "    if node[0] == n-1 and node[1] == m-1:\n",
    "        print(result)\n",
    "        return result\n",
    "            \n",
    "print(findRoot())\n"
   ]
  },
  {
   "cell_type": "code",
   "execution_count": 119,
   "id": "a0b667dc",
   "metadata": {},
   "outputs": [
    {
     "ename": "IndexError",
     "evalue": "pop from empty list",
     "output_type": "error",
     "traceback": [
      "\u001b[0;31m---------------------------------------------------------------------------\u001b[0m",
      "\u001b[0;31mIndexError\u001b[0m                                Traceback (most recent call last)",
      "\u001b[0;32m<ipython-input-119-6550ff4ff259>\u001b[0m in \u001b[0;36m<module>\u001b[0;34m\u001b[0m\n\u001b[0;32m----> 1\u001b[0;31m \u001b[0mfindRoot\u001b[0m\u001b[0;34m(\u001b[0m\u001b[0;34m)\u001b[0m\u001b[0;34m\u001b[0m\u001b[0;34m\u001b[0m\u001b[0m\n\u001b[0m",
      "\u001b[0;32m<ipython-input-118-52af8fc73fe7>\u001b[0m in \u001b[0;36mfindRoot\u001b[0;34m()\u001b[0m\n\u001b[1;32m     17\u001b[0m \u001b[0;34m\u001b[0m\u001b[0m\n\u001b[1;32m     18\u001b[0m \u001b[0;32mdef\u001b[0m \u001b[0mfindRoot\u001b[0m\u001b[0;34m(\u001b[0m\u001b[0;34m)\u001b[0m\u001b[0;34m:\u001b[0m \u001b[0;31m# 1인 애들\u001b[0m\u001b[0;34m\u001b[0m\u001b[0;34m\u001b[0m\u001b[0m\n\u001b[0;32m---> 19\u001b[0;31m     \u001b[0mnode\u001b[0m \u001b[0;34m=\u001b[0m \u001b[0mqueue\u001b[0m\u001b[0;34m.\u001b[0m\u001b[0mpop\u001b[0m\u001b[0;34m(\u001b[0m\u001b[0;36m0\u001b[0m\u001b[0;34m)\u001b[0m\u001b[0;34m\u001b[0m\u001b[0;34m\u001b[0m\u001b[0m\n\u001b[0m\u001b[1;32m     20\u001b[0m     \u001b[0;32mglobal\u001b[0m \u001b[0mresult\u001b[0m\u001b[0;34m\u001b[0m\u001b[0;34m\u001b[0m\u001b[0m\n\u001b[1;32m     21\u001b[0m     \u001b[0;32mglobal\u001b[0m \u001b[0mcount\u001b[0m\u001b[0;34m\u001b[0m\u001b[0;34m\u001b[0m\u001b[0m\n",
      "\u001b[0;31mIndexError\u001b[0m: pop from empty list"
     ]
    }
   ],
   "source": [
    "findRoot()"
   ]
  },
  {
   "cell_type": "code",
   "execution_count": 124,
   "id": "01498853",
   "metadata": {},
   "outputs": [
    {
     "name": "stdout",
     "output_type": "stream",
     "text": [
      "3 3\n",
      "001\n",
      "010\n",
      "101\n",
      "[[0, 0, 1], [0, 1, 0], [1, 0, 1]]\n"
     ]
    }
   ],
   "source": [
    "n, m = map(int,input().split())\n",
    "\n",
    "graph = []\n",
    "\n",
    "for i in range(n):\n",
    "    graph.append(list(map(int,input())))\n",
    "    \n",
    "print(graph)"
   ]
  },
  {
   "cell_type": "code",
   "execution_count": 129,
   "id": "b20040a2",
   "metadata": {},
   "outputs": [
    {
     "name": "stdout",
     "output_type": "stream",
     "text": [
      "\n",
      "\n",
      "\n",
      "\n",
      "\n",
      "\n",
      "\n",
      "\n",
      "\n"
     ]
    }
   ],
   "source": [
    "graph = [[0, 0, 1], [0, 1, 0], [1, 0, 1]]\n",
    "visited = [[False] * n ]* m\n",
    "visited\n",
    "queue = []\n",
    "for i in range(n):\n",
    "    for j in range(m):\n",
    "        print()\n",
    "        dfs((n,m),visited)\n",
    "        \n",
    "def dfs(queue,(x,y),visited):\n",
    "    node = queue.pop(0)\n",
    "    x = node[0]\n",
    "    y = node[1]\n",
    "    visited[x][y] = True\n",
    "    \n",
    "    if x < n-1 :\n",
    "        x+= 1\n",
    "        if not visited[x][y]:\n",
    "            queue.append((x,y))\n",
    "            dfs(queue,(x,y),visited)\n",
    "            \n",
    "    if y < m-1 :\n",
    "        y += 1\n",
    "        if not visited[x][y]:\n",
    "            queue.append((x,y))\n",
    "            dfs(queue,(x,y),visited)"
   ]
  },
  {
   "cell_type": "code",
   "execution_count": 132,
   "id": "838e92e7",
   "metadata": {},
   "outputs": [
    {
     "name": "stdout",
     "output_type": "stream",
     "text": [
      "7\n",
      "0\n"
     ]
    }
   ],
   "source": [
    "from sys import stdin\n",
    "\n",
    "n = int(input())\n",
    "# 데이터 저장용 공간 matrix\n",
    "matrix = [[0]*n for _ in range(n)]\n",
    "# 방문 내역 저장용 visited\n",
    "visited = [[0]*n for _ in range(n)]\n",
    "\n",
    "# matrix에 아파트 유무 0과 1 저장\n",
    "for i in range(n):\n",
    "    line = stdin.readline().strip()\n",
    "    for j, b in enumerate(line):\n",
    "        matrix[i][j] = int(b)\n",
    "\n",
    "# 방향 확인용 좌표 dx와 dy\n",
    "# 중앙을 기준으로 좌/우/위/아래\n",
    "dx = [-1, 1, 0, 0]\n",
    "dy = [0, 0, 1, -1]\n",
    "\n",
    "# DFS 함수 정의\n",
    "def dfs(x, y, c):\n",
    "    visited[x][y] = 1   # 방문 여부 표시\n",
    "    global nums            # 아파트 단지 수를 세기위한 변수\n",
    "    # 아파트가 있으면 숫자를 세어줍니다.\n",
    "    if matrix[x][y] == 1:\n",
    "        #matrix[x][y] = c # 아파트 단지별 숫자 표시용\n",
    "        nums += 1\n",
    "    # 해당 위치에서 좌/우/위/아래 방향의 좌표를 확인해서 dfs 적용\n",
    "    for i in range(4):\n",
    "        nx = x + dx[i]\n",
    "        ny = y + dy[i]\n",
    "        if 0 <= nx < n and 0 <= ny < n:\n",
    "            if visited[nx][ny] == 0 and matrix[nx][ny] == 1:\n",
    "                dfs(nx,ny, c)\n",
    "\n",
    "cnt = 1 # 아파트 단지 세기 위한\n",
    "numlist = [] # 아파트 단지별 숫자\n",
    "nums=0 # 아파트 수\n",
    "for a in range(n):\n",
    "    for b in range(n):\n",
    "        if matrix[a][b] == 1 and visited[a][b] == 0:\n",
    "            dfs(a,b,cnt)\n",
    "            numlist.append(nums)\n",
    "            nums = 0\n",
    "#            cnt += 1 # 아파트 단지 별 표시용\n",
    "\n",
    "print(len(numlist))\n",
    "for n in sorted(numlist):\n",
    "    print(n)\n"
   ]
  },
  {
   "cell_type": "code",
   "execution_count": null,
   "id": "d4bd0964",
   "metadata": {},
   "outputs": [],
   "source": [
    "7\n",
    "0110100\n",
    "0110101\n",
    "1110101\n",
    "0000111\n",
    "0100000\n",
    "0111110\n",
    "0111000"
   ]
  },
  {
   "cell_type": "code",
   "execution_count": 205,
   "id": "1eac5256",
   "metadata": {},
   "outputs": [],
   "source": [
    "# n = int(input())\n",
    "\n",
    "matrix = []\n",
    "visited = [[0]*n]*n\n",
    "homeList = []\n",
    "count = 0\n",
    "\n",
    "# for i in range(n):\n",
    "#     matrix.append(list(map(int,input())))\n",
    "\n",
    "matrix = [\n",
    "    [1, 0, 1, 1, 1, 1, 1],\n",
    "    [1, 0, 1, 0, 1, 1, 1],\n",
    "    [1, 1, 1, 1, 1, 0, 1],\n",
    "    [1, 1, 1, 0, 0, 0, 0],\n",
    "    [0, 0, 0, 1, 0, 1, 1],\n",
    "    [1, 1, 0, 1, 0, 1, 1],\n",
    "    [0, 0, 0, 0, 1, 1, 1]\n",
    "]\n",
    "\n",
    "def dfs(homeCoor, visited, matrix):\n",
    "    global count\n",
    "    \n",
    "    i = homeCoor[0]\n",
    "    j = homeCoor[1]\n",
    "    \n",
    "    if visited[i][j] == True or matrix[i][j] == 0:\n",
    "        return\n",
    "   \n",
    "    elif visited[i][j] == False or matrix[i][j] == 1 : #1이면서 visit이전이면,\n",
    "        visited[i][j] = True\n",
    "        matrix[i][j] = count\n",
    "        if i < n-1 :\n",
    "            dfs((i+1,j),visited,matrix)\n",
    "        if i > 0 :\n",
    "            dfs((i-1,j),visited,matrix)\n",
    "        if j < n-1: \n",
    "            dfs((i,j+1),visited,matrix)\n",
    "        if j > 0 : \n",
    "            dfs((i,j-1),visited,matrix)\n",
    "        return\n",
    "    \n",
    "for i in range(n):\n",
    "    for j in range(n):\n",
    "        if visited[i][j] == False and matrix[i][j] == 1:\n",
    "            count += 1\n",
    "            dfs((i,j),visited,matrix)\n",
    "        "
   ]
  },
  {
   "cell_type": "code",
   "execution_count": 206,
   "id": "494dae19",
   "metadata": {},
   "outputs": [
    {
     "name": "stdout",
     "output_type": "stream",
     "text": [
      "[1, 0, 2, 2, 2, 2, 2]\n",
      "[1, 0, 1, 0, 1, 1, 1]\n",
      "[1, 3, 1, 1, 1, 0, 1]\n",
      "[1, 1, 1, 0, 0, 0, 0]\n",
      "[0, 0, 0, 1, 0, 1, 1]\n",
      "[1, 1, 0, 1, 0, 1, 1]\n",
      "[0, 0, 0, 0, 1, 1, 1]\n"
     ]
    }
   ],
   "source": [
    "for i in matrix:\n",
    "    print(i)"
   ]
  },
  {
   "cell_type": "code",
   "execution_count": 207,
   "id": "ec3030b4",
   "metadata": {},
   "outputs": [
    {
     "data": {
      "text/plain": [
       "[[True, True, True, True, True, True, True],\n",
       " [True, True, True, True, True, True, True],\n",
       " [True, True, True, True, True, True, True],\n",
       " [True, True, True, True, True, True, True],\n",
       " [True, True, True, True, True, True, True],\n",
       " [True, True, True, True, True, True, True],\n",
       " [True, True, True, True, True, True, True]]"
      ]
     },
     "execution_count": 207,
     "metadata": {},
     "output_type": "execute_result"
    }
   ],
   "source": [
    "visited"
   ]
  },
  {
   "cell_type": "code",
   "execution_count": null,
   "id": "70d488be",
   "metadata": {},
   "outputs": [],
   "source": [
    "from sys import stdin\n",
    "n = int(input())\n",
    "# 데이터 저장용 공간 matrix\n",
    "matrix = [[0]*n for _ in range(n)]\n",
    "# 방문 내역 저장용 visited\n",
    "visited = [[0]*n for _ in range(n)]\n",
    "\n",
    "# matrix에 아파트 유무 0과 1 저장\n",
    "for i in range(n):\n",
    "    line = stdin.readline().strip()\n",
    "    for j, b in enumerate(line):\n",
    "        matrix[i][j] = int(b)\n",
    "\n",
    "# 방향 확인용 좌표 dx와 dy\n",
    "# 중앙을 기준으로 좌/우/위/아래\n",
    "dx = [-1, 1, 0, 0]\n",
    "dy = [0, 0, 1, -1]\n",
    "\n",
    "# DFS 함수 정의\n",
    "def dfs(x, y, c): #1인 애들만 들어오는구나.\n",
    "    \n",
    "    visited[x][y] = 1   # 방문 여부 표시\n",
    "    global nums            # 아파트 단지 수를 세기위한 변수\n",
    "    # 아파트가 있으면 숫자를 세어줍니다.\n",
    "    if matrix[x][y] == 1:\n",
    "        #matrix[x][y] = c # 아파트 단지별 숫자 표시용\n",
    "        nums += 1\n",
    "    # 해당 위치에서 좌/우/위/아래 방향의 좌표를 확인해서 dfs 적용\n",
    "    for i in range(4):\n",
    "        nx = x + dx[i]\n",
    "        ny = y + dy[i]\n",
    "        if 0 <= nx < n and 0 <= ny < n:\n",
    "            if visited[nx][ny] == 0 and matrix[nx][ny] == 1:\n",
    "                dfs(nx,ny, c)\n",
    "\n",
    "cnt = 1 # 아파트 단지 세기 위한\n",
    "numlist = [] # 아파트 단지별 숫자\n",
    "nums=0 # 아파트 수\n",
    "\n",
    "for a in range(n):\n",
    "    for b in range(n):\n",
    "        if matrix[a][b] == 1 and visited[a][b] == 0:\n",
    "            dfs(a,b,cnt)\n",
    "            numlist.append(nums)\n",
    "            nums = 0\n",
    "#            cnt += 1 # 아파트 단지 별 표시용\n",
    "\n",
    "print(len(numlist))\n",
    "for n in sorted(numlist):\n",
    "    print(n)"
   ]
  },
  {
   "cell_type": "code",
   "execution_count": null,
   "id": "44ac83ae",
   "metadata": {},
   "outputs": [],
   "source": [
    "4 5 1\n",
    "1 2\n",
    "1 3\n",
    "1 4\n",
    "2 4\n",
    "3 4"
   ]
  },
  {
   "cell_type": "code",
   "execution_count": 66,
   "id": "661b28f5",
   "metadata": {},
   "outputs": [
    {
     "name": "stdout",
     "output_type": "stream",
     "text": [
      "5 5 3\n",
      "5 4\n",
      "5 2\n",
      "1 2\n",
      "3 4\n",
      "3 1\n",
      "3 1 2 5 4\n",
      "3 1 4 2 5\n"
     ]
    }
   ],
   "source": [
    "from collections import deque\n",
    "n,m,s = map(int,input().split())\n",
    "graph = {i : [] for i in range(1,n+1)}\n",
    "\n",
    "for _ in range(m):\n",
    "    n1,n2 = map(int,input().split())\n",
    "    graph[n1].append(n2)\n",
    "    graph[n2].append(n1)\n",
    "    \n",
    "    \n",
    "visited = [False]*(n+1)\n",
    "visit = []\n",
    "queue = deque([s])\n",
    "stack = [s]\n",
    "\n",
    "for g in range(1,len(graph)):\n",
    "    graph[g] = sorted(graph[g])\n",
    "\n",
    "\n",
    "\n",
    "def dfs(node):\n",
    "    visit.append(node)\n",
    "    visited[node] = True\n",
    "    for i in graph[node]:\n",
    "        if visited[i] == False:\n",
    "            dfs(i)\n",
    "dfs(s)        \n",
    "for i in range(len(visit)):\n",
    "    visit[i] = str(visit[i])\n",
    "    \n",
    "print(\" \".join(visit))\n",
    "\n",
    "def bfs(n):\n",
    "    visited[n] = True\n",
    "    queue = deque([n])\n",
    "    while queue:\n",
    "        v = queue.popleft()\n",
    "        visit.append(v)\n",
    "        for i in graph[v]:\n",
    "            if not visited[i]:\n",
    "                queue.append(i)\n",
    "                visited[i] = True\n",
    "\n",
    "visited = [False]*(n+1)\n",
    "visit = []\n",
    "bfs(s)\n",
    "# print(visit)\n",
    "for i in range(len(visit)):\n",
    "    visit[i] = str(visit[i])\n",
    "    \n",
    "print(\" \".join(visit))"
   ]
  },
  {
   "cell_type": "code",
   "execution_count": 67,
   "id": "550957fb",
   "metadata": {},
   "outputs": [
    {
     "data": {
      "text/plain": [
       "{1: [2, 3], 2: [1, 5], 3: [1, 4], 4: [3, 5], 5: [4, 2]}"
      ]
     },
     "execution_count": 67,
     "metadata": {},
     "output_type": "execute_result"
    }
   ],
   "source": [
    "graph"
   ]
  },
  {
   "cell_type": "code",
   "execution_count": 20,
   "id": "4079d912",
   "metadata": {},
   "outputs": [],
   "source": [
    "queue = [1]"
   ]
  },
  {
   "cell_type": "code",
   "execution_count": 21,
   "id": "579485c5",
   "metadata": {},
   "outputs": [
    {
     "name": "stdout",
     "output_type": "stream",
     "text": [
      "1\n"
     ]
    }
   ],
   "source": [
    "print(queue.pop(0))"
   ]
  },
  {
   "cell_type": "code",
   "execution_count": 28,
   "id": "a7c9ccaa",
   "metadata": {},
   "outputs": [
    {
     "data": {
      "text/plain": [
       "[1, 2, 3, 4]"
      ]
     },
     "execution_count": 28,
     "metadata": {},
     "output_type": "execute_result"
    }
   ],
   "source": [
    "visit"
   ]
  },
  {
   "cell_type": "code",
   "execution_count": 79,
   "id": "87483f06",
   "metadata": {},
   "outputs": [],
   "source": [
    "def bfs(n):\n",
    "    visited[n] = True\n",
    "    queue = deque([n])\n",
    "    while queue:\n",
    "        v = queue.popleft()\n",
    "        print(v, end= ' ')\n",
    "        for i in graph[v]:\n",
    "            if not visited[i]:\n",
    "                queue.append(i)\n",
    "                visited[i] = True"
   ]
  },
  {
   "cell_type": "code",
   "execution_count": 69,
   "id": "c71a555e",
   "metadata": {},
   "outputs": [
    {
     "data": {
      "text/plain": [
       "{1: [2, 3], 2: [1, 5], 3: [1, 4], 4: [3, 5], 5: [4, 2]}"
      ]
     },
     "execution_count": 69,
     "metadata": {},
     "output_type": "execute_result"
    }
   ],
   "source": [
    "graph"
   ]
  },
  {
   "cell_type": "code",
   "execution_count": 78,
   "id": "b3271e54",
   "metadata": {},
   "outputs": [],
   "source": [
    "visited = [False,False,False,False,False,False]"
   ]
  },
  {
   "cell_type": "code",
   "execution_count": null,
   "id": "437c8aa4",
   "metadata": {},
   "outputs": [],
   "source": [
    "4 6\n",
    "101111\n",
    "101010\n",
    "101011\n",
    "111011"
   ]
  },
  {
   "cell_type": "code",
   "execution_count": 105,
   "id": "2df14c8e",
   "metadata": {},
   "outputs": [
    {
     "name": "stdout",
     "output_type": "stream",
     "text": [
      "4 6\n",
      "101111\n",
      "101010\n",
      "101011\n",
      "111011\n",
      "now : (0, 0)\n",
      "I am x :  -1\n",
      "I am y :  0\n",
      "I am matrix[x][y] 1\n",
      "I am x :  1\n",
      "I am y :  0\n",
      "I am matrix[x][y] 1\n",
      "I am x :  0\n",
      "I am y :  -1\n",
      "I am matrix[x][y] 1\n",
      "I am x :  0\n",
      "I am y :  1\n",
      "I am matrix[x][y] 0\n"
     ]
    }
   ],
   "source": [
    "n,m = map(int,input().split())\n",
    "matrix = []\n",
    "for i in range(n):\n",
    "    matrix.append(list(map(int,input())))\n",
    "visited = [[False]*m]*n\n",
    "dx = [-1,1,0,0] #상, 하, 좌, 우\n",
    "dy = [0,0,-1,1]\n",
    "root = []\n",
    "stack\n",
    "\n",
    "def dfs(i,j):\n",
    "    print(\"now :\", (i,j))\n",
    "    visited[i][j] = True\n",
    "    root.append((i,j))\n",
    "    \n",
    "    for c in range(4):\n",
    "        x = i + dx[c]\n",
    "        y = j + dy[c]\n",
    "        print(\"I am x : \",x)\n",
    "        print(\"I am y : \",y)\n",
    "        print(\"I am matrix[x][y]\", matrix[x][y])\n",
    "        if matrix[x][y] == 1 and visited[i][j] == False:\n",
    "            if 0 <= x <= n and 0 <= y <= m :\n",
    "                print('I am called')\n",
    "                dfs(x,y)\n",
    "\n",
    "dfs(0,0)"
   ]
  },
  {
   "cell_type": "code",
   "execution_count": 98,
   "id": "4cb7b917",
   "metadata": {},
   "outputs": [
    {
     "data": {
      "text/plain": [
       "[(0, 0)]"
      ]
     },
     "execution_count": 98,
     "metadata": {},
     "output_type": "execute_result"
    }
   ],
   "source": [
    "root"
   ]
  },
  {
   "cell_type": "code",
   "execution_count": null,
   "id": "de51471e",
   "metadata": {},
   "outputs": [
    {
     "name": "stdout",
     "output_type": "stream",
     "text": [
      "4 6\n",
      "111111\n",
      "111111\n",
      "111111\n",
      "111111\n"
     ]
    }
   ],
   "source": [
    "import sys\n",
    "from collections import deque\n",
    "\n",
    "N, M = map(int, input().split()) # 배열크기 NXM\n",
    "\n",
    "board = [] # 배열\n",
    "\n",
    "#배열 입력\n",
    "for _ in range(N) :\n",
    "    board.append(list(map(int,input())))\n",
    "\n",
    "#상하좌우\n",
    "dx = [-1,1,0,0]\n",
    "dy = [0,0,-1,1]\n",
    "\n",
    "queue = deque([(0,0)]) #시작 좌표\n",
    "\n",
    "#BFS 시작\n",
    "while queue :\n",
    "    coor = queue.popleft()\n",
    "    x = coor[0]\n",
    "    y = coor[1]\n",
    "\n",
    "    for i in range(4) :\n",
    "        nx = x + dx[i]\n",
    "        ny = y + dy[i]\n",
    "\n",
    "        if nx>=0 and ny>=0 and nx<N and ny<M :\n",
    "            if board[nx][ny] == 1 :\n",
    "                queue.append((nx,ny))\n",
    "                board[nx][ny] = board[x][y] + 1\n",
    "                root.append((nx,ny))\n",
    "\n",
    "print(root)"
   ]
  },
  {
   "cell_type": "code",
   "execution_count": null,
   "id": "e12f3d64",
   "metadata": {},
   "outputs": [],
   "source": []
  }
 ],
 "metadata": {
  "kernelspec": {
   "display_name": "Python 3",
   "language": "python",
   "name": "python3"
  },
  "language_info": {
   "codemirror_mode": {
    "name": "ipython",
    "version": 3
   },
   "file_extension": ".py",
   "mimetype": "text/x-python",
   "name": "python",
   "nbconvert_exporter": "python",
   "pygments_lexer": "ipython3",
   "version": "3.8.8"
  }
 },
 "nbformat": 4,
 "nbformat_minor": 5
}
