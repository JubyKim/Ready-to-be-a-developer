{
 "cells": [
  {
   "cell_type": "code",
   "execution_count": 59,
   "id": "4cce7d35",
   "metadata": {},
   "outputs": [],
   "source": [
    "def solution(numbers, target):\n",
    "    n = len(numbers)\n",
    "    answer = 0\n",
    "    \n",
    "    def dfs(idx, result):\n",
    "        if idx == n: #n 만큼 반복했다면.\n",
    "            if result == target:\n",
    "                nonlocal answer\n",
    "                answer += 1\n",
    "            return\n",
    "        else:\n",
    "            dfs(idx+1, result+numbers[idx])\n",
    "            dfs(idx+1, result-numbers[idx])\n",
    "            \n",
    "    dfs(0,0)\n",
    "    return answer"
   ]
  },
  {
   "cell_type": "code",
   "execution_count": 60,
   "id": "3b34dd7a",
   "metadata": {},
   "outputs": [
    {
     "data": {
      "text/plain": [
       "2"
      ]
     },
     "execution_count": 60,
     "metadata": {},
     "output_type": "execute_result"
    }
   ],
   "source": [
    "solution([4,1,2,1],4)"
   ]
  },
  {
   "cell_type": "code",
   "execution_count": null,
   "id": "0a188acf",
   "metadata": {},
   "outputs": [],
   "source": [
    "[[1, 1, 0], [1, 1, 0], [0, 0, 1]],2)"
   ]
  },
  {
   "cell_type": "code",
   "execution_count": 105,
   "id": "afecf110",
   "metadata": {},
   "outputs": [],
   "source": [
    "import numpy as np\n",
    "def solution(n, computers):\n",
    "    answer = 0\n",
    "    graph = { i : [] for i in range(len(computers))\n",
    "    }\n",
    "    for idx, item in enumerate(computers):\n",
    "        graph[idx] = np.where(np.array(item) == 1)[0]\n",
    "        \n",
    "    def dfs(graph, str_node):\n",
    "        queue = [str_node]\n",
    "        visit = []\n",
    "        while queue:\n",
    "            node = queue.pop(0)\n",
    "            if node not in visit:\n",
    "                visit.append(node)\n",
    "                queue.extend(graph[node])\n",
    "        return visit\n",
    "#     print(dfs(graph,0))\n",
    "    answer = n - len(dfs(graph,0)) + 1\n",
    "    return answer\n"
   ]
  },
  {
   "cell_type": "code",
   "execution_count": 293,
   "id": "b10c5ed7",
   "metadata": {},
   "outputs": [],
   "source": [
    "def solution(tickets):\n",
    "    root = {i[0] : [] for i in tickets}\n",
    "    \n",
    "    cities = [j for i in tickets for j in i]\n",
    "    cities = set(cities)\n",
    "    \n",
    "    visited = {c : False for c in cities}\n",
    "    \n",
    "    print(visited)\n",
    "    \n",
    "    for t in tickets: #makeGraph\n",
    "        root[t[0]].append(t[1])\n",
    "        \n",
    "        \n",
    "    def dfs(graph, str_node):\n",
    "        queue = [str_node]\n",
    "        visit = []\n",
    "        \n",
    "        while list(visited.values()).count(True) != len(cities) :\n",
    "            node = queue.pop(0)\n",
    "            visited[node] = True\n",
    "            visit.append(node)\n",
    "            queue.extend(graph[node])\n",
    "            print(visited)\n",
    "            print(visit)\n",
    "        return visit\n",
    "    \n",
    "    keys = sorted(root.keys())\n",
    "    \n",
    "    for i in keys:\n",
    "        try : \n",
    "            print(dfs(root,i))\n",
    "        except :\n",
    "            print(\"error\")\n",
    "    \n",
    "#     keys = sorted(root.keys())\n",
    "    \n",
    "#     for i in keys:\n",
    "#         try :\n",
    "#             answer = dfs(root,i)\n",
    "#             return\n",
    "#         except:\n",
    "#             print(\"error\")\n",
    "\n",
    "#     print(answer)\n",
    "\n",
    "# #     answer = dfs(root, 'ICN')\n",
    "#     answer = dfs(root, 'HND')\n",
    "# #     answer = dfs(root, 'JFK')"
   ]
  },
  {
   "cell_type": "code",
   "execution_count": 295,
   "id": "3f497e5b",
   "metadata": {},
   "outputs": [
    {
     "name": "stdout",
     "output_type": "stream",
     "text": [
      "{'ATL': False, 'SFO': False, 'ICN': False}\n",
      "{'ATL': True, 'SFO': False, 'ICN': False}\n",
      "['ATL']\n",
      "{'ATL': True, 'SFO': False, 'ICN': True}\n",
      "['ATL', 'ICN']\n",
      "{'ATL': True, 'SFO': True, 'ICN': True}\n",
      "['ATL', 'ICN', 'SFO']\n",
      "['ATL', 'ICN', 'SFO']\n",
      "[]\n",
      "[]\n"
     ]
    }
   ],
   "source": [
    "# solution([[\"ICN\", \"JFK\"], [\"HND\", \"IAD\"], [\"JFK\", \"HND\"]])\n",
    "\n",
    "# 행 결과 〉\t\n",
    "# 테스트 2\n",
    "solution([[\"ICN\", \"SFO\"], [\"ICN\", \"ATL\"], [\"SFO\", \"ATL\"], [\"ATL\", \"ICN\"], [\"ATL\",\"SFO\"]])\n",
    "# 기댓값 〉\t[\"ICN\", \"ATL\", \"ICN\", \"SFO\", \"ATL\", \"SFO\"]\n",
    "# 실행 결과 〉 "
   ]
  },
  {
   "cell_type": "code",
   "execution_count": 296,
   "id": "9a68fbf8",
   "metadata": {},
   "outputs": [],
   "source": [
    "tickets = [[\"ICN\", \"SFO\"], [\"ICN\", \"ATL\"], [\"SFO\", \"ATL\"], [\"ATL\", \"ICN\"], [\"ATL\", \"SFO\"]]\n",
    "cities = [j for i in tickets for j in i]\n",
    "cities = set(cities)"
   ]
  },
  {
   "cell_type": "code",
   "execution_count": null,
   "id": "4d18b8a3",
   "metadata": {},
   "outputs": [],
   "source": []
  }
 ],
 "metadata": {
  "kernelspec": {
   "display_name": "Python 3",
   "language": "python",
   "name": "python3"
  },
  "language_info": {
   "codemirror_mode": {
    "name": "ipython",
    "version": 3
   },
   "file_extension": ".py",
   "mimetype": "text/x-python",
   "name": "python",
   "nbconvert_exporter": "python",
   "pygments_lexer": "ipython3",
   "version": "3.8.8"
  }
 },
 "nbformat": 4,
 "nbformat_minor": 5
}
