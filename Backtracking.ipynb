{
 "cells": [
  {
   "cell_type": "code",
   "execution_count": 2,
   "id": "5b20f6ca",
   "metadata": {},
   "outputs": [
    {
     "ename": "SyntaxError",
     "evalue": "invalid syntax (<ipython-input-2-1de081e70056>, line 1)",
     "output_type": "error",
     "traceback": [
      "\u001b[0;36m  File \u001b[0;32m\"<ipython-input-2-1de081e70056>\"\u001b[0;36m, line \u001b[0;32m1\u001b[0m\n\u001b[0;31m    3 1\u001b[0m\n\u001b[0m      ^\u001b[0m\n\u001b[0;31mSyntaxError\u001b[0m\u001b[0;31m:\u001b[0m invalid syntax\n"
     ]
    }
   ],
   "source": [
    "3 1"
   ]
  },
  {
   "cell_type": "code",
   "execution_count": 29,
   "id": "1789ee25",
   "metadata": {},
   "outputs": [
    {
     "name": "stdout",
     "output_type": "stream",
     "text": [
      "4 1\n",
      "1\n",
      "2\n",
      "3\n",
      "4\n"
     ]
    }
   ],
   "source": [
    "n,m = map(int,input().split())\n",
    " \n",
    "s = []\n",
    " \n",
    "def dfs():\n",
    "    if len(s)==m: #m개가 되면.\n",
    "        print(' '.join(map(str,s)))\n",
    "        return\n",
    "    \n",
    "    for i in range(1,n+1): #1부터~\n",
    "        if i not in s: #1,2,3\n",
    "            s.append(i)\n",
    "            dfs()\n",
    "            s.pop()\n",
    "dfs()"
   ]
  },
  {
   "cell_type": "code",
   "execution_count": 15,
   "id": "8cae2154",
   "metadata": {},
   "outputs": [
    {
     "data": {
      "text/plain": [
       "[(1, 1), (1, 2), (1, 3)]"
      ]
     },
     "execution_count": 15,
     "metadata": {},
     "output_type": "execute_result"
    }
   ],
   "source": [
    "def backtracking(loc, ...): \n",
    "    # 종료를 위한 조건문 \n",
    "    if ...: \n",
    "        return \n",
    "    \n",
    "    # 현재 위치 부터 for문 \n",
    "    for i in range(loc, ...):\n",
    "        backtracking(i+1, ...) \n",
    "        return"
   ]
  },
  {
   "cell_type": "code",
   "execution_count": null,
   "id": "2df035f7",
   "metadata": {
    "scrolled": true
   },
   "outputs": [],
   "source": [
    "# https://www.acmicpc.net/problem/1182\n",
    "\n",
    "import sys\n",
    "from itertools import combinations\n",
    "\n",
    "n, m = map(int, input().split())\n",
    "arr = list(map(int, input().split()))\n",
    "\n",
    "for i in range(1, n+1):\n",
    "    comb = combinations(arr, i)\n",
    "\n",
    "    for x in comb:\n",
    "        if sum(x) == s:\n",
    "            cnt += 1\n",
    "\n",
    "print(cnt)"
   ]
  },
  {
   "cell_type": "code",
   "execution_count": null,
   "id": "125e00a7",
   "metadata": {},
   "outputs": [],
   "source": []
  }
 ],
 "metadata": {
  "kernelspec": {
   "display_name": "Python 3",
   "language": "python",
   "name": "python3"
  },
  "language_info": {
   "codemirror_mode": {
    "name": "ipython",
    "version": 3
   },
   "file_extension": ".py",
   "mimetype": "text/x-python",
   "name": "python",
   "nbconvert_exporter": "python",
   "pygments_lexer": "ipython3",
   "version": "3.8.8"
  }
 },
 "nbformat": 4,
 "nbformat_minor": 5
}
