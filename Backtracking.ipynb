{
 "cells": [
  {
   "cell_type": "code",
   "execution_count": null,
   "id": "12a096ff",
   "metadata": {},
   "outputs": [],
   "source": [
    "#https://www.acmicpc.net/problem/15650\n",
    "n,m = map(int,input().split())\n",
    " \n",
    "s = []\n",
    " \n",
    "def dfs():\n",
    "    if len(s)==m and s == sorted(s): #m개가 되면 \n",
    "        print(' '.join(map(str,s)))\n",
    "        return\n",
    "    \n",
    "    for i in range(1,n+1): #1부터~\n",
    "        if i not in s : #1,2,3\n",
    "            s.append(i)\n",
    "            dfs()\n",
    "            s.pop() #return 되면 여기!\n",
    "dfs()"
   ]
  },
  {
   "cell_type": "code",
   "execution_count": null,
   "id": "d51c03f3",
   "metadata": {},
   "outputs": [],
   "source": [
    "n, m = map(int,input().split())\n",
    "s = []\n",
    "\n",
    "def backTracking():\n",
    "    if len(s) == m: #종료 조건\n",
    "        if m == 1:\n",
    "            print(\" \".join(map(str,s)))\n",
    "            return\n",
    "        \n",
    "        else :\n",
    "            count = 0\n",
    "            for a in range(1,m+1):\n",
    "                if s[a-1] <= s[a]:\n",
    "                    count += 1\n",
    "                else:\n",
    "                    return\n",
    "                if count == m-1:\n",
    "                    print(\" \".join(map(str,s)))\n",
    "                    return\n",
    "    \n",
    "    for i in range(1,n+1): #for 문\n",
    "        s.append(i)\n",
    "        backTracking() #조건확인\n",
    "        s.pop()\n",
    "            \n",
    "backTracking()"
   ]
  },
  {
   "cell_type": "code",
   "execution_count": null,
   "id": "e2d6b820",
   "metadata": {},
   "outputs": [],
   "source": [
    "def backtracking(loc, ...): \n",
    "    \n",
    "    if ...: # 종료를 위한 조건문 \n",
    "        return \n",
    "    \n",
    "    # 현재 위치 부터 for문 \n",
    "    for i in range(loc, ...):\n",
    "        backtracking(i+1, ...) \n",
    "        return"
   ]
  },
  {
   "cell_type": "code",
   "execution_count": null,
   "id": "7435f582",
   "metadata": {
    "scrolled": true
   },
   "outputs": [],
   "source": [
    "# https://www.acmicpc.net/problem/1182\n",
    "\n",
    "from itertools import combinations\n",
    "\n",
    "n, m = map(int, input().split())\n",
    "arr = list(map(int, input().split()))\n",
    "\n",
    "for i in range(1, n+1):\n",
    "    comb = combinations(arr, i)\n",
    "\n",
    "    for x in comb:\n",
    "        if sum(x) == s:\n",
    "            cnt += 1\n",
    "\n",
    "print(cnt)"
   ]
  },
  {
   "cell_type": "code",
   "execution_count": 112,
   "id": "5023dbe0",
   "metadata": {},
   "outputs": [
    {
     "name": "stdout",
     "output_type": "stream",
     "text": [
      "10\n",
      "479306\n"
     ]
    }
   ],
   "source": [
    "#https://www.acmicpc.net/problem/15650\n",
    "n = int(input())\n",
    "count = 0\n",
    "s = []\n",
    "\n",
    "def dfs():\n",
    "    global count\n",
    "    \n",
    "    if len(s)==n: \n",
    "        count+=1\n",
    "        return\n",
    "    \n",
    "    for i in range(n):\n",
    "        if len(s) > 0:\n",
    "            if i not in s and abs(s[len(s)-1]-i) != 1: #1,2,3\n",
    "                s.append(i)\n",
    "                dfs()\n",
    "                s.pop()\n",
    "        else:\n",
    "            s.append(i)\n",
    "            dfs()\n",
    "            s.pop()\n",
    "\n",
    "dfs()\n",
    "print(count)"
   ]
  },
  {
   "cell_type": "code",
   "execution_count": 108,
   "id": "9a76cc27",
   "metadata": {},
   "outputs": [
    {
     "name": "stdout",
     "output_type": "stream",
     "text": [
      "4\n",
      "2\n"
     ]
    }
   ],
   "source": [
    "from itertools import permutations\n",
    "\n",
    "n = int(input())\n",
    "nums = [i for i in range(n)]\n",
    "permList = list(permutations(nums,n))\n",
    "\n",
    "count = 0\n",
    "if n == 1:\n",
    "    print(0)\n",
    "else:\n",
    "    for p in permList:\n",
    "        for j in range(1,len(p)):\n",
    "            if abs(p[j]-p[j-1]) == 1 :\n",
    "                break\n",
    "            if j == len(p)-1:\n",
    "                count +=1\n",
    "\n",
    "    print(count)"
   ]
  },
  {
   "cell_type": "code",
   "execution_count": 1,
   "id": "ec79b3f3",
   "metadata": {},
   "outputs": [],
   "source": [
    "graph = [\n",
    "    [1,0,1,1,1,1],\n",
    "    [1,0,1,0,1,0],\n",
    "    [1,0,1,0,1,1],\n",
    "    [1,1,1,0,1,1]\n",
    "]"
   ]
  },
  {
   "cell_type": "code",
   "execution_count": null,
   "id": "3983ee26",
   "metadata": {},
   "outputs": [],
   "source": [
    "def findRoot():\n",
    "    if x == n and y == m:\n",
    "        return\n",
    "    \n",
    "    "
   ]
  }
 ],
 "metadata": {
  "kernelspec": {
   "display_name": "Python 3",
   "language": "python",
   "name": "python3"
  },
  "language_info": {
   "codemirror_mode": {
    "name": "ipython",
    "version": 3
   },
   "file_extension": ".py",
   "mimetype": "text/x-python",
   "name": "python",
   "nbconvert_exporter": "python",
   "pygments_lexer": "ipython3",
   "version": "3.8.8"
  }
 },
 "nbformat": 4,
 "nbformat_minor": 5
}
