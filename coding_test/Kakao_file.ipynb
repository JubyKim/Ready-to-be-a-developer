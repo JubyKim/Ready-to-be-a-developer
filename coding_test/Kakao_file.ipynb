{
 "cells": [
  {
   "cell_type": "code",
   "execution_count": 308,
   "id": "0c1866c1",
   "metadata": {},
   "outputs": [],
   "source": [
    "def solution(files):\n",
    "    answer = []\n",
    "    # 우선 head로 정렬하고\n",
    "    # 그다음 body 비교하고,\n",
    "    # tail은 그대로 둬야하니까 원래 순서 가지고 있는 게 낫나 -> dict로 가지고 있자\n",
    "    \n",
    "    filesDict = [i for i in range(len(files))]\n",
    "    \n",
    "    for idx in range(len(files)) :\n",
    "        head = ''\n",
    "        body = ''\n",
    "        tail = ''\n",
    "        try :\n",
    "            ffiles = files[idx].split(\".\")[0]\n",
    "            tail = files[idx].split(\".\")[1]\n",
    "        except :\n",
    "            tail = ''\n",
    "            \n",
    "        for a, i in enumerate(ffiles):\n",
    "            body = ''\n",
    "\n",
    "            if i == \".\":\n",
    "                break\n",
    "                \n",
    "            if not i.isnumeric():\n",
    "                head += i.lower()\n",
    "            elif i.isnumeric():\n",
    "\n",
    "                body = \"\".join(ffiles[a:])\n",
    "                break\n",
    "\n",
    "        try : \n",
    "            filesDict[idx] = (idx, head, int(body), files[idx])\n",
    "            \n",
    "        except :\n",
    "            filesDict[idx] = (idx, head, body, files[idx])\n",
    "         \n",
    "            \n",
    "    filesDict = sorted(filesDict, key=lambda student: (student[1], student[2])) # head를 기준으로 정렬\n",
    "#     s = sorted(s, key = lambda x: (x[1], x[2]))\n",
    "        \n",
    "    print(\"here1\")\n",
    "    for i in filesDict :\n",
    "        print(i)\n",
    "        \n",
    "#     filesDict =  sorted(filesDict, key=lambda student: student[2])\n",
    "#     print(\"here2\")\n",
    "#     for i in filesDict :\n",
    "#         print(i)\n",
    "        \n",
    "    for i in filesDict :\n",
    "        answer.append(i[3])\n",
    "    \n",
    "    return answer"
   ]
  },
  {
   "cell_type": "code",
   "execution_count": 309,
   "id": "05e074a6",
   "metadata": {
    "scrolled": true
   },
   "outputs": [
    {
     "name": "stdout",
     "output_type": "stream",
     "text": [
      "here1\n",
      "(2, 'a-', '10 Thunderbolt II', 'A-10 Thunderbolt II')\n",
      "(1, 'b-', '50 Superfortress', 'B-50 Superfortress')\n",
      "(3, 'f-', '14 Tomcat', 'F-14 Tomcat')\n",
      "(0, 'f-', '5 Freedom Fighter', 'F-5 Freedom Fighter')\n"
     ]
    },
    {
     "data": {
      "text/plain": [
       "['A-10 Thunderbolt II',\n",
       " 'B-50 Superfortress',\n",
       " 'F-14 Tomcat',\n",
       " 'F-5 Freedom Fighter']"
      ]
     },
     "execution_count": 309,
     "metadata": {},
     "output_type": "execute_result"
    }
   ],
   "source": [
    "solution([\"F-5 Freedom Fighter\", \"B-50 Superfortress\", \"A-10 Thunderbolt II\", \"F-14 Tomcat\"])\n",
    "# [\"A-10 Thunderbolt II\", \"B-50 Superfortress\", \"F-5 Freedom Fighter\", \"F-14 Tomcat\"]"
   ]
  },
  {
   "cell_type": "code",
   "execution_count": 310,
   "id": "c720e985",
   "metadata": {},
   "outputs": [
    {
     "name": "stdout",
     "output_type": "stream",
     "text": [
      "here1\n",
      "(3, 'img', 1, 'img1.png')\n",
      "(4, 'img', 1, 'IMG01.GIF')\n",
      "(2, 'img', 2, 'img02.png')\n",
      "(5, 'img', 2, 'img2.JPG')\n",
      "(1, 'img', 10, 'img10.png')\n",
      "(0, 'img', 12, 'img12.png')\n"
     ]
    },
    {
     "data": {
      "text/plain": [
       "['img1.png', 'IMG01.GIF', 'img02.png', 'img2.JPG', 'img10.png', 'img12.png']"
      ]
     },
     "execution_count": 310,
     "metadata": {},
     "output_type": "execute_result"
    }
   ],
   "source": [
    "solution([\"img12.png\", \"img10.png\", \"img02.png\", \"img1.png\", \"IMG01.GIF\", \"img2.JPG\"])\n",
    "#[\"img1.png\", \"IMG01.GIF\", \"img02.png\", \"img2.JPG\", \"img10.png\", \"img12.png\"]"
   ]
  },
  {
   "cell_type": "code",
   "execution_count": 304,
   "id": "68d43924",
   "metadata": {},
   "outputs": [
    {
     "name": "stdout",
     "output_type": "stream",
     "text": [
      "here1\n",
      "(0, 'foo', '010bar020', 'foo010bar020.zip')\n"
     ]
    },
    {
     "data": {
      "text/plain": [
       "['foo010bar020.zip']"
      ]
     },
     "execution_count": 304,
     "metadata": {},
     "output_type": "execute_result"
    }
   ],
   "source": [
    "solution([\"foo010bar020.zip\"])"
   ]
  },
  {
   "cell_type": "code",
   "execution_count": 305,
   "id": "5e62202f",
   "metadata": {},
   "outputs": [
    {
     "data": {
      "text/plain": [
       "[('dave', 'B', 10), ('jane', 'B', 12), ('john', 'A', 15)]"
      ]
     },
     "execution_count": 305,
     "metadata": {},
     "output_type": "execute_result"
    }
   ],
   "source": [
    "student_tuples = [\n",
    "     ('john', 'A', 15),\n",
    "     ('jane', 'B', 12),\n",
    "     ('dave', 'B', 10),\n",
    "]\n",
    "sorted(student_tuples, key=lambda student: student[2])"
   ]
  },
  {
   "cell_type": "code",
   "execution_count": 89,
   "id": "6b81c721",
   "metadata": {},
   "outputs": [],
   "source": [
    "filesDict = [(0, 'img', 12, 'img12.png'), (1, 'img', 10, 'img10.png'), (2, 'img', 2, 'img02.png'), (3, 'img', 1, 'img1.png'), (4, 'img', 1, 'IMG01.GIF'), (5, 'img', 2, 'img2.JPG')]"
   ]
  },
  {
   "cell_type": "code",
   "execution_count": 94,
   "id": "ea0dacc3",
   "metadata": {},
   "outputs": [
    {
     "ename": "NameError",
     "evalue": "name 'answer' is not defined",
     "output_type": "error",
     "traceback": [
      "\u001b[0;31m---------------------------------------------------------------------------\u001b[0m",
      "\u001b[0;31mNameError\u001b[0m                                 Traceback (most recent call last)",
      "\u001b[0;32m<ipython-input-94-4410973228b3>\u001b[0m in \u001b[0;36m<module>\u001b[0;34m\u001b[0m\n\u001b[1;32m      3\u001b[0m \u001b[0;34m\u001b[0m\u001b[0m\n\u001b[1;32m      4\u001b[0m \u001b[0;32mfor\u001b[0m \u001b[0mi\u001b[0m \u001b[0;32min\u001b[0m \u001b[0mfilesDict\u001b[0m \u001b[0;34m:\u001b[0m\u001b[0;34m\u001b[0m\u001b[0;34m\u001b[0m\u001b[0m\n\u001b[0;32m----> 5\u001b[0;31m     \u001b[0manswer\u001b[0m\u001b[0;34m.\u001b[0m\u001b[0mappend\u001b[0m\u001b[0;34m(\u001b[0m\u001b[0mi\u001b[0m\u001b[0;34m[\u001b[0m\u001b[0;36m3\u001b[0m\u001b[0;34m]\u001b[0m\u001b[0;34m)\u001b[0m\u001b[0;34m\u001b[0m\u001b[0;34m\u001b[0m\u001b[0m\n\u001b[0m",
      "\u001b[0;31mNameError\u001b[0m: name 'answer' is not defined"
     ]
    }
   ],
   "source": [
    "sorted(filesDict, key=lambda student: student[1])\n",
    "sorted(filesDict, key=lambda student: student[2])\n",
    "\n",
    "for i in filesDict :\n",
    "    answer.append(i[3])"
   ]
  },
  {
   "cell_type": "code",
   "execution_count": 113,
   "id": "2382bb01",
   "metadata": {},
   "outputs": [
    {
     "data": {
      "text/plain": [
       "[1, 2, 3, 4]"
      ]
     },
     "execution_count": 113,
     "metadata": {},
     "output_type": "execute_result"
    }
   ],
   "source": [
    "a = [1,2,4,3]\n",
    "sorted(a)"
   ]
  },
  {
   "cell_type": "code",
   "execution_count": 132,
   "id": "e86c61ef",
   "metadata": {},
   "outputs": [
    {
     "data": {
      "text/plain": [
       "True"
      ]
     },
     "execution_count": 132,
     "metadata": {},
     "output_type": "execute_result"
    }
   ],
   "source": [
    "\"a\" > \"a\""
   ]
  },
  {
   "cell_type": "code",
   "execution_count": 214,
   "id": "760aa9f6",
   "metadata": {},
   "outputs": [
    {
     "name": "stdout",
     "output_type": "stream",
     "text": [
      "0\n",
      "1\n"
     ]
    }
   ],
   "source": [
    "for idx, item in enumerate([1,2]):\n",
    "    print(i)"
   ]
  },
  {
   "cell_type": "code",
   "execution_count": null,
   "id": "e0fe36df",
   "metadata": {},
   "outputs": [],
   "source": []
  }
 ],
 "metadata": {
  "kernelspec": {
   "display_name": "Python 3",
   "language": "python",
   "name": "python3"
  },
  "language_info": {
   "codemirror_mode": {
    "name": "ipython",
    "version": 3
   },
   "file_extension": ".py",
   "mimetype": "text/x-python",
   "name": "python",
   "nbconvert_exporter": "python",
   "pygments_lexer": "ipython3",
   "version": "3.8.8"
  }
 },
 "nbformat": 4,
 "nbformat_minor": 5
}
