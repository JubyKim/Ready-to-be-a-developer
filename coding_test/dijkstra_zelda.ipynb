{
 "cells": [
  {
   "cell_type": "code",
   "execution_count": 18,
   "id": "b47ac3e8",
   "metadata": {},
   "outputs": [
    {
     "name": "stdout",
     "output_type": "stream",
     "text": [
      "3\n",
      "1 2 3\n",
      "1 2 3\n",
      "1 2 3\n",
      "Problem 1: 8\n",
      "0\n"
     ]
    }
   ],
   "source": [
    "n = 1\n",
    "count = 0\n",
    "def findMinimumCost(rupeeList, n):\n",
    "    #가로 세로는 그냥 더하기\n",
    "    for i in range(n-1):\n",
    "        rupeeList[0][i+1] += rupeeList[0][i]\n",
    "        rupeeList[i+1][0] += rupeeList[i][0]\n",
    "        \n",
    "    for i in range(1,n):\n",
    "        for j in range(1,n):\n",
    "            rupeeList[i][j] += min(rupeeList[i-1][j],rupeeList[i][j-1])\n",
    "    return rupeeList[n-1][n-1]\n",
    "    \n",
    "while n != 0:\n",
    "    count +=1\n",
    "    rupee = []\n",
    "    n = int(input())\n",
    "    if n == 0 :\n",
    "        break\n",
    "    for i in range(n):\n",
    "        rupee.append(list(map(int,input().split())))\n",
    "#     print(\"this is rupee : \", rupee)\n",
    "    minCost = findMinimumCost(rupee,n)\n",
    "    print(f\"Problem {count}: {minCost}\")\n"
   ]
  },
  {
   "cell_type": "code",
   "execution_count": 16,
   "id": "d6afbb92",
   "metadata": {},
   "outputs": [
    {
     "data": {
      "text/plain": [
       "20"
      ]
     },
     "execution_count": 16,
     "metadata": {},
     "output_type": "execute_result"
    }
   ],
   "source": [
    "rupee = [[5,5,4],[3,9,1],[3,2,7]]\n",
    "\n",
    "def findMinimumCost(rupeeList, n):\n",
    "    #가로 세로는 그냥 더하기\n",
    "    for i in range(n-1):\n",
    "        rupeeList[0][i+1] += rupeeList[0][i]\n",
    "        rupeeList[i+1][0] += rupeeList[i][0]\n",
    "        \n",
    "    for i in range(1,n):\n",
    "        for j in range(1,n):\n",
    "            rupeeList[i][j] += min(rupeeList[i-1][j],rupeeList[i][j-1])\n",
    "    return rupeeList[n-1][n-1]\n",
    "        \n",
    "        \n",
    "findMinimumCost(rupee,3)"
   ]
  },
  {
   "cell_type": "code",
   "execution_count": null,
   "id": "fac2ed3a",
   "metadata": {},
   "outputs": [],
   "source": []
  }
 ],
 "metadata": {
  "kernelspec": {
   "display_name": "Python 3",
   "language": "python",
   "name": "python3"
  },
  "language_info": {
   "codemirror_mode": {
    "name": "ipython",
    "version": 3
   },
   "file_extension": ".py",
   "mimetype": "text/x-python",
   "name": "python",
   "nbconvert_exporter": "python",
   "pygments_lexer": "ipython3",
   "version": "3.8.8"
  }
 },
 "nbformat": 4,
 "nbformat_minor": 5
}
