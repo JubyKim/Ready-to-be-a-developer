{
 "cells": [
  {
   "cell_type": "code",
   "execution_count": 1,
   "id": "c082f50a",
   "metadata": {},
   "outputs": [
    {
     "name": "stdout",
     "output_type": "stream",
     "text": [
      "3\n",
      "5 5 4\n",
      "3 9 1\n",
      "3 2 7\n",
      "this is rupee :  [[5, 5, 4], [3, 9, 1], [3, 2, 7]]\n",
      "Problem 1: 20\n",
      "0\n"
     ]
    }
   ],
   "source": [
    "n = 1\n",
    "count = 0\n",
    "\n",
    "def findMinimumCost(rupeeList, n):\n",
    "    #가로 세로는 그냥 더하기\n",
    "    for i in range(n-1):\n",
    "        rupeeList[0][i+1] += rupeeList[0][i]\n",
    "        rupeeList[i+1][0] += rupeeList[i][0]\n",
    "        \n",
    "    for i in range(1,n):\n",
    "        for j in range(1,n):\n",
    "            rupeeList[i][j] += min(rupeeList[i-1][j],rupeeList[i][j-1])\n",
    "    return rupeeList[n-1][n-1]\n",
    "    \n",
    "while n != 0:\n",
    "    count +=1\n",
    "    rupee = []\n",
    "    n = int(input())\n",
    "    if n == 0 :\n",
    "        break\n",
    "    for i in range(n):\n",
    "        rupee.append(list(map(int,input().split())))\n",
    "    print(\"this is rupee : \", rupee)\n",
    "    minCost = findMinimumCost(rupee,n)\n",
    "    print(f\"Problem {count}: {minCost}\")\n"
   ]
  },
  {
   "cell_type": "code",
   "execution_count": 18,
   "id": "39d15928",
   "metadata": {},
   "outputs": [],
   "source": [
    "def makeZeldaGraph(zeldaList,n) :\n",
    "    graph = {(i,j) : {}  for i in range(n) for j in range(n)}\n",
    "    for i in range(n): \n",
    "        for j in range(n):\n",
    "            if n > i-1 >= 0:\n",
    "                graph[(i,j)][(i-1,j)] = zeldaList[i-1][j]\n",
    "            if n > j-1 >= 0 :\n",
    "                graph[(i,j)][(i,j-1)] = zeldaList[i][j-1]\n",
    "            if n > i+1 >= 0 :\n",
    "                graph[(i,j)][(i+1,j)] = zeldaList[i+1][j]\n",
    "            if n > j+1 >= 0 :\n",
    "                graph[(i,j)][(i,j+1)] = zeldaList[i][j+1]\n",
    "    return graph\n",
    "            "
   ]
  },
  {
   "cell_type": "code",
   "execution_count": 19,
   "id": "574c37c2",
   "metadata": {},
   "outputs": [
    {
     "data": {
      "text/plain": [
       "{(0, 0): {(1, 0): 3, (0, 1): 5},\n",
       " (0, 1): {(0, 0): 5, (1, 1): 9, (0, 2): 4},\n",
       " (0, 2): {(0, 1): 5, (1, 2): 1},\n",
       " (1, 0): {(0, 0): 5, (2, 0): 3, (1, 1): 9},\n",
       " (1, 1): {(0, 1): 5, (1, 0): 3, (2, 1): 2, (1, 2): 1},\n",
       " (1, 2): {(0, 2): 4, (1, 1): 9, (2, 2): 7},\n",
       " (2, 0): {(1, 0): 3, (2, 1): 2},\n",
       " (2, 1): {(1, 1): 9, (2, 0): 3, (2, 2): 7},\n",
       " (2, 2): {(1, 2): 1, (2, 1): 2}}"
      ]
     },
     "execution_count": 19,
     "metadata": {},
     "output_type": "execute_result"
    }
   ],
   "source": [
    "makeZeldaGraph([[5, 5, 4], [3, 9, 1], [3, 2, 7]], 3)"
   ]
  },
  {
   "cell_type": "code",
   "execution_count": 41,
   "id": "39ec812f",
   "metadata": {},
   "outputs": [
    {
     "ename": "NameError",
     "evalue": "name 'graph' is not defined",
     "output_type": "error",
     "traceback": [
      "\u001b[0;31m---------------------------------------------------------------------------\u001b[0m",
      "\u001b[0;31mNameError\u001b[0m                                 Traceback (most recent call last)",
      "\u001b[0;32m<ipython-input-41-e7bca803254d>\u001b[0m in \u001b[0;36m<module>\u001b[0;34m\u001b[0m\n\u001b[0;32m----> 1\u001b[0;31m \u001b[0mgraph\u001b[0m\u001b[0;34m\u001b[0m\u001b[0;34m\u001b[0m\u001b[0m\n\u001b[0m",
      "\u001b[0;31mNameError\u001b[0m: name 'graph' is not defined"
     ]
    }
   ],
   "source": [
    "graph"
   ]
  },
  {
   "cell_type": "code",
   "execution_count": null,
   "id": "8658ee84",
   "metadata": {},
   "outputs": [
    {
     "name": "stdout",
     "output_type": "stream",
     "text": [
      "3\n",
      "5 5 4\n",
      "3 9 1\n",
      "3 2 7\n",
      "((0, 0), {(1, 0): 3, (0, 1): 5})\n",
      "((0, 1), {(0, 0): 5, (1, 1): 9, (0, 2): 4})\n",
      "((0, 2), {(0, 1): 5, (1, 2): 1})\n",
      "((1, 0), {(0, 0): 5, (2, 0): 3, (1, 1): 9})\n",
      "((1, 1), {(0, 1): 5, (1, 0): 3, (2, 1): 2, (1, 2): 1})\n",
      "((1, 2), {(0, 2): 4, (1, 1): 9, (2, 2): 7})\n",
      "((2, 0), {(1, 0): 3, (2, 1): 2})\n",
      "((2, 1), {(1, 1): 9, (2, 0): 3, (2, 2): 7})\n",
      "((2, 2), {(1, 2): 1, (2, 1): 2})\n",
      "{(0, 0): 0, (0, 1): 5, (0, 2): 9, (1, 0): 3, (1, 1): 12, (1, 2): 10, (2, 0): 6, (2, 1): 8, (2, 2): 15}\n",
      "Problem 1: 15\n"
     ]
    }
   ],
   "source": [
    "import heapq\n",
    "\n",
    "def makeZeldaGraph(zeldaList,n) :\n",
    "    graph = {(i,j) : {}  for i in range(n) for j in range(n)}\n",
    "    for i in range(n): \n",
    "        for j in range(n):\n",
    "            if n > i-1 >= 0:\n",
    "                graph[(i,j)][(i-1,j)] = zeldaList[i-1][j]\n",
    "            if n > j-1 >= 0 :\n",
    "                graph[(i,j)][(i,j-1)] = zeldaList[i][j-1]\n",
    "            if n > i+1 >= 0 :\n",
    "                graph[(i,j)][(i+1,j)] = zeldaList[i+1][j]\n",
    "            if n > j+1 >= 0 :\n",
    "                graph[(i,j)][(i,j+1)] = zeldaList[i][j+1]\n",
    "                \n",
    "#     for i in graph.items():\n",
    "#         print(i)\n",
    "#     print(graph)\n",
    "    return graph\n",
    "            \n",
    "    \n",
    "def dijkstra(graph, start):\n",
    "    distances = {node: float('inf') for node in graph}  # start로 부터의 거리 값을 저장하기 위함\n",
    "    distances[start] = 0  # 시작 값은 0이어야 함\n",
    "    queue = []\n",
    "    heapq.heappush(queue, (distances[start], start))  # 시작 노드부터 탐색 시작 하기 위함.\n",
    "\n",
    "    while queue:  # queue에 남아 있는 노드가 없으면 끝\n",
    "        current_distance, current_destination = heapq.heappop(queue)  # 탐색 할 노드, 거리를 가져옴.\n",
    "        if distances[current_destination] < current_distance:  # 기존에 있는 거리보다 길다면, 볼 필요도 없음\n",
    "            continue\n",
    "\n",
    "        for new_destination, new_distance in graph[current_destination].items():\n",
    "            distance = current_distance + new_distance  # 해당 노드를 거쳐 갈 때 거리\n",
    "            if distance < distances[new_destination]:  # 알고 있는 거리 보다 작으면 갱신\n",
    "                distances[new_destination] = distance\n",
    "                heapq.heappush(queue, [distance, new_destination])  # 다음 인접 거리를 계산 하기 위해 큐에 삽입\n",
    "#     print(distances)\n",
    "    return distances\n",
    "\n",
    "n = 1\n",
    "count = 0\n",
    "\n",
    "while n != 0:\n",
    "    count +=1\n",
    "    rupee = []\n",
    "    n = int(input())\n",
    "    if n == 0 :\n",
    "        break\n",
    "    for i in range(n):\n",
    "        rupee.append(list(map(int,input().split())))\n",
    "    graph = makeZeldaGraph(rupee,n)\n",
    "    minCost = dijkstra(graph,(0,0))[n-1,n-1]\n",
    "    print(f\"Problem {count}: {minCost}\")\n"
   ]
  },
  {
   "cell_type": "code",
   "execution_count": null,
   "id": "dbf4c2f3",
   "metadata": {},
   "outputs": [],
   "source": []
  },
  {
   "cell_type": "code",
   "execution_count": null,
   "id": "0d589442",
   "metadata": {},
   "outputs": [],
   "source": []
  }
 ],
 "metadata": {
  "kernelspec": {
   "display_name": "Python 3",
   "language": "python",
   "name": "python3"
  },
  "language_info": {
   "codemirror_mode": {
    "name": "ipython",
    "version": 3
   },
   "file_extension": ".py",
   "mimetype": "text/x-python",
   "name": "python",
   "nbconvert_exporter": "python",
   "pygments_lexer": "ipython3",
   "version": "3.8.8"
  }
 },
 "nbformat": 4,
 "nbformat_minor": 5
}
