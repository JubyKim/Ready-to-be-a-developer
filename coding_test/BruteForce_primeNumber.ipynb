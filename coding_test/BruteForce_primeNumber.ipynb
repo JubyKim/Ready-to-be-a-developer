{
 "cells": [
  {
   "cell_type": "code",
   "execution_count": 89,
   "id": "937bc10b",
   "metadata": {},
   "outputs": [],
   "source": [
    "from itertools import permutations\n",
    "\n",
    "def is_prime_num(x):\n",
    "    if x == 0 or x == 1 :\n",
    "        return False\n",
    "    for i in range(2, x):\n",
    "        if x % i == 0:\n",
    "            return False\n",
    "    return True\n",
    "\n",
    "    return arr\n",
    "                \n",
    "def solution(numbers):\n",
    "    answer = 0\n",
    "    \n",
    "    numList = []\n",
    "    for i in numbers:\n",
    "        numList.append(i)\n",
    "\n",
    "    pmt = []\n",
    "    for i in range(1,len(numList)+1):\n",
    "        pmt.append(list(permutations(numList,i)))\n",
    "\n",
    "    candi = []\n",
    "    for i in pmt:\n",
    "        for j in i :\n",
    "            candi.append(int(\"\".join(j)))\n",
    "    candi = set(candi)\n",
    "    print(candi)\n",
    "    \n",
    "    \n",
    "    prime = []\n",
    "    for i in candi:\n",
    "        if is_prime_num(i):\n",
    "            prime.append(i)\n",
    "            print(i)\n",
    "    answer = len(prime)\n",
    "    \n",
    "    return answer\n",
    "    "
   ]
  },
  {
   "cell_type": "code",
   "execution_count": 90,
   "id": "75620ef9",
   "metadata": {},
   "outputs": [
    {
     "name": "stdout",
     "output_type": "stream",
     "text": [
      "{1, 71, 17, 7}\n",
      "71\n",
      "17\n",
      "7\n"
     ]
    },
    {
     "data": {
      "text/plain": [
       "3"
      ]
     },
     "execution_count": 90,
     "metadata": {},
     "output_type": "execute_result"
    }
   ],
   "source": [
    "solution(\"17\")"
   ]
  },
  {
   "cell_type": "code",
   "execution_count": 91,
   "id": "77028ac1",
   "metadata": {},
   "outputs": [
    {
     "name": "stdout",
     "output_type": "stream",
     "text": [
      "{0, 1, 101, 10, 11, 110}\n",
      "101\n",
      "11\n"
     ]
    },
    {
     "data": {
      "text/plain": [
       "2"
      ]
     },
     "execution_count": 91,
     "metadata": {},
     "output_type": "execute_result"
    }
   ],
   "source": [
    "solution(\"011\")"
   ]
  },
  {
   "cell_type": "code",
   "execution_count": null,
   "id": "d47d4a4a",
   "metadata": {},
   "outputs": [],
   "source": []
  }
 ],
 "metadata": {
  "kernelspec": {
   "display_name": "Python 3",
   "language": "python",
   "name": "python3"
  },
  "language_info": {
   "codemirror_mode": {
    "name": "ipython",
    "version": 3
   },
   "file_extension": ".py",
   "mimetype": "text/x-python",
   "name": "python",
   "nbconvert_exporter": "python",
   "pygments_lexer": "ipython3",
   "version": "3.8.8"
  }
 },
 "nbformat": 4,
 "nbformat_minor": 5
}
