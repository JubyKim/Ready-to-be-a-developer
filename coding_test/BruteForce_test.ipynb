{
 "cells": [
  {
   "cell_type": "code",
   "execution_count": 126,
   "id": "c44611d0",
   "metadata": {},
   "outputs": [],
   "source": [
    "import numpy as np\n",
    "def solution(answers):\n",
    "    # answer = []\n",
    "    \n",
    "    stds = [[1, 2, 3, 4, 5],\n",
    "            [2, 1, 2, 3, 2, 4, 2, 5],\n",
    "            [3, 3, 1, 1, 2, 2, 4, 4, 5, 5]]\n",
    "    \n",
    "    std1Point  = 0\n",
    "    std2Point = 0\n",
    "    std3Point = 0\n",
    "    \n",
    "    for idx, std in enumerate(stds):\n",
    "        stds[idx] = std * (int(len(answers)/len(std)) +1)\n",
    "    \n",
    "    for idx, a in enumerate(answers):\n",
    "        if stds[0][idx] == a:\n",
    "            std1Point+= 1\n",
    "        if stds[1][idx] == a:\n",
    "            std2Point+= 1\n",
    "        if stds[2][idx] == a:\n",
    "            std3Point+= 1\n",
    "            \n",
    "    points = np.array([std1Point, std2Point, std3Point])\n",
    "    ans = np.where(points==max(points))[0]+1\n",
    "#     print(type(answer))\n",
    "#     print(type(answer))\n",
    "    return ans"
   ]
  },
  {
   "cell_type": "code",
   "execution_count": 127,
   "id": "e26b0b97",
   "metadata": {},
   "outputs": [
    {
     "data": {
      "text/plain": [
       "array([1])"
      ]
     },
     "execution_count": 127,
     "metadata": {},
     "output_type": "execute_result"
    }
   ],
   "source": [
    "solution([1,2,3,4,5,5,7,9])"
   ]
  },
  {
   "cell_type": "code",
   "execution_count": 128,
   "id": "58bd1164",
   "metadata": {},
   "outputs": [
    {
     "data": {
      "text/plain": [
       "array([1, 2, 3])"
      ]
     },
     "execution_count": 128,
     "metadata": {},
     "output_type": "execute_result"
    }
   ],
   "source": [
    "solution([[1,3,2,4,2]])"
   ]
  }
 ],
 "metadata": {
  "kernelspec": {
   "display_name": "Python 3",
   "language": "python",
   "name": "python3"
  },
  "language_info": {
   "codemirror_mode": {
    "name": "ipython",
    "version": 3
   },
   "file_extension": ".py",
   "mimetype": "text/x-python",
   "name": "python",
   "nbconvert_exporter": "python",
   "pygments_lexer": "ipython3",
   "version": "3.8.8"
  }
 },
 "nbformat": 4,
 "nbformat_minor": 5
}
