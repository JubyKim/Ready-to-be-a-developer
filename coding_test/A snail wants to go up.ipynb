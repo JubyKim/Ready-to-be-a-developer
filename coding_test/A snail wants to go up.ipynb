{
 "cells": [
  {
   "cell_type": "code",
   "execution_count": null,
   "id": "51db8c54",
   "metadata": {},
   "outputs": [],
   "source": [
    "땅 위에 달팽이가 있다. 이 달팽이는 높이가 V미터인 나무 막대를 올라갈 것이다.\n",
    "\n",
    "달팽이는 낮에 A미터 올라갈 수 있다. 하지만, 밤에 잠을 자는 동안 B미터 미끄러진다. 또, 정상에 올라간 후에는 미끄러지지 않는다.\n",
    "\n",
    "달팽이가 나무 막대를 모두 올라가려면, 며칠이 걸리는지 구하는 프로그램을 작성하시오.\n",
    "\n",
    "입력\n",
    "첫째 줄에 세 정수 A, B, V가 공백으로 구분되어서 주어진다. (1 ≤ B < A ≤ V ≤ 1,000,000,000)\n",
    "\n",
    "출력\n",
    "첫째 줄에 달팽이가 나무 막대를 모두 올라가는데 며칠이 걸리는지 출력한다."
   ]
  },
  {
   "cell_type": "code",
   "execution_count": null,
   "id": "8068d426",
   "metadata": {},
   "outputs": [],
   "source": [
    "2 1 5\n",
    "4\n",
    "\n",
    "5 1 6\n",
    "2\n",
    "\n",
    "100 99 1000000000\n",
    "999999901"
   ]
  },
  {
   "cell_type": "code",
   "execution_count": 32,
   "id": "d5d82a57",
   "metadata": {},
   "outputs": [
    {
     "name": "stdout",
     "output_type": "stream",
     "text": [
      "5 1 6\n"
     ]
    }
   ],
   "source": [
    "a,b,y = map(int,input().split())"
   ]
  },
  {
   "cell_type": "code",
   "execution_count": 33,
   "id": "ebeae6bf",
   "metadata": {},
   "outputs": [
    {
     "name": "stdout",
     "output_type": "stream",
     "text": [
      "2\n"
     ]
    }
   ],
   "source": [
    "day = 0\n",
    "\n",
    "while up < y :\n",
    "    day += 1\n",
    "    y -= a\n",
    "    y += b\n",
    "print(day)"
   ]
  },
  {
   "cell_type": "code",
   "execution_count": null,
   "id": "d5f60dba",
   "metadata": {},
   "outputs": [],
   "source": [
    "a,b,v = map(int,input().split())\n",
    "k = (v-b)/(a-b)\n",
    "print(int(k) if k == int(k) else int(k)+1)"
   ]
  }
 ],
 "metadata": {
  "kernelspec": {
   "display_name": "Python 3 (ipykernel)",
   "language": "python",
   "name": "python3"
  },
  "language_info": {
   "codemirror_mode": {
    "name": "ipython",
    "version": 3
   },
   "file_extension": ".py",
   "mimetype": "text/x-python",
   "name": "python",
   "nbconvert_exporter": "python",
   "pygments_lexer": "ipython3",
   "version": "3.9.12"
  }
 },
 "nbformat": 4,
 "nbformat_minor": 5
}
