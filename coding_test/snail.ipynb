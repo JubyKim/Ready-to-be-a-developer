{
 "cells": [
  {
   "cell_type": "code",
   "execution_count": 1,
   "id": "f5d457c8",
   "metadata": {},
   "outputs": [
    {
     "data": {
      "text/plain": [
       "35"
      ]
     },
     "execution_count": 1,
     "metadata": {},
     "output_type": "execute_result"
    }
   ],
   "source": [
    "7\n",
    "35"
   ]
  },
  {
   "cell_type": "code",
   "execution_count": 46,
   "id": "d83ea5ce",
   "metadata": {},
   "outputs": [
    {
     "name": "stdout",
     "output_type": "stream",
     "text": [
      "7\n",
      "35\n",
      "49 26 27 28 29 30 31 \n",
      "48 25 10 11 12 13 32 \n",
      "47 24 9 2 3 14 33 \n",
      "46 23 8 1 4 15 34 \n",
      "45 22 7 6 5 16 35 \n",
      "44 21 20 19 18 17 36 \n",
      "43 42 41 40 39 38 37 \n",
      "5 7\n"
     ]
    }
   ],
   "source": [
    "n = int(input())\n",
    "num = int(input())\n",
    "\n",
    "numList = [[0 for _ in range(n)]for _ in range(n)]\n",
    "repeatList = []\n",
    "\n",
    "for i in range(1,n):\n",
    "    if i == n-1 :\n",
    "        repeatList.append(i)\n",
    "        repeatList.append(i)\n",
    "        repeatList.append(i)\n",
    "    else :\n",
    "        repeatList.append(i)\n",
    "        repeatList.append(i)\n",
    "        \n",
    "        \n",
    "x,y = int(n/2), int(n/2)\n",
    "\n",
    "temp = 1 #1씩 커지는 수\n",
    "count = 0 #\n",
    "\n",
    "dx = [-1,0,1,0] #상 우 하 좌\n",
    "dy = [0,1,0,-1]\n",
    "numList[x][y] = temp\n",
    "\n",
    "while x!=0 and y!=0:\n",
    "    for i in repeatList:\n",
    "        for _ in range(i) :\n",
    "            temp+=1\n",
    "            x += dx[count%4]\n",
    "            y += dy[count%4]\n",
    "            numList[x][y] = temp\n",
    "            \n",
    "        count+=1\n",
    "        \n",
    "findx = 0\n",
    "findy = 0\n",
    "\n",
    "for i in numList :\n",
    "    for j in i:\n",
    "        print(j, end = \" \")\n",
    "    print()\n",
    "for idx,i in enumerate(numList):\n",
    "    if num in i :\n",
    "        findx = idx\n",
    "        for ndx,n in enumerate(i) :\n",
    "            if num == n :\n",
    "                findy = ndx\n",
    "print(findx+1, end= \" \")\n",
    "print(findy+1)    \n"
   ]
  },
  {
   "cell_type": "code",
   "execution_count": 45,
   "id": "d2ec3ef2",
   "metadata": {},
   "outputs": [
    {
     "name": "stdout",
     "output_type": "stream",
     "text": [
      "[[49, 26, 27, 28, 29, 30, 31], [48, 25, 10, 11, 12, 13, 32], [47, 24, 9, 2, 3, 14, 33], [46, 23, 8, 1, 4, 15, 34], [45, 22, 7, 6, 5, 16, 35], [44, 21, 20, 19, 18, 17, 36], [43, 42, 41, 40, 39, 38, 37]]\n",
      "49 26 27 28 29 30 31 \n",
      "48 25 10 11 12 13 32 \n",
      "47 24 9 2 3 14 33 \n",
      "46 23 8 1 4 15 34 \n",
      "45 22 7 6 5 16 35 \n",
      "44 21 20 19 18 17 36 \n",
      "43 42 41 40 39 38 37 \n",
      "5 7\n"
     ]
    }
   ],
   "source": [
    "# print(repeatList)\n",
    "\n",
    "\n",
    "\n"
   ]
  },
  {
   "cell_type": "code",
   "execution_count": null,
   "id": "e587d851",
   "metadata": {},
   "outputs": [],
   "source": []
  }
 ],
 "metadata": {
  "kernelspec": {
   "display_name": "Python 3",
   "language": "python",
   "name": "python3"
  },
  "language_info": {
   "codemirror_mode": {
    "name": "ipython",
    "version": 3
   },
   "file_extension": ".py",
   "mimetype": "text/x-python",
   "name": "python",
   "nbconvert_exporter": "python",
   "pygments_lexer": "ipython3",
   "version": "3.8.8"
  }
 },
 "nbformat": 4,
 "nbformat_minor": 5
}
