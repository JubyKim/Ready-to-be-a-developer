{
 "cells": [
  {
   "cell_type": "code",
   "execution_count": 8,
   "id": "af6737ed",
   "metadata": {},
   "outputs": [
    {
     "ename": "AttributeError",
     "evalue": "'_io.TextIOWrapper' object has no attribute 'rstrip'",
     "output_type": "error",
     "traceback": [
      "\u001b[0;31m---------------------------------------------------------------------------\u001b[0m",
      "\u001b[0;31mAttributeError\u001b[0m                            Traceback (most recent call last)",
      "\u001b[0;32m<ipython-input-8-1219b3322285>\u001b[0m in \u001b[0;36m<module>\u001b[0;34m\u001b[0m\n\u001b[1;32m      1\u001b[0m \u001b[0;32mimport\u001b[0m \u001b[0msys\u001b[0m\u001b[0;34m\u001b[0m\u001b[0;34m\u001b[0m\u001b[0m\n\u001b[1;32m      2\u001b[0m \u001b[0;34m\u001b[0m\u001b[0m\n\u001b[0;32m----> 3\u001b[0;31m \u001b[0mn\u001b[0m \u001b[0;34m=\u001b[0m \u001b[0mint\u001b[0m\u001b[0;34m(\u001b[0m\u001b[0msys\u001b[0m\u001b[0;34m.\u001b[0m\u001b[0mstdin\u001b[0m\u001b[0;34m.\u001b[0m\u001b[0mrstrip\u001b[0m\u001b[0;34m(\u001b[0m\u001b[0;34m)\u001b[0m\u001b[0;34m)\u001b[0m\u001b[0;34m\u001b[0m\u001b[0;34m\u001b[0m\u001b[0m\n\u001b[0m\u001b[1;32m      4\u001b[0m \u001b[0;34m\u001b[0m\u001b[0m\n\u001b[1;32m      5\u001b[0m \u001b[0mgraph\u001b[0m \u001b[0;34m=\u001b[0m \u001b[0;34m{\u001b[0m\u001b[0;34m}\u001b[0m\u001b[0;31m#i for i in range(n)\u001b[0m\u001b[0;34m\u001b[0m\u001b[0;34m\u001b[0m\u001b[0m\n",
      "\u001b[0;31mAttributeError\u001b[0m: '_io.TextIOWrapper' object has no attribute 'rstrip'"
     ]
    }
   ],
   "source": [
    "import sys\n",
    "\n",
    "n = int(sys.stdin.readlines())\n",
    "\n",
    "graph = {}#i for i in range(n)\n",
    "\n",
    "for i in range(n):\n",
    "    points = sys.stdin.readlines()\n",
    "    for j in points.split():\n",
    "        graph[i][j] = j"
   ]
  },
  {
   "cell_type": "code",
   "execution_count": 15,
   "id": "2c0d9f00",
   "metadata": {},
   "outputs": [
    {
     "name": "stdout",
     "output_type": "stream",
     "text": [
      "4\n",
      "0 10 15 20\n",
      "5 0 9 10\n",
      "6 13 0 12\n",
      "8 8 9 0\n"
     ]
    }
   ],
   "source": [
    "import sys\n",
    "import heapq\n",
    "\n",
    "n = int(input())\n",
    "\n",
    "graph = {i : {} for i in range(n)}#\n",
    "\n",
    "for i in range(n):\n",
    "    points = input()\n",
    "    for jdx, j in enumerate(points.split()):\n",
    "        graph[int(i)][int(jdx)] = int(j)"
   ]
  },
  {
   "cell_type": "code",
   "execution_count": 16,
   "id": "7d035b26",
   "metadata": {},
   "outputs": [
    {
     "data": {
      "text/plain": [
       "{0: {0: 0, 1: 10, 2: 15, 3: 20},\n",
       " 1: {0: 5, 1: 0, 2: 9, 3: 10},\n",
       " 2: {0: 6, 1: 13, 2: 0, 3: 12},\n",
       " 3: {0: 8, 1: 8, 2: 9, 3: 0}}"
      ]
     },
     "execution_count": 16,
     "metadata": {},
     "output_type": "execute_result"
    }
   ],
   "source": [
    "graph"
   ]
  },
  {
   "cell_type": "code",
   "execution_count": 38,
   "id": "c2a74186",
   "metadata": {},
   "outputs": [],
   "source": [
    "def dijkstra(graph, start):\n",
    "    last_dest = {i : 0 for i in range(len(graph))}\n",
    "    distances = {node: float('inf') for node in graph}  # start로 부터의 거리 값을 저장하기 위함\n",
    "    distances[start] = 0  # 시작 값은 0이어야 함\n",
    "    queue = []\n",
    "    heapq.heappush(queue, (distances[start], start))  # 시작 노드부터 탐색 시작 하기 위함.\n",
    "\n",
    "    while queue:  # queue에 남아 있는 노드가 없으면 끝\n",
    "        current_distance, current_destination = heapq.heappop(queue)  # 탐색 할 노드, 거리를 가져옴.\n",
    "        if distances[current_destination] < current_distance:  # 기존에 있는 거리보다 길다면, 볼 필요도 없음\n",
    "            continue\n",
    "\n",
    "        for new_destination, new_distance in graph[current_destination].items():\n",
    "            distance = current_distance + new_distance  # 해당 노드를 거쳐 갈 때 거리\n",
    "            if distance < distances[new_destination]:  # 알고 있는 거리 보다 작으면 갱신\n",
    "                distances[new_destination] = distance\n",
    "                heapq.heappush(queue, [distance, new_destination])  # 다음 인접 거리를 계산 하기 위해 큐에 삽입\n",
    "                last_dest = new_destination\n",
    "\n",
    "    return distances, last_dest"
   ]
  },
  {
   "cell_type": "code",
   "execution_count": 52,
   "id": "ce1cb023",
   "metadata": {},
   "outputs": [
    {
     "name": "stdout",
     "output_type": "stream",
     "text": [
      "({0: 0, 1: 10, 2: 15, 3: 20}, 3)\n",
      "({0: 5, 1: 0, 2: 9, 3: 10}, 3)\n",
      "({0: 6, 1: 13, 2: 0, 3: 12}, 3)\n",
      "({0: 8, 1: 8, 2: 9, 3: 0}, 2)\n"
     ]
    },
    {
     "data": {
      "text/plain": [
       "1"
      ]
     },
     "execution_count": 52,
     "metadata": {},
     "output_type": "execute_result"
    }
   ],
   "source": [
    "a = []\n",
    "for i in range(n):\n",
    "    a.append(dijkstra(graph,i))\n",
    "    print(a[i])\n",
    "    \n",
    "sumList = []\n",
    "for i in range(n):\n",
    "    sumList.append(sum(a[i][0].values()))\n",
    "    \n",
    "minIdx = sumList.index(min(sumList))\n",
    "minIdx"
   ]
  },
  {
   "cell_type": "code",
   "execution_count": 53,
   "id": "f88faea1",
   "metadata": {},
   "outputs": [
    {
     "data": {
      "text/plain": [
       "[45, 24, 31, 25]"
      ]
     },
     "execution_count": 53,
     "metadata": {},
     "output_type": "execute_result"
    }
   ],
   "source": [
    "sumList"
   ]
  },
  {
   "cell_type": "code",
   "execution_count": null,
   "id": "a74cd776",
   "metadata": {},
   "outputs": [],
   "source": []
  }
 ],
 "metadata": {
  "kernelspec": {
   "display_name": "Python 3",
   "language": "python",
   "name": "python3"
  },
  "language_info": {
   "codemirror_mode": {
    "name": "ipython",
    "version": 3
   },
   "file_extension": ".py",
   "mimetype": "text/x-python",
   "name": "python",
   "nbconvert_exporter": "python",
   "pygments_lexer": "ipython3",
   "version": "3.8.8"
  }
 },
 "nbformat": 4,
 "nbformat_minor": 5
}
