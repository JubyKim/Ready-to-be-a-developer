{
 "cells": [
  {
   "cell_type": "code",
   "execution_count": 152,
   "id": "165421a0",
   "metadata": {},
   "outputs": [],
   "source": [
    "from collections import deque\n",
    "\n",
    "def solution(priorities, location):\n",
    "    queueList = []\n",
    "    \n",
    "    for i in range(len(priorities)):\n",
    "        queueList.append([i,priorities[i]])\n",
    "\n",
    "    print(queueList)\n",
    "    printOrder = []\n",
    "    queue = deque(queueList)\n",
    "\n",
    "    while len(printOrder) != len(priorities):\n",
    "        maxNum = 1\n",
    "        \n",
    "        #maxNum 구하기\n",
    "        for que in queue : \n",
    "            if que[1] > maxNum :\n",
    "                maxNum = que[1]\n",
    "    \n",
    "        popList = queue.popleft()\n",
    "        num = popList[1]\n",
    "\n",
    "        if maxNum == num:\n",
    "            printOrder.append(popList)\n",
    "        else :\n",
    "            queue.append(popList)\n",
    "        \n",
    "    for index, p in enumerate(printOrder) :\n",
    "        if p[0] == location:\n",
    "            answer = index+1\n",
    "            \n",
    "    return answer"
   ]
  },
  {
   "cell_type": "code",
   "execution_count": 153,
   "id": "e7b21eab",
   "metadata": {},
   "outputs": [
    {
     "name": "stdout",
     "output_type": "stream",
     "text": [
      "[[0, 2], [1, 1], [2, 3], [3, 2]]\n"
     ]
    },
    {
     "data": {
      "text/plain": [
       "1"
      ]
     },
     "execution_count": 153,
     "metadata": {},
     "output_type": "execute_result"
    }
   ],
   "source": [
    "solution([2, 1, 3, 2],2)"
   ]
  },
  {
   "cell_type": "code",
   "execution_count": null,
   "id": "1c677e1d",
   "metadata": {},
   "outputs": [],
   "source": []
  },
  {
   "cell_type": "code",
   "execution_count": null,
   "id": "d9cd6fc6",
   "metadata": {},
   "outputs": [],
   "source": []
  }
 ],
 "metadata": {
  "kernelspec": {
   "display_name": "Python 3",
   "language": "python",
   "name": "python3"
  },
  "language_info": {
   "codemirror_mode": {
    "name": "ipython",
    "version": 3
   },
   "file_extension": ".py",
   "mimetype": "text/x-python",
   "name": "python",
   "nbconvert_exporter": "python",
   "pygments_lexer": "ipython3",
   "version": "3.8.8"
  }
 },
 "nbformat": 4,
 "nbformat_minor": 5
}
