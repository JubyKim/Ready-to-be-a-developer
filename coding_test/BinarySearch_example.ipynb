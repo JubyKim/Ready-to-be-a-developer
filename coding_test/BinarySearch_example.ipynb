{
 "cells": [
  {
   "cell_type": "code",
   "execution_count": 1,
   "id": "2e9f0bf4",
   "metadata": {},
   "outputs": [],
   "source": [
    "m_list = [30, 94, 27, 92, 21, 37, 25, 47, 25, 53, 98, 19, 32, 32, 7]"
   ]
  },
  {
   "cell_type": "code",
   "execution_count": 3,
   "id": "413fbcc5",
   "metadata": {},
   "outputs": [
    {
     "data": {
      "text/plain": [
       "[7, 19, 21, 25, 25, 27, 30, 32, 32, 37, 47, 53, 92, 94, 98]"
      ]
     },
     "execution_count": 3,
     "metadata": {},
     "output_type": "execute_result"
    }
   ],
   "source": [
    "sorted(m_list)"
   ]
  },
  {
   "cell_type": "code",
   "execution_count": 6,
   "id": "eae6839a",
   "metadata": {},
   "outputs": [
    {
     "ename": "SyntaxError",
     "evalue": "'return' outside function (<ipython-input-6-96f3180b49d4>, line 20)",
     "output_type": "error",
     "traceback": [
      "\u001b[0;36m  File \u001b[0;32m\"<ipython-input-6-96f3180b49d4>\"\u001b[0;36m, line \u001b[0;32m20\u001b[0m\n\u001b[0;31m    return -1 # 종료 조건2 (low > high) 검색 실패.\u001b[0m\n\u001b[0m    ^\u001b[0m\n\u001b[0;31mSyntaxError\u001b[0m\u001b[0;31m:\u001b[0m 'return' outside function\n"
     ]
    }
   ],
   "source": [
    "#while 사용\n",
    "target = 25\n",
    "m_list = [30, 94, 27, 92, 21, 37, 25, 47, 25, 53, 98, 19, 32, 32, 7]\n",
    "length = len(m_list)\n",
    "\n",
    "m_list.sort()\n",
    "left = 0 \n",
    "right = length-1\n",
    "\n",
    "while left<=right:\n",
    "    mid = (left+right)//2\n",
    "    if m_list[mid] == target:\n",
    "        print(mid+1)\n",
    "        break\n",
    "    elif m_list[mid]>target:\n",
    "        right = mid-1\n",
    "    else :\n",
    "        left = mid+1\n",
    "\n",
    "    return -1 # 종료 조건2 (low > high) 검색 실패.\n"
   ]
  },
  {
   "cell_type": "code",
   "execution_count": null,
   "id": "5743afc2",
   "metadata": {},
   "outputs": [],
   "source": []
  }
 ],
 "metadata": {
  "kernelspec": {
   "display_name": "Python 3",
   "language": "python",
   "name": "python3"
  },
  "language_info": {
   "codemirror_mode": {
    "name": "ipython",
    "version": 3
   },
   "file_extension": ".py",
   "mimetype": "text/x-python",
   "name": "python",
   "nbconvert_exporter": "python",
   "pygments_lexer": "ipython3",
   "version": "3.8.8"
  }
 },
 "nbformat": 4,
 "nbformat_minor": 5
}
