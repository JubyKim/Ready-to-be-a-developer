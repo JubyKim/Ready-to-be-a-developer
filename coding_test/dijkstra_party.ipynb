{
 "cells": [
  {
   "cell_type": "code",
   "execution_count": 2,
   "id": "bbb337ad",
   "metadata": {},
   "outputs": [
    {
     "ename": "SyntaxError",
     "evalue": "invalid syntax (<ipython-input-2-499f45938694>, line 1)",
     "output_type": "error",
     "traceback": [
      "\u001b[0;36m  File \u001b[0;32m\"<ipython-input-2-499f45938694>\"\u001b[0;36m, line \u001b[0;32m1\u001b[0m\n\u001b[0;31m    4 8 2\u001b[0m\n\u001b[0m      ^\u001b[0m\n\u001b[0;31mSyntaxError\u001b[0m\u001b[0;31m:\u001b[0m invalid syntax\n"
     ]
    }
   ],
   "source": [
    "4 8 2\n",
    "1 2 4\n",
    "1 3 2\n",
    "1 4 7\n",
    "2 1 1\n",
    "2 3 5\n",
    "3 1 2\n",
    "3 4 4\n",
    "4 2 3\n",
    "\n",
    "graph = {\n",
    "    'A': {'B': 8, 'C': 1, 'D': 2},\n",
    "    'B': {},\n",
    "    'C': {'B': 5, 'D': 2},\n",
    "    'D': {'E': 3, 'F': 5},\n",
    "    'E': {'F': 1},\n",
    "    'F': {'A': 5}\n",
    "}\n"
   ]
  },
  {
   "cell_type": "code",
   "execution_count": 41,
   "id": "7dffb46b",
   "metadata": {},
   "outputs": [
    {
     "name": "stdout",
     "output_type": "stream",
     "text": [
      "4 8 2\n",
      "1 2 4\n",
      "1 3 2\n",
      "1 4 7\n",
      "2 1 1\n",
      "2 3 5\n",
      "3 1 2\n",
      "3 4 4\n",
      "4 2 3\n",
      "10\n"
     ]
    }
   ],
   "source": [
    "import heapq\n",
    "\n",
    "n, m, x = list(map(int,input().split()))\n",
    "graph = { i+1 : {} for i in range(n)}\n",
    "\n",
    "for _ in range(m) :\n",
    "    start, destination, distance = list(map(int, input().split()))\n",
    "    graph[start][destination] = distance\n",
    "                     \n",
    "    \n",
    "def dijkstra(graph, start):\n",
    "    distances = {node: float('inf') for node in graph}  # start로 부터의 거리 값을 저장하기 위함\n",
    "    distances[start] = 0  # 시작 값은 0이어야 함\n",
    "    queue = []\n",
    "    heapq.heappush(queue, (distances[start], start))  # 시작 노드부터 탐색 시작 하기 위함.\n",
    "\n",
    "    while queue:  # queue에 남아 있는 노드가 없으면 끝\n",
    "        current_distance, current_destination = heapq.heappop(queue)  # 탐색 할 노드, 거리를 가져옴.\n",
    "        if distances[current_destination] < current_distance:  # 기존에 있는 거리보다 길다면, 볼 필요도 없음\n",
    "            continue\n",
    "\n",
    "        for new_destination, new_distance in graph[current_destination].items():\n",
    "            distance = current_distance + new_distance  # 해당 노드를 거쳐 갈 때 거리\n",
    "            if distance < distances[new_destination]:  # 알고 있는 거리 보다 작으면 갱신\n",
    "                distances[new_destination] = distance\n",
    "                heapq.heappush(queue, [distance, new_destination])  # 다음 인접 거리를 계산 하기 위해 큐에 삽입\n",
    "\n",
    "    return distances\n",
    "\n",
    "distanceList = [{}]\n",
    "for i in range(n):\n",
    "    distanceList.append(dijkstra(graph, i+1))\n",
    "\n",
    "for i in range(n):\n",
    "    if i == x :\n",
    "        continue\n",
    "    else :\n",
    "        distanceList[x][i+1] += distanceList[i+1][x]\n",
    "        \n",
    "print(max(distanceList[x].values()))"
   ]
  },
  {
   "cell_type": "code",
   "execution_count": 30,
   "id": "6fa850b2",
   "metadata": {},
   "outputs": [
    {
     "data": {
      "text/plain": [
       "{1: 1, 2: 0, 3: 3, 4: 7}"
      ]
     },
     "execution_count": 30,
     "metadata": {},
     "output_type": "execute_result"
    }
   ],
   "source": [
    "distanceList"
   ]
  },
  {
   "cell_type": "code",
   "execution_count": 37,
   "id": "6410f29e",
   "metadata": {},
   "outputs": [],
   "source": [
    "for i in range(n):\n",
    "    if i == x :\n",
    "        continue\n",
    "    else :\n",
    "        distanceList[x][i+1] += distanceList[i+1][x]"
   ]
  },
  {
   "cell_type": "code",
   "execution_count": 35,
   "id": "097d487f",
   "metadata": {},
   "outputs": [
    {
     "data": {
      "text/plain": [
       "[{},\n",
       " {1: 0, 2: 4, 3: 2, 4: 6},\n",
       " {1: 1, 2: 0, 3: 3, 4: 7},\n",
       " {1: 2, 2: 6, 3: 0, 4: 4},\n",
       " {1: 4, 2: 3, 3: 6, 4: 0}]"
      ]
     },
     "execution_count": 35,
     "metadata": {},
     "output_type": "execute_result"
    }
   ],
   "source": [
    "distanceList = [{},{1: 0, 2: 4, 3: 2, 4: 6}, {1: 1, 2: 0, 3: 3, 4: 7}, {1: 2, 2: 6, 3: 0, 4: 4}, {1: 4, 2: 3, 3: 6, 4: 0}]\n",
    "distanceList\n"
   ]
  },
  {
   "cell_type": "code",
   "execution_count": 39,
   "id": "99a2eb3d",
   "metadata": {},
   "outputs": [
    {
     "data": {
      "text/plain": [
       "10"
      ]
     },
     "execution_count": 39,
     "metadata": {},
     "output_type": "execute_result"
    }
   ],
   "source": [
    "max(distanceList[2].values())"
   ]
  },
  {
   "cell_type": "code",
   "execution_count": null,
   "id": "a86cdc87",
   "metadata": {},
   "outputs": [],
   "source": []
  }
 ],
 "metadata": {
  "kernelspec": {
   "display_name": "Python 3",
   "language": "python",
   "name": "python3"
  },
  "language_info": {
   "codemirror_mode": {
    "name": "ipython",
    "version": 3
   },
   "file_extension": ".py",
   "mimetype": "text/x-python",
   "name": "python",
   "nbconvert_exporter": "python",
   "pygments_lexer": "ipython3",
   "version": "3.8.8"
  }
 },
 "nbformat": 4,
 "nbformat_minor": 5
}
