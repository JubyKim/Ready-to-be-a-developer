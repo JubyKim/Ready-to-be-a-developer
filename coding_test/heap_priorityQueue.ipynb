{
 "cells": [
  {
   "cell_type": "code",
   "execution_count": 2,
   "id": "883ee540",
   "metadata": {},
   "outputs": [
    {
     "ename": "SyntaxError",
     "evalue": "invalid syntax (<ipython-input-2-a103bc19cd69>, line 5)",
     "output_type": "error",
     "traceback": [
      "\u001b[0;36m  File \u001b[0;32m\"<ipython-input-2-a103bc19cd69>\"\u001b[0;36m, line \u001b[0;32m5\u001b[0m\n\u001b[0;31m    I 숫자\t큐에 주어진 숫자를 삽입합니다.\u001b[0m\n\u001b[0m      ^\u001b[0m\n\u001b[0;31mSyntaxError\u001b[0m\u001b[0;31m:\u001b[0m invalid syntax\n"
     ]
    }
   ],
   "source": [
    "# [\"I 16\",\"D 1\"] [0,0]\n",
    "# [\"I 7\",\"I 5\",\"I -5\",\"D -1\"] [7,5]\n",
    "\n",
    "/*\n",
    "I 숫자 : 큐에 주어진 숫자를 삽입합니다.\n",
    "D 1 : 큐에서 최댓값을 삭제합니다.\n",
    "D -1 : 큐에서 최솟값을 삭제합니다.\n",
    "*/\n",
    "\n"
   ]
  },
  {
   "cell_type": "code",
   "execution_count": 25,
   "id": "6a3e3831",
   "metadata": {},
   "outputs": [],
   "source": [
    "# from collections import deque\n",
    "\n",
    "# deq = deque()\n",
    "\n",
    "def solution(operations):\n",
    "    tList = []\n",
    "    for i in operations:\n",
    "            \n",
    "        if i.split()[0] == \"I\":\n",
    "            tList.append(int(i.split()[1]))\n",
    "            \n",
    "        elif int(i.split()[1]) == -1 :\n",
    "            try :\n",
    "                tList.remove(min(tList))\n",
    "            except ValueError:\n",
    "                return [0,0]\n",
    "        else :\n",
    "            try :\n",
    "                tList.remove(max(tList))\n",
    "            except ValueError:\n",
    "                return [0,0]\n",
    "            \n",
    "    if len(tList) == 0 :\n",
    "            return [0,0]\n",
    "        \n",
    "    answer = [max(tList),min(tList)]\n",
    "    return answer"
   ]
  },
  {
   "cell_type": "code",
   "execution_count": 26,
   "id": "de50065c",
   "metadata": {},
   "outputs": [
    {
     "data": {
      "text/plain": [
       "[0, 0]"
      ]
     },
     "execution_count": 26,
     "metadata": {},
     "output_type": "execute_result"
    }
   ],
   "source": [
    "solution([\"I 16\",\"D 1\"])"
   ]
  },
  {
   "cell_type": "code",
   "execution_count": 27,
   "id": "a3c8b156",
   "metadata": {},
   "outputs": [
    {
     "data": {
      "text/plain": [
       "[7, 5]"
      ]
     },
     "execution_count": 27,
     "metadata": {},
     "output_type": "execute_result"
    }
   ],
   "source": [
    "solution([\"I 7\",\"I 5\",\"I -5\",\"D -1\"])"
   ]
  },
  {
   "cell_type": "code",
   "execution_count": 28,
   "id": "42651950",
   "metadata": {},
   "outputs": [
    {
     "data": {
      "text/plain": [
       "[6, 5]"
      ]
     },
     "execution_count": 28,
     "metadata": {},
     "output_type": "execute_result"
    }
   ],
   "source": [
    "solution([\"I 4\", \"I 3\", \"I 2\", \"I 1\", \"D 1\", \"D 1\", \"D -1\", \"D -1\", \"I 5\", \"I 6\"])"
   ]
  },
  {
   "cell_type": "code",
   "execution_count": 30,
   "id": "3bacd92e",
   "metadata": {},
   "outputs": [
    {
     "data": {
      "text/plain": [
       "[6, 3]"
      ]
     },
     "execution_count": 30,
     "metadata": {},
     "output_type": "execute_result"
    }
   ],
   "source": [
    "solution( [\"I 4\", \"I -1\", \"I 6\", \"I 3\"])"
   ]
  },
  {
   "cell_type": "code",
   "execution_count": null,
   "id": "41ef8c12",
   "metadata": {},
   "outputs": [],
   "source": []
  }
 ],
 "metadata": {
  "kernelspec": {
   "display_name": "Python 3",
   "language": "python",
   "name": "python3"
  },
  "language_info": {
   "codemirror_mode": {
    "name": "ipython",
    "version": 3
   },
   "file_extension": ".py",
   "mimetype": "text/x-python",
   "name": "python",
   "nbconvert_exporter": "python",
   "pygments_lexer": "ipython3",
   "version": "3.8.8"
  }
 },
 "nbformat": 4,
 "nbformat_minor": 5
}
