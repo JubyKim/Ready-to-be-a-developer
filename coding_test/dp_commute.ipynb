{
 "cells": [
  {
   "cell_type": "code",
   "execution_count": 286,
   "id": "e0545539",
   "metadata": {},
   "outputs": [],
   "source": [
    "def makeArray(m,n):\n",
    "    commuteList = [[] for i in range(n)]\n",
    "    for nn in range(n):\n",
    "        for mm in range(m):\n",
    "            commuteList[nn].append([1])\n",
    "    return commuteList\n",
    "\n",
    "def puddleList(puddles, commuteList):\n",
    "    for pd in puddles: #puddle 추가\n",
    "        commuteList[pd[1]-1][pd[0]-1] = [0]\n",
    "    return commuteList\n",
    "\n",
    "def findWay(m,n,commuteList):\n",
    "    for i in range(n-1):\n",
    "        for j in range(1,m):\n",
    "            if commuteList[i+1][j][0] == 0 :\n",
    "                continue\n",
    "            if commuteList[i][j][0] == 0 :\n",
    "                continue\n",
    "            if commuteList[i+1][j-1][0] == 0 :\n",
    "                continue\n",
    "            elif commuteList[i+1][j][0] != 0 and commuteList[i][j][0] != 0 and commuteList[i+1][j-1][0] != 0 :\n",
    "                commuteList[i+1][j] = [commuteList[i][j][0] + commuteList[i+1][j-1][0]]\n",
    "\n",
    "    return commuteList\n",
    "    \n",
    "def solution(m, n, puddles):\n",
    "    commuteList = makeArray(m,n)\n",
    "    commuteList = puddleList(puddles, commuteList) \n",
    "    commuteList = findWay(m,n,commuteList)\n",
    "    \n",
    "    answer = commuteList[n-1][m-1][0] % 1000000007\n",
    "    return answer"
   ]
  },
  {
   "cell_type": "code",
   "execution_count": 287,
   "id": "22c030b0",
   "metadata": {},
   "outputs": [
    {
     "data": {
      "text/plain": [
       "4"
      ]
     },
     "execution_count": 287,
     "metadata": {},
     "output_type": "execute_result"
    }
   ],
   "source": [
    "solution(4,3,[[2, 2]])"
   ]
  },
  {
   "cell_type": "markdown",
   "id": "54fcd8d6",
   "metadata": {},
   "source": [
    "# 좌표오류?"
   ]
  },
  {
   "cell_type": "code",
   "execution_count": 275,
   "id": "33c1f861",
   "metadata": {},
   "outputs": [],
   "source": [
    "def puddleList(puddles, commuteList,m,n):\n",
    "    for pd in puddles: #puddle 추가\n",
    "        commuteList[pd[1]-1][pd[0]-1] = [-1]\n",
    "#         print(\"first : \", pd[1]-1)\n",
    "#         print(\"second : \", pd[0]-1)\n",
    "        if pd[1]-1 == 0 :\n",
    "            for pud in range(pd[0]-1,m):\n",
    "                commuteList[pd[1]-1][pud] = [0]\n",
    "#                 print(\"dd\")\n",
    "                \n",
    "        if pd[0]-1 == 0 :\n",
    "            for pud in range(pd[1]-1,n):\n",
    "                commuteList[pud][pd[0]-1] = [0]\n",
    "        \n",
    "#         for com in commuteList:\n",
    "#             print(com)\n",
    "#         print(pd)\n",
    "#         print(\"-----------\")\n",
    "            \n",
    "#         print(commuteList)\n",
    "    return commuteList\n",
    "\n",
    "def findWay(m,n,commuteList):\n",
    "    for i in range(n-1):\n",
    "        for j in range(1,m):\n",
    "#             print(commuteList[i+1][j][0],commuteList[i][j][0],commuteList[i+1][i-1][0])\n",
    "            if commuteList[i+1][j][0] == -1 :\n",
    "                continue\n",
    "            if commuteList[i][j][0] == -1 :\n",
    "                continue\n",
    "            if commuteList[i+1][j-1][0] == -1:\n",
    "                continue\n",
    "            elif commuteList[i+1][j][0] != -1 and commuteList[i][j][0] != -1 and commuteList[i+1][j-1][0] != -1 :\n",
    "                commuteList[i+1][j] = [commuteList[i][j][0] + commuteList[i+1][j-1][0]]\n",
    "#                 print(\"nana\")\n",
    "#             for com in commuteList:\n",
    "#                 print(com)\n",
    "#             print(\"______________\")\n",
    "    return commuteList\n",
    "    \n",
    "def solution(m, n, puddles):\n",
    "#     commuteList = makeArray(m,n)\n",
    "    commuteList = [[[1]]*(m) for _ in range(n)]\n",
    "    commuteList = puddleList(puddles, commuteList,m,n) \n",
    "    commuteList = findWay(m,n,commuteList)\n",
    "    \n",
    "    answer = commuteList[n-1][m-1][0] % 1000000007\n",
    "    return answer"
   ]
  },
  {
   "cell_type": "code",
   "execution_count": 276,
   "id": "3a72f9c8",
   "metadata": {},
   "outputs": [
    {
     "data": {
      "text/plain": [
       "4"
      ]
     },
     "execution_count": 276,
     "metadata": {},
     "output_type": "execute_result"
    }
   ],
   "source": [
    "solution(4,3,[[2, 2]])"
   ]
  },
  {
   "cell_type": "code",
   "execution_count": 277,
   "id": "e4bd9e52",
   "metadata": {},
   "outputs": [
    {
     "data": {
      "text/plain": [
       "3"
      ]
     },
     "execution_count": 277,
     "metadata": {},
     "output_type": "execute_result"
    }
   ],
   "source": [
    "solution(5,3,[[3,2],[4,1]])"
   ]
  },
  {
   "cell_type": "code",
   "execution_count": 282,
   "id": "fb973197",
   "metadata": {},
   "outputs": [
    {
     "data": {
      "text/plain": [
       "10"
      ]
     },
     "execution_count": 282,
     "metadata": {},
     "output_type": "execute_result"
    }
   ],
   "source": [
    "solution(5,3,[[1,2]])"
   ]
  },
  {
   "cell_type": "code",
   "execution_count": 285,
   "id": "11f5970d",
   "metadata": {},
   "outputs": [
    {
     "data": {
      "text/plain": [
       "0"
      ]
     },
     "execution_count": 285,
     "metadata": {},
     "output_type": "execute_result"
    }
   ],
   "source": [
    "solution(4,   1,   [[2, 1]]   )"
   ]
  },
  {
   "cell_type": "code",
   "execution_count": 308,
   "id": "14c3f7aa",
   "metadata": {},
   "outputs": [],
   "source": [
    "def solution(m, n, puddles):\n",
    "    answer = 0\n",
    "    graph = [[0]*(m+1) for i in range(n+1)]\n",
    "    \n",
    "    for i in range(1,n+1):\n",
    "        for j in range(1,m+1):\n",
    "            if i==1 and j==1: # 집은 1로 초기화\n",
    "                graph[1][1]=1\n",
    "            elif [j,i] not in puddles: # 물웅덩이가 아니면\n",
    "                graph[i][j] = graph[i-1][j]+graph[i][j-1]    \n",
    "    return graph[n][m]%1000000007"
   ]
  },
  {
   "cell_type": "code",
   "execution_count": 309,
   "id": "bdcc55d7",
   "metadata": {},
   "outputs": [
    {
     "name": "stdout",
     "output_type": "stream",
     "text": [
      "I am i :  1\n",
      "I am j :  2\n",
      "[0, 0, 0, 0, 0, 0]\n",
      "[0, 1, 1, 0, 0, 0]\n",
      "[0, 0, 0, 0, 0, 0]\n",
      "[0, 0, 0, 0, 0, 0]\n",
      "I am i :  1\n",
      "I am j :  3\n",
      "[0, 0, 0, 0, 0, 0]\n",
      "[0, 1, 1, 1, 0, 0]\n",
      "[0, 0, 0, 0, 0, 0]\n",
      "[0, 0, 0, 0, 0, 0]\n",
      "I am i :  1\n",
      "I am j :  4\n",
      "[0, 0, 0, 0, 0, 0]\n",
      "[0, 1, 1, 1, 1, 0]\n",
      "[0, 0, 0, 0, 0, 0]\n",
      "[0, 0, 0, 0, 0, 0]\n",
      "I am i :  1\n",
      "I am j :  5\n",
      "[0, 0, 0, 0, 0, 0]\n",
      "[0, 1, 1, 1, 1, 1]\n",
      "[0, 0, 0, 0, 0, 0]\n",
      "[0, 0, 0, 0, 0, 0]\n",
      "I am i :  2\n",
      "I am j :  2\n",
      "[0, 0, 0, 0, 0, 0]\n",
      "[0, 1, 1, 1, 1, 1]\n",
      "[0, 0, 1, 0, 0, 0]\n",
      "[0, 0, 0, 0, 0, 0]\n",
      "I am i :  2\n",
      "I am j :  3\n",
      "[0, 0, 0, 0, 0, 0]\n",
      "[0, 1, 1, 1, 1, 1]\n",
      "[0, 0, 1, 2, 0, 0]\n",
      "[0, 0, 0, 0, 0, 0]\n",
      "I am i :  2\n",
      "I am j :  4\n",
      "[0, 0, 0, 0, 0, 0]\n",
      "[0, 1, 1, 1, 1, 1]\n",
      "[0, 0, 1, 2, 3, 0]\n",
      "[0, 0, 0, 0, 0, 0]\n",
      "I am i :  2\n",
      "I am j :  5\n",
      "[0, 0, 0, 0, 0, 0]\n",
      "[0, 1, 1, 1, 1, 1]\n",
      "[0, 0, 1, 2, 3, 4]\n",
      "[0, 0, 0, 0, 0, 0]\n",
      "I am i :  3\n",
      "I am j :  1\n",
      "[0, 0, 0, 0, 0, 0]\n",
      "[0, 1, 1, 1, 1, 1]\n",
      "[0, 0, 1, 2, 3, 4]\n",
      "[0, 0, 0, 0, 0, 0]\n",
      "I am i :  3\n",
      "I am j :  2\n",
      "[0, 0, 0, 0, 0, 0]\n",
      "[0, 1, 1, 1, 1, 1]\n",
      "[0, 0, 1, 2, 3, 4]\n",
      "[0, 0, 1, 0, 0, 0]\n",
      "I am i :  3\n",
      "I am j :  3\n",
      "[0, 0, 0, 0, 0, 0]\n",
      "[0, 1, 1, 1, 1, 1]\n",
      "[0, 0, 1, 2, 3, 4]\n",
      "[0, 0, 1, 3, 0, 0]\n",
      "I am i :  3\n",
      "I am j :  4\n",
      "[0, 0, 0, 0, 0, 0]\n",
      "[0, 1, 1, 1, 1, 1]\n",
      "[0, 0, 1, 2, 3, 4]\n",
      "[0, 0, 1, 3, 6, 0]\n",
      "I am i :  3\n",
      "I am j :  5\n",
      "[0, 0, 0, 0, 0, 0]\n",
      "[0, 1, 1, 1, 1, 1]\n",
      "[0, 0, 1, 2, 3, 4]\n",
      "[0, 0, 1, 3, 6, 10]\n"
     ]
    },
    {
     "data": {
      "text/plain": [
       "10"
      ]
     },
     "execution_count": 309,
     "metadata": {},
     "output_type": "execute_result"
    }
   ],
   "source": [
    "solution(5,3,[[1,2]])"
   ]
  },
  {
   "cell_type": "code",
   "execution_count": 310,
   "id": "ca04dfbd",
   "metadata": {},
   "outputs": [
    {
     "name": "stdout",
     "output_type": "stream",
     "text": [
      "I am i :  1\n",
      "I am j :  2\n",
      "[0, 0, 0, 0, 0]\n",
      "[0, 1, 1, 0, 0]\n",
      "[0, 0, 0, 0, 0]\n",
      "[0, 0, 0, 0, 0]\n",
      "I am i :  1\n",
      "I am j :  3\n",
      "[0, 0, 0, 0, 0]\n",
      "[0, 1, 1, 1, 0]\n",
      "[0, 0, 0, 0, 0]\n",
      "[0, 0, 0, 0, 0]\n",
      "I am i :  1\n",
      "I am j :  4\n",
      "[0, 0, 0, 0, 0]\n",
      "[0, 1, 1, 1, 1]\n",
      "[0, 0, 0, 0, 0]\n",
      "[0, 0, 0, 0, 0]\n",
      "I am i :  2\n",
      "I am j :  1\n",
      "[0, 0, 0, 0, 0]\n",
      "[0, 1, 1, 1, 1]\n",
      "[0, 1, 0, 0, 0]\n",
      "[0, 0, 0, 0, 0]\n",
      "I am i :  2\n",
      "I am j :  3\n",
      "[0, 0, 0, 0, 0]\n",
      "[0, 1, 1, 1, 1]\n",
      "[0, 1, 0, 1, 0]\n",
      "[0, 0, 0, 0, 0]\n",
      "I am i :  2\n",
      "I am j :  4\n",
      "[0, 0, 0, 0, 0]\n",
      "[0, 1, 1, 1, 1]\n",
      "[0, 1, 0, 1, 2]\n",
      "[0, 0, 0, 0, 0]\n",
      "I am i :  3\n",
      "I am j :  1\n",
      "[0, 0, 0, 0, 0]\n",
      "[0, 1, 1, 1, 1]\n",
      "[0, 1, 0, 1, 2]\n",
      "[0, 1, 0, 0, 0]\n",
      "I am i :  3\n",
      "I am j :  2\n",
      "[0, 0, 0, 0, 0]\n",
      "[0, 1, 1, 1, 1]\n",
      "[0, 1, 0, 1, 2]\n",
      "[0, 1, 1, 0, 0]\n",
      "I am i :  3\n",
      "I am j :  3\n",
      "[0, 0, 0, 0, 0]\n",
      "[0, 1, 1, 1, 1]\n",
      "[0, 1, 0, 1, 2]\n",
      "[0, 1, 1, 2, 0]\n",
      "I am i :  3\n",
      "I am j :  4\n",
      "[0, 0, 0, 0, 0]\n",
      "[0, 1, 1, 1, 1]\n",
      "[0, 1, 0, 1, 2]\n",
      "[0, 1, 1, 2, 4]\n"
     ]
    },
    {
     "data": {
      "text/plain": [
       "4"
      ]
     },
     "execution_count": 310,
     "metadata": {},
     "output_type": "execute_result"
    }
   ],
   "source": [
    "solution(4,3,[[2, 2]])"
   ]
  },
  {
   "cell_type": "code",
   "execution_count": null,
   "id": "a25287a1",
   "metadata": {},
   "outputs": [],
   "source": []
  }
 ],
 "metadata": {
  "kernelspec": {
   "display_name": "Python 3",
   "language": "python",
   "name": "python3"
  },
  "language_info": {
   "codemirror_mode": {
    "name": "ipython",
    "version": 3
   },
   "file_extension": ".py",
   "mimetype": "text/x-python",
   "name": "python",
   "nbconvert_exporter": "python",
   "pygments_lexer": "ipython3",
   "version": "3.8.8"
  }
 },
 "nbformat": 4,
 "nbformat_minor": 5
}
