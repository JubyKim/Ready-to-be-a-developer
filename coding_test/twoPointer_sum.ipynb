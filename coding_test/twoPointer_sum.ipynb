{
 "cells": [
  {
   "cell_type": "code",
   "execution_count": null,
   "id": "4206e936",
   "metadata": {},
   "outputs": [],
   "source": [
    "4 2\n",
    "1 1 1 1"
   ]
  },
  {
   "cell_type": "code",
   "execution_count": 2,
   "id": "e04c1bf1",
   "metadata": {},
   "outputs": [
    {
     "name": "stdout",
     "output_type": "stream",
     "text": [
      "4 2\n",
      "1 1 1 1\n",
      "0 번째 수 ( 1 ) +  3 번째 수 ( 1 )\n",
      "1 번째 수 ( 1 ) +  2 번째 수 ( 1 )\n"
     ]
    }
   ],
   "source": [
    "n, s = list(map(int,input().split()))\n",
    "numbers = list(map(int,input().split()))\n",
    "l, r = 0, len(numbers) - 1\n",
    "while l <= r:\n",
    "    if numbers[l] + numbers[r] > s:\n",
    "        r -= 1\n",
    "    elif numbers[l] + numbers[r] < s:\n",
    "        l += 1\n",
    "    elif numbers[l] + numbers[r] == s:\n",
    "        r -= 1\n",
    "        l += 1"
   ]
  },
  {
   "cell_type": "code",
   "execution_count": null,
   "id": "de2652e5",
   "metadata": {},
   "outputs": [],
   "source": []
  }
 ],
 "metadata": {
  "kernelspec": {
   "display_name": "Python 3",
   "language": "python",
   "name": "python3"
  },
  "language_info": {
   "codemirror_mode": {
    "name": "ipython",
    "version": 3
   },
   "file_extension": ".py",
   "mimetype": "text/x-python",
   "name": "python",
   "nbconvert_exporter": "python",
   "pygments_lexer": "ipython3",
   "version": "3.8.8"
  }
 },
 "nbformat": 4,
 "nbformat_minor": 5
}
