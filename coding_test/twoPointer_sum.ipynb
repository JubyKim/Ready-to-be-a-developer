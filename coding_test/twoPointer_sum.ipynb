{
 "cells": [
  {
   "cell_type": "code",
   "execution_count": 70,
   "id": "01fe221a",
   "metadata": {},
   "outputs": [
    {
     "name": "stdout",
     "output_type": "stream",
     "text": [
      "4 2\n",
      "1 1 1 1\n",
      "3\n"
     ]
    }
   ],
   "source": [
    "n, s = list(map(int,input().split()))\n",
    "numbers = list(map(int,input().split()))\n",
    "l, r = 0, 0\n",
    "res = numbers[0]\n",
    "cnt = 0\n",
    "\n",
    "while r >= l and r < n:\n",
    "    \n",
    "    res = sum(numbers[l:r+1])\n",
    "    \n",
    "    if res < s :\n",
    "        r +=1\n",
    "    elif res > s:\n",
    "        l +=1\n",
    "        r = l\n",
    "    elif res == s :\n",
    "        cnt +=1 \n",
    "        l +=1\n",
    "        r = l\n",
    "print(cnt)\n",
    "\n",
    "# 5 5 \n",
    "# 4 5 2 3 6"
   ]
  },
  {
   "cell_type": "markdown",
   "id": "1341a44f",
   "metadata": {},
   "source": [
    "# 투포인터"
   ]
  },
  {
   "cell_type": "code",
   "execution_count": 151,
   "id": "a2a90992",
   "metadata": {},
   "outputs": [
    {
     "name": "stdout",
     "output_type": "stream",
     "text": [
      "6 6\n",
      "1 3 2 10 15 6\n",
      "2\n"
     ]
    }
   ],
   "source": [
    "n, s = list(map(int,input().split()))\n",
    "numbers = list(map(int,input().split()))\n",
    "cnt = 0 \n",
    "r, l = 0, 0\n",
    "res = numbers[0] \n",
    "\n",
    "while l >= r and l < n and r <= n:\n",
    "   \n",
    "#     print(\"r: \",r, \"l: \",l )\n",
    "#     print(\"here r : \", r, \"l : \",l)\n",
    "#     print(\"i am res : \", res)\n",
    "    \n",
    "    if res == s:\n",
    "#         print(\"type : 3!!!!!!\")\n",
    "        cnt += 1\n",
    "        res -= numbers[r]\n",
    "        if r < n-1 :\n",
    "            if r == l :\n",
    "                res = numbers[r+1]\n",
    "            r += 1\n",
    "        \n",
    "        \n",
    "    if res > s:\n",
    "#         print(\"type : 1\")\n",
    "        res -= numbers[r]\n",
    "        r +=1\n",
    "        \n",
    "    elif res < s :\n",
    "#         print(\"type : 2\")\n",
    "        if l == len(numbers)-1:\n",
    "            res -= numbers[r]\n",
    "            r +=1\n",
    "        else : \n",
    "            l += 1\n",
    "            res += numbers[l]\n",
    "        \n",
    "    if l < r:\n",
    "        l = r\n",
    "print(cnt)"
   ]
  },
  {
   "cell_type": "code",
   "execution_count": 128,
   "id": "4bed95b7",
   "metadata": {},
   "outputs": [],
   "source": [
    "# 5 5\n",
    "# 4 5 2 3 6\n",
    "\n",
    "# 10 5\n",
    "# 1 2 3 4 2 5 3 1 1 2"
   ]
  },
  {
   "cell_type": "code",
   "execution_count": null,
   "id": "2d994724",
   "metadata": {},
   "outputs": [],
   "source": []
  }
 ],
 "metadata": {
  "kernelspec": {
   "display_name": "Python 3",
   "language": "python",
   "name": "python3"
  },
  "language_info": {
   "codemirror_mode": {
    "name": "ipython",
    "version": 3
   },
   "file_extension": ".py",
   "mimetype": "text/x-python",
   "name": "python",
   "nbconvert_exporter": "python",
   "pygments_lexer": "ipython3",
   "version": "3.8.8"
  }
 },
 "nbformat": 4,
 "nbformat_minor": 5
}
