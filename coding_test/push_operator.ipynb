{
 "cells": [
  {
   "cell_type": "code",
   "execution_count": 1,
   "id": "72c4ef29",
   "metadata": {},
   "outputs": [
    {
     "ename": "SyntaxError",
     "evalue": "invalid syntax (<ipython-input-1-2f0afce1ec1b>, line 2)",
     "output_type": "error",
     "traceback": [
      "\u001b[0;36m  File \u001b[0;32m\"<ipython-input-1-2f0afce1ec1b>\"\u001b[0;36m, line \u001b[0;32m2\u001b[0m\n\u001b[0;31m    5 6\u001b[0m\n\u001b[0m      ^\u001b[0m\n\u001b[0;31mSyntaxError\u001b[0m\u001b[0;31m:\u001b[0m invalid syntax\n"
     ]
    }
   ],
   "source": [
    "2\n",
    "5 6\n",
    "0 0 1 0"
   ]
  },
  {
   "cell_type": "code",
   "execution_count": 114,
   "id": "22f7efc1",
   "metadata": {},
   "outputs": [
    {
     "name": "stdout",
     "output_type": "stream",
     "text": [
      "6\n",
      "1 2 3 4 5 6\n",
      "2 1 1 1\n",
      "54\n",
      "-24\n"
     ]
    }
   ],
   "source": [
    "from itertools import permutations \n",
    "\n",
    "n = int(input())\n",
    "nums = list(map(int,input().split()))\n",
    "opers = list(map(int,input().split()))\n",
    "operator  = []\n",
    "for idx,item in enumerate(opers):\n",
    "    for j in range(item):\n",
    "        if idx == 0:\n",
    "            operator.append(\"+\")\n",
    "        elif idx == 1:\n",
    "            operator.append(\"-\")\n",
    "        elif idx == 2:\n",
    "            operator.append(\"*\")\n",
    "        elif idx == 3:\n",
    "            operator.append(\"//\")\n",
    "            \n",
    "permOP = list(permutations(operator, n-1))\n",
    "sumList = []\n",
    "\n",
    "for n in range(len(permOP)):\n",
    "    numSum = nums[0]\n",
    "    for a in range(len(permOP[n])):\n",
    "        num = nums[a+1]\n",
    "        op = permOP[n][a]\n",
    "        \n",
    "        if op == \"+\":\n",
    "            numSum += num\n",
    "        elif op == \"-\":\n",
    "            numSum -= num\n",
    "        elif op == \"*\":\n",
    "            numSum *= num\n",
    "        elif op == \"//\":\n",
    "            numSum /= num\n",
    "            numSum = int(numSum)\n",
    "        else:\n",
    "            pass\n",
    "\n",
    "    sumList.append(numSum)\n",
    "\n",
    "print(max(sumList))\n",
    "print(min(sumList))\n"
   ]
  },
  {
   "cell_type": "code",
   "execution_count": 75,
   "id": "1ed23fa3",
   "metadata": {},
   "outputs": [
    {
     "data": {
      "text/plain": [
       "[7, 35]"
      ]
     },
     "execution_count": 75,
     "metadata": {},
     "output_type": "execute_result"
    }
   ],
   "source": [
    "## permOP\n",
    "numSum\n",
    "sumList\n",
    "\n",
    "6 / 1 2 3 4 5 6 / 2 1 1 1 / 54 / -24\n",
    "\n",
    "3 / 3 4 5 / 1 0 1 0 / 35 / 17\n",
    "\n",
    "2 / 5 6 / 0 0 1 0 / 30 / 30"
   ]
  },
  {
   "cell_type": "code",
   "execution_count": 95,
   "id": "ccd3e064",
   "metadata": {
    "scrolled": false
   },
   "outputs": [
    {
     "data": {
      "text/plain": [
       "66"
      ]
     },
     "execution_count": 95,
     "metadata": {},
     "output_type": "execute_result"
    }
   ],
   "source": [
    "permOP.index(('-', '//', '+', '+', '*'))"
   ]
  },
  {
   "cell_type": "code",
   "execution_count": 103,
   "id": "06d23690",
   "metadata": {},
   "outputs": [
    {
     "data": {
      "text/plain": [
       "0"
      ]
     },
     "execution_count": 103,
     "metadata": {},
     "output_type": "execute_result"
    }
   ],
   "source": [
    "int(-1/3)"
   ]
  },
  {
   "cell_type": "code",
   "execution_count": 112,
   "id": "1d2c79e1",
   "metadata": {},
   "outputs": [
    {
     "name": "stdout",
     "output_type": "stream",
     "text": [
      "0\n"
     ]
    }
   ],
   "source": [
    "num = -1\n",
    "num /= 3\n",
    "print(int(num))"
   ]
  },
  {
   "cell_type": "code",
   "execution_count": null,
   "id": "73cc7b54",
   "metadata": {},
   "outputs": [],
   "source": []
  }
 ],
 "metadata": {
  "kernelspec": {
   "display_name": "Python 3",
   "language": "python",
   "name": "python3"
  },
  "language_info": {
   "codemirror_mode": {
    "name": "ipython",
    "version": 3
   },
   "file_extension": ".py",
   "mimetype": "text/x-python",
   "name": "python",
   "nbconvert_exporter": "python",
   "pygments_lexer": "ipython3",
   "version": "3.8.8"
  }
 },
 "nbformat": 4,
 "nbformat_minor": 5
}
