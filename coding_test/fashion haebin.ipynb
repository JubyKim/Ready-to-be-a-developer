{
 "cells": [
  {
   "cell_type": "code",
   "execution_count": null,
   "id": "6c14463e",
   "metadata": {},
   "outputs": [],
   "source": [
    "2\n",
    "3\n",
    "hat headgear\n",
    "sunglasses eyewear\n",
    "turban headgear\n",
    "3\n",
    "mask face\n",
    "sunglasses face\n",
    "makeup face"
   ]
  },
  {
   "cell_type": "code",
   "execution_count": 4,
   "id": "9b09cf1d",
   "metadata": {},
   "outputs": [
    {
     "name": "stdout",
     "output_type": "stream",
     "text": [
      "1\n",
      "3\n",
      "hat headgear\n",
      "sunglasses eyewear\n",
      "turban headgear\n"
     ]
    }
   ],
   "source": [
    "n = int(input())\n",
    "for _ in range(n):\n",
    "    num = int(input())\n",
    "    fashion = dict()\n",
    "    for i in range(num):\n",
    "        inp = input()\n",
    "        cloth = inp.split()[0]\n",
    "        category = inp.split()[1]\n",
    "        try :\n",
    "            fashion[category] += 1\n",
    "        except :\n",
    "            fashion[category] = 1\n",
    "    \n"
   ]
  },
  {
   "cell_type": "code",
   "execution_count": 5,
   "id": "7b2e5ff4",
   "metadata": {},
   "outputs": [
    {
     "data": {
      "text/plain": [
       "{'headgear': 2, 'eyewear': 1}"
      ]
     },
     "execution_count": 5,
     "metadata": {},
     "output_type": "execute_result"
    }
   ],
   "source": [
    "fashion"
   ]
  },
  {
   "cell_type": "code",
   "execution_count": null,
   "id": "241bad26",
   "metadata": {},
   "outputs": [],
   "source": [
    "    result = 1\n",
    "    for f in fashion:\n",
    "        result *= (len(fashion[f]) + 1)\n",
    "    print(result - 1)"
   ]
  },
  {
   "cell_type": "code",
   "execution_count": null,
   "id": "1ab13b86",
   "metadata": {},
   "outputs": [],
   "source": [
    "category = 0?"
   ]
  }
 ],
 "metadata": {
  "kernelspec": {
   "display_name": "Python 3",
   "language": "python",
   "name": "python3"
  },
  "language_info": {
   "codemirror_mode": {
    "name": "ipython",
    "version": 3
   },
   "file_extension": ".py",
   "mimetype": "text/x-python",
   "name": "python",
   "nbconvert_exporter": "python",
   "pygments_lexer": "ipython3",
   "version": "3.8.8"
  }
 },
 "nbformat": 4,
 "nbformat_minor": 5
}
