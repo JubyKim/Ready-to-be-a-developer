{
 "cells": [
  {
   "cell_type": "code",
   "execution_count": 1,
   "id": "37fa88c7",
   "metadata": {},
   "outputs": [
    {
     "ename": "SyntaxError",
     "evalue": "invalid syntax (<ipython-input-1-1047279cccdd>, line 3)",
     "output_type": "error",
     "traceback": [
      "\u001b[0;36m  File \u001b[0;32m\"<ipython-input-1-1047279cccdd>\"\u001b[0;36m, line \u001b[0;32m3\u001b[0m\n\u001b[0;31m    LCS[0][] = 0\u001b[0m\n\u001b[0m           ^\u001b[0m\n\u001b[0;31mSyntaxError\u001b[0m\u001b[0;31m:\u001b[0m invalid syntax\n"
     ]
    }
   ],
   "source": [
    "X = \"apple pie\"\n",
    "Y = \"apple pie is delicious\"\n",
    "LCS[0][] = 0\n",
    "LCS[][0] = 0\n",
    "# Start from LCS[1][1]\n",
    "# Compare X[i] and Y[j]\n",
    "#     If X[i] = Y[j]\n",
    "#         LCS[i][j] = 1 + LCS[i-1, j-1]   \n",
    "#         Point an arrow to LCS[i][j]\n",
    "#     Else\n",
    "#         LCS[i][j] = max(LCS[i-1][j], LCS[i][j-1])\n",
    "#         Point an arrow to max(LCS[i-1][j], LCS[i][j-1])"
   ]
  },
  {
   "cell_type": "code",
   "execution_count": 29,
   "id": "b07a2251",
   "metadata": {},
   "outputs": [],
   "source": [
    "def lcsubstr(str1, str2):\n",
    "    ans = 0\n",
    "    for i in range(len(str1)):\n",
    "        for j in range(len(str2)):\n",
    "            k = 0\n",
    "            while ((i + k) < len(str1) and (j + k) < len(str2) and str1[i + k] == str2[j + k]): \n",
    "                k = k + 1\n",
    "\n",
    "            ans = max(ans, k)\n",
    "    return ans"
   ]
  },
  {
   "cell_type": "code",
   "execution_count": 30,
   "id": "170a206d",
   "metadata": {},
   "outputs": [
    {
     "data": {
      "text/plain": [
       "9"
      ]
     },
     "execution_count": 30,
     "metadata": {},
     "output_type": "execute_result"
    }
   ],
   "source": [
    "lcsubstr(\"apple pie is delicious\", \"apple pie\")"
   ]
  },
  {
   "cell_type": "code",
   "execution_count": null,
   "id": "0373e387",
   "metadata": {},
   "outputs": [],
   "source": []
  }
 ],
 "metadata": {
  "kernelspec": {
   "display_name": "Python 3",
   "language": "python",
   "name": "python3"
  },
  "language_info": {
   "codemirror_mode": {
    "name": "ipython",
    "version": 3
   },
   "file_extension": ".py",
   "mimetype": "text/x-python",
   "name": "python",
   "nbconvert_exporter": "python",
   "pygments_lexer": "ipython3",
   "version": "3.8.8"
  }
 },
 "nbformat": 4,
 "nbformat_minor": 5
}
