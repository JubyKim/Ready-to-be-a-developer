{
 "cells": [
  {
   "cell_type": "code",
   "execution_count": 616,
   "id": "74e4153c",
   "metadata": {},
   "outputs": [],
   "source": [
    "from itertools import repeat\n",
    "\n",
    "def solution(word, pages):\n",
    "    answer = 0\n",
    "    weight = []\n",
    "    linkCount = []\n",
    "    linkScore = [] \n",
    "    scores = list(repeat(0, len(pages)))\n",
    "    myUrl = []\n",
    "    referDict = {id : [] for id in range(len(pages))}\n",
    "    word = word.lower()\n",
    "    \n",
    "    print(len(pages))\n",
    "    for page in pages :\n",
    "        myUrl.append(page.split('<meta property=\"og:url\" content=\"')[1].split('\"/>')[0])\n",
    "            \n",
    "    for index,page in enumerate(pages) :\n",
    "        page = page.lower()\n",
    "        weight.append(page.count(word)) #해당 Html에 포함되어있는 word의 개수\n",
    "        linkCount.append(page.count(\"href\")) #연결되어있는 링크의 개수\n",
    "#         print(\"here link\", linkCount)\n",
    "        for url in myUrl:\n",
    "            if \"\".join(page.split('<a href=\"')[1:]).count(url) > 0 :#참조링크\n",
    "                referDict[index].append(myUrl.index(url))\n",
    "    \n",
    "    \n",
    "    #link 점수 계산\n",
    "    for index, l in enumerate(linkCount):\n",
    "        linkScore.append(weight[index]/ l)\n",
    "      \n",
    "    scores = weight\n",
    "#     총점 계산하기\n",
    "    for key,value in referDict.items():\n",
    "        for i in range(len(linkScore)):\n",
    "            if i in value :\n",
    "                scores[i] += linkScore[key]\n",
    "        \n",
    "        \n",
    "    print(referDict)\n",
    "    print(myUrl)\n",
    "    print(\"linkCount: \", linkCount)\n",
    "    print(\"linkScore : \", linkScore)\n",
    "    print(\"weight : \",weight)\n",
    "#     print(scores)\n",
    "#     print(scores. index(max(scores)))\n",
    "    \n",
    "    answer = scores. index(max(scores))\n",
    "    \n",
    "    return answer"
   ]
  },
  {
   "cell_type": "code",
   "execution_count": 617,
   "id": "3dd04222",
   "metadata": {},
   "outputs": [
    {
     "name": "stdout",
     "output_type": "stream",
     "text": [
      "3\n",
      "{0: [1], 1: [0, 2], 2: [0]}\n",
      "['https://a.com', 'https://b.com', 'https://c.com']\n",
      "linkCount:  [1, 2, 1]\n",
      "linkScore :  [3.0, 0.5, 1.0]\n",
      "weight :  [4.5, 4.0, 1.5]\n"
     ]
    },
    {
     "data": {
      "text/plain": [
       "0"
      ]
     },
     "execution_count": 617,
     "metadata": {},
     "output_type": "execute_result"
    }
   ],
   "source": [
    "solution(\"blind\",[\"<html lang=\\\"ko\\\" xml:lang=\\\"ko\\\" xmlns=\\\"http://www.w3.org/1999/xhtml\\\">\\n<head>\\n  <meta charset=\\\"utf-8\\\">\\n  <meta property=\\\"og:url\\\" content=\\\"https://a.com\\\"/>\\n</head>  \\n<body>\\nBlind Lorem Blind ipsum dolor Blind test sit amet, consectetur adipiscing elit. \\n<a href=\\\"https://b.com\\\"> Link to b </a>\\n</body>\\n</html>\", \"<html lang=\\\"ko\\\" xml:lang=\\\"ko\\\" xmlns=\\\"http://www.w3.org/1999/xhtml\\\">\\n<head>\\n  <meta charset=\\\"utf-8\\\">\\n  <meta property=\\\"og:url\\\" content=\\\"https://b.com\\\"/>\\n</head>  \\n<body>\\nSuspendisse potenti. Vivamus venenatis tellus non turpis bibendum, \\n<a href=\\\"https://a.com\\\"> Link to a </a>\\nblind sed congue urna varius. Suspendisse feugiat nisl ligula, quis malesuada felis hendrerit ut.\\n<a href=\\\"https://c.com\\\"> Link to c </a>\\n</body>\\n</html>\", \"<html lang=\\\"ko\\\" xml:lang=\\\"ko\\\" xmlns=\\\"http://www.w3.org/1999/xhtml\\\">\\n<head>\\n  <meta charset=\\\"utf-8\\\">\\n  <meta property=\\\"og:url\\\" content=\\\"https://c.com\\\"/>\\n</head>  \\n<body>\\nUt condimentum urna at felis sodales rutrum. Sed dapibus cursus diam, non interdum nulla tempor nec. Phasellus rutrum enim at orci consectetu blind\\n<a href=\\\"https://a.com\\\"> Link to a </a>\\n</body>\\n</html>\"] )"
   ]
  },
  {
   "cell_type": "code",
   "execution_count": 618,
   "id": "fda34ffe",
   "metadata": {},
   "outputs": [
    {
     "name": "stdout",
     "output_type": "stream",
     "text": [
      "2\n",
      "{0: [], 1: []}\n",
      "['https://careers.kakao.com/interview/list', 'https://www.kakaocorp.com']\n",
      "linkCount:  [1, 1]\n",
      "linkScore :  [2.0, 1.0]\n",
      "weight :  [2, 1]\n"
     ]
    },
    {
     "data": {
      "text/plain": [
       "0"
      ]
     },
     "execution_count": 618,
     "metadata": {},
     "output_type": "execute_result"
    }
   ],
   "source": [
    "solution(\"muzi\", [\"<html lang=\\\"ko\\\" xml:lang=\\\"ko\\\" xmlns=\\\"http://www.w3.org/1999/xhtml\\\">\\n<head>\\n  <meta charset=\\\"utf-8\\\">\\n  <meta property=\\\"og:url\\\" content=\\\"https://careers.kakao.com/interview/list\\\"/>\\n</head>  \\n<body>\\n<a href=\\\"https://programmers.co.kr/learn/courses/4673\\\"></a>#!MuziMuzi!)jayg07con&&\\n\\n</body>\\n</html>\", \"<html lang=\\\"ko\\\" xml:lang=\\\"ko\\\" xmlns=\\\"http://www.w3.org/1999/xhtml\\\">\\n<head>\\n  <meta charset=\\\"utf-8\\\">\\n  <meta property=\\\"og:url\\\" content=\\\"https://www.kakaocorp.com\\\"/>\\n</head>  \\n<body>\\ncon%\\tmuzI92apeach&2<a href=\\\"https://hashcode.co.kr/tos\\\"></a>\\n\\n\\t^\\n</body>\\n</html>\"])"
   ]
  },
  {
   "cell_type": "markdown",
   "id": "2b2d9c56",
   "metadata": {},
   "source": [
    "# 2번째 split 사용."
   ]
  },
  {
   "cell_type": "code",
   "execution_count": 870,
   "id": "ec1dd075",
   "metadata": {},
   "outputs": [],
   "source": [
    "from itertools import repeat\n",
    "import re\n",
    "\n",
    "def solution(word, pages):\n",
    "    myUrl = []\n",
    "    basicScore = []\n",
    "    linkCount = []\n",
    "    linkScore = []\n",
    "    scores = []\n",
    "    referDict = {id : [] for id in range(len(pages))}\n",
    "    answer = 0\n",
    "    \n",
    "    word = word.lower()\n",
    "    \n",
    "    #myUrl 찾기\n",
    "    for page in pages :\n",
    "        myUrl.append(page.split('<meta property=\"og:url\" content=\"')[1].split('\"/>')[0])\n",
    "    \n",
    "    #basicScore\n",
    "    for index, page in enumerate(pages) :\n",
    "        page = page.lower()\n",
    "        pageSub = re.sub('\\W|\\d',' ', page) # 특수문자 제거하고 해당 문자를 공백으로 대치함\n",
    "        pageList = pageSub.split()\n",
    "        basicScore.append(pageList.count(word))\n",
    "#         print(pageList)\n",
    "        linkCount.append(page.count(\"href\"))\n",
    "        \n",
    "        for url in myUrl:\n",
    "#             print(url)\n",
    "#             print(\"\".join(page.split('<a href=\"')[1:]))\n",
    "            if re.findall(url, \"\".join(page.split('<a href=\"')[1:])):#참조링크 #list를 string으로 바꾸는 방법\n",
    "                referDict[index].append(myUrl.index(url))\n",
    "    \n",
    "    #link 점수 계산\n",
    "    for index, l in enumerate(linkCount):\n",
    "        print(\"this is basicScore\",basicScore[index])\n",
    "#         print(\"thisIsIndex\", index)\n",
    "        print(\"thisIsL\", l)\n",
    "        linkScore.append(basicScore[index]/ l)\n",
    "        \n",
    "    scores = basicScore\n",
    "    \n",
    "    #총점 계산하기\n",
    "    for key,value in referDict.items():\n",
    "#         print(\"k\",key)\n",
    "#         print(\"v\", value)\n",
    "        for i in range(len(linkScore)):\n",
    "            if i in value :\n",
    "                scores[i] += linkScore[key]\n",
    "        \n",
    "#     print(referDict)\n",
    "#     print(myUrl)\n",
    "#     print(\"linkCount: \", linkCount)\n",
    "#     print(\"linkScore : \", linkScore)\n",
    "#     print(\"basicScore : \",basicScore)\n",
    "#     print(scores)\n",
    "#     print(scores. index(max(scores)))\n",
    "    \n",
    "    answer = scores. index(max(scores))\n",
    "\n",
    "    return answer"
   ]
  },
  {
   "cell_type": "code",
   "execution_count": 871,
   "id": "e88282ae",
   "metadata": {},
   "outputs": [
    {
     "name": "stdout",
     "output_type": "stream",
     "text": [
      "this is basicScore 0\n",
      "thisIsL 1\n",
      "this is basicScore 1\n",
      "thisIsL 1\n",
      "[0, 1]\n"
     ]
    },
    {
     "data": {
      "text/plain": [
       "1"
      ]
     },
     "execution_count": 871,
     "metadata": {},
     "output_type": "execute_result"
    }
   ],
   "source": [
    "solution(\"muzi\", [\"<html lang=\\\"ko\\\" xml:lang=\\\"ko\\\" xmlns=\\\"http://www.w3.org/1999/xhtml\\\">\\n<head>\\n  <meta charset=\\\"utf-8\\\">\\n  <meta property=\\\"og:url\\\" content=\\\"https://careers.kakao.com/interview/list\\\"/>\\n</head>  \\n<body>\\n<a href=\\\"https://programmers.co.kr/learn/courses/4673\\\"></a>#!MuziMuzi!)jayg07con&&\\n\\n</body>\\n</html>\", \"<html lang=\\\"ko\\\" xml:lang=\\\"ko\\\" xmlns=\\\"http://www.w3.org/1999/xhtml\\\">\\n<head>\\n  <meta charset=\\\"utf-8\\\">\\n  <meta property=\\\"og:url\\\" content=\\\"https://www.kakaocorp.com\\\"/>\\n</head>  \\n<body>\\ncon%\\tmuzI92apeach&2<a href=\\\"https://hashcode.co.kr/tos\\\"></a>\\n\\n\\t^\\n</body>\\n</html>\"])"
   ]
  },
  {
   "cell_type": "code",
   "execution_count": 872,
   "id": "240f7195",
   "metadata": {},
   "outputs": [
    {
     "name": "stdout",
     "output_type": "stream",
     "text": [
      "this is basicScore 3\n",
      "thisIsL 1\n",
      "this is basicScore 1\n",
      "thisIsL 2\n",
      "this is basicScore 1\n",
      "thisIsL 1\n",
      "[4.5, 4.0, 1.5]\n"
     ]
    },
    {
     "data": {
      "text/plain": [
       "0"
      ]
     },
     "execution_count": 872,
     "metadata": {},
     "output_type": "execute_result"
    }
   ],
   "source": [
    "solution(\"blind\",[\"<html lang=\\\"ko\\\" xml:lang=\\\"ko\\\" xmlns=\\\"http://www.w3.org/1999/xhtml\\\">\\n<head>\\n  <meta charset=\\\"utf-8\\\">\\n  <meta property=\\\"og:url\\\" content=\\\"https://a.com\\\"/>\\n</head>  \\n<body>\\nBlind Lorem Blind ipsum dolor Blind test sit amet, consectetur adipiscing elit. \\n<a href=\\\"https://b.com\\\"> Link to b </a>\\n</body>\\n</html>\", \"<html lang=\\\"ko\\\" xml:lang=\\\"ko\\\" xmlns=\\\"http://www.w3.org/1999/xhtml\\\">\\n<head>\\n  <meta charset=\\\"utf-8\\\">\\n  <meta property=\\\"og:url\\\" content=\\\"https://b.com\\\"/>\\n</head>  \\n<body>\\nSuspendisse potenti. Vivamus venenatis tellus non turpis bibendum, \\n<a href=\\\"https://a.com\\\"> Link to a </a>\\nblind sed congue urna varius. Suspendisse feugiat nisl ligula, quis malesuada felis hendrerit ut.\\n<a href=\\\"https://c.com\\\"> Link to c </a>\\n</body>\\n</html>\", \"<html lang=\\\"ko\\\" xml:lang=\\\"ko\\\" xmlns=\\\"http://www.w3.org/1999/xhtml\\\">\\n<head>\\n  <meta charset=\\\"utf-8\\\">\\n  <meta property=\\\"og:url\\\" content=\\\"https://c.com\\\"/>\\n</head>  \\n<body>\\nUt condimentum urna at felis sodales rutrum. Sed dapibus cursus diam, non interdum nulla tempor nec. Phasellus rutrum enim at orci consectetu blind\\n<a href=\\\"https://a.com\\\"> Link to a </a>\\n</body>\\n</html>\"] )"
   ]
  },
  {
   "cell_type": "code",
   "execution_count": null,
   "id": "504b29ba",
   "metadata": {},
   "outputs": [],
   "source": []
  }
 ],
 "metadata": {
  "kernelspec": {
   "display_name": "Python 3",
   "language": "python",
   "name": "python3"
  },
  "language_info": {
   "codemirror_mode": {
    "name": "ipython",
    "version": 3
   },
   "file_extension": ".py",
   "mimetype": "text/x-python",
   "name": "python",
   "nbconvert_exporter": "python",
   "pygments_lexer": "ipython3",
   "version": "3.8.8"
  }
 },
 "nbformat": 4,
 "nbformat_minor": 5
}
