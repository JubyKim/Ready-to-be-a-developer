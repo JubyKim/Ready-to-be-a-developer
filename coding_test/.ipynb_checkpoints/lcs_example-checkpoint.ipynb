{
 "cells": [
  {
   "cell_type": "code",
   "execution_count": 1,
   "id": "321c142d",
   "metadata": {},
   "outputs": [
    {
     "ename": "SyntaxError",
     "evalue": "invalid syntax (<ipython-input-1-1047279cccdd>, line 3)",
     "output_type": "error",
     "traceback": [
      "\u001b[0;36m  File \u001b[0;32m\"<ipython-input-1-1047279cccdd>\"\u001b[0;36m, line \u001b[0;32m3\u001b[0m\n\u001b[0;31m    LCS[0][] = 0\u001b[0m\n\u001b[0m           ^\u001b[0m\n\u001b[0;31mSyntaxError\u001b[0m\u001b[0;31m:\u001b[0m invalid syntax\n"
     ]
    }
   ],
   "source": [
    "X = \"apple pie\"\n",
    "Y = \"apple pie is delicious\"\n",
    "LCS[0][] = 0\n",
    "LCS[][0] = 0\n",
    "# Start from LCS[1][1]\n",
    "# Compare X[i] and Y[j]\n",
    "#     If X[i] = Y[j]\n",
    "#         LCS[i][j] = 1 + LCS[i-1, j-1]   \n",
    "#         Point an arrow to LCS[i][j]\n",
    "#     Else\n",
    "#         LCS[i][j] = max(LCS[i-1][j], LCS[i][j-1])\n",
    "#         Point an arrow to max(LCS[i-1][j], LCS[i][j-1])"
   ]
  },
  {
   "cell_type": "code",
   "execution_count": 29,
   "id": "39c4ad2a",
   "metadata": {},
   "outputs": [],
   "source": [
    "def lcsubstr(str1, str2):\n",
    "    ans = 0\n",
    "    for i in range(len(str1)):\n",
    "        for j in range(len(str2)):\n",
    "            k = 0\n",
    "            while ((i + k) < len(str1) and (j + k) < len(str2) and str1[i + k] == str2[j + k]): \n",
    "                k = k + 1\n",
    "\n",
    "            ans = max(ans, k)\n",
    "    return ans"
   ]
  },
  {
   "cell_type": "code",
   "execution_count": 30,
   "id": "dfaf8b8e",
   "metadata": {},
   "outputs": [
    {
     "data": {
      "text/plain": [
       "9"
      ]
     },
     "execution_count": 30,
     "metadata": {},
     "output_type": "execute_result"
    }
   ],
   "source": [
    "lcsubstr(\"apple pie is delicious\", \"apple pie\")"
   ]
  },
  {
   "cell_type": "code",
   "execution_count": 71,
   "id": "06ad7afd",
   "metadata": {},
   "outputs": [
    {
     "name": "stdout",
     "output_type": "stream",
     "text": [
      "8\n"
     ]
    }
   ],
   "source": [
    "#by myself - substring\n",
    "\n",
    "a = \"abcdfghjqz\"\n",
    "b = \"abcdefgijkrxyz\"\n",
    "\n",
    "ans = 0\n",
    "idx = 0\n",
    "jdx = 0\n",
    "index = 0\n",
    "sameCnt = 0\n",
    "            \n",
    "for idx, item  in enumerate(a[:]):\n",
    "    for jdx, jtem in enumerate(b[:]):\n",
    "        if item == jtem:\n",
    "            a = a[idx:]\n",
    "            b = b[jdx:]\n",
    "            sameCnt += 1\n",
    "print(sameCnt)"
   ]
  },
  {
   "cell_type": "code",
   "execution_count": 81,
   "id": "ca60cd08",
   "metadata": {},
   "outputs": [
    {
     "name": "stdout",
     "output_type": "stream",
     "text": [
      "2\n"
     ]
    }
   ],
   "source": [
    "#by myself - subsequence\n",
    "\n",
    "a = 'ABBAAB'\n",
    "b = 'BABAAB'\n",
    "\n",
    "maxNum = 0\n",
    "sameCnt = 0\n",
    "\n",
    "for idx, item  in enumerate(a[:]):\n",
    "    for jdx, jtem in enumerate(b):\n",
    "        if item == jtem:\n",
    "            a = a[idx:]\n",
    "            sameCnt += 1            \n",
    "        else : \n",
    "            a = a[idx+1:]\n",
    "            maxNum = max(maxNum,sameCnt)\n",
    "            sameCnt = 0\n",
    "print(maxNum)"
   ]
  },
  {
   "cell_type": "code",
   "execution_count": 64,
   "id": "ba61f031",
   "metadata": {},
   "outputs": [
    {
     "name": "stdout",
     "output_type": "stream",
     "text": [
      "[[0, 1, 0, 0, 1, 0, 0], [1, 0, 0, 1, 0, 0, 0], [0, 1, 0, 0, 1, 0, 0], [0, 0, 0, 0, 0, 0, 0], [0, 0, 0, 0, 0, 1, 0], [0, 0, 1, 0, 0, 0, 0], [0, 0, 0, 0, 0, 0, 0]]\n",
      "0\n"
     ]
    }
   ],
   "source": [
    "A = \"ACAYKP\"\n",
    "B = \"CAPCAK\"\n",
    "\n",
    "lcs = [[0 for i in range(len(A)+1)] for j in range(len(B)+1)]\n",
    "\n",
    "for i in range(len(A)):\n",
    "    for j in range(len(B)):\n",
    "        if A[i] == B[j]:\n",
    "            lcs[i][j] += 1\n",
    "        else:\n",
    "            lcs[i][j] = max(lcs[i][j], lcs[i][j])\n",
    "print(lcs)\n",
    "print(lcs[len(A)-1][len(B)-1])"
   ]
  },
  {
   "cell_type": "code",
   "execution_count": 46,
   "id": "f3dec21c",
   "metadata": {},
   "outputs": [
    {
     "name": "stdout",
     "output_type": "stream",
     "text": [
      "[0, 0, 0, 0, 0, 0, 0]\n",
      "[0, 0, 1, 1, 1, 1, 1]\n",
      "[0, 0, 0, 0, 0, 0, 0]\n",
      "[0, 0, 0, 0, 0, 0, 0]\n",
      "[0, 0, 0, 0, 0, 0, 0]\n",
      "[0, 0, 0, 0, 0, 0, 0]\n",
      "[0, 0, 0, 0, 0, 0, 0]\n",
      "--------\n",
      "[0, 0, 0, 0, 0, 0, 0]\n",
      "[0, 0, 1, 1, 1, 1, 1]\n",
      "[0, 1, 1, 1, 2, 2, 2]\n",
      "[0, 0, 0, 0, 0, 0, 0]\n",
      "[0, 0, 0, 0, 0, 0, 0]\n",
      "[0, 0, 0, 0, 0, 0, 0]\n",
      "[0, 0, 0, 0, 0, 0, 0]\n",
      "--------\n",
      "[0, 0, 0, 0, 0, 0, 0]\n",
      "[0, 0, 1, 1, 1, 1, 1]\n",
      "[0, 1, 1, 1, 2, 2, 2]\n",
      "[0, 1, 2, 2, 2, 3, 3]\n",
      "[0, 0, 0, 0, 0, 0, 0]\n",
      "[0, 0, 0, 0, 0, 0, 0]\n",
      "[0, 0, 0, 0, 0, 0, 0]\n",
      "--------\n",
      "[0, 0, 0, 0, 0, 0, 0]\n",
      "[0, 0, 1, 1, 1, 1, 1]\n",
      "[0, 1, 1, 1, 2, 2, 2]\n",
      "[0, 1, 2, 2, 2, 3, 3]\n",
      "[0, 1, 2, 2, 2, 3, 3]\n",
      "[0, 0, 0, 0, 0, 0, 0]\n",
      "[0, 0, 0, 0, 0, 0, 0]\n",
      "--------\n",
      "[0, 0, 0, 0, 0, 0, 0]\n",
      "[0, 0, 1, 1, 1, 1, 1]\n",
      "[0, 1, 1, 1, 2, 2, 2]\n",
      "[0, 1, 2, 2, 2, 3, 3]\n",
      "[0, 1, 2, 2, 2, 3, 3]\n",
      "[0, 1, 2, 2, 2, 3, 4]\n",
      "[0, 0, 0, 0, 0, 0, 0]\n",
      "--------\n",
      "[0, 0, 0, 0, 0, 0, 0]\n",
      "[0, 0, 1, 1, 1, 1, 1]\n",
      "[0, 1, 1, 1, 2, 2, 2]\n",
      "[0, 1, 2, 2, 2, 3, 3]\n",
      "[0, 1, 2, 2, 2, 3, 3]\n",
      "[0, 1, 2, 2, 2, 3, 4]\n",
      "[0, 1, 2, 3, 3, 3, 4]\n",
      "--------\n",
      "4\n"
     ]
    }
   ],
   "source": [
    "A = \"ACAYKP\"\n",
    "B = \"CAPCAK\"\n",
    "\n",
    "lcs = [[0 for i in range(len(A)+1)] for j in range(len(B)+1)]\n",
    "\n",
    "for i in range(1, len(A)+1):\n",
    "    for j in range(1, len(B)+1):\n",
    "        if A[i-1] == B[j-1]:\n",
    "            lcs[i][j] = lcs[i-1][j-1] + 1\n",
    "        else:\n",
    "            lcs[i][j] = max(lcs[i][j-1], lcs[i-1][j])\n",
    "    for i in lcs:\n",
    "        print(i)\n",
    "    print(\"--------\")\n",
    "#         print(lcs)        \n",
    "print(lcs[len(A)][len(B)])"
   ]
  },
  {
   "cell_type": "code",
   "execution_count": null,
   "id": "49e9a0b6",
   "metadata": {},
   "outputs": [],
   "source": []
  }
 ],
 "metadata": {
  "kernelspec": {
   "display_name": "Python 3",
   "language": "python",
   "name": "python3"
  },
  "language_info": {
   "codemirror_mode": {
    "name": "ipython",
    "version": 3
   },
   "file_extension": ".py",
   "mimetype": "text/x-python",
   "name": "python",
   "nbconvert_exporter": "python",
   "pygments_lexer": "ipython3",
   "version": "3.8.8"
  }
 },
 "nbformat": 4,
 "nbformat_minor": 5
}
