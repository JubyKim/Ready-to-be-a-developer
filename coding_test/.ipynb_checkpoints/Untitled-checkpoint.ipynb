{
 "cells": [
  {
   "cell_type": "code",
   "execution_count": 7,
   "id": "e23f193c",
   "metadata": {},
   "outputs": [
    {
     "name": "stdout",
     "output_type": "stream",
     "text": [
      "1000 1 1\n",
      "999 1000\n",
      "\n"
     ]
    },
    {
     "ename": "KeyError",
     "evalue": "1",
     "output_type": "error",
     "traceback": [
      "\u001b[0;31m---------------------------------------------------------------------------\u001b[0m",
      "\u001b[0;31mKeyError\u001b[0m                                  Traceback (most recent call last)",
      "\u001b[0;32m<ipython-input-7-f7d910d3422d>\u001b[0m in \u001b[0;36m<module>\u001b[0;34m\u001b[0m\n\u001b[1;32m     63\u001b[0m \u001b[0;34m\u001b[0m\u001b[0m\n\u001b[1;32m     64\u001b[0m \u001b[0morder\u001b[0m \u001b[0;34m=\u001b[0m \u001b[0;34m[\u001b[0m\u001b[0;34m]\u001b[0m\u001b[0;34m\u001b[0m\u001b[0;34m\u001b[0m\u001b[0m\n\u001b[0;32m---> 65\u001b[0;31m \u001b[0mres_bfs\u001b[0m \u001b[0;34m=\u001b[0m \u001b[0mbfs\u001b[0m\u001b[0;34m(\u001b[0m\u001b[0mgraphDict\u001b[0m\u001b[0;34m,\u001b[0m \u001b[0mstart\u001b[0m\u001b[0;34m,\u001b[0m \u001b[0mvisitDictb\u001b[0m\u001b[0;34m)\u001b[0m\u001b[0;34m\u001b[0m\u001b[0;34m\u001b[0m\u001b[0m\n\u001b[0m\u001b[1;32m     66\u001b[0m \u001b[0mprint\u001b[0m\u001b[0;34m(\u001b[0m\u001b[0;34m\" \"\u001b[0m\u001b[0;34m.\u001b[0m\u001b[0mjoin\u001b[0m\u001b[0;34m(\u001b[0m\u001b[0mres_bfs\u001b[0m\u001b[0;34m)\u001b[0m\u001b[0;34m)\u001b[0m\u001b[0;34m\u001b[0m\u001b[0;34m\u001b[0m\u001b[0m\n",
      "\u001b[0;32m<ipython-input-7-f7d910d3422d>\u001b[0m in \u001b[0;36mbfs\u001b[0;34m(graph, start, visitb)\u001b[0m\n\u001b[1;32m     28\u001b[0m     \u001b[0mcheck\u001b[0m \u001b[0;34m=\u001b[0m \u001b[0mdeque\u001b[0m\u001b[0;34m(\u001b[0m\u001b[0;34m)\u001b[0m\u001b[0;34m\u001b[0m\u001b[0;34m\u001b[0m\u001b[0m\n\u001b[1;32m     29\u001b[0m     \u001b[0;32mwhile\u001b[0m \u001b[0mlist\u001b[0m\u001b[0;34m(\u001b[0m\u001b[0mvisitb\u001b[0m\u001b[0;34m.\u001b[0m\u001b[0mvalues\u001b[0m\u001b[0;34m(\u001b[0m\u001b[0;34m)\u001b[0m\u001b[0;34m)\u001b[0m\u001b[0;34m.\u001b[0m\u001b[0mcount\u001b[0m\u001b[0;34m(\u001b[0m\u001b[0;32mTrue\u001b[0m\u001b[0;34m)\u001b[0m \u001b[0;34m!=\u001b[0m \u001b[0mlen\u001b[0m\u001b[0;34m(\u001b[0m\u001b[0mgraphDict\u001b[0m\u001b[0;34m.\u001b[0m\u001b[0mkeys\u001b[0m\u001b[0;34m(\u001b[0m\u001b[0;34m)\u001b[0m\u001b[0;34m)\u001b[0m\u001b[0;34m:\u001b[0m\u001b[0;34m\u001b[0m\u001b[0;34m\u001b[0m\u001b[0m\n\u001b[0;32m---> 30\u001b[0;31m         \u001b[0;32mfor\u001b[0m \u001b[0mi\u001b[0m \u001b[0;32min\u001b[0m \u001b[0mgraph\u001b[0m\u001b[0;34m[\u001b[0m\u001b[0mstart\u001b[0m\u001b[0;34m]\u001b[0m\u001b[0;34m:\u001b[0m\u001b[0;34m\u001b[0m\u001b[0;34m\u001b[0m\u001b[0m\n\u001b[0m\u001b[1;32m     31\u001b[0m             \u001b[0;32mif\u001b[0m \u001b[0mvisitb\u001b[0m\u001b[0;34m[\u001b[0m\u001b[0mi\u001b[0m\u001b[0;34m]\u001b[0m \u001b[0;34m==\u001b[0m \u001b[0;32mFalse\u001b[0m\u001b[0;34m:\u001b[0m\u001b[0;34m\u001b[0m\u001b[0;34m\u001b[0m\u001b[0m\n\u001b[1;32m     32\u001b[0m                 \u001b[0mvisitb\u001b[0m\u001b[0;34m[\u001b[0m\u001b[0mi\u001b[0m\u001b[0;34m]\u001b[0m \u001b[0;34m=\u001b[0m \u001b[0;32mTrue\u001b[0m\u001b[0;34m\u001b[0m\u001b[0;34m\u001b[0m\u001b[0m\n",
      "\u001b[0;31mKeyError\u001b[0m: 1"
     ]
    }
   ],
   "source": [
    "from collections import deque\n",
    "\n",
    "node, line, start = list(map(int,input().split()))\n",
    "\n",
    "graphDict = {0:[]}\n",
    "visitDictd = {}\n",
    "visitDictb = {}\n",
    "order = []\n",
    "\n",
    "def dfs(graph, start, visitd):\n",
    "    visitd[start] = True\n",
    "    order.append(str(start))\n",
    "    try : \n",
    "        for i in graph[start]:\n",
    "            if visitd[i] == False:\n",
    "                try :\n",
    "                    dfs(graph, i, visitd)\n",
    "                except :\n",
    "                    continue\n",
    "    except :\n",
    "        return []\n",
    "    return order\n",
    "\n",
    "def bfs(graph, start, visitb):\n",
    "    visitb[0] = True\n",
    "    visitb[start] = True\n",
    "    order.append(str(start))\n",
    "    check = deque()\n",
    "    try : \n",
    "        while list(visitb.values()).count(True) != len(graphDict.keys()):\n",
    "            for i in graph[start]:\n",
    "                if visitb[i] == False:\n",
    "                    visitb[i] = True\n",
    "                    order.append(str(i))\n",
    "                    check.append(i)\n",
    "            if len(check) != 0:\n",
    "                start = check.popleft()\n",
    "    except :\n",
    "        return []\n",
    "    return order\n",
    "        \n",
    "\n",
    "#graphDict 만들기\n",
    "for i in range(line):\n",
    "    tmp = list(map(int,input().split()))\n",
    "    try :\n",
    "        graphDict[tmp[0]].append(tmp[1])\n",
    "    except KeyError:\n",
    "        graphDict[tmp[0]] = list()\n",
    "        graphDict[tmp[0]].append(tmp[1])\n",
    "    try :\n",
    "        graphDict[tmp[1]].append(tmp[0])\n",
    "    except KeyError:\n",
    "        graphDict[tmp[1]] = list()\n",
    "        graphDict[tmp[1]].append(tmp[0])\n",
    "        \n",
    "for i in graphDict.items() :\n",
    "    graphDict[i[0]] = sorted(i[1]) #정렬\n",
    "    \n",
    "for i in graphDict.keys():\n",
    "    visitDictd[i] = False\n",
    "    visitDictb[i] = False\n",
    "\n",
    "res_dfs = dfs(graphDict, start, visitDictd)\n",
    "print(\" \".join(res_dfs))\n",
    "\n",
    "order = []\n",
    "res_bfs = bfs(graphDict, start, visitDictb)\n",
    "print(\" \".join(res_bfs))\n"
   ]
  }
 ],
 "metadata": {
  "kernelspec": {
   "display_name": "Python 3",
   "language": "python",
   "name": "python3"
  },
  "language_info": {
   "codemirror_mode": {
    "name": "ipython",
    "version": 3
   },
   "file_extension": ".py",
   "mimetype": "text/x-python",
   "name": "python",
   "nbconvert_exporter": "python",
   "pygments_lexer": "ipython3",
   "version": "3.8.8"
  }
 },
 "nbformat": 4,
 "nbformat_minor": 5
}
