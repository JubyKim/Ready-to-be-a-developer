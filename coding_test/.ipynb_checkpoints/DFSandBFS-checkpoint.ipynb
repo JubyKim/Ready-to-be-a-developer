{
 "cells": [
  {
   "cell_type": "code",
   "execution_count": 236,
   "id": "d48d895c",
   "metadata": {},
   "outputs": [
    {
     "name": "stdout",
     "output_type": "stream",
     "text": [
      "7 6 1\n",
      "1 4\n",
      "1 3\n",
      "1 2\n",
      "4 6\n",
      "4 5\n",
      "2 7\n",
      "1 2 7 3 4 5 6\n",
      "1 2 3 4 7 5 6\n"
     ]
    }
   ],
   "source": [
    "from collections import deque\n",
    "\n",
    "node, line, start = list(map(int,input().split()))\n",
    "\n",
    "graphDict = {0:[]}\n",
    "visitDictd = {}\n",
    "visitDictb = {}\n",
    "order = []\n",
    "\n",
    "def dfs(graph, start, visitd):\n",
    "    visitd[start] = True\n",
    "    order.append(str(start))\n",
    "    try : \n",
    "        for i in graph[start]:\n",
    "            if visitd[i] == False:\n",
    "                try :\n",
    "                    dfs(graph, i, visitd)\n",
    "                except :\n",
    "                    continue\n",
    "    except :\n",
    "        return []\n",
    "    return order\n",
    "\n",
    "def bfs(graph, start, visitb):\n",
    "    visitb[0] = True\n",
    "    visitb[start] = True\n",
    "    order.append(str(start))\n",
    "    check = deque()\n",
    "    try : \n",
    "        while list(visitb.values()).count(True) != len(graphDict.keys()):\n",
    "            for i in graph[start]:\n",
    "                if visitb[i] == False:\n",
    "                    visitb[i] = True\n",
    "                    order.append(str(i))\n",
    "                    check.append(i)\n",
    "            if len(check) != 0:\n",
    "                start = check.popleft()\n",
    "    except :\n",
    "        return []\n",
    "    return order\n",
    "        \n",
    "\n",
    "#graphDict 만들기\n",
    "for i in range(line):\n",
    "    tmp = list(map(int,input().split()))\n",
    "    try :\n",
    "        graphDict[tmp[0]].append(tmp[1])\n",
    "    except KeyError:\n",
    "        graphDict[tmp[0]] = list()\n",
    "        graphDict[tmp[0]].append(tmp[1])\n",
    "    try :\n",
    "        graphDict[tmp[1]].append(tmp[0])\n",
    "    except KeyError:\n",
    "        graphDict[tmp[1]] = list()\n",
    "        graphDict[tmp[1]].append(tmp[0])\n",
    "        \n",
    "for i in graphDict.items() :\n",
    "    graphDict[i[0]] = sorted(i[1]) #정렬\n",
    "    \n",
    "for i in graphDict.keys():\n",
    "    visitDictd[i] = False\n",
    "    visitDictb[i] = False\n",
    "\n",
    "res_dfs = dfs(graphDict, start, visitDictd)\n",
    "print(\" \".join(res_dfs))\n",
    "\n",
    "order = []\n",
    "res_bfs = bfs(graphDict, start, visitDictb)\n",
    "print(\" \".join(res_bfs))"
   ]
  },
  {
   "cell_type": "code",
   "execution_count": null,
   "id": "ed956577",
   "metadata": {},
   "outputs": [],
   "source": []
  },
  {
   "cell_type": "code",
   "execution_count": null,
   "id": "e5b6b3d1",
   "metadata": {},
   "outputs": [],
   "source": []
  }
 ],
 "metadata": {
  "kernelspec": {
   "display_name": "Python 3",
   "language": "python",
   "name": "python3"
  },
  "language_info": {
   "codemirror_mode": {
    "name": "ipython",
    "version": 3
   },
   "file_extension": ".py",
   "mimetype": "text/x-python",
   "name": "python",
   "nbconvert_exporter": "python",
   "pygments_lexer": "ipython3",
   "version": "3.8.8"
  }
 },
 "nbformat": 4,
 "nbformat_minor": 5
}
