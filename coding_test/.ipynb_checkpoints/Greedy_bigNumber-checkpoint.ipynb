{
 "cells": [
  {
   "cell_type": "code",
   "execution_count": 1,
   "id": "6b8a64df",
   "metadata": {},
   "outputs": [],
   "source": [
    "def solution(number, k):\n",
    "    \n",
    "    answer = ''\n",
    "    num = []\n",
    "    bigList = {}\n",
    "\n",
    "    k = len(number)-k\n",
    "    \n",
    "    for i in number:\n",
    "        num.append(int(i))      \n",
    "#     123\n",
    "#     [1,2,3]\n",
    "    1235757\n",
    "    num.reverse()\n",
    "     \n",
    "    for _ in range(k):\n",
    "      print(max(num))\n",
    "      bigList[num.index(max(num))] = max(num)\n",
    "      num.remove(max(num))\n",
    "\n",
    "    print(bigList)\n",
    "    order = sorted(bigList.keys())\n",
    "    \n",
    "    for i in order :\n",
    "      answer += str(bigList[i])      \n",
    "  \n",
    "    return answer\n",
    "\n",
    "print(solution('1231234',3))"
   ]
  },
  {
   "cell_type": "code",
   "execution_count": null,
   "id": "2c2d374f",
   "metadata": {},
   "outputs": [],
   "source": [
    "#해결방법  : 큰 수 찾고 해당 수보다 인덱스 큰 애들중에서 그 다음 max찾기.\n",
    "#없으면 전체탐색.\n",
    "\n",
    "\n",
    "134573547\n",
    "\n",
    "4개짜리\n",
    "4: 7\n",
    "8: 7\n",
    "3: 5\n",
    "6: 5\n",
    "    \n",
    "5757\n",
    "\n",
    "7"
   ]
  }
 ],
 "metadata": {
  "kernelspec": {
   "display_name": "Python 3",
   "language": "python",
   "name": "python3"
  },
  "language_info": {
   "codemirror_mode": {
    "name": "ipython",
    "version": 3
   },
   "file_extension": ".py",
   "mimetype": "text/x-python",
   "name": "python",
   "nbconvert_exporter": "python",
   "pygments_lexer": "ipython3",
   "version": "3.8.8"
  }
 },
 "nbformat": 4,
 "nbformat_minor": 5
}
