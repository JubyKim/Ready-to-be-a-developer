{
 "cells": [
  {
   "cell_type": "code",
   "execution_count": null,
   "id": "ecadc1e4",
   "metadata": {},
   "outputs": [],
   "source": [
    "/*\n",
    "6 #계단의 수\n",
    "10\n",
    "20\n",
    "15\n",
    "25\n",
    "10\n",
    "20\n",
    "*/"
   ]
  },
  {
   "cell_type": "code",
   "execution_count": 6,
   "id": "6d70d03f",
   "metadata": {},
   "outputs": [
    {
     "name": "stdout",
     "output_type": "stream",
     "text": [
      "6\n",
      "10\n",
      "20\n",
      "15\n",
      "25\n",
      "10\n",
      "20\n",
      "[10, 20, 15, 25, 10, 20]\n"
     ]
    }
   ],
   "source": [
    "n = int(input())\n",
    "scores = []\n",
    "ans = 0\n",
    "for i in range(n):\n",
    "    scores.append(int(input()))\n",
    "    \n",
    "ans = scores[-1]\n",
    "for i in range(2,n):\n",
    "    maxVal = max(scores[-i], scores[-i-1])\n",
    "    ans += maxVal\n",
    "print(scores)"
   ]
  },
  {
   "cell_type": "code",
   "execution_count": 7,
   "id": "9853fcaf",
   "metadata": {},
   "outputs": [
    {
     "data": {
      "text/plain": [
       "100"
      ]
     },
     "execution_count": 7,
     "metadata": {},
     "output_type": "execute_result"
    }
   ],
   "source": [
    "sum(scores)"
   ]
  },
  {
   "cell_type": "code",
   "execution_count": 1,
   "id": "8b4266c2",
   "metadata": {},
   "outputs": [],
   "source": [
    "# 1 - 1 - 2\n",
    "# 2 - 1 - 1 "
   ]
  },
  {
   "cell_type": "code",
   "execution_count": null,
   "id": "f83bd90e",
   "metadata": {},
   "outputs": [],
   "source": []
  }
 ],
 "metadata": {
  "kernelspec": {
   "display_name": "Python 3",
   "language": "python",
   "name": "python3"
  },
  "language_info": {
   "codemirror_mode": {
    "name": "ipython",
    "version": 3
   },
   "file_extension": ".py",
   "mimetype": "text/x-python",
   "name": "python",
   "nbconvert_exporter": "python",
   "pygments_lexer": "ipython3",
   "version": "3.8.8"
  }
 },
 "nbformat": 4,
 "nbformat_minor": 5
}
