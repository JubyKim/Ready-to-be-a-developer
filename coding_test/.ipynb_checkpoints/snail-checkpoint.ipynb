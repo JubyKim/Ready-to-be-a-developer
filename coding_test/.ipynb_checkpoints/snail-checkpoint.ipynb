{
 "cells": [
  {
   "cell_type": "code",
   "execution_count": 1,
   "id": "16bc448c",
   "metadata": {},
   "outputs": [
    {
     "data": {
      "text/plain": [
       "35"
      ]
     },
     "execution_count": 1,
     "metadata": {},
     "output_type": "execute_result"
    }
   ],
   "source": [
    "7\n",
    "35"
   ]
  },
  {
   "cell_type": "code",
   "execution_count": 11,
   "id": "1949e2fc",
   "metadata": {},
   "outputs": [
    {
     "name": "stdout",
     "output_type": "stream",
     "text": [
      "7\n",
      "35\n"
     ]
    }
   ],
   "source": [
    "n = int(input())\n",
    "num = int(input())\n",
    "\n",
    "numList = [[0 for _ in range(n)]for _ in range(n)]\n",
    "repeatList = []\n",
    "\n",
    "for i in range(1,n):\n",
    "    if i == n-1 :\n",
    "        repeatList.append(i)\n",
    "        repeatList.append(i)\n",
    "        repeatList.append(i)\n",
    "    else :\n",
    "        repeatList.append(i)\n",
    "        repeatList.append(i)\n",
    "        \n",
    "        \n",
    "x,y = int(n/2), int(n/2)\n",
    "\n",
    "temp = 1\n",
    "dx = [0,1,0,-1]\n",
    "dy = [1,0,-1,0]\n",
    "\n",
    "\n",
    "while x!=0 and y!=0:\n",
    "    numList[x][y] = temp\n",
    "    for i in repeatList:\n",
    "        for j in range(i) :\n",
    "            numList\n"
   ]
  },
  {
   "cell_type": "code",
   "execution_count": 12,
   "id": "72637a18",
   "metadata": {},
   "outputs": [
    {
     "data": {
      "text/plain": [
       "[1, 1, 2, 2, 3, 3, 4, 4, 5, 5, 6, 6, 6]"
      ]
     },
     "execution_count": 12,
     "metadata": {},
     "output_type": "execute_result"
    }
   ],
   "source": [
    "repeatList"
   ]
  },
  {
   "cell_type": "code",
   "execution_count": null,
   "id": "37b784ee",
   "metadata": {},
   "outputs": [],
   "source": []
  }
 ],
 "metadata": {
  "kernelspec": {
   "display_name": "Python 3",
   "language": "python",
   "name": "python3"
  },
  "language_info": {
   "codemirror_mode": {
    "name": "ipython",
    "version": 3
   },
   "file_extension": ".py",
   "mimetype": "text/x-python",
   "name": "python",
   "nbconvert_exporter": "python",
   "pygments_lexer": "ipython3",
   "version": "3.8.8"
  }
 },
 "nbformat": 4,
 "nbformat_minor": 5
}
