{
 "cells": [
  {
   "cell_type": "code",
   "execution_count": 1,
   "id": "d515e84e",
   "metadata": {},
   "outputs": [
    {
     "name": "stdout",
     "output_type": "stream",
     "text": [
      "12768345"
     ]
    }
   ],
   "source": [
    "def dfs(graph, v, visited):\n",
    "    visited[v] = True\n",
    "    print(v, end='')\n",
    "    for i in graph[v]:\n",
    "        if not visited[i]:\n",
    "            dfs(graph, i , visited)\n",
    "            \n",
    "\n",
    "graph = [\n",
    "    [],\n",
    "    [2,3,8],\n",
    "    [1,7],\n",
    "    [1,4,5],\n",
    "    [3,5],\n",
    "    [3,4],\n",
    "    [7],\n",
    "    [2,6,8],\n",
    "    [1,7]\n",
    "]\n",
    "\n",
    "visited = [False] * 9\n",
    "dfs(graph, 1, visited)"
   ]
  },
  {
   "cell_type": "code",
   "execution_count": null,
   "id": "d8098c31",
   "metadata": {},
   "outputs": [],
   "source": []
  },
  {
   "cell_type": "code",
   "execution_count": null,
   "id": "945a5c19",
   "metadata": {},
   "outputs": [],
   "source": []
  }
 ],
 "metadata": {
  "kernelspec": {
   "display_name": "Python 3",
   "language": "python",
   "name": "python3"
  },
  "language_info": {
   "codemirror_mode": {
    "name": "ipython",
    "version": 3
   },
   "file_extension": ".py",
   "mimetype": "text/x-python",
   "name": "python",
   "nbconvert_exporter": "python",
   "pygments_lexer": "ipython3",
   "version": "3.8.8"
  }
 },
 "nbformat": 4,
 "nbformat_minor": 5
}
