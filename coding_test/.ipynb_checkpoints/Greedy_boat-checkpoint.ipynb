{
 "cells": [
  {
   "cell_type": "code",
   "execution_count": null,
   "id": "20cfb593",
   "metadata": {},
   "outputs": [],
   "source": [
    "def solution(people, limit):\n",
    "  answer = 0\n",
    "  people = sorted(people)\n",
    "  for _ in people[:]:\n",
    "    for idx, heavy in enumerate(people[::-1]):\n",
    "      if people[0] == limit :\n",
    "        answer += 1\n",
    "        break\n",
    "        \n",
    "      if idx == len(people)-1:\n",
    "        people.remove(heavy)\n",
    "        answer += 1\n",
    "        break\n",
    "        \n",
    "      if people[0] + heavy <= limit:\n",
    "        people.remove(people[0])\n",
    "        people.remove(heavy)\n",
    "        answer += 1\n",
    "        break\n",
    "  return answer"
   ]
  }
 ],
 "metadata": {
  "kernelspec": {
   "display_name": "Python 3",
   "language": "python",
   "name": "python3"
  },
  "language_info": {
   "codemirror_mode": {
    "name": "ipython",
    "version": 3
   },
   "file_extension": ".py",
   "mimetype": "text/x-python",
   "name": "python",
   "nbconvert_exporter": "python",
   "pygments_lexer": "ipython3",
   "version": "3.8.8"
  }
 },
 "nbformat": 4,
 "nbformat_minor": 5
}
