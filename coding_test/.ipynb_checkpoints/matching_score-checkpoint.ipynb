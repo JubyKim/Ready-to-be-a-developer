{
 "cells": [
  {
   "cell_type": "code",
   "execution_count": 268,
   "id": "679e8682",
   "metadata": {},
   "outputs": [],
   "source": [
    "def solution(word, pages):\n",
    "    answer = 0\n",
    "    weight = []\n",
    "    link = []\n",
    "    scores = []\n",
    "    myUrl = []\n",
    "    referDict = {id : [] for id in range(len(pages))}\n",
    "    word = word.lower()\n",
    "    \n",
    "    for page in pages :\n",
    "        myUrl.append(page.split('<meta property=\"og:url\" content=\"')[1].split('\"/>')[0])\n",
    "            \n",
    "    for index,page in enumerate(pages) :\n",
    "        page = page.lower()\n",
    "        weight.append(page.count(word)) #해당 Html에 포함되어있는 word의 개수\n",
    "        link.append(page.count(\"href\")) #연결되어있는 링크의 개수\n",
    "        \n",
    "#         print(\"------------------------------------\")\n",
    "#         print(\"this is page\", page.split('<a href=\"')[1:])\n",
    "\n",
    "        for index, url in enumerate(myUrl):\n",
    "#             print(\"------------------------\")\n",
    "#             print(page.split('<a href=\"')[1:])\n",
    "#             print(\"------------------------\")\n",
    "#             print(url)\n",
    "#             print(\"------------------------\")\n",
    "#             print(page.split('<a href=\"')[1:][0].count(url))\n",
    "#             print(\"************************\")\n",
    "                print(\"\".join(page.split('<a href=\"')[1:]))\n",
    "                if \"\".join(page.split('<a href=\"')[1:]).count(url) > 0 :#참조링크\n",
    "#                 print(\"this is index\", index)\n",
    "#                 \"\".join(page.split('<a href=\"')[1:])\n",
    "#                 print(\"this is page\", page.split('<a href=\"')[1:][0])\n",
    "                    print(\"------------------------------------------\")\n",
    "    \n",
    "#                 print(\"this is url\",url)\n",
    "                    referDict[index].append(index)\n",
    "    \n",
    "    \n",
    "    #score 계산\n",
    "    for index, l in enumerate(link):\n",
    "        link[index] = weight[index]/ l # 링크점수 계산\n",
    "    \n",
    "    #총점 계산하기\n",
    "    scores.append(weight[index] + link[index])\n",
    "        \n",
    "    print(referDict)\n",
    "#     print(link)\n",
    "#     print(weight)\n",
    "#     print(scores)\n",
    "    print(scores. index(max(scores)))\n",
    "    \n",
    "    \n",
    "    return answer"
   ]
  },
  {
   "cell_type": "code",
   "execution_count": 269,
   "id": "b7a6868f",
   "metadata": {},
   "outputs": [
    {
     "name": "stdout",
     "output_type": "stream",
     "text": [
      "https://b.com\"> link to b </a>\n",
      "</body>\n",
      "</html>\n",
      "https://b.com\"> link to b </a>\n",
      "</body>\n",
      "</html>\n",
      "------------------------------------------\n",
      "https://b.com\"> link to b </a>\n",
      "</body>\n",
      "</html>\n",
      "https://a.com\"> link to a </a>\n",
      "blind sed congue urna varius. suspendisse feugiat nisl ligula, quis malesuada felis hendrerit ut.\n",
      "https://c.com\"> link to c </a>\n",
      "</body>\n",
      "</html>\n",
      "------------------------------------------\n",
      "https://a.com\"> link to a </a>\n",
      "blind sed congue urna varius. suspendisse feugiat nisl ligula, quis malesuada felis hendrerit ut.\n",
      "https://c.com\"> link to c </a>\n",
      "</body>\n",
      "</html>\n",
      "https://a.com\"> link to a </a>\n",
      "blind sed congue urna varius. suspendisse feugiat nisl ligula, quis malesuada felis hendrerit ut.\n",
      "https://c.com\"> link to c </a>\n",
      "</body>\n",
      "</html>\n",
      "------------------------------------------\n",
      "https://a.com\"> link to a </a>\n",
      "</body>\n",
      "</html>\n",
      "------------------------------------------\n",
      "https://a.com\"> link to a </a>\n",
      "</body>\n",
      "</html>\n",
      "https://a.com\"> link to a </a>\n",
      "</body>\n",
      "</html>\n",
      "{0: [0, 0], 1: [1], 2: [2]}\n",
      "0\n"
     ]
    },
    {
     "data": {
      "text/plain": [
       "0"
      ]
     },
     "execution_count": 269,
     "metadata": {},
     "output_type": "execute_result"
    }
   ],
   "source": [
    "solution(\"blind\",[\"<html lang=\\\"ko\\\" xml:lang=\\\"ko\\\" xmlns=\\\"http://www.w3.org/1999/xhtml\\\">\\n<head>\\n  <meta charset=\\\"utf-8\\\">\\n  <meta property=\\\"og:url\\\" content=\\\"https://a.com\\\"/>\\n</head>  \\n<body>\\nBlind Lorem Blind ipsum dolor Blind test sit amet, consectetur adipiscing elit. \\n<a href=\\\"https://b.com\\\"> Link to b </a>\\n</body>\\n</html>\", \"<html lang=\\\"ko\\\" xml:lang=\\\"ko\\\" xmlns=\\\"http://www.w3.org/1999/xhtml\\\">\\n<head>\\n  <meta charset=\\\"utf-8\\\">\\n  <meta property=\\\"og:url\\\" content=\\\"https://b.com\\\"/>\\n</head>  \\n<body>\\nSuspendisse potenti. Vivamus venenatis tellus non turpis bibendum, \\n<a href=\\\"https://a.com\\\"> Link to a </a>\\nblind sed congue urna varius. Suspendisse feugiat nisl ligula, quis malesuada felis hendrerit ut.\\n<a href=\\\"https://c.com\\\"> Link to c </a>\\n</body>\\n</html>\", \"<html lang=\\\"ko\\\" xml:lang=\\\"ko\\\" xmlns=\\\"http://www.w3.org/1999/xhtml\\\">\\n<head>\\n  <meta charset=\\\"utf-8\\\">\\n  <meta property=\\\"og:url\\\" content=\\\"https://c.com\\\"/>\\n</head>  \\n<body>\\nUt condimentum urna at felis sodales rutrum. Sed dapibus cursus diam, non interdum nulla tempor nec. Phasellus rutrum enim at orci consectetu blind\\n<a href=\\\"https://a.com\\\"> Link to a </a>\\n</body>\\n</html>\"] )"
   ]
  },
  {
   "cell_type": "code",
   "execution_count": 135,
   "id": "88d695f9",
   "metadata": {},
   "outputs": [
    {
     "ename": "NameError",
     "evalue": "name 'weight' is not defined",
     "output_type": "error",
     "traceback": [
      "\u001b[0;31m---------------------------------------------------------------------------\u001b[0m",
      "\u001b[0;31mNameError\u001b[0m                                 Traceback (most recent call last)",
      "\u001b[0;32m<ipython-input-135-2779763037a2>\u001b[0m in \u001b[0;36m<module>\u001b[0;34m\u001b[0m\n\u001b[0;32m----> 1\u001b[0;31m \u001b[0mweight\u001b[0m\u001b[0;34m\u001b[0m\u001b[0;34m\u001b[0m\u001b[0m\n\u001b[0m",
      "\u001b[0;31mNameError\u001b[0m: name 'weight' is not defined"
     ]
    }
   ],
   "source": [
    "weight"
   ]
  },
  {
   "cell_type": "code",
   "execution_count": 177,
   "id": "42979c97",
   "metadata": {},
   "outputs": [],
   "source": [
    "pages = [\"<html lang=\\\"ko\\\" xml:lang=\\\"ko\\\" xmlns=\\\"http://www.w3.org/1999/xhtml\\\">\\n<head>\\n  <meta charset=\\\"utf-8\\\">\\n  <meta property=\\\"og:url\\\" content=\\\"https://a.com\\\"/>\\n</head>  \\n<body>\\nBlind Lorem Blind ipsum dolor Blind test sit amet, consectetur adipiscing elit. \\n<a href=\\\"https://b.com\\\"> Link to b </a>\\n</body>\\n</html>\", \"<html lang=\\\"ko\\\" xml:lang=\\\"ko\\\" xmlns=\\\"http://www.w3.org/1999/xhtml\\\">\\n<head>\\n  <meta charset=\\\"utf-8\\\">\\n  <meta property=\\\"og:url\\\" content=\\\"https://b.com\\\"/>\\n</head>  \\n<body>\\nSuspendisse potenti. Vivamus venenatis tellus non turpis bibendum, \\n<a href=\\\"https://a.com\\\"> Link to a </a>\\nblind sed congue urna varius. Suspendisse feugiat nisl ligula, quis malesuada felis hendrerit ut.\\n<a href=\\\"https://c.com\\\"> Link to c </a>\\n</body>\\n</html>\", \"<html lang=\\\"ko\\\" xml:lang=\\\"ko\\\" xmlns=\\\"http://www.w3.org/1999/xhtml\\\">\\n<head>\\n  <meta charset=\\\"utf-8\\\">\\n  <meta property=\\\"og:url\\\" content=\\\"https://c.com\\\"/>\\n</head>  \\n<body>\\nUt condimentum urna at felis sodales rutrum. Sed dapibus cursus diam, non interdum nulla tempor nec. Phasellus rutrum enim at orci consectetu blind\\n<a href=\\\"https://a.com\\\"> Link to a </a>\\n</body>\\n</html>\"]"
   ]
  },
  {
   "cell_type": "code",
   "execution_count": 183,
   "id": "355b3683",
   "metadata": {},
   "outputs": [
    {
     "name": "stdout",
     "output_type": "stream",
     "text": [
      "<html lang=\"ko\" xml:lang=\"ko\" xmlns=\"http://www.w3.org/1999/xhtml\">\n",
      "<head>\n",
      "  <meta charset=\"utf-8\">\n",
      "  <meta property=\"og:url\" content=\"https://a.com\"/>\n",
      "</head>  \n",
      "<body>\n",
      "Blind Lorem Blind ipsum dolor Blind test sit amet, consectetur adipiscing elit. \n",
      "<a href=\"https://b.com\"> Link to b </a>\n",
      "</body>\n",
      "</html\n",
      "<html lang=\"ko\" xml:lang=\"ko\" xmlns=\"http://www.w3.org/1999/xhtml\">\n",
      "<head>\n",
      "  <meta charset=\"utf-8\">\n",
      "  <meta property=\"og:url\" content=\"https://b.com\"/>\n",
      "</head>  \n",
      "<body>\n",
      "Suspendisse potenti. Vivamus venenatis tellus non turpis bibendum, \n",
      "<a href=\"https://a.com\"> Link to a </a>\n",
      "blind sed congue urna varius. Suspendisse feugiat nisl ligula, quis malesuada felis hendrerit ut.\n",
      "<a href=\"https://c.com\"> Link to c </a>\n",
      "</body>\n",
      "</html\n",
      "<html lang=\"ko\" xml:lang=\"ko\" xmlns=\"http://www.w3.org/1999/xhtml\">\n",
      "<head>\n",
      "  <meta charset=\"utf-8\">\n",
      "  <meta property=\"og:url\" content=\"https://c.com\"/>\n",
      "</head>  \n",
      "<body>\n",
      "Ut condimentum urna at felis sodales rutrum. Sed dapibus cursus diam, non interdum nulla tempor nec. Phasellus rutrum enim at orci consectetu blind\n",
      "<a href=\"https://a.com\"> Link to a </a>\n",
      "</body>\n",
      "</html\n"
     ]
    }
   ],
   "source": [
    "for page in pages :\n",
    "    print(page.rstrip('<body>'))"
   ]
  },
  {
   "cell_type": "code",
   "execution_count": 184,
   "id": "859e53e4",
   "metadata": {},
   "outputs": [
    {
     "name": "stdout",
     "output_type": "stream",
     "text": [
      "aaaaabbbbbb\n"
     ]
    },
    {
     "data": {
      "text/plain": [
       "''"
      ]
     },
     "execution_count": 184,
     "metadata": {},
     "output_type": "execute_result"
    }
   ],
   "source": [
    "string = \"aaaaabbbbbbaaaaa\"\n",
    "# 특정 문자 제거\n",
    "# 해당 문자가 나오지 않을 때까지 제거\n",
    "\n",
    "# 양쪽에서 a가 나오지 않을 때까지 제거\n",
    "# bbbbbb\n",
    "string.strip(\"a\")\n",
    "\n",
    "# 왼쪽에서 a가 나오지 않을 때까지 제거\n",
    "# bbbbbbaaaaa\n",
    "string.lstrip(\"a\")\n",
    "\n",
    "# 오른쪽에서 a가 나오지 않을 때까지 제거\n",
    "# aaaaabbbbbb\n",
    "print(string.rstrip(\"a\"))\n",
    "\n",
    "# 양쪽에서 a또는 b가 나오지 않을 때까지 제거\n",
    "# a 또는 b를 제거하기 때문에 공백이 출력된다.\n",
    "# 공백출력\n",
    "string.strip(\"ab\")"
   ]
  },
  {
   "cell_type": "code",
   "execution_count": 232,
   "id": "493859de",
   "metadata": {},
   "outputs": [
    {
     "name": "stdout",
     "output_type": "stream",
     "text": [
      "10\n"
     ]
    }
   ],
   "source": [
    "string = \"aaaaabbbbbbaaaaa\"\n",
    "print(string.count(\"a\"))"
   ]
  },
  {
   "cell_type": "code",
   "execution_count": 237,
   "id": "82554b18",
   "metadata": {},
   "outputs": [],
   "source": [
    "a = 'https://b.com\"> link to b </a>\\n</body>\\n</html>'"
   ]
  },
  {
   "cell_type": "code",
   "execution_count": 238,
   "id": "1d4c625b",
   "metadata": {},
   "outputs": [
    {
     "data": {
      "text/plain": [
       "1"
      ]
     },
     "execution_count": 238,
     "metadata": {},
     "output_type": "execute_result"
    }
   ],
   "source": [
    "a.count(\"https://b.com\")"
   ]
  },
  {
   "cell_type": "code",
   "execution_count": null,
   "id": "638f4a72",
   "metadata": {},
   "outputs": [],
   "source": []
  }
 ],
 "metadata": {
  "kernelspec": {
   "display_name": "Python 3",
   "language": "python",
   "name": "python3"
  },
  "language_info": {
   "codemirror_mode": {
    "name": "ipython",
    "version": 3
   },
   "file_extension": ".py",
   "mimetype": "text/x-python",
   "name": "python",
   "nbconvert_exporter": "python",
   "pygments_lexer": "ipython3",
   "version": "3.8.8"
  }
 },
 "nbformat": 4,
 "nbformat_minor": 5
}
