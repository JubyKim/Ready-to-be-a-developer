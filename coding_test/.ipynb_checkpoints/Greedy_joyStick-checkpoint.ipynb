{
 "cells": [
  {
   "cell_type": "code",
   "execution_count": 199,
   "id": "5132d9e1",
   "metadata": {},
   "outputs": [],
   "source": [
    "def solution(name):\n",
    "    answer = 0\n",
    "    moveCount = len(name)-1\n",
    "    differAscii = []\n",
    "    \n",
    "    for idx, char in enumerate(name):\n",
    "        differAscii.append(min([ord(char)-65, 90-ord(char)+1]))\n",
    "        # 좌, 우 조작 횟수의 최솟값 구하기\n",
    "        \n",
    "        last_idx = idx +1\n",
    "        while last_idx < len(name) and name[last_idx] == 'A':\n",
    "            last_idx += 1\n",
    "            moveCount = min(moveCount, idx * 2 + len(name) - last_idx)\n",
    "\n",
    "    answer = sum(differAscii) + moveCount\n",
    "    return answer"
   ]
  },
  {
   "cell_type": "code",
   "execution_count": 200,
   "id": "1e13945b",
   "metadata": {},
   "outputs": [
    {
     "data": {
      "text/plain": [
       "56"
      ]
     },
     "execution_count": 200,
     "metadata": {},
     "output_type": "execute_result"
    }
   ],
   "source": [
    "solution(\"JEROEN\")"
   ]
  },
  {
   "cell_type": "code",
   "execution_count": 201,
   "id": "24d7f05e",
   "metadata": {},
   "outputs": [
    {
     "data": {
      "text/plain": [
       "23"
      ]
     },
     "execution_count": 201,
     "metadata": {},
     "output_type": "execute_result"
    }
   ],
   "source": [
    "solution(\"JAN\")"
   ]
  },
  {
   "cell_type": "code",
   "execution_count": 174,
   "id": "7802c445",
   "metadata": {},
   "outputs": [
    {
     "name": "stdout",
     "output_type": "stream",
     "text": [
      "9\n",
      "16\n"
     ]
    }
   ],
   "source": [
    "print(ord('J')- ord('A'))\n",
    "print(ord('Z')- ord('J'))"
   ]
  },
  {
   "cell_type": "code",
   "execution_count": 139,
   "id": "0b53656f",
   "metadata": {},
   "outputs": [
    {
     "ename": "AttributeError",
     "evalue": "'list' object has no attribute 'find'",
     "output_type": "error",
     "traceback": [
      "\u001b[0;31m---------------------------------------------------------------------------\u001b[0m",
      "\u001b[0;31mAttributeError\u001b[0m                            Traceback (most recent call last)",
      "\u001b[0;32m<ipython-input-139-b1bb065c4284>\u001b[0m in \u001b[0;36m<module>\u001b[0;34m\u001b[0m\n\u001b[1;32m      1\u001b[0m \u001b[0mnn\u001b[0m \u001b[0;34m=\u001b[0m \u001b[0;34m[\u001b[0m\u001b[0;34m'A'\u001b[0m\u001b[0;34m,\u001b[0m\u001b[0;34m'B'\u001b[0m\u001b[0;34m,\u001b[0m\u001b[0;34m'A'\u001b[0m\u001b[0;34m]\u001b[0m\u001b[0;34m\u001b[0m\u001b[0;34m\u001b[0m\u001b[0m\n\u001b[0;32m----> 2\u001b[0;31m \u001b[0mnn\u001b[0m\u001b[0;34m.\u001b[0m\u001b[0mfind\u001b[0m\u001b[0;34m(\u001b[0m\u001b[0;34m'A'\u001b[0m\u001b[0;34m)\u001b[0m\u001b[0;34m\u001b[0m\u001b[0;34m\u001b[0m\u001b[0m\n\u001b[0m",
      "\u001b[0;31mAttributeError\u001b[0m: 'list' object has no attribute 'find'"
     ]
    }
   ],
   "source": [
    "nn = ['A','B','A']\n",
    "nn.find('A')"
   ]
  },
  {
   "cell_type": "code",
   "execution_count": 184,
   "id": "7a736239",
   "metadata": {},
   "outputs": [],
   "source": [
    "def solution(name):\n",
    "    answer = 0\n",
    "    min_left_right = len(name) # 왼쪽에서 오른쪽으로만 이동할 때 좌,우 조작 횟수\n",
    "    next_idx = 0\n",
    "    for idx, char in enumerate(name):\n",
    "        # 위, 아래 조작 횟수의 최솟값 구하기\n",
    "        answer += min(ord(char) - ord('A'), ord('Z') - ord(char) + 1)\n",
    "        \n",
    "        # 좌, 우 조작 횟수의 최솟값 구하기\n",
    "        next_idx = idx + 1\n",
    "        while next_idx < len(name) and name[next_idx] == 'A':\n",
    "            next_idx += 1 # 현재 위치 이후 연속된 A 다음의 문자를 가리킴\n",
    "        \n",
    "        # 한 방향으로만 이동하는 경우와, 오른쪽으로 이동했다가 왼쪽으로 이동하는 경우를 비교\n",
    "        min_left_right = min(min_left_right, idx + idx + len(name) - next_idx)\n",
    "    print(\"answer\", answer)\n",
    "    answer += min_left_right\n",
    "    return answer"
   ]
  },
  {
   "cell_type": "code",
   "execution_count": 185,
   "id": "52d5b7c0",
   "metadata": {},
   "outputs": [
    {
     "name": "stdout",
     "output_type": "stream",
     "text": [
      "answer 51\n",
      "56\n",
      "answer 22\n",
      "23\n"
     ]
    }
   ],
   "source": [
    "print(solution(\"JEROEN\"))\n",
    "print(solution(\"JAN\"))"
   ]
  },
  {
   "cell_type": "code",
   "execution_count": null,
   "id": "b51b2e09",
   "metadata": {},
   "outputs": [],
   "source": []
  }
 ],
 "metadata": {
  "kernelspec": {
   "display_name": "Python 3",
   "language": "python",
   "name": "python3"
  },
  "language_info": {
   "codemirror_mode": {
    "name": "ipython",
    "version": 3
   },
   "file_extension": ".py",
   "mimetype": "text/x-python",
   "name": "python",
   "nbconvert_exporter": "python",
   "pygments_lexer": "ipython3",
   "version": "3.8.8"
  }
 },
 "nbformat": 4,
 "nbformat_minor": 5
}
