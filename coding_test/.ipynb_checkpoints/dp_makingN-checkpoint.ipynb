{
 "cells": [
  {
   "cell_type": "code",
   "execution_count": 1,
   "id": "1a8f9eac",
   "metadata": {},
   "outputs": [],
   "source": [
    "def solution(N, number):\n",
    "    #number를 가지고 N을 만들어야함.\n",
    "    candiList = [0 for i in range(8)]\n",
    "    \n",
    "    for i in range(1,number):\n",
    "         candiList[i] = int(\"5\" * i)\n",
    "            for j in range(len(candiList[i-1])):\n",
    "                candiList[j].append(candiList[j])\n",
    "    answer = 0\n",
    "    return answer"
   ]
  },
  {
   "cell_type": "code",
   "execution_count": 6,
   "id": "0b277ab7",
   "metadata": {},
   "outputs": [
    {
     "name": "stdout",
     "output_type": "stream",
     "text": [
      "0\n"
     ]
    }
   ],
   "source": [
    "for a in range(0):\n",
    "    print(a)"
   ]
  },
  {
   "cell_type": "code",
   "execution_count": null,
   "id": "f1c33b94",
   "metadata": {},
   "outputs": [],
   "source": []
  }
 ],
 "metadata": {
  "kernelspec": {
   "display_name": "Python 3",
   "language": "python",
   "name": "python3"
  },
  "language_info": {
   "codemirror_mode": {
    "name": "ipython",
    "version": 3
   },
   "file_extension": ".py",
   "mimetype": "text/x-python",
   "name": "python",
   "nbconvert_exporter": "python",
   "pygments_lexer": "ipython3",
   "version": "3.8.8"
  }
 },
 "nbformat": 4,
 "nbformat_minor": 5
}
