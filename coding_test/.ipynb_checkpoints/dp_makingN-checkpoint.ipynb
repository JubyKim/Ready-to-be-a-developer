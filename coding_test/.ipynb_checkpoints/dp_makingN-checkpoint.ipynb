{
 "cells": [
  {
   "cell_type": "code",
   "execution_count": null,
   "id": "6778250d",
   "metadata": {},
   "outputs": [],
   "source": [
    "1.(9) 케이스가 안될 경우\n",
    "\n",
    "(5,5) 같은 경우입니다.\n",
    "\n",
    "2.(4,5) 케이스가 안될 경우\n",
    "\n",
    "너무 깊게 생각하였습니다.\n",
    "1121 -> 11(1+1)1 은 안됩니다.\n",
    "\n",
    "3.(5,8) 케이스가 안될 경우\n",
    "\n",
    "(4번 사용) = (3번사용)(사칙연산)(N) 경우의수만 추가 했을 확률이 높습니다.\n",
    "\n",
    "(4번 사용) = (1번사용)(사칙연산)(3번사용) + (2번사용)(사칙연산)(2번사용) + (3번사용)(사칙연산)(1번사용)\n",
    "의 경우의 수를 모두 합쳐줘야 합니다."
   ]
  },
  {
   "cell_type": "markdown",
   "id": "784216bd",
   "metadata": {},
   "source": [
    "# 1번째"
   ]
  },
  {
   "cell_type": "code",
   "execution_count": null,
   "id": "ec3bb9d4",
   "metadata": {},
   "outputs": [],
   "source": [
    "def solution(N, number):\n",
    "    #N 가지고 number를 만들어야함.\n",
    "    candiList = [[] for i in range(8)]\n",
    "    \n",
    "    for i in range(1,8):\n",
    "        candiList[i].append(int(\"5\" * i))\n",
    "        for j in candiList[i-1]:\n",
    "            \n",
    "            candiList[i].append(j+5)\n",
    "            candiList[i].append(j-5)\n",
    "            candiList[i].append(j*5)\n",
    "            candiList[i].append(j/5)\n",
    "        if number in candiList[i]:\n",
    "            return i\n",
    "    \n",
    "                \n",
    "    return -1"
   ]
  },
  {
   "cell_type": "code",
   "execution_count": 130,
   "id": "c03a449c",
   "metadata": {},
   "outputs": [],
   "source": [
    "candiList = [[] for i in range(8)]\n",
    "theList = [[] for i in range(8)]\n",
    "def oper(list1, list2,candiList,candiIdx):\n",
    "#     print(\"<<<<<<func start>>>>>>\")\n",
    "    for i in list1:\n",
    "        for j in list2:\n",
    "#             print(\"I am list1 : \", list1)\n",
    "#             print(\"I am list2 : \", list2)\n",
    "#             print(\"I am i : \", i)\n",
    "#             print(\"I am j : \", j)\n",
    "            candiList[candiIdx].append(i+j)\n",
    "            candiList[candiIdx].append(j-i)\n",
    "            candiList[candiIdx].append(i*j)\n",
    "            candiList[candiIdx].append(int(j/i))\n",
    "#             print(candiList)\n",
    "#             print(\"-------------\")\n",
    "            return candiList\n",
    "\n",
    "def solution(N, number):\n",
    "    #N 가지고 number를 만들어야함.\n",
    "    for i in range(1,8):\n",
    "        candiList[i].append(int(\"5\" * i))\n",
    "        s = int(i/2)+1\n",
    "#         print(\"---------\")\n",
    "#         print(\"number : \",i)\n",
    "        for idx in range(1,s):\n",
    "#             print(\"I am s : \",idx)\n",
    "#             print(\"I am cha s : \", i-idx)\n",
    "#             print(\"------------\")\n",
    "            oper(candiList[idx],candiList[i-idx],candiList,i)\n",
    "    if number in candiList[i]:\n",
    "        return i\n",
    "    \n",
    "    return -1\n"
   ]
  },
  {
   "cell_type": "code",
   "execution_count": 131,
   "id": "9a4f0b34",
   "metadata": {},
   "outputs": [
    {
     "data": {
      "text/plain": [
       "-1"
      ]
     },
     "execution_count": 131,
     "metadata": {},
     "output_type": "execute_result"
    }
   ],
   "source": [
    "solution(5,12)"
   ]
  },
  {
   "cell_type": "code",
   "execution_count": 132,
   "id": "f4afa8e5",
   "metadata": {},
   "outputs": [
    {
     "data": {
      "text/plain": [
       "-1"
      ]
     },
     "execution_count": 132,
     "metadata": {},
     "output_type": "execute_result"
    }
   ],
   "source": [
    "solution(2,11)"
   ]
  },
  {
   "cell_type": "code",
   "execution_count": 133,
   "id": "87c92f2e",
   "metadata": {},
   "outputs": [
    {
     "data": {
      "text/plain": [
       "-1"
      ]
     },
     "execution_count": 133,
     "metadata": {},
     "output_type": "execute_result"
    }
   ],
   "source": [
    "solution(5,8)"
   ]
  },
  {
   "cell_type": "code",
   "execution_count": 149,
   "id": "2d0fd77b",
   "metadata": {},
   "outputs": [],
   "source": [
    "candiList = [[] for _ in range(9)]\n",
    "def oper(list1,list2,idx):\n",
    "    for one in list1 :\n",
    "        for two in list2 :\n",
    "            candiList[idx].append(one + two)\n",
    "            candiList[idx].append(one - two)\n",
    "            candiList[idx].append(two - one)\n",
    "            candiList[idx].append(one * two)\n",
    "            candiList[idx].append(int(one / two))\n",
    "            candiList[idx].append(int(two / one))\n",
    "    return candiList\n",
    "            \n",
    "            \n",
    "def solution(N, number): #N 가지고 number를 만들어야함.\n",
    "    for i in range(1,9):\n",
    "        s = int(i/2) + 1\n",
    "        candiList[i].append(int(\"5\"*i))\n",
    "        oper(candiList[s], candiList[i-s],i)\n",
    "    return candiList"
   ]
  },
  {
   "cell_type": "code",
   "execution_count": 150,
   "id": "4341a4ba",
   "metadata": {},
   "outputs": [
    {
     "ename": "ZeroDivisionError",
     "evalue": "division by zero",
     "output_type": "error",
     "traceback": [
      "\u001b[0;31m---------------------------------------------------------------------------\u001b[0m",
      "\u001b[0;31mZeroDivisionError\u001b[0m                         Traceback (most recent call last)",
      "\u001b[0;32m<ipython-input-150-96a29d1189bb>\u001b[0m in \u001b[0;36m<module>\u001b[0;34m\u001b[0m\n\u001b[0;32m----> 1\u001b[0;31m \u001b[0msolution\u001b[0m\u001b[0;34m(\u001b[0m\u001b[0;36m5\u001b[0m\u001b[0;34m,\u001b[0m\u001b[0;36m12\u001b[0m\u001b[0;34m)\u001b[0m\u001b[0;34m\u001b[0m\u001b[0;34m\u001b[0m\u001b[0m\n\u001b[0m",
      "\u001b[0;32m<ipython-input-149-3c9d47c35104>\u001b[0m in \u001b[0;36msolution\u001b[0;34m(N, number)\u001b[0m\n\u001b[1;32m     16\u001b[0m         \u001b[0ms\u001b[0m \u001b[0;34m=\u001b[0m \u001b[0mint\u001b[0m\u001b[0;34m(\u001b[0m\u001b[0mi\u001b[0m\u001b[0;34m/\u001b[0m\u001b[0;36m2\u001b[0m\u001b[0;34m)\u001b[0m \u001b[0;34m+\u001b[0m \u001b[0;36m1\u001b[0m\u001b[0;34m\u001b[0m\u001b[0;34m\u001b[0m\u001b[0m\n\u001b[1;32m     17\u001b[0m         \u001b[0mcandiList\u001b[0m\u001b[0;34m[\u001b[0m\u001b[0mi\u001b[0m\u001b[0;34m]\u001b[0m\u001b[0;34m.\u001b[0m\u001b[0mappend\u001b[0m\u001b[0;34m(\u001b[0m\u001b[0mint\u001b[0m\u001b[0;34m(\u001b[0m\u001b[0;34m\"5\"\u001b[0m\u001b[0;34m*\u001b[0m\u001b[0mi\u001b[0m\u001b[0;34m)\u001b[0m\u001b[0;34m)\u001b[0m\u001b[0;34m\u001b[0m\u001b[0;34m\u001b[0m\u001b[0m\n\u001b[0;32m---> 18\u001b[0;31m         \u001b[0moper\u001b[0m\u001b[0;34m(\u001b[0m\u001b[0mcandiList\u001b[0m\u001b[0;34m[\u001b[0m\u001b[0ms\u001b[0m\u001b[0;34m]\u001b[0m\u001b[0;34m,\u001b[0m \u001b[0mcandiList\u001b[0m\u001b[0;34m[\u001b[0m\u001b[0mi\u001b[0m\u001b[0;34m-\u001b[0m\u001b[0ms\u001b[0m\u001b[0;34m]\u001b[0m\u001b[0;34m,\u001b[0m\u001b[0mi\u001b[0m\u001b[0;34m)\u001b[0m\u001b[0;34m\u001b[0m\u001b[0;34m\u001b[0m\u001b[0m\n\u001b[0m\u001b[1;32m     19\u001b[0m     \u001b[0;32mreturn\u001b[0m \u001b[0mcandiList\u001b[0m\u001b[0;34m\u001b[0m\u001b[0;34m\u001b[0m\u001b[0m\n",
      "\u001b[0;32m<ipython-input-149-3c9d47c35104>\u001b[0m in \u001b[0;36moper\u001b[0;34m(list1, list2, idx)\u001b[0m\n\u001b[1;32m      8\u001b[0m             \u001b[0mcandiList\u001b[0m\u001b[0;34m[\u001b[0m\u001b[0midx\u001b[0m\u001b[0;34m]\u001b[0m\u001b[0;34m.\u001b[0m\u001b[0mappend\u001b[0m\u001b[0;34m(\u001b[0m\u001b[0mone\u001b[0m \u001b[0;34m*\u001b[0m \u001b[0mtwo\u001b[0m\u001b[0;34m)\u001b[0m\u001b[0;34m\u001b[0m\u001b[0;34m\u001b[0m\u001b[0m\n\u001b[1;32m      9\u001b[0m             \u001b[0mcandiList\u001b[0m\u001b[0;34m[\u001b[0m\u001b[0midx\u001b[0m\u001b[0;34m]\u001b[0m\u001b[0;34m.\u001b[0m\u001b[0mappend\u001b[0m\u001b[0;34m(\u001b[0m\u001b[0mint\u001b[0m\u001b[0;34m(\u001b[0m\u001b[0mone\u001b[0m \u001b[0;34m/\u001b[0m \u001b[0mtwo\u001b[0m\u001b[0;34m)\u001b[0m\u001b[0;34m)\u001b[0m\u001b[0;34m\u001b[0m\u001b[0;34m\u001b[0m\u001b[0m\n\u001b[0;32m---> 10\u001b[0;31m             \u001b[0mcandiList\u001b[0m\u001b[0;34m[\u001b[0m\u001b[0midx\u001b[0m\u001b[0;34m]\u001b[0m\u001b[0;34m.\u001b[0m\u001b[0mappend\u001b[0m\u001b[0;34m(\u001b[0m\u001b[0mint\u001b[0m\u001b[0;34m(\u001b[0m\u001b[0mtwo\u001b[0m \u001b[0;34m/\u001b[0m \u001b[0mone\u001b[0m\u001b[0;34m)\u001b[0m\u001b[0;34m)\u001b[0m\u001b[0;34m\u001b[0m\u001b[0;34m\u001b[0m\u001b[0m\n\u001b[0m\u001b[1;32m     11\u001b[0m     \u001b[0;32mreturn\u001b[0m \u001b[0mcandiList\u001b[0m\u001b[0;34m\u001b[0m\u001b[0;34m\u001b[0m\u001b[0m\n\u001b[1;32m     12\u001b[0m \u001b[0;34m\u001b[0m\u001b[0m\n",
      "\u001b[0;31mZeroDivisionError\u001b[0m: division by zero"
     ]
    }
   ],
   "source": [
    "solution(5,12)"
   ]
  },
  {
   "cell_type": "code",
   "execution_count": null,
   "id": "ebf5c35a",
   "metadata": {},
   "outputs": [],
   "source": []
  },
  {
   "cell_type": "code",
   "execution_count": null,
   "id": "1e685b6a",
   "metadata": {},
   "outputs": [],
   "source": []
  }
 ],
 "metadata": {
  "kernelspec": {
   "display_name": "Python 3",
   "language": "python",
   "name": "python3"
  },
  "language_info": {
   "codemirror_mode": {
    "name": "ipython",
    "version": 3
   },
   "file_extension": ".py",
   "mimetype": "text/x-python",
   "name": "python",
   "nbconvert_exporter": "python",
   "pygments_lexer": "ipython3",
   "version": "3.8.8"
  }
 },
 "nbformat": 4,
 "nbformat_minor": 5
}
