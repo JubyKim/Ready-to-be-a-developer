{
 "cells": [
  {
   "cell_type": "code",
   "execution_count": 70,
   "id": "19f72627",
   "metadata": {},
   "outputs": [
    {
     "name": "stdout",
     "output_type": "stream",
     "text": [
      "4 2\n",
      "1 1 1 1\n",
      "3\n"
     ]
    }
   ],
   "source": [
    "n, s = list(map(int,input().split()))\n",
    "numbers = list(map(int,input().split()))\n",
    "l, r = 0, 0\n",
    "res = numbers[0]\n",
    "cnt = 0\n",
    "\n",
    "while l >= r and l < n:\n",
    "    \n",
    "    res = sum(numbers[r:l+1])\n",
    "    \n",
    "    if res < s :\n",
    "        l +=1\n",
    "    elif res > s:\n",
    "        r +=1\n",
    "        l = r\n",
    "    elif res == s :\n",
    "        cnt +=1 \n",
    "        r +=1\n",
    "        l = r\n",
    "print(cnt)\n",
    "\n",
    "# 5 5 \n",
    "# 4 5 2 3 6"
   ]
  },
  {
   "cell_type": "code",
   "execution_count": null,
   "id": "3ea31f51",
   "metadata": {},
   "outputs": [],
   "source": []
  }
 ],
 "metadata": {
  "kernelspec": {
   "display_name": "Python 3",
   "language": "python",
   "name": "python3"
  },
  "language_info": {
   "codemirror_mode": {
    "name": "ipython",
    "version": 3
   },
   "file_extension": ".py",
   "mimetype": "text/x-python",
   "name": "python",
   "nbconvert_exporter": "python",
   "pygments_lexer": "ipython3",
   "version": "3.8.8"
  }
 },
 "nbformat": 4,
 "nbformat_minor": 5
}
