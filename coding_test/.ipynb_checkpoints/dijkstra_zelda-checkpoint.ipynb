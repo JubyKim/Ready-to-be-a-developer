{
 "cells": [
  {
   "cell_type": "code",
   "execution_count": 44,
   "id": "c082f50a",
   "metadata": {},
   "outputs": [
    {
     "ename": "ValueError",
     "evalue": "invalid literal for int() with base 10: ''",
     "output_type": "error",
     "traceback": [
      "\u001b[0;31m---------------------------------------------------------------------------\u001b[0m",
      "\u001b[0;31mValueError\u001b[0m                                Traceback (most recent call last)",
      "\u001b[0;32m<ipython-input-44-f664b3d459e3>\u001b[0m in \u001b[0;36m<module>\u001b[0;34m\u001b[0m\n\u001b[1;32m     16\u001b[0m     \u001b[0mcount\u001b[0m \u001b[0;34m+=\u001b[0m\u001b[0;36m1\u001b[0m\u001b[0;34m\u001b[0m\u001b[0;34m\u001b[0m\u001b[0m\n\u001b[1;32m     17\u001b[0m     \u001b[0mrupee\u001b[0m \u001b[0;34m=\u001b[0m \u001b[0;34m[\u001b[0m\u001b[0;34m]\u001b[0m\u001b[0;34m\u001b[0m\u001b[0;34m\u001b[0m\u001b[0m\n\u001b[0;32m---> 18\u001b[0;31m     \u001b[0mn\u001b[0m \u001b[0;34m=\u001b[0m \u001b[0mint\u001b[0m\u001b[0;34m(\u001b[0m\u001b[0minput\u001b[0m\u001b[0;34m(\u001b[0m\u001b[0;34m)\u001b[0m\u001b[0;34m)\u001b[0m\u001b[0;34m\u001b[0m\u001b[0;34m\u001b[0m\u001b[0m\n\u001b[0m\u001b[1;32m     19\u001b[0m     \u001b[0;32mif\u001b[0m \u001b[0mn\u001b[0m \u001b[0;34m==\u001b[0m \u001b[0;36m0\u001b[0m \u001b[0;34m:\u001b[0m\u001b[0;34m\u001b[0m\u001b[0;34m\u001b[0m\u001b[0m\n\u001b[1;32m     20\u001b[0m         \u001b[0;32mbreak\u001b[0m\u001b[0;34m\u001b[0m\u001b[0;34m\u001b[0m\u001b[0m\n",
      "\u001b[0;31mValueError\u001b[0m: invalid literal for int() with base 10: ''"
     ]
    }
   ],
   "source": [
    "n = 1\n",
    "count = 0\n",
    "\n",
    "def findMinimumCost(rupeeList, n):\n",
    "    #가로 세로는 그냥 더하기\n",
    "    for i in range(n-1):\n",
    "        rupeeList[0][i+1] += rupeeList[0][i]\n",
    "        rupeeList[i+1][0] += rupeeList[i][0]\n",
    "        \n",
    "    for i in range(1,n):\n",
    "        for j in range(1,n):\n",
    "            rupeeList[i][j] += min(rupeeList[i-1][j],rupeeList[i][j-1])\n",
    "    return rupeeList[n-1][n-1]\n",
    "    \n",
    "while n != 0:\n",
    "    count +=1\n",
    "    rupee = []\n",
    "    n = int(input())\n",
    "    if n == 0 :\n",
    "        break\n",
    "    for i in range(n):\n",
    "        rupee.append(list(map(int,input().split())))\n",
    "    print(\"this is rupee : \", rupee)\n",
    "    minCost = findMinimumCost(rupee,n)\n",
    "    print(f\"Problem {count}: {minCost}\")\n"
   ]
  },
  {
   "cell_type": "code",
   "execution_count": 42,
   "id": "39d15928",
   "metadata": {},
   "outputs": [],
   "source": [
    "def makeZeldaGraph(zeldaList,n) :\n",
    "    graph = {(i,j) : {}  for i in range(n) for j in range(n)}\n",
    "    for i in range(n): \n",
    "        for j in range(n):\n",
    "            if n > i-1 >= 0:\n",
    "                graph[(i,j)].add({(i-1,j):zeldaList[i-1,j]})\n",
    "            if n > j-1 >= 0 :\n",
    "                graph[(i,j)].add({(i,j-1):zeldaList[i,j-1]})\n",
    "            if n > i+1 >= 0 :\n",
    "                graph[(i,j)].add({(i+1,j):zeldaList[i+1,j]})\n",
    "            if n > j+1 >= 0 :\n",
    "                graph[(i,j)].add({(i,j+1):zeldaList[i,j]})\n",
    "    return graph\n",
    "            "
   ]
  },
  {
   "cell_type": "code",
   "execution_count": 37,
   "id": "574c37c2",
   "metadata": {},
   "outputs": [],
   "source": [
    "dic = {(0,0) : {(0,1): 7, (1,0):2}}"
   ]
  },
  {
   "cell_type": "code",
   "execution_count": 41,
   "id": "39ec812f",
   "metadata": {},
   "outputs": [
    {
     "ename": "NameError",
     "evalue": "name 'graph' is not defined",
     "output_type": "error",
     "traceback": [
      "\u001b[0;31m---------------------------------------------------------------------------\u001b[0m",
      "\u001b[0;31mNameError\u001b[0m                                 Traceback (most recent call last)",
      "\u001b[0;32m<ipython-input-41-e7bca803254d>\u001b[0m in \u001b[0;36m<module>\u001b[0;34m\u001b[0m\n\u001b[0;32m----> 1\u001b[0;31m \u001b[0mgraph\u001b[0m\u001b[0;34m\u001b[0m\u001b[0;34m\u001b[0m\u001b[0m\n\u001b[0m",
      "\u001b[0;31mNameError\u001b[0m: name 'graph' is not defined"
     ]
    }
   ],
   "source": [
    "graph"
   ]
  },
  {
   "cell_type": "code",
   "execution_count": 43,
   "id": "8658ee84",
   "metadata": {},
   "outputs": [
    {
     "name": "stdout",
     "output_type": "stream",
     "text": [
      "{(0, 0): {}, (0, 1): {}, (0, 2): {}, (1, 0): {}, (1, 1): {}, (1, 2): {}, (2, 0): {}, (2, 1): {}, (2, 2): {}}\n"
     ]
    }
   ],
   "source": [
    "\n",
    "\n",
    "makeZeldaGraph(3)"
   ]
  },
  {
   "cell_type": "code",
   "execution_count": null,
   "id": "848740dd",
   "metadata": {},
   "outputs": [],
   "source": []
  }
 ],
 "metadata": {
  "kernelspec": {
   "display_name": "Python 3",
   "language": "python",
   "name": "python3"
  },
  "language_info": {
   "codemirror_mode": {
    "name": "ipython",
    "version": 3
   },
   "file_extension": ".py",
   "mimetype": "text/x-python",
   "name": "python",
   "nbconvert_exporter": "python",
   "pygments_lexer": "ipython3",
   "version": "3.8.8"
  }
 },
 "nbformat": 4,
 "nbformat_minor": 5
}
