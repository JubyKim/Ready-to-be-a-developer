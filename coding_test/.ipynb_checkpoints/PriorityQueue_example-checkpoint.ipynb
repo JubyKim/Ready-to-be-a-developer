{
 "cells": [
  {
   "cell_type": "code",
   "execution_count": 3,
   "id": "1ae4486e",
   "metadata": {},
   "outputs": [
    {
     "name": "stdout",
     "output_type": "stream",
     "text": [
      "Banana\n",
      "Cherry\n",
      "Apple\n"
     ]
    }
   ],
   "source": [
    "#우선순위큐를 사용해서 구현\n",
    "from queue import PriorityQueue\n",
    "\n",
    "que = PriorityQueue()\n",
    "\n",
    "que.put((3, 'Apple')) #(우선순위, item)\n",
    "que.put((1, 'Banana'))\n",
    "que.put((2, 'Cherry'))\n",
    "\n",
    "print(que.get()[1])  # Banana\n",
    "print(que.get()[1])  # Cherry\n",
    "print(que.get()[1])  # Apple\n",
    "\n"
   ]
  },
  {
   "cell_type": "code",
   "execution_count": 7,
   "id": "a1d23801",
   "metadata": {},
   "outputs": [
    {
     "data": {
      "text/plain": [
       "7"
      ]
     },
     "execution_count": 7,
     "metadata": {},
     "output_type": "execute_result"
    }
   ],
   "source": [
    "#heap을 통해서 구현\n",
    "import heapq\n",
    "\n",
    "hq = []\n",
    "heapq.heappush(hq, 4)\n",
    "heapq.heappush(hq, 1)\n",
    "heapq.heappush(hq, 3)\n",
    "heapq.heappush(hq, 7)\n",
    "\n",
    "heapq.heappop(hq)\n",
    "heapq.heappop(hq)\n",
    "heapq.heappop(hq)\n",
    "heapq.heappop(hq)"
   ]
  },
  {
   "cell_type": "code",
   "execution_count": 8,
   "id": "085224dc",
   "metadata": {},
   "outputs": [
    {
     "name": "stdout",
     "output_type": "stream",
     "text": [
      "[4, 3, 1, 2, 5, 6]\n",
      "[1, 2, 4, 3, 5, 6]\n"
     ]
    }
   ],
   "source": [
    "x = [4, 3, 1, 2, 5, 6]\n",
    "heapq.heapify(x)\n",
    "print(x) # [1, 2, 4, 3, 5, 6]"
   ]
  },
  {
   "cell_type": "code",
   "execution_count": 10,
   "id": "3252c018",
   "metadata": {},
   "outputs": [
    {
     "name": "stdout",
     "output_type": "stream",
     "text": [
      "1\n",
      "3\n",
      "4\n",
      "5\n",
      "7\n",
      "8\n"
     ]
    }
   ],
   "source": [
    "#maxHeap\n",
    "import heapq\n",
    "\n",
    "nums = [4, 1, 7, 3, 8, 5]\n",
    "heap = []\n",
    "\n",
    "for num in nums:\n",
    "  heapq.heappush(heap, (num, num))  # (우선 순위, 값)\n",
    "\n",
    "while heap:\n",
    "  print(heapq.heappop(heap)[1])  # index 1\n"
   ]
  },
  {
   "cell_type": "code",
   "execution_count": null,
   "id": "71330266",
   "metadata": {},
   "outputs": [],
   "source": []
  }
 ],
 "metadata": {
  "kernelspec": {
   "display_name": "Python 3",
   "language": "python",
   "name": "python3"
  },
  "language_info": {
   "codemirror_mode": {
    "name": "ipython",
    "version": 3
   },
   "file_extension": ".py",
   "mimetype": "text/x-python",
   "name": "python",
   "nbconvert_exporter": "python",
   "pygments_lexer": "ipython3",
   "version": "3.8.8"
  }
 },
 "nbformat": 4,
 "nbformat_minor": 5
}
