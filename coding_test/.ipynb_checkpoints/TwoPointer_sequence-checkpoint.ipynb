{
 "cells": [
  {
   "cell_type": "code",
   "execution_count": 24,
   "id": "ba5998e0",
   "metadata": {},
   "outputs": [
    {
     "name": "stdout",
     "output_type": "stream",
     "text": [
      "10 5\n",
      "3 -2 -4 -9 0 3 7 13 8 -3\n",
      "3\n",
      "-2\n",
      "-4\n",
      "-9\n",
      "0\n"
     ]
    }
   ],
   "source": [
    "days, std = list(map(int,input().split()))\n",
    "tmps = list(map(int,input().split()))\n",
    "maxVal = -999\n",
    "i = 0\n",
    "while i != len(tmps) - std:\n",
    "    maxVal = max(maxVal,sum(tmps[i:i+std]))\n",
    "    i+=1\n",
    "print(maxVal)"
   ]
  },
  {
   "cell_type": "code",
   "execution_count": 25,
   "id": "1de163b9",
   "metadata": {},
   "outputs": [
    {
     "data": {
      "text/plain": [
       "31"
      ]
     },
     "execution_count": 25,
     "metadata": {},
     "output_type": "execute_result"
    }
   ],
   "source": [
    "maxVal"
   ]
  },
  {
   "cell_type": "code",
   "execution_count": null,
   "id": "824884b1",
   "metadata": {},
   "outputs": [],
   "source": []
  }
 ],
 "metadata": {
  "kernelspec": {
   "display_name": "Python 3",
   "language": "python",
   "name": "python3"
  },
  "language_info": {
   "codemirror_mode": {
    "name": "ipython",
    "version": 3
   },
   "file_extension": ".py",
   "mimetype": "text/x-python",
   "name": "python",
   "nbconvert_exporter": "python",
   "pygments_lexer": "ipython3",
   "version": "3.8.8"
  }
 },
 "nbformat": 4,
 "nbformat_minor": 5
}
