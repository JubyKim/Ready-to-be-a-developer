{
 "cells": [
  {
   "cell_type": "code",
   "execution_count": 45,
   "id": "6aa59869",
   "metadata": {},
   "outputs": [
    {
     "name": "stdout",
     "output_type": "stream",
     "text": [
      "10 2\n",
      "3 -2 -4 -9 0 3 7 13 8 -3\n",
      "21\n"
     ]
    }
   ],
   "source": [
    "days, std = list(map(int,input().split()))\n",
    "temps = list(map(int,input().split()))\n",
    "maxVal = -999\n",
    "i = 0\n",
    "tmp = sum(temps[i:std])\n",
    "\n",
    "for i in range(1,len(temps)-std):\n",
    "    maxVal = max(maxVal,sum(temps[i:std+i]))\n",
    "\n",
    "print(maxVal)"
   ]
  },
  {
   "cell_type": "code",
   "execution_count": 30,
   "id": "6d0a6001",
   "metadata": {},
   "outputs": [
    {
     "data": {
      "text/plain": [
       "1"
      ]
     },
     "execution_count": 30,
     "metadata": {},
     "output_type": "execute_result"
    }
   ],
   "source": [
    "range(1,len(temps) - std)[0]"
   ]
  },
  {
   "cell_type": "code",
   "execution_count": 123,
   "id": "4183c63f",
   "metadata": {},
   "outputs": [
    {
     "name": "stdout",
     "output_type": "stream",
     "text": [
      "1 1\n",
      "1\n",
      "-99999\n"
     ]
    }
   ],
   "source": [
    "days, std = list(map(int,input().split()))\n",
    "temps = list(map(int,input().split()))\n",
    "maxVal = -99999\n",
    "i = 0\n",
    "tmp = sum(temps[0:std])\n",
    "# maxVal = max(maxVal,tmp)\n",
    "\n",
    "for i in range(days-std):\n",
    "    print(\"tmp\",tmp)\n",
    "    \n",
    "    maxVal = max(maxVal,tmp)\n",
    "    tmp = tmp - temps[i-1] + temps[std+i]\n",
    "\n",
    "#     print(\"temps[i-1]\", temps[i])\n",
    "#     print(\"temps[i+1]\", temps[std+i])\n",
    "    \n",
    "    \n",
    "\n",
    "print(maxVal)"
   ]
  },
  {
   "cell_type": "code",
   "execution_count": null,
   "id": "35a6e262",
   "metadata": {},
   "outputs": [],
   "source": [
    "3 1\n",
    "-1 -2 -3\n",
    "\n",
    "5 2\n",
    "100 -1 1 -100 -100\n",
    "\n",
    "10 2\n",
    "3 -2 -4 -9 0 3 7 13 8 -3\n"
   ]
  },
  {
   "cell_type": "code",
   "execution_count": 137,
   "id": "380d8213",
   "metadata": {},
   "outputs": [
    {
     "name": "stdout",
     "output_type": "stream",
     "text": [
      "1 1\n",
      "1\n"
     ]
    },
    {
     "ename": "TypeError",
     "evalue": "'>' not supported between instances of 'int' and 'type'",
     "output_type": "error",
     "traceback": [
      "\u001b[0;31m---------------------------------------------------------------------------\u001b[0m",
      "\u001b[0;31mTypeError\u001b[0m                                 Traceback (most recent call last)",
      "\u001b[0;32m<ipython-input-137-62e2311c6d11>\u001b[0m in \u001b[0;36m<module>\u001b[0;34m\u001b[0m\n\u001b[1;32m      3\u001b[0m \u001b[0mi\u001b[0m \u001b[0;34m=\u001b[0m \u001b[0;36m0\u001b[0m\u001b[0;34m\u001b[0m\u001b[0;34m\u001b[0m\u001b[0m\n\u001b[1;32m      4\u001b[0m \u001b[0mtmp\u001b[0m \u001b[0;34m=\u001b[0m \u001b[0msum\u001b[0m\u001b[0;34m(\u001b[0m\u001b[0mtemps\u001b[0m\u001b[0;34m[\u001b[0m\u001b[0;36m0\u001b[0m\u001b[0;34m:\u001b[0m\u001b[0mstd\u001b[0m\u001b[0;34m]\u001b[0m\u001b[0;34m)\u001b[0m\u001b[0;34m\u001b[0m\u001b[0;34m\u001b[0m\u001b[0m\n\u001b[0;32m----> 5\u001b[0;31m \u001b[0mmaxVal\u001b[0m \u001b[0;34m=\u001b[0m \u001b[0mmax\u001b[0m\u001b[0;34m(\u001b[0m\u001b[0mmaxVal\u001b[0m\u001b[0;34m,\u001b[0m\u001b[0mtmp\u001b[0m\u001b[0;34m)\u001b[0m\u001b[0;34m\u001b[0m\u001b[0;34m\u001b[0m\u001b[0m\n\u001b[0m\u001b[1;32m      6\u001b[0m \u001b[0;34m\u001b[0m\u001b[0m\n\u001b[1;32m      7\u001b[0m \u001b[0;32mfor\u001b[0m \u001b[0mi\u001b[0m \u001b[0;32min\u001b[0m \u001b[0mrange\u001b[0m\u001b[0;34m(\u001b[0m\u001b[0mdays\u001b[0m\u001b[0;34m-\u001b[0m\u001b[0mstd\u001b[0m\u001b[0;34m)\u001b[0m\u001b[0;34m:\u001b[0m\u001b[0;34m\u001b[0m\u001b[0;34m\u001b[0m\u001b[0m\n",
      "\u001b[0;31mTypeError\u001b[0m: '>' not supported between instances of 'int' and 'type'"
     ]
    }
   ],
   "source": [
    "days, std = list(map(int,input().split()))\n",
    "temps = list(map(int,input().split()))\n",
    "i = 0\n",
    "tmp = sum(temps[0:std])\n",
    "maxVal = tmp\n",
    "\n",
    "for i in range(days-std):\n",
    "    tmp = tmp - temps[i] + temps[std+i]\n",
    "    maxVal = max(maxVal,tmp)\n",
    "print(maxVal)"
   ]
  },
  {
   "cell_type": "code",
   "execution_count": null,
   "id": "e26b1658",
   "metadata": {},
   "outputs": [],
   "source": []
  }
 ],
 "metadata": {
  "kernelspec": {
   "display_name": "Python 3",
   "language": "python",
   "name": "python3"
  },
  "language_info": {
   "codemirror_mode": {
    "name": "ipython",
    "version": 3
   },
   "file_extension": ".py",
   "mimetype": "text/x-python",
   "name": "python",
   "nbconvert_exporter": "python",
   "pygments_lexer": "ipython3",
   "version": "3.8.8"
  }
 },
 "nbformat": 4,
 "nbformat_minor": 5
}
