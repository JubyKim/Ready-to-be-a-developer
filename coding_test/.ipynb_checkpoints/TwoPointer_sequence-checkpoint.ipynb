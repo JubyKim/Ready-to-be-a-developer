{
 "cells": [
  {
   "cell_type": "code",
   "execution_count": 45,
   "id": "6aa59869",
   "metadata": {},
   "outputs": [
    {
     "name": "stdout",
     "output_type": "stream",
     "text": [
      "10 2\n",
      "3 -2 -4 -9 0 3 7 13 8 -3\n",
      "21\n"
     ]
    }
   ],
   "source": [
    "days, std = list(map(int,input().split()))\n",
    "temps = list(map(int,input().split()))\n",
    "maxVal = -999\n",
    "i = 0\n",
    "tmp = sum(temps[i:std])\n",
    "\n",
    "for i in range(1,len(temps)-std):\n",
    "    maxVal = max(maxVal,sum(temps[i:std+i]))\n",
    "\n",
    "print(maxVal)"
   ]
  },
  {
   "cell_type": "code",
   "execution_count": 30,
   "id": "6d0a6001",
   "metadata": {},
   "outputs": [
    {
     "data": {
      "text/plain": [
       "1"
      ]
     },
     "execution_count": 30,
     "metadata": {},
     "output_type": "execute_result"
    }
   ],
   "source": [
    "range(1,len(temps) - std)[0]"
   ]
  },
  {
   "cell_type": "code",
   "execution_count": 123,
   "id": "4183c63f",
   "metadata": {},
   "outputs": [
    {
     "name": "stdout",
     "output_type": "stream",
     "text": [
      "1 1\n",
      "1\n",
      "-99999\n"
     ]
    }
   ],
   "source": [
    "days, std = list(map(int,input().split()))\n",
    "temps = list(map(int,input().split()))\n",
    "maxVal = -99999\n",
    "i = 0\n",
    "tmp = sum(temps[0:std])\n",
    "# maxVal = max(maxVal,tmp)\n",
    "\n",
    "for i in range(days-std):\n",
    "    print(\"tmp\",tmp)\n",
    "    \n",
    "    maxVal = max(maxVal,tmp)\n",
    "    tmp = tmp - temps[i-1] + temps[std+i]\n",
    "\n",
    "#     print(\"temps[i-1]\", temps[i])\n",
    "#     print(\"temps[i+1]\", temps[std+i])\n",
    "    \n",
    "    \n",
    "\n",
    "print(maxVal)"
   ]
  },
  {
   "cell_type": "code",
   "execution_count": 138,
   "id": "3e12cfb0",
   "metadata": {},
   "outputs": [
    {
     "name": "stdout",
     "output_type": "stream",
     "text": [
      "1 1\n",
      "1\n",
      "1\n"
     ]
    }
   ],
   "source": [
    "days, std = list(map(int,input().split()))\n",
    "temps = list(map(int,input().split()))\n",
    "i = 0\n",
    "tmp = sum(temps[0:std])\n",
    "maxVal = tmp\n",
    "\n",
    "for i in range(days-std):\n",
    "    tmp = tmp - temps[i] + temps[std+i]\n",
    "    maxVal = max(maxVal,tmp)\n",
    "print(maxVal)"
   ]
  },
  {
   "cell_type": "code",
   "execution_count": null,
   "id": "3a79a46f",
   "metadata": {},
   "outputs": [],
   "source": []
  }
 ],
 "metadata": {
  "kernelspec": {
   "display_name": "Python 3",
   "language": "python",
   "name": "python3"
  },
  "language_info": {
   "codemirror_mode": {
    "name": "ipython",
    "version": 3
   },
   "file_extension": ".py",
   "mimetype": "text/x-python",
   "name": "python",
   "nbconvert_exporter": "python",
   "pygments_lexer": "ipython3",
   "version": "3.8.8"
  }
 },
 "nbformat": 4,
 "nbformat_minor": 5
}
