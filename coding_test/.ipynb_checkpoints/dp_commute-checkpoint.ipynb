{
 "cells": [
  {
   "cell_type": "code",
   "execution_count": 181,
   "id": "099ca673",
   "metadata": {},
   "outputs": [],
   "source": [
    "def makeArray(m,n):\n",
    "    commuteList = [[] for i in range(n)]\n",
    "    for nn in range(n):\n",
    "        for mm in range(m):\n",
    "            commuteList[nn].append([1])\n",
    "    return commuteList\n",
    "\n",
    "def puddleList(puddles, commuteList):\n",
    "    for pd in puddles: #puddle 추가\n",
    "        commuteList[pd[1]-1][pd[0]-1] = [0]\n",
    "    return commuteList\n",
    "\n",
    "def findWay(m,n,commuteList):\n",
    "    for i in range(n-1):\n",
    "        for j in range(1,m):\n",
    "            if commuteList[i+1][j][0] == 0 :\n",
    "                continue\n",
    "            if commuteList[i][j][0] == 0 :\n",
    "                continue\n",
    "            if commuteList[i+1][j-1][0] == 0 :\n",
    "                continue\n",
    "            elif commuteList[i+1][j][0] != 0 and commuteList[i][j][0] != 0 and commuteList[i+1][j-1][0] != 0 :\n",
    "                commuteList[i+1][j] = [commuteList[i][j][0] + commuteList[i+1][j-1][0]]\n",
    "\n",
    "    return commuteList\n",
    "    \n",
    "def solution(m, n, puddles):\n",
    "    commuteList = makeArray(m,n)\n",
    "    commuteList = puddleList(puddles, commuteList) \n",
    "    commuteList = findWay(m,n,commuteList)\n",
    "    \n",
    "    answer = commuteList[n-1][m-1][0] % 1000000007\n",
    "    return answer"
   ]
  },
  {
   "cell_type": "code",
   "execution_count": 185,
   "id": "2f30889e",
   "metadata": {},
   "outputs": [
    {
     "ename": "TypeError",
     "evalue": "'int' object is not subscriptable",
     "output_type": "error",
     "traceback": [
      "\u001b[0;31m---------------------------------------------------------------------------\u001b[0m",
      "\u001b[0;31mTypeError\u001b[0m                                 Traceback (most recent call last)",
      "\u001b[0;32m<ipython-input-185-053ba19d3116>\u001b[0m in \u001b[0;36m<module>\u001b[0;34m\u001b[0m\n\u001b[0;32m----> 1\u001b[0;31m \u001b[0msolution\u001b[0m\u001b[0;34m(\u001b[0m\u001b[0;36m4\u001b[0m\u001b[0;34m,\u001b[0m\u001b[0;36m3\u001b[0m\u001b[0;34m,\u001b[0m\u001b[0;34m[\u001b[0m\u001b[0;34m[\u001b[0m\u001b[0;36m2\u001b[0m\u001b[0;34m,\u001b[0m \u001b[0;36m2\u001b[0m\u001b[0;34m]\u001b[0m\u001b[0;34m]\u001b[0m\u001b[0;34m)\u001b[0m\u001b[0;34m\u001b[0m\u001b[0;34m\u001b[0m\u001b[0m\n\u001b[0m",
      "\u001b[0;32m<ipython-input-184-d07eea951971>\u001b[0m in \u001b[0;36msolution\u001b[0;34m(m, n, puddles)\u001b[0m\n\u001b[1;32m     29\u001b[0m     \u001b[0mcommuteList\u001b[0m \u001b[0;34m=\u001b[0m \u001b[0;34m[\u001b[0m\u001b[0;34m[\u001b[0m\u001b[0;36m1\u001b[0m\u001b[0;34m]\u001b[0m\u001b[0;34m*\u001b[0m\u001b[0;34m(\u001b[0m\u001b[0mm\u001b[0m\u001b[0;34m+\u001b[0m\u001b[0;36m1\u001b[0m\u001b[0;34m)\u001b[0m \u001b[0;32mfor\u001b[0m \u001b[0m_\u001b[0m \u001b[0;32min\u001b[0m \u001b[0mrange\u001b[0m\u001b[0;34m(\u001b[0m\u001b[0mn\u001b[0m\u001b[0;34m+\u001b[0m\u001b[0;36m1\u001b[0m\u001b[0;34m)\u001b[0m\u001b[0;34m]\u001b[0m\u001b[0;34m\u001b[0m\u001b[0;34m\u001b[0m\u001b[0m\n\u001b[1;32m     30\u001b[0m     \u001b[0mcommuteList\u001b[0m \u001b[0;34m=\u001b[0m \u001b[0mpuddleList\u001b[0m\u001b[0;34m(\u001b[0m\u001b[0mpuddles\u001b[0m\u001b[0;34m,\u001b[0m \u001b[0mcommuteList\u001b[0m\u001b[0;34m)\u001b[0m\u001b[0;34m\u001b[0m\u001b[0;34m\u001b[0m\u001b[0m\n\u001b[0;32m---> 31\u001b[0;31m     \u001b[0mcommuteList\u001b[0m \u001b[0;34m=\u001b[0m \u001b[0mfindWay\u001b[0m\u001b[0;34m(\u001b[0m\u001b[0mm\u001b[0m\u001b[0;34m,\u001b[0m\u001b[0mn\u001b[0m\u001b[0;34m,\u001b[0m\u001b[0mcommuteList\u001b[0m\u001b[0;34m)\u001b[0m\u001b[0;34m\u001b[0m\u001b[0;34m\u001b[0m\u001b[0m\n\u001b[0m\u001b[1;32m     32\u001b[0m \u001b[0;34m\u001b[0m\u001b[0m\n\u001b[1;32m     33\u001b[0m     \u001b[0manswer\u001b[0m \u001b[0;34m=\u001b[0m \u001b[0mcommuteList\u001b[0m\u001b[0;34m[\u001b[0m\u001b[0mn\u001b[0m\u001b[0;34m-\u001b[0m\u001b[0;36m1\u001b[0m\u001b[0;34m]\u001b[0m\u001b[0;34m[\u001b[0m\u001b[0mm\u001b[0m\u001b[0;34m-\u001b[0m\u001b[0;36m1\u001b[0m\u001b[0;34m]\u001b[0m\u001b[0;34m[\u001b[0m\u001b[0;36m0\u001b[0m\u001b[0;34m]\u001b[0m \u001b[0;34m%\u001b[0m \u001b[0;36m1000000007\u001b[0m\u001b[0;34m\u001b[0m\u001b[0;34m\u001b[0m\u001b[0m\n",
      "\u001b[0;32m<ipython-input-184-d07eea951971>\u001b[0m in \u001b[0;36mfindWay\u001b[0;34m(m, n, commuteList)\u001b[0m\n\u001b[1;32m     14\u001b[0m     \u001b[0;32mfor\u001b[0m \u001b[0mi\u001b[0m \u001b[0;32min\u001b[0m \u001b[0mrange\u001b[0m\u001b[0;34m(\u001b[0m\u001b[0mn\u001b[0m\u001b[0;34m-\u001b[0m\u001b[0;36m1\u001b[0m\u001b[0;34m)\u001b[0m\u001b[0;34m:\u001b[0m\u001b[0;34m\u001b[0m\u001b[0;34m\u001b[0m\u001b[0m\n\u001b[1;32m     15\u001b[0m         \u001b[0;32mfor\u001b[0m \u001b[0mj\u001b[0m \u001b[0;32min\u001b[0m \u001b[0mrange\u001b[0m\u001b[0;34m(\u001b[0m\u001b[0;36m1\u001b[0m\u001b[0;34m,\u001b[0m\u001b[0mm\u001b[0m\u001b[0;34m)\u001b[0m\u001b[0;34m:\u001b[0m\u001b[0;34m\u001b[0m\u001b[0;34m\u001b[0m\u001b[0m\n\u001b[0;32m---> 16\u001b[0;31m             \u001b[0;32mif\u001b[0m \u001b[0mcommuteList\u001b[0m\u001b[0;34m[\u001b[0m\u001b[0mi\u001b[0m\u001b[0;34m+\u001b[0m\u001b[0;36m1\u001b[0m\u001b[0;34m]\u001b[0m\u001b[0;34m[\u001b[0m\u001b[0mj\u001b[0m\u001b[0;34m]\u001b[0m\u001b[0;34m[\u001b[0m\u001b[0;36m0\u001b[0m\u001b[0;34m]\u001b[0m \u001b[0;34m==\u001b[0m \u001b[0;36m0\u001b[0m \u001b[0;34m:\u001b[0m\u001b[0;34m\u001b[0m\u001b[0;34m\u001b[0m\u001b[0m\n\u001b[0m\u001b[1;32m     17\u001b[0m                 \u001b[0;32mcontinue\u001b[0m\u001b[0;34m\u001b[0m\u001b[0;34m\u001b[0m\u001b[0m\n\u001b[1;32m     18\u001b[0m             \u001b[0;32mif\u001b[0m \u001b[0mcommuteList\u001b[0m\u001b[0;34m[\u001b[0m\u001b[0mi\u001b[0m\u001b[0;34m]\u001b[0m\u001b[0;34m[\u001b[0m\u001b[0mj\u001b[0m\u001b[0;34m]\u001b[0m\u001b[0;34m[\u001b[0m\u001b[0;36m0\u001b[0m\u001b[0;34m]\u001b[0m \u001b[0;34m==\u001b[0m \u001b[0;36m0\u001b[0m \u001b[0;34m:\u001b[0m\u001b[0;34m\u001b[0m\u001b[0;34m\u001b[0m\u001b[0m\n",
      "\u001b[0;31mTypeError\u001b[0m: 'int' object is not subscriptable"
     ]
    }
   ],
   "source": [
    "solution(4,3,[[2, 2]])"
   ]
  },
  {
   "cell_type": "markdown",
   "id": "f4b5dd08",
   "metadata": {},
   "source": [
    "# 좌표오류?"
   ]
  },
  {
   "cell_type": "code",
   "execution_count": 275,
   "id": "0eeb5592",
   "metadata": {},
   "outputs": [],
   "source": [
    "def puddleList(puddles, commuteList,m,n):\n",
    "    for pd in puddles: #puddle 추가\n",
    "        commuteList[pd[1]-1][pd[0]-1] = [-1]\n",
    "#         print(\"first : \", pd[1]-1)\n",
    "#         print(\"second : \", pd[0]-1)\n",
    "        if pd[1]-1 == 0 :\n",
    "            for pud in range(pd[0]-1,m):\n",
    "                commuteList[pd[1]-1][pud] = [0]\n",
    "#                 print(\"dd\")\n",
    "                \n",
    "        if pd[0]-1 == 0 :\n",
    "            for pud in range(pd[1]-1,n):\n",
    "                commuteList[pud][pd[0]-1] = [0]\n",
    "        \n",
    "#         for com in commuteList:\n",
    "#             print(com)\n",
    "#         print(pd)\n",
    "#         print(\"-----------\")\n",
    "            \n",
    "#         print(commuteList)\n",
    "    return commuteList\n",
    "\n",
    "def findWay(m,n,commuteList):\n",
    "    for i in range(n-1):\n",
    "        for j in range(1,m):\n",
    "#             print(commuteList[i+1][j][0],commuteList[i][j][0],commuteList[i+1][i-1][0])\n",
    "            if commuteList[i+1][j][0] == -1 :\n",
    "                continue\n",
    "            if commuteList[i][j][0] == -1 :\n",
    "                continue\n",
    "            if commuteList[i+1][j-1][0] == -1:\n",
    "                continue\n",
    "            elif commuteList[i+1][j][0] != -1 and commuteList[i][j][0] != -1 and commuteList[i+1][j-1][0] != -1 :\n",
    "                commuteList[i+1][j] = [commuteList[i][j][0] + commuteList[i+1][j-1][0]]\n",
    "#                 print(\"nana\")\n",
    "#             for com in commuteList:\n",
    "#                 print(com)\n",
    "#             print(\"______________\")\n",
    "    return commuteList\n",
    "    \n",
    "def solution(m, n, puddles):\n",
    "#     commuteList = makeArray(m,n)\n",
    "    commuteList = [[[1]]*(m) for _ in range(n)]\n",
    "    commuteList = puddleList(puddles, commuteList,m,n) \n",
    "    commuteList = findWay(m,n,commuteList)\n",
    "    \n",
    "    answer = commuteList[n-1][m-1][0] % 1000000007\n",
    "    return answer"
   ]
  },
  {
   "cell_type": "code",
   "execution_count": 276,
   "id": "ebe4a8bc",
   "metadata": {},
   "outputs": [
    {
     "data": {
      "text/plain": [
       "4"
      ]
     },
     "execution_count": 276,
     "metadata": {},
     "output_type": "execute_result"
    }
   ],
   "source": [
    "solution(4,3,[[2, 2]])"
   ]
  },
  {
   "cell_type": "code",
   "execution_count": 277,
   "id": "c7a944fd",
   "metadata": {},
   "outputs": [
    {
     "data": {
      "text/plain": [
       "3"
      ]
     },
     "execution_count": 277,
     "metadata": {},
     "output_type": "execute_result"
    }
   ],
   "source": [
    "solution(5,3,[[3,2],[4,1]])"
   ]
  },
  {
   "cell_type": "code",
   "execution_count": 282,
   "id": "1aaa5278",
   "metadata": {},
   "outputs": [
    {
     "data": {
      "text/plain": [
       "10"
      ]
     },
     "execution_count": 282,
     "metadata": {},
     "output_type": "execute_result"
    }
   ],
   "source": [
    "solution(5,3,[[1,2]])"
   ]
  },
  {
   "cell_type": "code",
   "execution_count": 285,
   "id": "c016e7f6",
   "metadata": {},
   "outputs": [
    {
     "data": {
      "text/plain": [
       "0"
      ]
     },
     "execution_count": 285,
     "metadata": {},
     "output_type": "execute_result"
    }
   ],
   "source": [
    "solution(4,   1,   [[2, 1]]   )"
   ]
  },
  {
   "cell_type": "code",
   "execution_count": null,
   "id": "566caa54",
   "metadata": {},
   "outputs": [],
   "source": [
    "# 구글링 결과\n",
    "\n",
    "def solution(m, n, puddles):\n",
    "    answer = 0\n",
    "    graph = [[0]*(m+1) for i in range(n+1)]\n",
    " \n",
    "\n",
    "    for i in range(1,n+1):\n",
    "        for j in range(1,m+1):\n",
    "            if i==1 and j==1: #(1,1)은 1으로 초기화\n",
    "                graph[1][1]=1\n",
    "            elif [j,i] not in puddles: # 물웅덩이가 아닌경우\n",
    "                graph[i][j] = graph[i-1][j]+graph[i][j-1]      \n",
    "                \n",
    "    return graph[n][m]%1000000007"
   ]
  },
  {
   "cell_type": "code",
   "execution_count": null,
   "id": "749754ce",
   "metadata": {},
   "outputs": [],
   "source": []
  }
 ],
 "metadata": {
  "kernelspec": {
   "display_name": "Python 3",
   "language": "python",
   "name": "python3"
  },
  "language_info": {
   "codemirror_mode": {
    "name": "ipython",
    "version": 3
   },
   "file_extension": ".py",
   "mimetype": "text/x-python",
   "name": "python",
   "nbconvert_exporter": "python",
   "pygments_lexer": "ipython3",
   "version": "3.8.8"
  }
 },
 "nbformat": 4,
 "nbformat_minor": 5
}
