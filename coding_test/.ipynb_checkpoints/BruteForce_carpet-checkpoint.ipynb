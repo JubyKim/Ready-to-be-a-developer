{
 "cells": [
  {
   "cell_type": "code",
   "execution_count": 41,
   "id": "314db474",
   "metadata": {},
   "outputs": [],
   "source": [
    "def solution(brown, yellow):\n",
    "    answer = []\n",
    "    length = int((brown-4)/2)\n",
    "    horizontal = 0\n",
    "    vetical = 0\n",
    "    for i in range(length) :\n",
    "#         print(i)\n",
    "#         print(\"length-1: \",length-i)\n",
    "#         print(\"(0+i) : \",0+i)\n",
    "#         print(\"yellow: \", (length-i)*(0+i))\n",
    "#         print((length-i)*(0+i))\n",
    "        if yellow == (length-i)*(0+i):\n",
    "            horizontal = length-i\n",
    "            vetical = 0 + i\n",
    "            break\n",
    "    print(horizontal, \",\", vetical)\n",
    "    answer = [horizontal+2, vetical+2]\n",
    "    \n",
    "    return answer"
   ]
  },
  {
   "cell_type": "code",
   "execution_count": 42,
   "id": "c5127d53",
   "metadata": {},
   "outputs": [
    {
     "name": "stdout",
     "output_type": "stream",
     "text": [
      "2 , 2\n"
     ]
    },
    {
     "data": {
      "text/plain": [
       "[4, 4]"
      ]
     },
     "execution_count": 42,
     "metadata": {},
     "output_type": "execute_result"
    }
   ],
   "source": [
    "solution(12,4)"
   ]
  },
  {
   "cell_type": "code",
   "execution_count": null,
   "id": "74689fbf",
   "metadata": {},
   "outputs": [],
   "source": []
  },
  {
   "cell_type": "code",
   "execution_count": null,
   "id": "78a78ef5",
   "metadata": {},
   "outputs": [],
   "source": []
  }
 ],
 "metadata": {
  "kernelspec": {
   "display_name": "Python 3",
   "language": "python",
   "name": "python3"
  },
  "language_info": {
   "codemirror_mode": {
    "name": "ipython",
    "version": 3
   },
   "file_extension": ".py",
   "mimetype": "text/x-python",
   "name": "python",
   "nbconvert_exporter": "python",
   "pygments_lexer": "ipython3",
   "version": "3.8.8"
  }
 },
 "nbformat": 4,
 "nbformat_minor": 5
}
