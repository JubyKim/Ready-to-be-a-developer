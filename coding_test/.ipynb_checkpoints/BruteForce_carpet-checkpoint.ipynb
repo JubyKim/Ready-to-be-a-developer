{
 "cells": [
  {
   "cell_type": "code",
   "execution_count": 43,
   "id": "a37367b9",
   "metadata": {},
   "outputs": [],
   "source": [
    "def solution(brown, yellow):\n",
    "    answer = []\n",
    "    length = int((brown-4)/2)\n",
    "    horizontal = 0\n",
    "    vetical = 0\n",
    "    for i in range(length) :\n",
    "        if yellow == (length-i)*(0+i):\n",
    "            horizontal = length-i\n",
    "            vetical = 0 + i\n",
    "            break\n",
    "    answer = [horizontal+2, vetical+2]\n",
    "    \n",
    "    return answer"
   ]
  },
  {
   "cell_type": "code",
   "execution_count": 44,
   "id": "cf16a1e5",
   "metadata": {
    "scrolled": true
   },
   "outputs": [
    {
     "data": {
      "text/plain": [
       "[4, 4]"
      ]
     },
     "execution_count": 44,
     "metadata": {},
     "output_type": "execute_result"
    }
   ],
   "source": [
    "solution(12,4)"
   ]
  },
  {
   "cell_type": "code",
   "execution_count": null,
   "id": "c7e9de17",
   "metadata": {},
   "outputs": [],
   "source": []
  },
  {
   "cell_type": "code",
   "execution_count": null,
   "id": "a740e56c",
   "metadata": {},
   "outputs": [],
   "source": []
  }
 ],
 "metadata": {
  "kernelspec": {
   "display_name": "Python 3",
   "language": "python",
   "name": "python3"
  },
  "language_info": {
   "codemirror_mode": {
    "name": "ipython",
    "version": 3
   },
   "file_extension": ".py",
   "mimetype": "text/x-python",
   "name": "python",
   "nbconvert_exporter": "python",
   "pygments_lexer": "ipython3",
   "version": "3.8.8"
  }
 },
 "nbformat": 4,
 "nbformat_minor": 5
}
