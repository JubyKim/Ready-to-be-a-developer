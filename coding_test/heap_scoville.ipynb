{
 "cells": [
  {
   "cell_type": "code",
   "execution_count": 120,
   "id": "5af569a7",
   "metadata": {},
   "outputs": [],
   "source": [
    "import heapq\n",
    "\n",
    "def solution(scoville, K):\n",
    "    answer = 0\n",
    "    heapq.heapify(scoville)\n",
    "    \n",
    "    while scoville[0] < K:\n",
    "        if len(scoville) == 1:\n",
    "            return -1\n",
    "        heapq.heappush(scoville,heapq.heappop(scoville)+heapq.heappop(scoville)*2)\n",
    "        answer += 1\n",
    "        \n",
    "    return answer"
   ]
  },
  {
   "cell_type": "code",
   "execution_count": 121,
   "id": "90fd765c",
   "metadata": {},
   "outputs": [
    {
     "data": {
      "text/plain": [
       "2"
      ]
     },
     "execution_count": 121,
     "metadata": {},
     "output_type": "execute_result"
    }
   ],
   "source": [
    "solution([1, 2, 3, 9, 10, 12], 7)"
   ]
  },
  {
   "cell_type": "code",
   "execution_count": 22,
   "id": "efc2d464",
   "metadata": {},
   "outputs": [
    {
     "name": "stdout",
     "output_type": "stream",
     "text": [
      "[1, 3, 5, 4, 8, 7]\n"
     ]
    }
   ],
   "source": []
  },
  {
   "cell_type": "code",
   "execution_count": 96,
   "id": "4df83f6c",
   "metadata": {},
   "outputs": [
    {
     "name": "stdout",
     "output_type": "stream",
     "text": [
      "[(4, 4), (7, 7), (5, 5), (8, 8), (7, 7)]\n",
      "[(7, 7), (7, 7), (8, 8), (14, 14)]\n"
     ]
    }
   ],
   "source": [
    "#힙을 통한 우선순위 큐 구현 (min-heap)\n",
    "\n",
    "#maxHeap\n",
    "import heapq\n",
    "\n",
    "nums = [4, 1, 7, 3, 8, 5]\n",
    "heap = []\n",
    "\n",
    "for num in nums:\n",
    "    heapq.heappush(heap, (num, num))  # (우선 순위, 값)\n",
    "    \n",
    "\n",
    "while min(heap)[0] < 7:\n",
    "    a = heapq.heappop(heap)[1]\n",
    "    b = heapq.heappop(heap)[1]*2\n",
    "    heapq.heappush(heap, (a+b, a+b)) \n",
    "#     heapq.heappush(heap,  a+b )\n",
    "    print(heap)"
   ]
  },
  {
   "cell_type": "code",
   "execution_count": null,
   "id": "7a0fa208",
   "metadata": {},
   "outputs": [],
   "source": []
  },
  {
   "cell_type": "code",
   "execution_count": null,
   "id": "c8490209",
   "metadata": {},
   "outputs": [],
   "source": []
  }
 ],
 "metadata": {
  "kernelspec": {
   "display_name": "Python 3",
   "language": "python",
   "name": "python3"
  },
  "language_info": {
   "codemirror_mode": {
    "name": "ipython",
    "version": 3
   },
   "file_extension": ".py",
   "mimetype": "text/x-python",
   "name": "python",
   "nbconvert_exporter": "python",
   "pygments_lexer": "ipython3",
   "version": "3.8.8"
  }
 },
 "nbformat": 4,
 "nbformat_minor": 5
}
