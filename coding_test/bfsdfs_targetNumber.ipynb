{
 "cells": [
  {
   "cell_type": "code",
   "execution_count": 254,
   "id": "205f427f",
   "metadata": {},
   "outputs": [],
   "source": [
    "def solution(numbers, target):\n",
    "    answer = 0\n",
    "    result = [[] for i in range(len(numbers))]\n",
    "    result.append([0])\n",
    "\n",
    "    for idx, item in enumerate(numbers):\n",
    "        for r_item in result[idx-1]:\n",
    "            result[idx]\n",
    "            result[idx].append(r_item + item)\n",
    "            result[idx].append(r_item - item)\n",
    "                \n",
    "    answer = result[-2].count(target)\n",
    "    \n",
    "    return answer"
   ]
  },
  {
   "cell_type": "code",
   "execution_count": 255,
   "id": "e01f93e5",
   "metadata": {},
   "outputs": [
    {
     "data": {
      "text/plain": [
       "5"
      ]
     },
     "execution_count": 255,
     "metadata": {},
     "output_type": "execute_result"
    }
   ],
   "source": [
    "solution([1, 1, 1, 1, 1],3)"
   ]
  },
  {
   "cell_type": "code",
   "execution_count": null,
   "id": "69a76d67",
   "metadata": {},
   "outputs": [],
   "source": []
  }
 ],
 "metadata": {
  "kernelspec": {
   "display_name": "Python 3",
   "language": "python",
   "name": "python3"
  },
  "language_info": {
   "codemirror_mode": {
    "name": "ipython",
    "version": 3
   },
   "file_extension": ".py",
   "mimetype": "text/x-python",
   "name": "python",
   "nbconvert_exporter": "python",
   "pygments_lexer": "ipython3",
   "version": "3.8.8"
  }
 },
 "nbformat": 4,
 "nbformat_minor": 5
}
