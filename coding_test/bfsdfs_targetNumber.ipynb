{
 "cells": [
  {
   "cell_type": "code",
   "execution_count": 4,
   "id": "205f427f",
   "metadata": {},
   "outputs": [],
   "source": [
    "import numpy as np\n",
    "def solution(numbers, target):\n",
    "    answer = 0\n",
    "    numbers = np.array(numbers)\n",
    "    number_minus = numbers * (-1)\n",
    "    number_plus = numbers\n",
    "    candidate = []\n",
    "    print(number_minus)\n",
    "    return answer"
   ]
  },
  {
   "cell_type": "code",
   "execution_count": 5,
   "id": "e01f93e5",
   "metadata": {},
   "outputs": [
    {
     "name": "stdout",
     "output_type": "stream",
     "text": [
      "[-1 -1 -1 -1 -1]\n"
     ]
    },
    {
     "data": {
      "text/plain": [
       "0"
      ]
     },
     "execution_count": 5,
     "metadata": {},
     "output_type": "execute_result"
    }
   ],
   "source": [
    "solution([1, 1, 1, 1, 1],3)"
   ]
  },
  {
   "cell_type": "code",
   "execution_count": 161,
   "id": "8b824307",
   "metadata": {},
   "outputs": [],
   "source": [
    "import sys\n",
    "from collections import deque\n",
    "tmp = 0\n",
    "numbers = deque([1,1,1,1,1])\n",
    "result = [[0],[],[],[],[],[]]\n",
    "target = 3\n",
    "\n",
    "def makeGraph(): \n",
    "    cnt = 0\n",
    "    while cnt != len(numbers):\n",
    "        for idx, item in enumerate(numbers):\n",
    "            if idx > 0 :\n",
    "                for r_idx, r_item in enumerate(result[idx-1]):\n",
    "                    result[idx].append(r_item + item)\n",
    "                    result[idx].append(r_item - item)\n",
    "            cnt += 1\n",
    "            print(result)\n",
    "    \n",
    "        "
   ]
  },
  {
   "cell_type": "code",
   "execution_count": 162,
   "id": "410d244d",
   "metadata": {},
   "outputs": [
    {
     "name": "stdout",
     "output_type": "stream",
     "text": [
      "[[0], [], [], [], [], []]\n",
      "[[0], [1, -1], [], [], [], []]\n",
      "[[0], [1, -1], [2, 0, 0, -2], [], [], []]\n",
      "[[0], [1, -1], [2, 0, 0, -2], [3, 1, 1, -1, 1, -1, -1, -3], [], []]\n",
      "[[0], [1, -1], [2, 0, 0, -2], [3, 1, 1, -1, 1, -1, -1, -3], [4, 2, 2, 0, 2, 0, 0, -2, 2, 0, 0, -2, 0, -2, -2, -4], []]\n"
     ]
    }
   ],
   "source": [
    "makeGraph()"
   ]
  },
  {
   "cell_type": "code",
   "execution_count": null,
   "id": "5e74bd7f",
   "metadata": {},
   "outputs": [],
   "source": [
    "for i in result:\n",
    "    print(i)\n",
    "    print(\"---\")"
   ]
  },
  {
   "cell_type": "code",
   "execution_count": 148,
   "id": "686b6f1d",
   "metadata": {},
   "outputs": [
    {
     "data": {
      "text/plain": [
       "[4,\n",
       " 2,\n",
       " 2,\n",
       " 0,\n",
       " 2,\n",
       " 0,\n",
       " 0,\n",
       " -2,\n",
       " 2,\n",
       " 0,\n",
       " 0,\n",
       " -2,\n",
       " 0,\n",
       " -2,\n",
       " -2,\n",
       " -4,\n",
       " 4,\n",
       " 2,\n",
       " 2,\n",
       " 0,\n",
       " 2,\n",
       " 0,\n",
       " 0,\n",
       " -2,\n",
       " 2,\n",
       " 0,\n",
       " 0,\n",
       " -2,\n",
       " 0,\n",
       " -2,\n",
       " -2,\n",
       " -4]"
      ]
     },
     "execution_count": 148,
     "metadata": {},
     "output_type": "execute_result"
    }
   ],
   "source": [
    "result[4][129-32:]"
   ]
  },
  {
   "cell_type": "code",
   "execution_count": 146,
   "id": "a8af0e6e",
   "metadata": {},
   "outputs": [
    {
     "data": {
      "text/plain": [
       "129"
      ]
     },
     "execution_count": 146,
     "metadata": {},
     "output_type": "execute_result"
    }
   ],
   "source": [
    "len(result[4])"
   ]
  },
  {
   "cell_type": "code",
   "execution_count": null,
   "id": "09300a06",
   "metadata": {},
   "outputs": [],
   "source": []
  }
 ],
 "metadata": {
  "kernelspec": {
   "display_name": "Python 3",
   "language": "python",
   "name": "python3"
  },
  "language_info": {
   "codemirror_mode": {
    "name": "ipython",
    "version": 3
   },
   "file_extension": ".py",
   "mimetype": "text/x-python",
   "name": "python",
   "nbconvert_exporter": "python",
   "pygments_lexer": "ipython3",
   "version": "3.8.8"
  }
 },
 "nbformat": 4,
 "nbformat_minor": 5
}
