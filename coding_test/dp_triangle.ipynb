{
 "cells": [
  {
   "cell_type": "code",
   "execution_count": 1,
   "id": "54840985",
   "metadata": {},
   "outputs": [],
   "source": [
    "def solution(triangle): # dp 테이블 초기화 \n",
    "    dp = [[0] * len(triangle) for _ in range(len(triangle))]\n",
    "    dp[0][0] = triangle[0][0] # 거쳐간 숫자의 최댓값 구하기 \n",
    "    for i in range(0, len(triangle) - 1): \n",
    "        for j in range(len(triangle[i])): \n",
    "            dp[i + 1][j] = max(dp[i + 1][j], dp[i][j] + triangle[i + 1][j])\n",
    "            dp[i + 1][j + 1] = max(dp[i + 1][j + 1], dp[i][j] + triangle[i + 1][j + 1])\n",
    "    return max(dp[-1])\n"
   ]
  },
  {
   "cell_type": "code",
   "execution_count": 2,
   "id": "c9b19b60",
   "metadata": {},
   "outputs": [
    {
     "name": "stdout",
     "output_type": "stream",
     "text": [
      "7\n",
      "3\n",
      "8\n",
      "8\n",
      "1\n",
      "0\n",
      "2\n",
      "7\n",
      "4\n",
      "4\n",
      "4\n",
      "5\n",
      "2\n",
      "6\n",
      "5\n"
     ]
    },
    {
     "data": {
      "text/plain": [
       "0"
      ]
     },
     "execution_count": 2,
     "metadata": {},
     "output_type": "execute_result"
    }
   ],
   "source": [
    "solution([[7], [3, 8], [8, 1, 0], [2, 7, 4, 4], [4, 5, 2, 6, 5]])"
   ]
  },
  {
   "cell_type": "code",
   "execution_count": null,
   "id": "af478ee0",
   "metadata": {},
   "outputs": [],
   "source": [
    "def solution(triangle):\n",
    "    "
   ]
  }
 ],
 "metadata": {
  "kernelspec": {
   "display_name": "Python 3",
   "language": "python",
   "name": "python3"
  },
  "language_info": {
   "codemirror_mode": {
    "name": "ipython",
    "version": 3
   },
   "file_extension": ".py",
   "mimetype": "text/x-python",
   "name": "python",
   "nbconvert_exporter": "python",
   "pygments_lexer": "ipython3",
   "version": "3.8.8"
  }
 },
 "nbformat": 4,
 "nbformat_minor": 5
}
