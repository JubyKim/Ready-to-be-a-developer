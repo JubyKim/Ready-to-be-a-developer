{
 "cells": [
  {
   "cell_type": "code",
   "execution_count": null,
   "id": "a4eec55c",
   "metadata": {},
   "outputs": [],
   "source": [
    "1.(9) 케이스가 안될 경우\n",
    "\n",
    "(5,5) 같은 경우입니다.\n",
    "\n",
    "2.(4,5) 케이스가 안될 경우\n",
    "\n",
    "너무 깊게 생각하였습니다.\n",
    "1121 -> 11(1+1)1 은 안됩니다.\n",
    "\n",
    "3.(5,8) 케이스가 안될 경우\n",
    "\n",
    "(4번 사용) = (3번사용)(사칙연산)(N) 경우의수만 추가 했을 확률이 높습니다.\n",
    "\n",
    "(4번 사용) = (1번사용)(사칙연산)(3번사용) + (2번사용)(사칙연산)(2번사용) + (3번사용)(사칙연산)(1번사용)\n",
    "의 경우의 수를 모두 합쳐줘야 합니다."
   ]
  },
  {
   "cell_type": "markdown",
   "id": "4494e03b",
   "metadata": {},
   "source": [
    "# 1번째"
   ]
  },
  {
   "cell_type": "code",
   "execution_count": null,
   "id": "70806b4f",
   "metadata": {},
   "outputs": [],
   "source": [
    "def solution(N, number):\n",
    "    #N 가지고 number를 만들어야함.\n",
    "    candiList = [[] for i in range(8)]\n",
    "    \n",
    "    for i in range(1,8):\n",
    "        candiList[i].append(int(\"5\" * i))\n",
    "        for j in candiList[i-1]:\n",
    "            \n",
    "            candiList[i].append(j+5)\n",
    "            candiList[i].append(j-5)\n",
    "            candiList[i].append(j*5)\n",
    "            candiList[i].append(j/5)\n",
    "        if number in candiList[i]:\n",
    "            return i\n",
    "    \n",
    "                \n",
    "    return -1"
   ]
  },
  {
   "cell_type": "code",
   "execution_count": 113,
   "id": "b86d718e",
   "metadata": {},
   "outputs": [],
   "source": [
    "def oper(list1, list2,candiList,candiIdx):\n",
    "    print(\"<<<<<<func start>>>>>>\")\n",
    "    for i in list1:\n",
    "        for j in list2:\n",
    "            \n",
    "            print(\"I am list1 : \", list1)\n",
    "            print(\"I am list2 : \", list2)\n",
    "            print(\"I am i : \", i)\n",
    "            print(\"I am j : \", j)\n",
    "            candiList[candiIdx].append(i+j)\n",
    "            candiList[candiIdx].append(j-i)\n",
    "            candiList[candiIdx].append(i*j)\n",
    "            candiList[candiIdx].append(int(j/i))\n",
    "            print(candiList)\n",
    "            print(\"-------------\")\n",
    "            return candiList\n",
    "\n",
    "def solution(N, number):\n",
    "    #N 가지고 number를 만들어야함.\n",
    "    candiList = [[] for i in range(8)]\n",
    "    for i in range(1,8):\n",
    "        candiList[i].append(int(\"5\" * i))\n",
    "        s = int(i/2)+1\n",
    "        print(\"---------\")\n",
    "        print(\"number : \",i)\n",
    "        for idx in range(1,s):\n",
    "            print(\"I am s : \",idx)\n",
    "            print(\"I am cha s : \", i-idx)\n",
    "#             print(\"------------\")\n",
    "            oper(candiList[idx],candiList[i-idx],candiList,i)\n",
    "            \n",
    "        if number in candiList[i]:\n",
    "            return i\n",
    "    \n",
    "    return -1\n"
   ]
  },
  {
   "cell_type": "code",
   "execution_count": 114,
   "id": "d64ebf69",
   "metadata": {},
   "outputs": [
    {
     "name": "stdout",
     "output_type": "stream",
     "text": [
      "---------\n",
      "number :  1\n",
      "---------\n",
      "number :  2\n",
      "I am s :  1\n",
      "I am cha s :  1\n",
      "<<<<<<func start>>>>>>\n",
      "I am list1 :  [5]\n",
      "I am list2 :  [5]\n",
      "I am i :  5\n",
      "I am j :  5\n",
      "[[], [5], [55, 10, 0, 25, 1], [], [], [], [], []]\n",
      "-------------\n",
      "---------\n",
      "number :  3\n",
      "I am s :  1\n",
      "I am cha s :  2\n",
      "<<<<<<func start>>>>>>\n",
      "I am list1 :  [5]\n",
      "I am list2 :  [55, 10, 0, 25, 1]\n",
      "I am i :  5\n",
      "I am j :  55\n",
      "[[], [5], [55, 10, 0, 25, 1], [555, 60, 50, 275, 11], [], [], [], []]\n",
      "-------------\n",
      "---------\n",
      "number :  4\n",
      "I am s :  1\n",
      "I am cha s :  3\n",
      "<<<<<<func start>>>>>>\n",
      "I am list1 :  [5]\n",
      "I am list2 :  [555, 60, 50, 275, 11]\n",
      "I am i :  5\n",
      "I am j :  555\n",
      "[[], [5], [55, 10, 0, 25, 1], [555, 60, 50, 275, 11], [5555, 560, 550, 2775, 111], [], [], []]\n",
      "-------------\n",
      "I am s :  2\n",
      "I am cha s :  2\n",
      "<<<<<<func start>>>>>>\n",
      "I am list1 :  [55, 10, 0, 25, 1]\n",
      "I am list2 :  [55, 10, 0, 25, 1]\n",
      "I am i :  55\n",
      "I am j :  55\n",
      "[[], [5], [55, 10, 0, 25, 1], [555, 60, 50, 275, 11], [5555, 560, 550, 2775, 111, 110, 0, 3025, 1], [], [], []]\n",
      "-------------\n",
      "---------\n",
      "number :  5\n",
      "I am s :  1\n",
      "I am cha s :  4\n",
      "<<<<<<func start>>>>>>\n",
      "I am list1 :  [5]\n",
      "I am list2 :  [5555, 560, 550, 2775, 111, 110, 0, 3025, 1]\n",
      "I am i :  5\n",
      "I am j :  5555\n",
      "[[], [5], [55, 10, 0, 25, 1], [555, 60, 50, 275, 11], [5555, 560, 550, 2775, 111, 110, 0, 3025, 1], [55555, 5560, 5550, 27775, 1111], [], []]\n",
      "-------------\n",
      "I am s :  2\n",
      "I am cha s :  3\n",
      "<<<<<<func start>>>>>>\n",
      "I am list1 :  [55, 10, 0, 25, 1]\n",
      "I am list2 :  [555, 60, 50, 275, 11]\n",
      "I am i :  55\n",
      "I am j :  555\n",
      "[[], [5], [55, 10, 0, 25, 1], [555, 60, 50, 275, 11], [5555, 560, 550, 2775, 111, 110, 0, 3025, 1], [55555, 5560, 5550, 27775, 1111, 610, 500, 30525, 10], [], []]\n",
      "-------------\n",
      "---------\n",
      "number :  6\n",
      "I am s :  1\n",
      "I am cha s :  5\n",
      "<<<<<<func start>>>>>>\n",
      "I am list1 :  [5]\n",
      "I am list2 :  [55555, 5560, 5550, 27775, 1111, 610, 500, 30525, 10]\n",
      "I am i :  5\n",
      "I am j :  55555\n",
      "[[], [5], [55, 10, 0, 25, 1], [555, 60, 50, 275, 11], [5555, 560, 550, 2775, 111, 110, 0, 3025, 1], [55555, 5560, 5550, 27775, 1111, 610, 500, 30525, 10], [555555, 55560, 55550, 277775, 11111], []]\n",
      "-------------\n",
      "I am s :  2\n",
      "I am cha s :  4\n",
      "<<<<<<func start>>>>>>\n",
      "I am list1 :  [55, 10, 0, 25, 1]\n",
      "I am list2 :  [5555, 560, 550, 2775, 111, 110, 0, 3025, 1]\n",
      "I am i :  55\n",
      "I am j :  5555\n",
      "[[], [5], [55, 10, 0, 25, 1], [555, 60, 50, 275, 11], [5555, 560, 550, 2775, 111, 110, 0, 3025, 1], [55555, 5560, 5550, 27775, 1111, 610, 500, 30525, 10], [555555, 55560, 55550, 277775, 11111, 5610, 5500, 305525, 101], []]\n",
      "-------------\n",
      "I am s :  3\n",
      "I am cha s :  3\n",
      "<<<<<<func start>>>>>>\n",
      "I am list1 :  [555, 60, 50, 275, 11]\n",
      "I am list2 :  [555, 60, 50, 275, 11]\n",
      "I am i :  555\n",
      "I am j :  555\n",
      "[[], [5], [55, 10, 0, 25, 1], [555, 60, 50, 275, 11], [5555, 560, 550, 2775, 111, 110, 0, 3025, 1], [55555, 5560, 5550, 27775, 1111, 610, 500, 30525, 10], [555555, 55560, 55550, 277775, 11111, 5610, 5500, 305525, 101, 1110, 0, 308025, 1], []]\n",
      "-------------\n",
      "---------\n",
      "number :  7\n",
      "I am s :  1\n",
      "I am cha s :  6\n",
      "<<<<<<func start>>>>>>\n",
      "I am list1 :  [5]\n",
      "I am list2 :  [555555, 55560, 55550, 277775, 11111, 5610, 5500, 305525, 101, 1110, 0, 308025, 1]\n",
      "I am i :  5\n",
      "I am j :  555555\n",
      "[[], [5], [55, 10, 0, 25, 1], [555, 60, 50, 275, 11], [5555, 560, 550, 2775, 111, 110, 0, 3025, 1], [55555, 5560, 5550, 27775, 1111, 610, 500, 30525, 10], [555555, 55560, 55550, 277775, 11111, 5610, 5500, 305525, 101, 1110, 0, 308025, 1], [5555555, 555560, 555550, 2777775, 111111]]\n",
      "-------------\n",
      "I am s :  2\n",
      "I am cha s :  5\n",
      "<<<<<<func start>>>>>>\n",
      "I am list1 :  [55, 10, 0, 25, 1]\n",
      "I am list2 :  [55555, 5560, 5550, 27775, 1111, 610, 500, 30525, 10]\n",
      "I am i :  55\n",
      "I am j :  55555\n",
      "[[], [5], [55, 10, 0, 25, 1], [555, 60, 50, 275, 11], [5555, 560, 550, 2775, 111, 110, 0, 3025, 1], [55555, 5560, 5550, 27775, 1111, 610, 500, 30525, 10], [555555, 55560, 55550, 277775, 11111, 5610, 5500, 305525, 101, 1110, 0, 308025, 1], [5555555, 555560, 555550, 2777775, 111111, 55610, 55500, 3055525, 1010]]\n",
      "-------------\n",
      "I am s :  3\n",
      "I am cha s :  4\n",
      "<<<<<<func start>>>>>>\n",
      "I am list1 :  [555, 60, 50, 275, 11]\n",
      "I am list2 :  [5555, 560, 550, 2775, 111, 110, 0, 3025, 1]\n",
      "I am i :  555\n",
      "I am j :  5555\n",
      "[[], [5], [55, 10, 0, 25, 1], [555, 60, 50, 275, 11], [5555, 560, 550, 2775, 111, 110, 0, 3025, 1], [55555, 5560, 5550, 27775, 1111, 610, 500, 30525, 10], [555555, 55560, 55550, 277775, 11111, 5610, 5500, 305525, 101, 1110, 0, 308025, 1], [5555555, 555560, 555550, 2777775, 111111, 55610, 55500, 3055525, 1010, 6110, 5000, 3083025, 10]]\n",
      "-------------\n"
     ]
    },
    {
     "data": {
      "text/plain": [
       "-1"
      ]
     },
     "execution_count": 114,
     "metadata": {},
     "output_type": "execute_result"
    }
   ],
   "source": [
    "solution(5,12)"
   ]
  },
  {
   "cell_type": "code",
   "execution_count": 53,
   "id": "b73f754d",
   "metadata": {},
   "outputs": [
    {
     "data": {
      "text/plain": [
       "-1"
      ]
     },
     "execution_count": 53,
     "metadata": {},
     "output_type": "execute_result"
    }
   ],
   "source": [
    "solution(2,11)"
   ]
  },
  {
   "cell_type": "code",
   "execution_count": 26,
   "id": "58254202",
   "metadata": {},
   "outputs": [
    {
     "name": "stdout",
     "output_type": "stream",
     "text": [
      "what is s :  0\n",
      "what is s :  1\n",
      "what is s :  1\n",
      "what is s :  2\n",
      "what is s :  2\n"
     ]
    },
    {
     "data": {
      "text/plain": [
       "5"
      ]
     },
     "execution_count": 26,
     "metadata": {},
     "output_type": "execute_result"
    }
   ],
   "source": [
    "solution(5,8)"
   ]
  },
  {
   "cell_type": "code",
   "execution_count": 41,
   "id": "e0eaebb1",
   "metadata": {},
   "outputs": [],
   "source": [
    "#두 리스트끼리 연산하는 def를 만들어야겠군\n",
    "\n"
   ]
  },
  {
   "cell_type": "code",
   "execution_count": 55,
   "id": "dcc1206a",
   "metadata": {},
   "outputs": [],
   "source": [
    "for idx in range(0,10,-1):\n",
    "    print(\"I am s : \",s)"
   ]
  },
  {
   "cell_type": "code",
   "execution_count": null,
   "id": "c1c79b31",
   "metadata": {},
   "outputs": [],
   "source": []
  },
  {
   "cell_type": "code",
   "execution_count": 94,
   "id": "87af8404",
   "metadata": {},
   "outputs": [
    {
     "data": {
      "text/plain": [
       "[5, 448]"
      ]
     },
     "execution_count": 94,
     "metadata": {},
     "output_type": "execute_result"
    }
   ],
   "source": [
    "[5] + [448]"
   ]
  },
  {
   "cell_type": "code",
   "execution_count": null,
   "id": "c9aa028c",
   "metadata": {},
   "outputs": [],
   "source": []
  }
 ],
 "metadata": {
  "kernelspec": {
   "display_name": "Python 3",
   "language": "python",
   "name": "python3"
  },
  "language_info": {
   "codemirror_mode": {
    "name": "ipython",
    "version": 3
   },
   "file_extension": ".py",
   "mimetype": "text/x-python",
   "name": "python",
   "nbconvert_exporter": "python",
   "pygments_lexer": "ipython3",
   "version": "3.8.8"
  }
 },
 "nbformat": 4,
 "nbformat_minor": 5
}
