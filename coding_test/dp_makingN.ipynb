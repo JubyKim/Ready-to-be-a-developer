{
 "cells": [
  {
   "cell_type": "markdown",
   "id": "7b44b579",
   "metadata": {},
   "source": [
    "# 1번째"
   ]
  },
  {
   "cell_type": "code",
   "execution_count": null,
   "id": "52d0e684",
   "metadata": {},
   "outputs": [],
   "source": [
    "def solution(N, number):\n",
    "    #N 가지고 number를 만들어야함.\n",
    "    candiList = [[] for i in range(8)]\n",
    "    \n",
    "    for i in range(1,8):\n",
    "        candiList[i].append(int(\"5\" * i))\n",
    "        for j in candiList[i-1]:\n",
    "            \n",
    "            candiList[i].append(j+5)\n",
    "            candiList[i].append(j-5)\n",
    "            candiList[i].append(j*5)\n",
    "            candiList[i].append(j/5)\n",
    "        if number in candiList[i]:\n",
    "            return i\n",
    "    \n",
    "                \n",
    "    return -1"
   ]
  },
  {
   "cell_type": "code",
   "execution_count": 130,
   "id": "0bd61d96",
   "metadata": {},
   "outputs": [],
   "source": [
    "candiList = [[] for i in range(8)]\n",
    "theList = [[] for i in range(8)]\n",
    "def oper(list1, list2,candiList,candiIdx):\n",
    "#     print(\"<<<<<<func start>>>>>>\")\n",
    "    for i in list1:\n",
    "        for j in list2:\n",
    "#             print(\"I am list1 : \", list1)\n",
    "#             print(\"I am list2 : \", list2)\n",
    "#             print(\"I am i : \", i)\n",
    "#             print(\"I am j : \", j)\n",
    "            candiList[candiIdx].append(i+j)\n",
    "            candiList[candiIdx].append(j-i)\n",
    "            candiList[candiIdx].append(i*j)\n",
    "            candiList[candiIdx].append(int(j/i))\n",
    "#             print(candiList)\n",
    "#             print(\"-------------\")\n",
    "            return candiList\n",
    "\n",
    "def solution(N, number):\n",
    "    #N 가지고 number를 만들어야함.\n",
    "    for i in range(1,8):\n",
    "        candiList[i].append(int(\"5\" * i))\n",
    "        s = int(i/2)+1\n",
    "#         print(\"---------\")\n",
    "#         print(\"number : \",i)\n",
    "        for idx in range(1,s):\n",
    "#             print(\"I am s : \",idx)\n",
    "#             print(\"I am cha s : \", i-idx)\n",
    "#             print(\"------------\")\n",
    "            oper(candiList[idx],candiList[i-idx],candiList,i)\n",
    "    if number in candiList[i]:\n",
    "        return i\n",
    "    \n",
    "    return -1\n"
   ]
  },
  {
   "cell_type": "code",
   "execution_count": 183,
   "id": "294116bd",
   "metadata": {},
   "outputs": [
    {
     "data": {
      "text/plain": [
       "3"
      ]
     },
     "execution_count": 183,
     "metadata": {},
     "output_type": "execute_result"
    }
   ],
   "source": [
    "solution(5,12)"
   ]
  },
  {
   "cell_type": "code",
   "execution_count": 182,
   "id": "f66174af",
   "metadata": {},
   "outputs": [
    {
     "data": {
      "text/plain": [
       "3"
      ]
     },
     "execution_count": 182,
     "metadata": {},
     "output_type": "execute_result"
    }
   ],
   "source": [
    "solution(2,11)"
   ]
  },
  {
   "cell_type": "code",
   "execution_count": 181,
   "id": "16527176",
   "metadata": {},
   "outputs": [
    {
     "data": {
      "text/plain": [
       "5"
      ]
     },
     "execution_count": 181,
     "metadata": {},
     "output_type": "execute_result"
    }
   ],
   "source": [
    "solution(5,8)"
   ]
  },
  {
   "cell_type": "code",
   "execution_count": 184,
   "id": "afd8d7ff",
   "metadata": {},
   "outputs": [],
   "source": [
    "candiList = [[] for i in range(9)]\n",
    "def oper(list1,list2,i):\n",
    "    for one in list1:\n",
    "            for two in list2:\n",
    "                candiList[i].append(one + two)\n",
    "                candiList[i].append(one - two)\n",
    "                candiList[i].append(two - one)\n",
    "                candiList[i].append(one * two)\n",
    "                if one != 0:\n",
    "                    candiList[i].append(two//one)\n",
    "                if two != 0:\n",
    "                    candiList[i].append(one//two)\n",
    "    return candiList\n",
    "\n",
    "def solution(N, number): #N 가지고 number를 만들어야함.\n",
    "    for i in range(1,9):\n",
    "        candiList[i].append(int(str(N)*i))\n",
    "        for half in range(1, i//2+1): \n",
    "            oper(candiList[half],candiList[i-half],i)\n",
    "        if number in candiList[i]:\n",
    "            return i\n",
    "    return -1"
   ]
  },
  {
   "cell_type": "code",
   "execution_count": 185,
   "id": "7c7392ce",
   "metadata": {},
   "outputs": [
    {
     "data": {
      "text/plain": [
       "4"
      ]
     },
     "execution_count": 185,
     "metadata": {},
     "output_type": "execute_result"
    }
   ],
   "source": [
    "solution(5,12)"
   ]
  },
  {
   "cell_type": "code",
   "execution_count": null,
   "id": "1669c5a2",
   "metadata": {},
   "outputs": [],
   "source": []
  }
 ],
 "metadata": {
  "kernelspec": {
   "display_name": "Python 3",
   "language": "python",
   "name": "python3"
  },
  "language_info": {
   "codemirror_mode": {
    "name": "ipython",
    "version": 3
   },
   "file_extension": ".py",
   "mimetype": "text/x-python",
   "name": "python",
   "nbconvert_exporter": "python",
   "pygments_lexer": "ipython3",
   "version": "3.8.8"
  }
 },
 "nbformat": 4,
 "nbformat_minor": 5
}
