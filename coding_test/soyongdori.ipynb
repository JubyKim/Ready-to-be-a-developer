{
 "cells": [
  {
   "cell_type": "code",
   "execution_count": null,
   "id": "a5282202",
   "metadata": {},
   "outputs": [],
   "source": [
    "-3 -3 2 0"
   ]
  },
  {
   "cell_type": "code",
   "execution_count": 62,
   "id": "8b6a47cd",
   "metadata": {
    "scrolled": false
   },
   "outputs": [
    {
     "name": "stdout",
     "output_type": "stream",
     "text": [
      "-3 -3 2 0\n",
      "37 36 35 34 \n",
      "38 17 16 15 \n",
      "39 18 5 4 \n",
      "40 19 6 1 \n",
      "41 20 7 8 \n",
      "42 21 22 23 \n"
     ]
    }
   ],
   "source": [
    "r1,c1,r2,c2 = list(map(int,input().split()))\n",
    "n = 2 * max([abs(r1),abs(r2),abs(c1),abs(c2)]) + 1\n",
    "r1,r2,c1,c2 = r1+ int(n//2), r2 + int(n//2), c1+ int(n//2), c2 + int(n//2)\n",
    "\n",
    "numList = [[0 for _ in range(n)]for _ in range(n)]\n",
    "repeatList = []\n",
    "\n",
    "for i in range(1,n):\n",
    "    if i == n-1 :\n",
    "        repeatList.append(i), repeatList.append(i),repeatList.append(i)\n",
    "    else :\n",
    "        repeatList.append(i), repeatList.append(i)\n",
    "        \n",
    "x,y = int(n/2), int(n/2)\n",
    "\n",
    "temp = 1 #1씩 커지는 수\n",
    "count = 0\n",
    "\n",
    "dx, dy = [0,-1,0,1], [1,0,-1,0]  #우 상 하 좌\n",
    "\n",
    "while x!=n-1 and y!=n-1 :\n",
    "    for i in repeatList:\n",
    "        for _ in range(i) :\n",
    "            numList[x][y] = temp\n",
    "            temp+=1\n",
    "            x += dx[count%4]\n",
    "            y += dy[count%4]\n",
    "        \n",
    "        count+=1\n",
    "        \n",
    "for idx,i in enumerate(numList):\n",
    "    if r1 <= idx <= r2 :\n",
    "        for ndx,n in enumerate(i) :\n",
    "            if c1 <= ndx <= c2:\n",
    "                print(n, end = \" \")\n",
    "        print()"
   ]
  },
  {
   "cell_type": "code",
   "execution_count": 70,
   "id": "36bdb8e8",
   "metadata": {},
   "outputs": [
    {
     "name": "stdout",
     "output_type": "stream",
     "text": [
      "r1 :  1\n",
      "c1 :  5\n",
      "r2 :  3\n",
      "c2 :  6\n"
     ]
    }
   ],
   "source": [
    "print(\"r1 : \", r1)\n",
    "print(\"c1 : \", c1)\n",
    "print(\"r2 : \", r2)\n",
    "print(\"c2 : \", c2)"
   ]
  },
  {
   "cell_type": "code",
   "execution_count": 26,
   "id": "0d5f1d72",
   "metadata": {},
   "outputs": [],
   "source": [
    "numList = [[37, 36, 35, 34, 33, 32, 31],\n",
    "[38, 17, 16, 15, 14, 13, 30],\n",
    "[39, 18, 5, 4, 3, 12, 29],\n",
    "[40, 19, 6, 1, 2, 11, 28],\n",
    "[41, 20, 7, 8, 9, 10, 27],\n",
    "[42, 21, 22, 23, 24, 25, 26],\n",
    "[43, 44, 45, 46, 47, 48, 49]]"
   ]
  },
  {
   "cell_type": "code",
   "execution_count": 27,
   "id": "85d67af2",
   "metadata": {},
   "outputs": [
    {
     "name": "stdout",
     "output_type": "stream",
     "text": [
      "37 36 35 34 \n",
      "38 17 16 15 \n",
      "39 18 5 4 \n",
      "40 19 6 1 \n",
      "41 20 7 8 \n",
      "42 21 22 23 \n"
     ]
    }
   ],
   "source": [
    "for idx,i in enumerate(numList):\n",
    "    if r1 <= idx <= r2 :\n",
    "        for ndx,n in enumerate(i) :\n",
    "            if c1 <= ndx <= c2:\n",
    "                print(n, end = \" \")\n",
    "        print()\n"
   ]
  },
  {
   "cell_type": "code",
   "execution_count": 199,
   "id": "4ca2d6dc",
   "metadata": {},
   "outputs": [
    {
     "name": "stdout",
     "output_type": "stream",
     "text": [
      "0 0 49 4\n",
      "99\n",
      "   1    2   11   28   53\n",
      "   8    9   10   27   52\n",
      "  23   24   25   26   51\n",
      "  46   47   48   49   50\n",
      "  77   78   79   80   81\n",
      " 116  117  118  119  120\n",
      " 163  164  165  166  167\n",
      " 218  219  220  221  222\n",
      " 281  282  283  284  285\n",
      " 352  353  354  355  356\n",
      " 431  432  433  434  435\n",
      " 518  519  520  521  522\n",
      " 613  614  615  616  617\n",
      " 716  717  718  719  720\n",
      " 827  828  829  830  831\n",
      " 946  947  948  949  950\n",
      "1073 1074 1075 1076 1077\n",
      "1208 1209 1210 1211 1212\n",
      "1351 1352 1353 1354 1355\n",
      "1502 1503 1504 1505 1506\n",
      "1661 1662 1663 1664 1665\n",
      "1828 1829 1830 1831 1832\n",
      "2003 2004 2005 2006 2007\n",
      "2186 2187 2188 2189 2190\n",
      "2377 2378 2379 2380 2381\n",
      "2576 2577 2578 2579 2580\n",
      "2783 2784 2785 2786 2787\n",
      "2998 2999 3000 3001 3002\n",
      "3221 3222 3223 3224 3225\n",
      "3452 3453 3454 3455 3456\n",
      "3691 3692 3693 3694 3695\n",
      "3938 3939 3940 3941 3942\n",
      "4193 4194 4195 4196 4197\n",
      "4456 4457 4458 4459 4460\n",
      "4727 4728 4729 4730 4731\n",
      "5006 5007 5008 5009 5010\n",
      "5293 5294 5295 5296 5297\n",
      "5588 5589 5590 5591 5592\n",
      "5891 5892 5893 5894 5895\n",
      "6202 6203 6204 6205 6206\n",
      "6521 6522 6523 6524 6525\n",
      "6848 6849 6850 6851 6852\n",
      "7183 7184 7185 7186 7187\n",
      "7526 7527 7528 7529 7530\n",
      "7877 7878 7879 7880 7881\n",
      "8236 8237 8238 8239 8240\n",
      "8603 8604 8605 8606 8607\n",
      "8978 8979 8980 8981 8982\n",
      "9361 9362 9363 9364 9365\n",
      "9752 9753 9754 9755 9756\n"
     ]
    }
   ],
   "source": [
    "# retry 2\n",
    "r1,c1,r2,c2 = list(map(int,input().split()))\n",
    "n = 2 * max([abs(r1),abs(r2),abs(c1),abs(c2)]) + 1\n",
    "r1,r2,c1,c2 = r1+ int(n//2), r2 + int(n//2), c1+ int(n//2), c2 + int(n//2)\n",
    "# print(r1,c1,r2,c2)\n",
    "\n",
    "# maxDiff = max(c2-c1,r2-r1)\n",
    "# # numList = [[]for i in range(maxDiff+1)]\n",
    "# print(n)\n",
    "numList = [[0 for _ in range(c2-c1+1)]for _ in range(r2-r1+1)]\n",
    "repeatList = []\n",
    "\n",
    "for i in range(1,n):\n",
    "    if i == n-1 :\n",
    "        repeatList.append(i), repeatList.append(i),repeatList.append(i)\n",
    "    else :\n",
    "        repeatList.append(i), repeatList.append(i)\n",
    "        \n",
    "x,y = int(n/2), int(n/2)\n",
    "\n",
    "temp = 1 #1씩 커지는 수\n",
    "count = 0\n",
    "\n",
    "dx, dy = [0,-1,0,1], [1,0,-1,0]  #우 상 하 좌\n",
    "if r1 == 0 and r2 == 0 and c1 == 0 and c2 == 0 :\n",
    "    print(1)\n",
    "else : \n",
    "    \n",
    "    while x!=n-1 and y!=n+1 :\n",
    "#         \n",
    "        for i in repeatList:\n",
    "            for _ in range(i) :\n",
    "                \n",
    "#                 print(\"I am x: \",x , \"I am y : \", y)\n",
    "    #             print(\"I am x-r1: \",x-r1 , \"I am y-c1 : \", y-c1)\n",
    "#                 if x == n-1 and y == n :\n",
    "#                     numList[x-r1][y-c1] = 1\n",
    "                \n",
    "                x += dx[count%4]\n",
    "                y += dy[count%4]\n",
    "#                 print(\"this is n : \", n)\n",
    "#                 print(\"this is n//2 : \",n/2)\n",
    "                if r1 <= int(n//2) <= r2 and c1 <= int(n//2) <= c2:\n",
    "                    numList[int(n//2)-r1][int(n//2)-c1] = 1\n",
    "                temp+=1\n",
    "                \n",
    "                if r1 <= x <= r2 and c1 <= y <= c2:\n",
    "                    numList[x-r1][y-c1] = temp\n",
    "                \n",
    "            count+=1\n",
    "\n",
    "    # print(numList)\n",
    "    maxNum = 0\n",
    "    for i in numList :\n",
    "        maxNum = max(max(i),maxNum)\n",
    "                \n",
    "    maxlength = len(str(maxNum))\n",
    "    for idx, i in enumerate(numList):\n",
    "        for ndx,j in enumerate(i):\n",
    "#             if j == \"0\":\n",
    "#                 numList[idx][ndx] = \"1\"\n",
    "            numList[idx][ndx] = \" \" * (maxlength-len(str(j)))+ str(j)\n",
    "\n",
    "    for i in numList:\n",
    "        print(\" \".join(i))\n",
    "        "
   ]
  },
  {
   "cell_type": "code",
   "execution_count": null,
   "id": "d0d53f7b",
   "metadata": {},
   "outputs": [],
   "source": [
    "-2 2 0 3\n",
    "/*\n",
    "13 30\n",
    "12 29\n",
    "11 28\n",
    "*/"
   ]
  },
  {
   "cell_type": "code",
   "execution_count": 49,
   "id": "724912c0",
   "metadata": {},
   "outputs": [
    {
     "ename": "SyntaxError",
     "evalue": "invalid syntax (<ipython-input-49-1975b33e0745>, line 1)",
     "output_type": "error",
     "traceback": [
      "\u001b[0;36m  File \u001b[0;32m\"<ipython-input-49-1975b33e0745>\"\u001b[0;36m, line \u001b[0;32m1\u001b[0m\n\u001b[0;31m    -3 -3 2 0\u001b[0m\n\u001b[0m          ^\u001b[0m\n\u001b[0;31mSyntaxError\u001b[0m\u001b[0;31m:\u001b[0m invalid syntax\n"
     ]
    }
   ],
   "source": [
    "-3 -3 2 0\n",
    "\n",
    "/*\n",
    "37 36 35 34\n",
    "38 17 16 15\n",
    "39 18  5  4\n",
    "40 19  6  1\n",
    "41 20  7  8\n",
    "42 21 22 23\n",
    "*/\n",
    "\n",
    "37 36 35 34 \n",
    "38 17 16 15 \n",
    "39 18 5 4 \n",
    "40 19 6 1 \n",
    "41 20 7 8 \n",
    "42 21 22 23"
   ]
  },
  {
   "cell_type": "code",
   "execution_count": 51,
   "id": "d3911c1f",
   "metadata": {},
   "outputs": [
    {
     "ename": "SyntaxError",
     "evalue": "invalid syntax (<ipython-input-51-5811c1eda84e>, line 1)",
     "output_type": "error",
     "traceback": [
      "\u001b[0;36m  File \u001b[0;32m\"<ipython-input-51-5811c1eda84e>\"\u001b[0;36m, line \u001b[0;32m1\u001b[0m\n\u001b[0;31m    -1 -2 -1 1\u001b[0m\n\u001b[0m             ^\u001b[0m\n\u001b[0;31mSyntaxError\u001b[0m\u001b[0;31m:\u001b[0m invalid syntax\n"
     ]
    }
   ],
   "source": [
    "-1 -2 -1 1 \n",
    "#18  5  4  3"
   ]
  },
  {
   "cell_type": "code",
   "execution_count": 52,
   "id": "272d9ee2",
   "metadata": {},
   "outputs": [
    {
     "ename": "SyntaxError",
     "evalue": "invalid syntax (<ipython-input-52-d35036481833>, line 1)",
     "output_type": "error",
     "traceback": [
      "\u001b[0;36m  File \u001b[0;32m\"<ipython-input-52-d35036481833>\"\u001b[0;36m, line \u001b[0;32m1\u001b[0m\n\u001b[0;31m    0 0 0 0 # 1\u001b[0m\n\u001b[0m      ^\u001b[0m\n\u001b[0;31mSyntaxError\u001b[0m\u001b[0;31m:\u001b[0m invalid syntax\n"
     ]
    }
   ],
   "source": [
    "0 0 0 0 # 1"
   ]
  },
  {
   "cell_type": "code",
   "execution_count": null,
   "id": "9fb131fa",
   "metadata": {},
   "outputs": [],
   "source": []
  }
 ],
 "metadata": {
  "kernelspec": {
   "display_name": "Python 3",
   "language": "python",
   "name": "python3"
  },
  "language_info": {
   "codemirror_mode": {
    "name": "ipython",
    "version": 3
   },
   "file_extension": ".py",
   "mimetype": "text/x-python",
   "name": "python",
   "nbconvert_exporter": "python",
   "pygments_lexer": "ipython3",
   "version": "3.8.8"
  }
 },
 "nbformat": 4,
 "nbformat_minor": 5
}
