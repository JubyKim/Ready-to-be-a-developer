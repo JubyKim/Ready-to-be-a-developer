{
 "cells": [
  {
   "cell_type": "code",
   "execution_count": null,
   "id": "2eac0ce9",
   "metadata": {},
   "outputs": [],
   "source": [
    "0110100\n",
    "0110101\n",
    "1110101\n",
    "0000111\n",
    "0100000\n",
    "0111110\n",
    "0111000"
   ]
  },
  {
   "cell_type": "code",
   "execution_count": 39,
   "id": "080afcfa",
   "metadata": {},
   "outputs": [
    {
     "name": "stdout",
     "output_type": "stream",
     "text": [
      "3\n",
      "123\n",
      "123\n",
      "123\n"
     ]
    }
   ],
   "source": [
    "n = int(input())\n",
    "post = []\n",
    "postNumber = []\n",
    "houseList = []\n",
    "for i in range(n):\n",
    "    post.append(input())\n",
    "\n",
    "for idx, num in enumerate(post):\n",
    "    postNum = []\n",
    "    for j, n in enumerate(num):\n",
    "        postNum.append(n)\n",
    "    postNumber.append(postNum)\n",
    "    \n",
    "for i in range(len(postNumber)):\n",
    "    for idx, house in enumerate(postNumber[i]):\n",
    "        if house == '1':\n",
    "            houseList.append([i,idx])"
   ]
  },
  {
   "cell_type": "code",
   "execution_count": 40,
   "id": "20fb96f5",
   "metadata": {},
   "outputs": [
    {
     "data": {
      "text/plain": [
       "[[0, 0], [1, 0], [2, 0]]"
      ]
     },
     "execution_count": 40,
     "metadata": {},
     "output_type": "execute_result"
    }
   ],
   "source": [
    "houseList"
   ]
  },
  {
   "cell_type": "code",
   "execution_count": 33,
   "id": "709c6ad4",
   "metadata": {},
   "outputs": [
    {
     "name": "stdout",
     "output_type": "stream",
     "text": [
      "[['0', '1', '1', '1', '1', '1', '0', '0', '1', '1', '1', '1', '1', '0', '0', '1', '1', '1', '1', '1', '0', '0', '1', '1', '1', '1', '1', '0', '0', '1', '1', '1', '1', '1', '0', 'v', '0', '1', '1', '1', '1', '1', '0'], ['0', '1', '1', '1', '1', '1', '0', '0', '1', '1', '1', '1', '1', '0', '0', '1', '1', '1', '1', '1', '0', '0', '1', '1', '1', '1', '1', '0', '0', '1', '1', '1', '1', '1', '0', 'v', '0', '1', '1', '1', '1', '1', '0'], ['0', '1', '1', '1', '1', '1', '0', '0', '1', '1', '1', '1', '1', '0', '0', '1', '1', '1', '1', '1', '0', '0', '1', '1', '1', '1', '1', '0', '0', '1', '1', '1', '1', '1', '0', 'v', '0', '1', '1', '1', '1', '1', '0'], ['0', '1', '1', '1', '1', '1', '0', '0', '1', '1', '1', '1', '1', '0', '0', '1', '1', '1', '1', '1', '0', '0', '1', '1', '1', '1', '1', '0', '0', '1', '1', '1', '1', '1', '0', 'v', '0', '1', '1', '1', '1', '1', '0'], ['0', '1', '1', '1', '1', '1', '0', '0', '1', '1', '1', '1', '1', '0', '0', '1', '1', '1', '1', '1', '0', '0', '1', '1', '1', '1', '1', '0', '0', '1', '1', '1', '1', '1', '0', 'v', '0', '1', '1', '1', '1', '1', '0'], ['0', '1', '1', '1', '1', '1', '0', '0', '1', '1', '1', '1', '1', '0', '0', '1', '1', '1', '1', '1', '0', '0', '1', '1', '1', '1', '1', '0', '0', '1', '1', '1', '1', '1', '0', 'v', '0', '1', '1', '1', '1', '1', '0'], ['0', '1', '1', '1', '1', '1', '0', '0', '1', '1', '1', '1', '1', '0', '0', '1', '1', '1', '1', '1', '0', '0', '1', '1', '1', '1', '1', '0', '0', '1', '1', '1', '1', '1', '0', 'v', '0', '1', '1', '1', '1', '1', '0']]\n"
     ]
    }
   ],
   "source": [
    "print(postNumber)"
   ]
  },
  {
   "cell_type": "code",
   "execution_count": null,
   "id": "b0df41c5",
   "metadata": {},
   "outputs": [],
   "source": []
  }
 ],
 "metadata": {
  "kernelspec": {
   "display_name": "Python 3",
   "language": "python",
   "name": "python3"
  },
  "language_info": {
   "codemirror_mode": {
    "name": "ipython",
    "version": 3
   },
   "file_extension": ".py",
   "mimetype": "text/x-python",
   "name": "python",
   "nbconvert_exporter": "python",
   "pygments_lexer": "ipython3",
   "version": "3.8.8"
  }
 },
 "nbformat": 4,
 "nbformat_minor": 5
}
