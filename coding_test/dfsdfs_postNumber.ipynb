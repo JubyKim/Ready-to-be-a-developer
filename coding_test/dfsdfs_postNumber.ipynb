{
 "cells": [
  {
   "cell_type": "code",
   "execution_count": null,
   "id": "2eac0ce9",
   "metadata": {},
   "outputs": [],
   "source": [
    "0110100\n",
    "0110101\n",
    "1110101\n",
    "0000111\n",
    "0100000\n",
    "0111110\n",
    "0111000"
   ]
  },
  {
   "cell_type": "code",
   "execution_count": 45,
   "id": "080afcfa",
   "metadata": {},
   "outputs": [
    {
     "name": "stdout",
     "output_type": "stream",
     "text": [
      "7\n",
      "0110100\n",
      "0110100\n",
      "0110100\n",
      "0110100\n",
      "0110100\n",
      "0110100\n",
      "0110100\n"
     ]
    }
   ],
   "source": [
    "n = int(input())\n",
    "post = []\n",
    "postNumber = []\n",
    "houseList = []\n",
    "postLoc = []\n",
    "for i in range(n):\n",
    "    post.append(input())\n",
    "\n",
    "for idx, num in enumerate(post):\n",
    "    postNum = []\n",
    "    for j, n in enumerate(num):\n",
    "        postNum.append(n)\n",
    "    postNumber.append(postNum)\n",
    "    \n",
    "for i in range(len(postNumber)):\n",
    "    for idx, house in enumerate(postNumber[i]):\n",
    "        if house == '1':\n",
    "            houseList.append([i,idx])"
   ]
  },
  {
   "cell_type": "code",
   "execution_count": 46,
   "id": "20fb96f5",
   "metadata": {},
   "outputs": [
    {
     "data": {
      "text/plain": [
       "[[0, 1],\n",
       " [0, 2],\n",
       " [0, 4],\n",
       " [1, 1],\n",
       " [1, 2],\n",
       " [1, 4],\n",
       " [2, 1],\n",
       " [2, 2],\n",
       " [2, 4],\n",
       " [3, 1],\n",
       " [3, 2],\n",
       " [3, 4],\n",
       " [4, 1],\n",
       " [4, 2],\n",
       " [4, 4],\n",
       " [5, 1],\n",
       " [5, 2],\n",
       " [5, 4],\n",
       " [6, 1],\n",
       " [6, 2],\n",
       " [6, 4]]"
      ]
     },
     "execution_count": 46,
     "metadata": {},
     "output_type": "execute_result"
    }
   ],
   "source": [
    "houseList"
   ]
  },
  {
   "cell_type": "code",
   "execution_count": 47,
   "id": "709c6ad4",
   "metadata": {},
   "outputs": [
    {
     "name": "stdout",
     "output_type": "stream",
     "text": [
      "[['0', '1', '1', '0', '1', '0', '0'], ['0', '1', '1', '0', '1', '0', '0'], ['0', '1', '1', '0', '1', '0', '0'], ['0', '1', '1', '0', '1', '0', '0'], ['0', '1', '1', '0', '1', '0', '0'], ['0', '1', '1', '0', '1', '0', '0'], ['0', '1', '1', '0', '1', '0', '0']]\n"
     ]
    }
   ],
   "source": [
    "print(postNumber)"
   ]
  },
  {
   "cell_type": "code",
   "execution_count": 48,
   "id": "b0df41c5",
   "metadata": {},
   "outputs": [],
   "source": [
    "for idx, item in enumerate(postNumber) :\n",
    "    for idx2, item2 in enumerate(item):\n",
    "        if item2 == '1':\n",
    "            postLoc.append((idx,idx2))\n",
    "            "
   ]
  },
  {
   "cell_type": "code",
   "execution_count": 49,
   "id": "58a7373a",
   "metadata": {},
   "outputs": [
    {
     "data": {
      "text/plain": [
       "[(0, 1),\n",
       " (0, 2),\n",
       " (0, 4),\n",
       " (1, 1),\n",
       " (1, 2),\n",
       " (1, 4),\n",
       " (2, 1),\n",
       " (2, 2),\n",
       " (2, 4),\n",
       " (3, 1),\n",
       " (3, 2),\n",
       " (3, 4),\n",
       " (4, 1),\n",
       " (4, 2),\n",
       " (4, 4),\n",
       " (5, 1),\n",
       " (5, 2),\n",
       " (5, 4),\n",
       " (6, 1),\n",
       " (6, 2),\n",
       " (6, 4)]"
      ]
     },
     "execution_count": 49,
     "metadata": {},
     "output_type": "execute_result"
    }
   ],
   "source": [
    "postLoc"
   ]
  },
  {
   "cell_type": "code",
   "execution_count": null,
   "id": "9b21a373",
   "metadata": {},
   "outputs": [],
   "source": []
  }
 ],
 "metadata": {
  "kernelspec": {
   "display_name": "Python 3",
   "language": "python",
   "name": "python3"
  },
  "language_info": {
   "codemirror_mode": {
    "name": "ipython",
    "version": 3
   },
   "file_extension": ".py",
   "mimetype": "text/x-python",
   "name": "python",
   "nbconvert_exporter": "python",
   "pygments_lexer": "ipython3",
   "version": "3.8.8"
  }
 },
 "nbformat": 4,
 "nbformat_minor": 5
}
