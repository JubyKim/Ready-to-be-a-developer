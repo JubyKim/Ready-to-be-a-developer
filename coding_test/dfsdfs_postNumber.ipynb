{
 "cells": [
  {
   "cell_type": "code",
   "execution_count": null,
   "id": "2eac0ce9",
   "metadata": {},
   "outputs": [],
   "source": [
    "0110100\n",
    "0110101\n",
    "1110101\n",
    "0000111\n",
    "0100000\n",
    "0111110\n",
    "0111000"
   ]
  },
  {
   "cell_type": "code",
   "execution_count": 146,
   "id": "080afcfa",
   "metadata": {},
   "outputs": [
    {
     "name": "stdout",
     "output_type": "stream",
     "text": [
      "7\n",
      "0110100\n",
      "0110101\n",
      "1110101\n",
      "0000111\n",
      "0100000\n",
      "0111110\n",
      "0111000\n",
      "5\n",
      "4\n",
      "3\n",
      "8\n",
      "7\n",
      "2\n"
     ]
    }
   ],
   "source": [
    "from collections import deque\n",
    "n = int(input())\n",
    "post = []\n",
    "postNumber = []\n",
    "houseList = []\n",
    "visitCheck = {}\n",
    "villList = []\n",
    "cnt = 0\n",
    "\n",
    "for i in range(n):\n",
    "    post.append(input())\n",
    "\n",
    "for idx, num in enumerate(post):\n",
    "    postNum = []\n",
    "    for j, n in enumerate(num):\n",
    "        postNum.append(n)\n",
    "    postNumber.append(postNum) # 각 원소를 list하나씩 담기\n",
    "    \n",
    "for i in range(len(postNumber)): #1인 곳의 좌표\n",
    "    for idx, house in enumerate(postNumber[i]):\n",
    "        if house == '1':\n",
    "            houseList.append((i,idx))\n",
    "            visitCheck[(i,idx)] = False\n",
    "            \n",
    "def findVill(a,b,cnt):\n",
    "    cnt += 1\n",
    "    villDict[villCnt] = cnt\n",
    "    if visitCheck[(a,b)] == False:\n",
    "        visitCheck[(a,b)] = True\n",
    "        if (a-1,b) in houseList and visitCheck[(a-1,b)] == False :\n",
    "            findVill(a-1,b,cnt)\n",
    "            \n",
    "        elif (a+1,b) in houseList and visitCheck[(a+1,b)] == False :\n",
    "            findVill(a+1,b,cnt)\n",
    "            \n",
    "        elif (a,b-1) in houseList and visitCheck[(a,b-1)] == False :\n",
    "            findVill(a,b-1,cnt)\n",
    "            \n",
    "        elif (a,b+1) in houseList and visitCheck[(a,b+1)] == False:\n",
    "            findVill(a,b+1,cnt)\n",
    "    \n",
    "    return cnt\n",
    "    \n",
    "    \n",
    "# findVill(houseList[0][0],houseList[0][1],0)\n",
    "villCnt = 0\n",
    "villDict = {}\n",
    "while list(visitCheck.values()).count(True) != len(houseList):\n",
    "    for i in houseList :\n",
    "        villCnt += 1\n",
    "#         print(\"villCnt\",villCnt)\n",
    "        findVill(i[0],i[1],0)\n",
    "#         villDict[villCnt] = findVill(i[0],i[1],0)\n",
    "        \n",
    "#         print(\"villCnt\",villCnt)\n",
    "#         findVill(i[0],i[1],0)\n",
    "villSum = deque()\n",
    "answerCnt = 0\n",
    "for i in villDict.values():\n",
    "    if i != 1:\n",
    "        answerCnt += 1\n",
    "        villSum.append(i)\n",
    "#         print(i)\n",
    "print(answerCnt)\n",
    "for i in range(len(villSum)):\n",
    "    print(villSum.popleft())\n",
    "#1110101"
   ]
  },
  {
   "cell_type": "code",
   "execution_count": null,
   "id": "94ed1732",
   "metadata": {},
   "outputs": [],
   "source": [
    "7\n",
    "0110100\n",
    "0110101\n",
    "1110101\n",
    "0000111\n",
    "0100000\n",
    "0111110\n",
    "0111000"
   ]
  },
  {
   "cell_type": "code",
   "execution_count": 129,
   "id": "e1de96d9",
   "metadata": {},
   "outputs": [
    {
     "data": {
      "text/plain": [
       "{1: 1,\n",
       " 2: 1,\n",
       " 3: 1,\n",
       " 4: 1,\n",
       " 5: 1,\n",
       " 6: 1,\n",
       " 7: 1,\n",
       " 8: 1,\n",
       " 9: 1,\n",
       " 10: 1,\n",
       " 11: 1,\n",
       " 12: 1,\n",
       " 13: 1,\n",
       " 14: 1,\n",
       " 15: 1,\n",
       " 16: 1,\n",
       " 17: 1,\n",
       " 18: 1,\n",
       " 19: 1,\n",
       " 20: 1,\n",
       " 21: 1,\n",
       " 22: 1,\n",
       " 23: 1,\n",
       " 24: 1,\n",
       " 25: 1,\n",
       " 26: 1,\n",
       " 27: 1,\n",
       " 28: 1,\n",
       " 29: 1,\n",
       " 30: 1,\n",
       " 31: 1,\n",
       " 32: 1,\n",
       " 33: 1,\n",
       " 34: 1,\n",
       " 35: 1}"
      ]
     },
     "execution_count": 129,
     "metadata": {},
     "output_type": "execute_result"
    }
   ],
   "source": [
    "villDict1110101"
   ]
  },
  {
   "cell_type": "code",
   "execution_count": null,
   "id": "db9df6fe",
   "metadata": {},
   "outputs": [],
   "source": []
  }
 ],
 "metadata": {
  "kernelspec": {
   "display_name": "Python 3",
   "language": "python",
   "name": "python3"
  },
  "language_info": {
   "codemirror_mode": {
    "name": "ipython",
    "version": 3
   },
   "file_extension": ".py",
   "mimetype": "text/x-python",
   "name": "python",
   "nbconvert_exporter": "python",
   "pygments_lexer": "ipython3",
   "version": "3.8.8"
  }
 },
 "nbformat": 4,
 "nbformat_minor": 5
}
