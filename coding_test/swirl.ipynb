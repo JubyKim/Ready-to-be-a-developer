{
 "cells": [
  {
   "cell_type": "code",
   "execution_count": null,
   "id": "708977e9",
   "metadata": {},
   "outputs": [],
   "source": [
    "-3 -3 2 0"
   ]
  },
  {
   "cell_type": "code",
   "execution_count": 62,
   "id": "a6348976",
   "metadata": {
    "scrolled": false
   },
   "outputs": [
    {
     "name": "stdout",
     "output_type": "stream",
     "text": [
      "-3 -3 2 0\n",
      "37 36 35 34 \n",
      "38 17 16 15 \n",
      "39 18 5 4 \n",
      "40 19 6 1 \n",
      "41 20 7 8 \n",
      "42 21 22 23 \n"
     ]
    }
   ],
   "source": [
    "r1,c1,r2,c2 = list(map(int,input().split()))\n",
    "n = 2 * max([abs(r1),abs(r2),abs(c1),abs(c2)]) + 1\n",
    "r1,r2,c1,c2 = r1+ int(n//2), r2 + int(n//2), c1+ int(n//2), c2 + int(n//2)\n",
    "\n",
    "numList = [[0 for _ in range(n)]for _ in range(n)]\n",
    "repeatList = []\n",
    "\n",
    "for i in range(1,n):\n",
    "    if i == n-1 :\n",
    "        repeatList.append(i), repeatList.append(i),repeatList.append(i)\n",
    "    else :\n",
    "        repeatList.append(i), repeatList.append(i)\n",
    "        \n",
    "x,y = int(n/2), int(n/2)\n",
    "\n",
    "temp = 1 #1씩 커지는 수\n",
    "count = 0\n",
    "\n",
    "dx, dy = [0,-1,0,1], [1,0,-1,0]  #우 상 하 좌\n",
    "\n",
    "while x!=n-1 and y!=n-1 :\n",
    "    for i in repeatList:\n",
    "        for _ in range(i) :\n",
    "            numList[x][y] = temp\n",
    "            temp+=1\n",
    "            x += dx[count%4]\n",
    "            y += dy[count%4]\n",
    "        \n",
    "        count+=1\n",
    "        \n",
    "for idx,i in enumerate(numList):\n",
    "    if r1 <= idx <= r2 :\n",
    "        for ndx,n in enumerate(i) :\n",
    "            if c1 <= ndx <= c2:\n",
    "                print(n, end = \" \")\n",
    "        print()"
   ]
  },
  {
   "cell_type": "code",
   "execution_count": 70,
   "id": "708f4660",
   "metadata": {},
   "outputs": [
    {
     "name": "stdout",
     "output_type": "stream",
     "text": [
      "r1 :  1\n",
      "c1 :  5\n",
      "r2 :  3\n",
      "c2 :  6\n"
     ]
    }
   ],
   "source": [
    "print(\"r1 : \", r1)\n",
    "print(\"c1 : \", c1)\n",
    "print(\"r2 : \", r2)\n",
    "print(\"c2 : \", c2)"
   ]
  },
  {
   "cell_type": "code",
   "execution_count": 26,
   "id": "f6e86742",
   "metadata": {},
   "outputs": [],
   "source": [
    "numList = [[37, 36, 35, 34, 33, 32, 31],\n",
    "[38, 17, 16, 15, 14, 13, 30],\n",
    "[39, 18, 5, 4, 3, 12, 29],\n",
    "[40, 19, 6, 1, 2, 11, 28],\n",
    "[41, 20, 7, 8, 9, 10, 27],\n",
    "[42, 21, 22, 23, 24, 25, 26],\n",
    "[43, 44, 45, 46, 47, 48, 49]]"
   ]
  },
  {
   "cell_type": "code",
   "execution_count": 27,
   "id": "d84c52cc",
   "metadata": {},
   "outputs": [
    {
     "name": "stdout",
     "output_type": "stream",
     "text": [
      "37 36 35 34 \n",
      "38 17 16 15 \n",
      "39 18 5 4 \n",
      "40 19 6 1 \n",
      "41 20 7 8 \n",
      "42 21 22 23 \n"
     ]
    }
   ],
   "source": [
    "for idx,i in enumerate(numList):\n",
    "    if r1 <= idx <= r2 :\n",
    "        for ndx,n in enumerate(i) :\n",
    "            if c1 <= ndx <= c2:\n",
    "                print(n, end = \" \")\n",
    "        print()\n"
   ]
  },
  {
   "cell_type": "code",
   "execution_count": 200,
   "id": "0746e7fc",
   "metadata": {},
   "outputs": [
    {
     "name": "stdout",
     "output_type": "stream",
     "text": [
      "-1 -1 1 1\n",
      "5 4 3\n",
      "6 1 2\n",
      "7 8 9\n"
     ]
    }
   ],
   "source": [
    "# retry 2\n",
    "r1,c1,r2,c2 = list(map(int,input().split()))\n",
    "n = 2 * max([abs(r1),abs(r2),abs(c1),abs(c2)]) + 1\n",
    "r1,r2,c1,c2 = r1+ int(n//2), r2 + int(n//2), c1+ int(n//2), c2 + int(n//2)\n",
    "numList = [[0 for _ in range(c2-c1+1)]for _ in range(r2-r1+1)]\n",
    "repeatList = []\n",
    "\n",
    "for i in range(1,n):\n",
    "    if i == n-1 :\n",
    "        repeatList.append(i), repeatList.append(i),repeatList.append(i)\n",
    "    else :\n",
    "        repeatList.append(i), repeatList.append(i)\n",
    "        \n",
    "x,y = int(n/2), int(n/2)\n",
    "\n",
    "temp = 1 #1씩 커지는 수\n",
    "count = 0\n",
    "\n",
    "dx, dy = [0,-1,0,1], [1,0,-1,0]  #우 상 하 좌\n",
    "if r1 == 0 and r2 == 0 and c1 == 0 and c2 == 0 :\n",
    "    print(1)\n",
    "else : \n",
    "    \n",
    "    while x!=n-1 and y!=n+1 :     \n",
    "        for i in repeatList:\n",
    "            for _ in range(i) :\n",
    "                x += dx[count%4]\n",
    "                y += dy[count%4]\n",
    "                \n",
    "                if r1 <= int(n//2) <= r2 and c1 <= int(n//2) <= c2:\n",
    "                    numList[int(n//2)-r1][int(n//2)-c1] = 1\n",
    "                temp+=1\n",
    "                \n",
    "                if r1 <= x <= r2 and c1 <= y <= c2:\n",
    "                    numList[x-r1][y-c1] = temp\n",
    "                \n",
    "            count+=1\n",
    "\n",
    "    maxNum = 0\n",
    "    for i in numList :\n",
    "        maxNum = max(max(i),maxNum)\n",
    "                \n",
    "    maxlength = len(str(maxNum))\n",
    "    for idx, i in enumerate(numList):\n",
    "        for ndx,j in enumerate(i):\n",
    "            numList[idx][ndx] = \" \" * (maxlength-len(str(j)))+ str(j)\n",
    "\n",
    "    for i in numList:\n",
    "        print(\" \".join(i))\n",
    "        "
   ]
  },
  {
   "cell_type": "code",
   "execution_count": null,
   "id": "a8cd82d9",
   "metadata": {},
   "outputs": [],
   "source": [
    "-2 2 0 3\n",
    "/*\n",
    "13 30\n",
    "12 29\n",
    "11 28\n",
    "*/"
   ]
  },
  {
   "cell_type": "code",
   "execution_count": 49,
   "id": "8d010128",
   "metadata": {},
   "outputs": [
    {
     "ename": "SyntaxError",
     "evalue": "invalid syntax (<ipython-input-49-1975b33e0745>, line 1)",
     "output_type": "error",
     "traceback": [
      "\u001b[0;36m  File \u001b[0;32m\"<ipython-input-49-1975b33e0745>\"\u001b[0;36m, line \u001b[0;32m1\u001b[0m\n\u001b[0;31m    -3 -3 2 0\u001b[0m\n\u001b[0m          ^\u001b[0m\n\u001b[0;31mSyntaxError\u001b[0m\u001b[0;31m:\u001b[0m invalid syntax\n"
     ]
    }
   ],
   "source": [
    "-3 -3 2 0\n",
    "\n",
    "/*\n",
    "37 36 35 34\n",
    "38 17 16 15\n",
    "39 18  5  4\n",
    "40 19  6  1\n",
    "41 20  7  8\n",
    "42 21 22 23\n",
    "*/\n",
    "\n",
    "37 36 35 34 \n",
    "38 17 16 15 \n",
    "39 18 5 4 \n",
    "40 19 6 1 \n",
    "41 20 7 8 \n",
    "42 21 22 23"
   ]
  },
  {
   "cell_type": "code",
   "execution_count": 51,
   "id": "d4006920",
   "metadata": {},
   "outputs": [
    {
     "ename": "SyntaxError",
     "evalue": "invalid syntax (<ipython-input-51-5811c1eda84e>, line 1)",
     "output_type": "error",
     "traceback": [
      "\u001b[0;36m  File \u001b[0;32m\"<ipython-input-51-5811c1eda84e>\"\u001b[0;36m, line \u001b[0;32m1\u001b[0m\n\u001b[0;31m    -1 -2 -1 1\u001b[0m\n\u001b[0m             ^\u001b[0m\n\u001b[0;31mSyntaxError\u001b[0m\u001b[0;31m:\u001b[0m invalid syntax\n"
     ]
    }
   ],
   "source": [
    "-1 -2 -1 1 \n",
    "#18  5  4  3"
   ]
  },
  {
   "cell_type": "code",
   "execution_count": 52,
   "id": "b6125b87",
   "metadata": {},
   "outputs": [
    {
     "ename": "SyntaxError",
     "evalue": "invalid syntax (<ipython-input-52-d35036481833>, line 1)",
     "output_type": "error",
     "traceback": [
      "\u001b[0;36m  File \u001b[0;32m\"<ipython-input-52-d35036481833>\"\u001b[0;36m, line \u001b[0;32m1\u001b[0m\n\u001b[0;31m    0 0 0 0 # 1\u001b[0m\n\u001b[0m      ^\u001b[0m\n\u001b[0;31mSyntaxError\u001b[0m\u001b[0;31m:\u001b[0m invalid syntax\n"
     ]
    }
   ],
   "source": [
    "0 0 0 0 # 1"
   ]
  },
  {
   "cell_type": "code",
   "execution_count": null,
   "id": "a1e514d1",
   "metadata": {},
   "outputs": [],
   "source": []
  }
 ],
 "metadata": {
  "kernelspec": {
   "display_name": "Python 3",
   "language": "python",
   "name": "python3"
  },
  "language_info": {
   "codemirror_mode": {
    "name": "ipython",
    "version": 3
   },
   "file_extension": ".py",
   "mimetype": "text/x-python",
   "name": "python",
   "nbconvert_exporter": "python",
   "pygments_lexer": "ipython3",
   "version": "3.8.8"
  }
 },
 "nbformat": 4,
 "nbformat_minor": 5
}
