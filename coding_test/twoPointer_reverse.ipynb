{
 "cells": [
  {
   "cell_type": "code",
   "execution_count": 1,
   "id": "eec90ba2",
   "metadata": {},
   "outputs": [],
   "source": [
    "# Frankly, I don't think we'll make much\n",
    "# money out of this scheme.\n",
    "# madam I'm adam"
   ]
  },
  {
   "cell_type": "markdown",
   "id": "a2a0fce3",
   "metadata": {},
   "source": [
    "# queue"
   ]
  },
  {
   "cell_type": "code",
   "execution_count": 20,
   "id": "a8579f87",
   "metadata": {},
   "outputs": [
    {
     "name": "stdout",
     "output_type": "stream",
     "text": [
      "3\n",
      "Frankly, I don't think we'll make much\n",
      "money out of this scheme.\n",
      "madam I'm adam\n",
      "hcum ekam ll'ew kniht t'nod I ,ylknarF\n",
      ".emehcs siht fo tuo yenom\n",
      "mada m'I madam\n"
     ]
    }
   ],
   "source": [
    "from collections import deque\n",
    "n = int(input())\n",
    "sentences = []\n",
    "de = deque()\n",
    "for i in range(n):\n",
    "    sentences.append(input())\n",
    "    \n",
    "for i in sentences :\n",
    "    for j in i:\n",
    "        de.append(j)\n",
    "\n",
    "    for p in range(len(de)):\n",
    "        print(de.pop(),end='')\n",
    "    print()"
   ]
  },
  {
   "cell_type": "markdown",
   "id": "6bfdd6d2",
   "metadata": {},
   "source": [
    "# twoPointer"
   ]
  },
  {
   "cell_type": "code",
   "execution_count": 40,
   "id": "a4f95f4e",
   "metadata": {},
   "outputs": [
    {
     "name": "stdout",
     "output_type": "stream",
     "text": [
      "3\n",
      "hello\n",
      "I am\n",
      "Juby\n",
      "olleh\n",
      "ma I\n",
      "ybuJ\n"
     ]
    }
   ],
   "source": [
    "from collections import deque\n",
    "n = int(input())\n",
    "sentences = []\n",
    "for i in range(n):\n",
    "    sentences.append(input())\n",
    "ss = [[] for i in range(n)]\n",
    "\n",
    "for idx,item in enumerate(sentences) :\n",
    "    for j in item:\n",
    "        ss[idx].append(j)\n",
    "r = 0\n",
    "l = len(ss[0])\n",
    "\n",
    "for idx, sent in enumerate(ss[:]) : \n",
    "    r = 0\n",
    "    l = len(sent)-1\n",
    "    while r < l :\n",
    "        tmp = ss[idx][r]\n",
    "        ss[idx][r] = ss[idx][l]\n",
    "        ss[idx][l] = tmp\n",
    "        r +=1\n",
    "        l -=1\n",
    "        \n",
    "for i in ss :\n",
    "    print(\"\".join(i))"
   ]
  },
  {
   "cell_type": "markdown",
   "id": "d86bd960",
   "metadata": {},
   "source": [
    "# reverse_print"
   ]
  },
  {
   "cell_type": "code",
   "execution_count": 41,
   "id": "c5ca4572",
   "metadata": {},
   "outputs": [
    {
     "name": "stdout",
     "output_type": "stream",
     "text": [
      "1\n",
      "hello\n",
      "olleh\n"
     ]
    }
   ],
   "source": [
    "from collections import deque\n",
    "n = int(input())\n",
    "sentences = []\n",
    "de = deque()\n",
    "for i in range(n):\n",
    "    sentences.append(input())\n",
    "    \n",
    "for i in sentences :\n",
    "    for j in i[::-1]:\n",
    "        print(j,end='')\n",
    "    print()"
   ]
  },
  {
   "cell_type": "code",
   "execution_count": null,
   "id": "2a06d8fa",
   "metadata": {},
   "outputs": [],
   "source": []
  }
 ],
 "metadata": {
  "kernelspec": {
   "display_name": "Python 3",
   "language": "python",
   "name": "python3"
  },
  "language_info": {
   "codemirror_mode": {
    "name": "ipython",
    "version": 3
   },
   "file_extension": ".py",
   "mimetype": "text/x-python",
   "name": "python",
   "nbconvert_exporter": "python",
   "pygments_lexer": "ipython3",
   "version": "3.8.8"
  }
 },
 "nbformat": 4,
 "nbformat_minor": 5
}
