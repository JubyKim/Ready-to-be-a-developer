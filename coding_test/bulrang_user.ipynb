{
 "cells": [
  {
   "cell_type": "code",
   "execution_count": 57,
   "id": "8069796d",
   "metadata": {},
   "outputs": [],
   "source": [
    "import itertools\n",
    "\n",
    "def solution(user_id, banned_id):\n",
    "    \n",
    "    countDict = {banned_id : 0 for banned_id in banned_id}\n",
    "    matchDict = {banned_id : []  for banned_id in banned_id}\n",
    "    \n",
    "    for i in banned_id :\n",
    "        for j in user_id :\n",
    "            if len(i) == len(j):\n",
    "                count =0\n",
    "                for h in range(len(j)):\n",
    "                    if i[h] == j[h] or i[h] == \"*\" :\n",
    "                        count+=1\n",
    "                    else :\n",
    "                        continue\n",
    "                if len(i) == count:\n",
    "                    countDict[i] +=1\n",
    "                    matchDict[i].append(j)\n",
    "                    \n",
    "    joinList = []\n",
    "    for i in matchDict.values():\n",
    "        joinList += i \n",
    "    print(joinList)\n",
    "    \n",
    "    suspectList = list(itertools.combinations(joinList,len(banned_id)))\n",
    "    \n",
    "    print(matchOKDict)\n",
    "    \n",
    "    \n",
    "    answer = 1\n",
    "    for keys, value in countDict.items():\n",
    "        if value > 0:\n",
    "            answer *= value\n",
    "            \n",
    "    return answer"
   ]
  },
  {
   "cell_type": "markdown",
   "id": "3177ac61",
   "metadata": {},
   "source": [
    "# new"
   ]
  },
  {
   "cell_type": "code",
   "execution_count": 426,
   "id": "a1e8f76e",
   "metadata": {},
   "outputs": [],
   "source": [
    "import itertools\n",
    "\n",
    "def solution(user_id, banned_id):\n",
    "    \n",
    "    answer = 0\n",
    "    \n",
    "    #make suspect List\n",
    "    suspectList = list(permutations(user_id,len(banned_id)))\n",
    "    lengthOkList = []\n",
    "    sureBannedList = []\n",
    "#     print(suspectList)\n",
    "    \n",
    "    for sus in suspectList:\n",
    "        count = 0\n",
    "        for i in range(len(banned_id)):\n",
    "            if len(sus[i]) == len(banned_id[i]):\n",
    "                count +=1\n",
    "            if count == len(banned_id): #n개의 원소의 길이가 모두 같다면\n",
    "                print(sus[i],banned_id[i])\n",
    "                newCount = 0\n",
    "                for j in range(len(banned_id[i])):\n",
    "                    if banned_id[i][j] == \"*\" or banned_id[i][j] == sus[i][j]:\n",
    "#                         print(\"banSpell\", banned_id[i][j])\n",
    "#                         print(\"susSpell\", sus[i][j])\n",
    "#                         print(\"--------------\")\n",
    "                        newCount += 1\n",
    "                    else :\n",
    "                        continue\n",
    "                if newCount == len(banned_id[i]):\n",
    "#                     print(\"banned_id\",banned_id[i])\n",
    "#                     print(\"sus\",sus[i])\n",
    "                    sureBannedList.append(sus)\n",
    "                        \n",
    "    for index, ban in enumerate(sureBannedList):\n",
    "        sureBannedList[index] = tuple(sorted(ban))\n",
    "    \n",
    "    print(set(sureBannedList))\n",
    "    answer = len(set(sureBannedList))\n",
    "    return answer"
   ]
  },
  {
   "cell_type": "code",
   "execution_count": 498,
   "id": "80598e2f",
   "metadata": {},
   "outputs": [
    {
     "name": "stdout",
     "output_type": "stream",
     "text": [
      "2\n"
     ]
    }
   ],
   "source": [
    "# 1 = 2\n",
    "solution([\"frodo\", \"fradi\", \"crodo\", \"abc123\", \"frodoc\"], [\"fr*d*\", \"abc1**\"], )"
   ]
  },
  {
   "cell_type": "code",
   "execution_count": 362,
   "id": "5f04117b",
   "metadata": {},
   "outputs": [
    {
     "name": "stdout",
     "output_type": "stream",
     "text": [
      "{('crodo', 'frodo', 'frodoc'), ('abc123', 'fradi', 'frodo'), ('abc123', 'crodo', 'frodo'), ('abc123', 'crodo', 'fradi'), ('fradi', 'frodo', 'frodoc'), ('crodo', 'fradi', 'frodoc')}\n",
      "6\n"
     ]
    },
    {
     "data": {
      "text/plain": [
       "6"
      ]
     },
     "execution_count": 362,
     "metadata": {},
     "output_type": "execute_result"
    }
   ],
   "source": [
    "#2 = 2\n",
    "solution([\"frodo\", \"fradi\", \"crodo\", \"abc123\", \"frodoc\"], [\"*rodo\", \"*rodo\", \"******\"])"
   ]
  },
  {
   "cell_type": "code",
   "execution_count": 242,
   "id": "b46f2e30",
   "metadata": {},
   "outputs": [
    {
     "name": "stdout",
     "output_type": "stream",
     "text": [
      "set()\n"
     ]
    },
    {
     "data": {
      "text/plain": [
       "0"
      ]
     },
     "execution_count": 242,
     "metadata": {},
     "output_type": "execute_result"
    }
   ],
   "source": [
    "# 3 = 3\n",
    "solution([\"frodo\", \"fradi\", \"crodo\", \"abc123\", \"frodoc\"], [\"fr*d*\", \"*rodo\", \"******\", \"******\"])"
   ]
  },
  {
   "cell_type": "code",
   "execution_count": 424,
   "id": "c1893de7",
   "metadata": {},
   "outputs": [],
   "source": [
    "import itertools\n",
    "\n",
    "def solution(user_id, banned_id):\n",
    "    answer = 0\n",
    "    \n",
    "    #user_id를 사용하여 무작위 순열 만들기\n",
    "    suspectList = list(permutations(user_id,len(banned_id)))\n",
    "    sureBannedList = []\n",
    "    \n",
    "    for sus in suspectList:\n",
    "        lengthCount = 0\n",
    "        for i in range(len(banned_id)):\n",
    "            print(i)\n",
    "            print(sus[i])\n",
    "            print(banned_id[i])\n",
    "            print(\"---\")\n",
    "            if len(sus[i]) == len(banned_id[i]):\n",
    "                lengthCount +=1\n",
    "            if lengthCount == len(banned_id): # 원소 4개의 길이가 같다면\n",
    "                characterCount = 0\n",
    "                realCount = 0\n",
    "                for j in range(len(sus[i])): # 문자 하나하나 비교하기\n",
    "                    if banned_id[i][j] == sus[i][j] :\n",
    "                        characterCount+=1\n",
    "                    if banned_id[i][j] == \"*\":\n",
    "                        characterCount+=1\n",
    "                    if characterCount == len(sus[i]):\n",
    "                        realCount +=1\n",
    "                    if realCount == len(banned_id):\n",
    "                        sureBannedList.append(sus)\n",
    "                        \n",
    "#     print(sureBannedList)\n",
    "    for index, ban in enumerate(sureBannedList):\n",
    "        sureBannedList[index] = tuple(sorted(ban))\n",
    "    \n",
    "    print(set(sureBannedList))\n",
    "    answer = len(set(sureBannedList))\n",
    "    print(answer)\n",
    "    return answer\n"
   ]
  },
  {
   "cell_type": "code",
   "execution_count": 496,
   "id": "21db182a",
   "metadata": {},
   "outputs": [
    {
     "name": "stdout",
     "output_type": "stream",
     "text": [
      "2\n"
     ]
    }
   ],
   "source": [
    "#2 = 2\n",
    "solution([\"frodo\", \"fradi\", \"crodo\", \"abc123\", \"frodoc\"], [\"*rodo\", \"*rodo\", \"******\"])"
   ]
  },
  {
   "cell_type": "code",
   "execution_count": 497,
   "id": "1b153ea5",
   "metadata": {},
   "outputs": [
    {
     "name": "stdout",
     "output_type": "stream",
     "text": [
      "3\n"
     ]
    }
   ],
   "source": [
    "# 3 = 3\n",
    "solution([\"frodo\", \"fradi\", \"crodo\", \"abc123\", \"frodoc\"], [\"fr*d*\", \"*rodo\", \"******\", \"******\"])"
   ]
  },
  {
   "cell_type": "markdown",
   "id": "57ae50d6",
   "metadata": {},
   "source": [
    "## real real last"
   ]
  },
  {
   "cell_type": "code",
   "execution_count": 494,
   "id": "c5b40f24",
   "metadata": {},
   "outputs": [],
   "source": [
    "import itertools\n",
    "\n",
    "def solution(user_id, banned_id):\n",
    "    \n",
    "    answer = 0\n",
    "    \n",
    "    #make suspect List\n",
    "    suspectList = list(permutations(user_id,len(banned_id)))\n",
    "    lengthOkList = []\n",
    "    sureBannedList = []\n",
    "#     print(suspectList)\n",
    "    \n",
    "    for sus in suspectList:\n",
    "        count = 0\n",
    "        for i in range(len(banned_id)):\n",
    "            if len(sus[i]) == len(banned_id[i]):\n",
    "                count +=1\n",
    "            if count == len(banned_id):\n",
    "                lengthOkList.append(sus)\n",
    "\n",
    "    for sus in lengthOkList:\n",
    "        realCount = 0\n",
    "        for index, s in enumerate(sus):\n",
    "            characterCount = 0\n",
    "            for idx in range(len(s)):\n",
    "                if banned_id[index][idx] == s[idx]:\n",
    "                    characterCount+=1\n",
    "                elif banned_id[index][idx] == \"*\":\n",
    "                    characterCount+=1\n",
    "                else :\n",
    "                    continue\n",
    "                \n",
    "#                     print(\"s\",s)\n",
    "#                     print(\"b\",banned_id[index])\n",
    "#                 print(characterCount)\n",
    "                if characterCount == len(s):\n",
    "                    realCount +=1\n",
    "                if realCount == len(banned_id):\n",
    "                    sureBannedList.append(sus)\n",
    "                    \n",
    "    for index, ban in enumerate(sureBannedList):\n",
    "        sureBannedList[index] = tuple(sorted(ban))\n",
    "    \n",
    "#     print(set(sureBannedList))\n",
    "    answer = len(set(sureBannedList))\n",
    "    print(answer)"
   ]
  },
  {
   "cell_type": "code",
   "execution_count": 514,
   "id": "39d49cd4",
   "metadata": {},
   "outputs": [
    {
     "data": {
      "text/plain": [
       "3"
      ]
     },
     "execution_count": 514,
     "metadata": {},
     "output_type": "execute_result"
    }
   ],
   "source": [
    "# 3 = 3\n",
    "solution([\"frodo\", \"fradi\", \"crodo\", \"abc123\", \"frodoc\"], [\"fr*d*\", \"*rodo\", \"******\", \"******\"])"
   ]
  },
  {
   "cell_type": "code",
   "execution_count": 513,
   "id": "799cb7fb",
   "metadata": {},
   "outputs": [],
   "source": [
    "from itertools import permutations\n",
    "\n",
    "def solution(user_id, banned_id):\n",
    "    \n",
    "    answer = 0\n",
    "    \n",
    "    #make suspect List\n",
    "    suspectList = list(permutations(user_id,len(banned_id)))\n",
    "    \n",
    "    lengthOkList = []\n",
    "    sureBannedList = []\n",
    "\n",
    "    \n",
    "    for sus in suspectList:\n",
    "        count = 0\n",
    "        for i in range(len(banned_id)):\n",
    "            if len(sus[i]) == len(banned_id[i]):\n",
    "                count +=1\n",
    "            else : continue\n",
    "            if count == len(banned_id):\n",
    "                lengthOkList.append(sus)\n",
    "\n",
    "    for sus in lengthOkList:\n",
    "        realCount = 0\n",
    "        for index, s in enumerate(sus):\n",
    "            characterCount = 0\n",
    "            for idx in range(len(s)):\n",
    "                if banned_id[index][idx] == s[idx]:\n",
    "                    characterCount+=1\n",
    "                elif banned_id[index][idx] == \"*\":\n",
    "                    characterCount+=1\n",
    "                else :\n",
    "                    continue\n",
    "                    \n",
    "                if characterCount == len(s):\n",
    "                    realCount +=1\n",
    "                if realCount == len(banned_id):\n",
    "                    sureBannedList.append(sus)\n",
    "                    \n",
    "                    \n",
    "    for index, ban in enumerate(sureBannedList):\n",
    "        sureBannedList[index] = tuple(sorted(ban)) \n",
    "\n",
    "    answer = len(set(sureBannedList))\n",
    "    \n",
    "#     print(set(sureBannedList))\n",
    "\n",
    "    return answer"
   ]
  },
  {
   "cell_type": "code",
   "execution_count": null,
   "id": "2d74a822",
   "metadata": {},
   "outputs": [],
   "source": []
  }
 ],
 "metadata": {
  "kernelspec": {
   "display_name": "Python 3",
   "language": "python",
   "name": "python3"
  },
  "language_info": {
   "codemirror_mode": {
    "name": "ipython",
    "version": 3
   },
   "file_extension": ".py",
   "mimetype": "text/x-python",
   "name": "python",
   "nbconvert_exporter": "python",
   "pygments_lexer": "ipython3",
   "version": "3.8.8"
  }
 },
 "nbformat": 4,
 "nbformat_minor": 5
}
