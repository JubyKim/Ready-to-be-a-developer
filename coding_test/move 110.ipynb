{
 "cells": [
  {
   "cell_type": "code",
   "execution_count": null,
   "id": "7b45cd96",
   "metadata": {},
   "outputs": [],
   "source": [
    "#첫 시도\n",
    "from collections import deque\n",
    "\n",
    "def solution(s):\n",
    "    answer = []\n",
    "    for number in s :\n",
    "        count110 = 1\n",
    "        number = list(number)\n",
    "        while count110 != 0 :\n",
    "            count111 = 0\n",
    "            count110 = 0\n",
    "            for i in range(0,len(number)-2):\n",
    "#                 print(i)\n",
    "#                     print(num[i] + num[i+1] + num[i+2])\n",
    "                if number[i] + number[i+1] + number[i+2] == \"111\":\n",
    "                    count111 +=1\n",
    "                    firstIDX = i\n",
    "                    secondIDX = i+1\n",
    "                    thirdIDX = i+2\n",
    "                    continue\n",
    "\n",
    "                if count111 > 0 and number[i] + number[i+1] + number[i+2] == \"110\": \n",
    "                        count110 +=1\n",
    "                        number[i], number[i+1], number[i+2] = \"1\",\"1\",\"1\"\n",
    "                        number[firstIDX], number[secondIDX], number[thirdIDX] = \"1\",\"1\",\"0\" \n",
    "                        count111 = 0\n",
    "                        count110 = 0\n",
    "        resultNum = \"\".join(number)\n",
    "        answer.append(resultNum)\n",
    "#         print(\"\".join(number))\n",
    "\n",
    "    return answer"
   ]
  },
  {
   "cell_type": "code",
   "execution_count": 496,
   "id": "8658678a",
   "metadata": {},
   "outputs": [],
   "source": [
    "from collections import deque\n",
    "\n",
    "\n",
    "def checkSort(number):\n",
    "    count = 0\n",
    "    for i in range(0,len(number)-2):\n",
    "        if number[i] + number[i+1] + number[i+2] == \"111\":\n",
    "            count +=1 \n",
    "            \n",
    "        if count111 > 0 and number[i] + number[i+1] + number[i+2] == \"110\": \n",
    "            return True\n",
    "        \n",
    "        else : return False\n",
    "    \n",
    "def solution(s):\n",
    "    answer = []\n",
    "    \n",
    "    for number in s :\n",
    "        count110 = 1\n",
    "        number = list(number)\n",
    "        while count110 != 0 :\n",
    "            count111List = []\n",
    "            count111 = 0\n",
    "            count110 = 0\n",
    "            for i in range(0,len(number)-2):\n",
    "                if number[i] + number[i+1] + number[i+2] == \"111\":\n",
    "                    count111 +=1\n",
    "                    count111List.append(i)\n",
    "\n",
    "                if count111 > 0 and number[i] + number[i+1] + number[i+2] == \"110\": \n",
    "                    count110 +=1\n",
    "                    number.pop(i)\n",
    "                    number.pop(i)\n",
    "                    number.pop(i)\n",
    "\n",
    "                    number.insert(count111List[0]-1,\"1\")\n",
    "                    number.insert(count111List[0]-1,\"1\")\n",
    "                    number.insert(count111List[0]-1,\"0\")\n",
    "                    \n",
    "                    count111 =0\n",
    "                    count111List.clear()\n",
    "                    break\n",
    "                    \n",
    "        resultNum = \"\".join(number)\n",
    "        answer.append(resultNum)\n",
    "    return answer"
   ]
  },
  {
   "cell_type": "code",
   "execution_count": 497,
   "id": "153b09ff",
   "metadata": {},
   "outputs": [
    {
     "data": {
      "text/plain": [
       "['1101', '100110110', '0110110111']"
      ]
     },
     "execution_count": 497,
     "metadata": {},
     "output_type": "execute_result"
    }
   ],
   "source": [
    "solution([\"1110\",\"100111100\",\"0111111010\"])\n",
    "# [\"1101\",\"100110110\",\"0110110111\"]"
   ]
  },
  {
   "cell_type": "code",
   "execution_count": 380,
   "id": "ffa171a7",
   "metadata": {},
   "outputs": [],
   "source": [
    "number = [\"1\",\"1\",\"1\",\"0\"]"
   ]
  },
  {
   "cell_type": "code",
   "execution_count": 209,
   "id": "3990e234",
   "metadata": {},
   "outputs": [
    {
     "name": "stdout",
     "output_type": "stream",
     "text": [
      "['1', '1', '0', '0']\n"
     ]
    },
    {
     "ename": "IndexError",
     "evalue": "pop index out of range",
     "output_type": "error",
     "traceback": [
      "\u001b[0;31m---------------------------------------------------------------------------\u001b[0m",
      "\u001b[0;31mIndexError\u001b[0m                                Traceback (most recent call last)",
      "\u001b[0;32m<ipython-input-209-eaeb5dacf180>\u001b[0m in \u001b[0;36m<module>\u001b[0;34m\u001b[0m\n\u001b[1;32m      6\u001b[0m         \u001b[0mnumber\u001b[0m\u001b[0;34m.\u001b[0m\u001b[0mpop\u001b[0m\u001b[0;34m(\u001b[0m\u001b[0mi\u001b[0m\u001b[0;34m)\u001b[0m\u001b[0;34m\u001b[0m\u001b[0;34m\u001b[0m\u001b[0m\n\u001b[1;32m      7\u001b[0m         \u001b[0mnumber\u001b[0m\u001b[0;34m.\u001b[0m\u001b[0mpop\u001b[0m\u001b[0;34m(\u001b[0m\u001b[0mi\u001b[0m\u001b[0;34m+\u001b[0m\u001b[0;36m1\u001b[0m\u001b[0;34m)\u001b[0m\u001b[0;34m\u001b[0m\u001b[0;34m\u001b[0m\u001b[0m\n\u001b[0;32m----> 8\u001b[0;31m         \u001b[0mnumber\u001b[0m\u001b[0;34m.\u001b[0m\u001b[0mpop\u001b[0m\u001b[0;34m(\u001b[0m\u001b[0mi\u001b[0m\u001b[0;34m+\u001b[0m\u001b[0;36m2\u001b[0m\u001b[0;34m)\u001b[0m\u001b[0;34m\u001b[0m\u001b[0;34m\u001b[0m\u001b[0m\n\u001b[0m\u001b[1;32m      9\u001b[0m         \u001b[0mprint\u001b[0m\u001b[0;34m(\u001b[0m\u001b[0mnumber\u001b[0m\u001b[0;34m)\u001b[0m\u001b[0;34m\u001b[0m\u001b[0;34m\u001b[0m\u001b[0m\n",
      "\u001b[0;31mIndexError\u001b[0m: pop index out of range"
     ]
    }
   ],
   "source": [
    "for i in range(0,len(number)-2):\n",
    "    if number[i] + number[i+1] + number[i+2] == \"110\": \n",
    "        number[2] = \"0\" \n",
    "        \n",
    "        print(number)\n",
    "        number.pop(i)\n",
    "        number.pop(i+1)\n",
    "        number.pop(i+2)\n",
    "        print(number)"
   ]
  },
  {
   "cell_type": "markdown",
   "id": "ccd047b1",
   "metadata": {},
   "source": [
    "# https://tiktaek.tistory.com/m/71"
   ]
  },
  {
   "cell_type": "code",
   "execution_count": 397,
   "id": "c91225c4",
   "metadata": {},
   "outputs": [],
   "source": [
    "def solution(s):\n",
    "    answer = []\n",
    "    for number in s:\n",
    "        count, idx, stack = 0, 0, \"\"\n",
    "        while idx < len(number):            # 110 찾기\n",
    "            print(stack)\n",
    "            print(stack[-2:])\n",
    "            if number[idx] == \"0\" and stack[-2:] == \"11\":\n",
    "                stack = stack[:-2]\n",
    "                count += 1\n",
    "            else:\n",
    "                stack += number[idx]\n",
    "            idx += 1\n",
    "\n",
    "        idx = stack.find(\"111\")             # 110이 빠진 string에서 111 찾기\n",
    "        if idx == -1:                       # 0뒤에 110 반복해 붙이기\n",
    "            idx = stack.rfind('0')\n",
    "            stack = stack[:idx+1]+\"110\"*count+stack[idx+1:]\n",
    "        else:                               # 111앞에 110 반복해 붙이기\n",
    "            stack = stack[:idx]+\"110\"*count+stack[idx:]\n",
    "        answer.append(stack)\n",
    "    return answer"
   ]
  },
  {
   "cell_type": "code",
   "execution_count": 398,
   "id": "1fc9304b",
   "metadata": {},
   "outputs": [
    {
     "name": "stdout",
     "output_type": "stream",
     "text": [
      "\n",
      "\n",
      "1\n",
      "1\n",
      "11\n",
      "11\n",
      "111\n",
      "11\n",
      "\n",
      "\n",
      "1\n",
      "1\n",
      "10\n",
      "10\n",
      "100\n",
      "00\n",
      "1001\n",
      "01\n",
      "10011\n",
      "11\n",
      "100111\n",
      "11\n",
      "1001111\n",
      "11\n",
      "10011\n",
      "11\n",
      "\n",
      "\n",
      "0\n",
      "0\n",
      "01\n",
      "01\n",
      "011\n",
      "11\n",
      "0111\n",
      "11\n",
      "01111\n",
      "11\n",
      "011111\n",
      "11\n",
      "0111111\n",
      "11\n",
      "01111\n",
      "11\n",
      "011111\n",
      "11\n"
     ]
    },
    {
     "data": {
      "text/plain": [
       "['1101', '100110110', '0110110111']"
      ]
     },
     "execution_count": 398,
     "metadata": {},
     "output_type": "execute_result"
    }
   ],
   "source": [
    "solution([\"1110\",\"100111100\",\"0111111010\"])\n",
    "# [\"1101\",\"100110110\",\"0110110111\"]"
   ]
  },
  {
   "cell_type": "markdown",
   "id": "c990b029",
   "metadata": {},
   "source": [
    "# rererere"
   ]
  },
  {
   "cell_type": "code",
   "execution_count": 498,
   "id": "982a0f20",
   "metadata": {},
   "outputs": [],
   "source": [
    "def solution(s):\n",
    "    #deque 으로 바꿔서 풀어보기\n",
    "    answer = []\n",
    "    idxList111 = []\n",
    "    for number in s :\n",
    "        count110 = 1\n",
    "        count111 = 0\n",
    "        number = list(number)\n",
    "        while count110 != 0 :\n",
    "            count110 = 0\n",
    "            for i in range(0,len(number)-2):\n",
    "    #             print(number[i] + number[i+1] + number[i+2])\n",
    "                if number[i] + number[i+1] + number[i+2] == \"111\" :\n",
    "                    count111 += 1\n",
    "                    idxList111.append(i)\n",
    "                    \n",
    "            if count111 > 0 :\n",
    "                for i in range(0,len(number)-2):\n",
    "                    if number[i] + number[i+1] + number[i+2] == \"110\" :\n",
    "                        count110 += 1\n",
    "                        number.pop(i)\n",
    "                        number.pop(i)\n",
    "                        number.pop(i)\n",
    "\n",
    "                        number.insert(idxList111[0]-1,\"110\")\n",
    "#                         number.insert(idxList111[0]-1,\"1\")\n",
    "#                         number.insert(idxList111[0]-1,\"0\")\n",
    "                        #insert가 시간복잡도 큼.\n",
    "                        #appendLeft\n",
    "\n",
    "                        count111 =0\n",
    "                        idxList111.clear()\n",
    "#                         break\n",
    "        \n",
    "#                 \n",
    "        resultNum = \"\".join(number)\n",
    "        answer.append(resultNum)\n",
    "        print(answer)"
   ]
  },
  {
   "cell_type": "code",
   "execution_count": 499,
   "id": "3ed0614c",
   "metadata": {},
   "outputs": [
    {
     "name": "stdout",
     "output_type": "stream",
     "text": [
      "['1101']\n"
     ]
    },
    {
     "ename": "IndexError",
     "evalue": "list index out of range",
     "output_type": "error",
     "traceback": [
      "\u001b[0;31m---------------------------------------------------------------------------\u001b[0m",
      "\u001b[0;31mIndexError\u001b[0m                                Traceback (most recent call last)",
      "\u001b[0;32m<ipython-input-499-6f734eb9ef48>\u001b[0m in \u001b[0;36m<module>\u001b[0;34m\u001b[0m\n\u001b[0;32m----> 1\u001b[0;31m \u001b[0msolution\u001b[0m\u001b[0;34m(\u001b[0m\u001b[0;34m[\u001b[0m\u001b[0;34m\"1110\"\u001b[0m\u001b[0;34m,\u001b[0m\u001b[0;34m\"100111100\"\u001b[0m\u001b[0;34m,\u001b[0m\u001b[0;34m\"0111111010\"\u001b[0m\u001b[0;34m]\u001b[0m\u001b[0;34m)\u001b[0m\u001b[0;34m\u001b[0m\u001b[0;34m\u001b[0m\u001b[0m\n\u001b[0m\u001b[1;32m      2\u001b[0m \u001b[0;31m# [\"1101\",\"100110110\",\"0110110111\"]\u001b[0m\u001b[0;34m\u001b[0m\u001b[0;34m\u001b[0m\u001b[0;34m\u001b[0m\u001b[0m\n",
      "\u001b[0;32m<ipython-input-498-eec9e4c3993e>\u001b[0m in \u001b[0;36msolution\u001b[0;34m(s)\u001b[0m\n\u001b[1;32m     17\u001b[0m             \u001b[0;32mif\u001b[0m \u001b[0mcount111\u001b[0m \u001b[0;34m>\u001b[0m \u001b[0;36m0\u001b[0m \u001b[0;34m:\u001b[0m\u001b[0;34m\u001b[0m\u001b[0;34m\u001b[0m\u001b[0m\n\u001b[1;32m     18\u001b[0m                 \u001b[0;32mfor\u001b[0m \u001b[0mi\u001b[0m \u001b[0;32min\u001b[0m \u001b[0mrange\u001b[0m\u001b[0;34m(\u001b[0m\u001b[0;36m0\u001b[0m\u001b[0;34m,\u001b[0m\u001b[0mlen\u001b[0m\u001b[0;34m(\u001b[0m\u001b[0mnumber\u001b[0m\u001b[0;34m)\u001b[0m\u001b[0;34m-\u001b[0m\u001b[0;36m2\u001b[0m\u001b[0;34m)\u001b[0m\u001b[0;34m:\u001b[0m\u001b[0;34m\u001b[0m\u001b[0;34m\u001b[0m\u001b[0m\n\u001b[0;32m---> 19\u001b[0;31m                     \u001b[0;32mif\u001b[0m \u001b[0mnumber\u001b[0m\u001b[0;34m[\u001b[0m\u001b[0mi\u001b[0m\u001b[0;34m]\u001b[0m \u001b[0;34m+\u001b[0m \u001b[0mnumber\u001b[0m\u001b[0;34m[\u001b[0m\u001b[0mi\u001b[0m\u001b[0;34m+\u001b[0m\u001b[0;36m1\u001b[0m\u001b[0;34m]\u001b[0m \u001b[0;34m+\u001b[0m \u001b[0mnumber\u001b[0m\u001b[0;34m[\u001b[0m\u001b[0mi\u001b[0m\u001b[0;34m+\u001b[0m\u001b[0;36m2\u001b[0m\u001b[0;34m]\u001b[0m \u001b[0;34m==\u001b[0m \u001b[0;34m\"110\"\u001b[0m \u001b[0;34m:\u001b[0m\u001b[0;34m\u001b[0m\u001b[0;34m\u001b[0m\u001b[0m\n\u001b[0m\u001b[1;32m     20\u001b[0m                         \u001b[0mcount110\u001b[0m \u001b[0;34m+=\u001b[0m \u001b[0;36m1\u001b[0m\u001b[0;34m\u001b[0m\u001b[0;34m\u001b[0m\u001b[0m\n\u001b[1;32m     21\u001b[0m                         \u001b[0mnumber\u001b[0m\u001b[0;34m.\u001b[0m\u001b[0mpop\u001b[0m\u001b[0;34m(\u001b[0m\u001b[0mi\u001b[0m\u001b[0;34m)\u001b[0m\u001b[0;34m\u001b[0m\u001b[0;34m\u001b[0m\u001b[0m\n",
      "\u001b[0;31mIndexError\u001b[0m: list index out of range"
     ]
    }
   ],
   "source": [
    "solution([\"1110\",\"100111100\",\"0111111010\"])\n",
    "# [\"1101\",\"100110110\",\"0110110111\"]"
   ]
  },
  {
   "cell_type": "markdown",
   "id": "ab016996",
   "metadata": {},
   "source": [
    "# https://sangsangss.tistory.com/3"
   ]
  },
  {
   "cell_type": "code",
   "execution_count": 484,
   "id": "681846b0",
   "metadata": {},
   "outputs": [],
   "source": [
    "def solution(s):\n",
    "    answer = []\n",
    "    for number in s:\n",
    "        array = []\n",
    "        cnt = 0\n",
    "        for j in number:\n",
    "            if j == '0':\n",
    "                if array[-2:] == ['1', '1']: #110 찾기\n",
    "                    cnt = cnt + 1\n",
    "                    array.pop()\n",
    "                    array.pop()\n",
    "                else:\n",
    "                    array.append(j)\n",
    "            else:\n",
    "                array.append(j)\n",
    "        print(array)\n",
    "        if len(array) == 0: #110 으로만 이루어진 경우\n",
    "            answer.append('110' * cnt)\n",
    "        else:\n",
    "            for j in range(len(array)-1, -1, -1):\n",
    "                print(j)\n",
    "                if array[j] == '0':\n",
    "                    array[j] = '0' + ('110' * cnt)\n",
    "                    break\n",
    "                if j == 0:\n",
    "                    array[j] = ('110' * cnt) + '1'\n",
    "            answer.append(''.join(array))\n",
    "        \n",
    "    return answer\n",
    "    "
   ]
  },
  {
   "cell_type": "code",
   "execution_count": 486,
   "id": "16ff7fd7",
   "metadata": {},
   "outputs": [
    {
     "name": "stdout",
     "output_type": "stream",
     "text": [
      "['1']\n",
      "0\n",
      "['1', '0', '0']\n",
      "2\n",
      "['0', '0', '0', '1', '0', '1', '0', '1', '0', '1', '0', '1', '1', '1']\n",
      "13\n",
      "12\n",
      "11\n",
      "10\n"
     ]
    },
    {
     "data": {
      "text/plain": [
       "['1101', '100110110', '00010101010110110110110110110111']"
      ]
     },
     "execution_count": 486,
     "metadata": {},
     "output_type": "execute_result"
    }
   ],
   "source": [
    "solution([\"1110\",\"100111100\",\"01111110110100100010101010111110\"])\n",
    "# [\"1101\",\"100110110\",\"0110110111\"]"
   ]
  },
  {
   "cell_type": "code",
   "execution_count": 487,
   "id": "db8269f7",
   "metadata": {},
   "outputs": [
    {
     "name": "stdout",
     "output_type": "stream",
     "text": [
      "6\n",
      "5\n",
      "4\n",
      "3\n",
      "2\n",
      "1\n",
      "0\n"
     ]
    }
   ],
   "source": [
    "array = [1,2,3,4,5,6,7]\n",
    "\n",
    "for j in range(len(array)-1, -1, -1):\n",
    "    print(j)"
   ]
  },
  {
   "cell_type": "code",
   "execution_count": null,
   "id": "75edfd32",
   "metadata": {},
   "outputs": [],
   "source": []
  }
 ],
 "metadata": {
  "kernelspec": {
   "display_name": "Python 3",
   "language": "python",
   "name": "python3"
  },
  "language_info": {
   "codemirror_mode": {
    "name": "ipython",
    "version": 3
   },
   "file_extension": ".py",
   "mimetype": "text/x-python",
   "name": "python",
   "nbconvert_exporter": "python",
   "pygments_lexer": "ipython3",
   "version": "3.8.8"
  }
 },
 "nbformat": 4,
 "nbformat_minor": 5
}
