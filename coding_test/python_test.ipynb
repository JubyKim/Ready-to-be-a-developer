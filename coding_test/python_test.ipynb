{
 "cells": [
  {
   "cell_type": "code",
   "execution_count": 303,
   "id": "327709bc",
   "metadata": {},
   "outputs": [],
   "source": [
    "def solution(id_list, report, k):\n",
    "    dic = {user_id : set() for user_id in id_list}\n",
    "    \n",
    "    for item in report :\n",
    "        dic[item.split()[0]].add(item.split()[1])\n",
    "        \n",
    "    count = {user_id : 0 for user_id in id_list}\n",
    "    \n",
    "    for item in dic.items():\n",
    "        for i in id_list :\n",
    "            if i in item[1] :\n",
    "                count[i] += 1\n",
    "                \n",
    "    answer = []\n",
    "    alarmCount = {user_id : 0 for user_id in id_list}\n",
    "    \n",
    "    for i in count.items():\n",
    "        if i[1] >= k:\n",
    "            answer.append(i[0])\n",
    "            \n",
    "    \n",
    "    theAnswer = list()\n",
    "    for item in range(len(dic.items())):\n",
    "        for i in answer:\n",
    "            if i in dic[id_list[item]]:\n",
    "                alarmCount[id_list[item]] += 1\n",
    "        theAnswer = alarmCount.values()\n",
    "    return list(theAnswer)"
   ]
  },
  {
   "cell_type": "code",
   "execution_count": 304,
   "id": "40206c46",
   "metadata": {},
   "outputs": [
    {
     "data": {
      "text/plain": [
       "[2, 1, 1, 0]"
      ]
     },
     "execution_count": 304,
     "metadata": {},
     "output_type": "execute_result"
    }
   ],
   "source": [
    "solution([\"muzi\", \"frodo\", \"apeach\", \"neo\"], [\"muzi frodo\",\"muzi frodo\",\"muzi frodo\",\"apeach frodo\",\"frodo neo\",\"muzi neo\",\"apeach muzi\"], 2)"
   ]
  },
  {
   "cell_type": "code",
   "execution_count": 305,
   "id": "492996c3",
   "metadata": {},
   "outputs": [
    {
     "data": {
      "text/plain": [
       "[0, 0]"
      ]
     },
     "execution_count": 305,
     "metadata": {},
     "output_type": "execute_result"
    }
   ],
   "source": [
    "solution([\"con\", \"ryan\"], [\"ryan con\", \"ryan con\", \"ryan con\", \"ryan con\"], 3)"
   ]
  },
  {
   "cell_type": "code",
   "execution_count": null,
   "id": "f74596d8",
   "metadata": {},
   "outputs": [],
   "source": []
  }
 ],
 "metadata": {
  "kernelspec": {
   "display_name": "Python 3",
   "language": "python",
   "name": "python3"
  },
  "language_info": {
   "codemirror_mode": {
    "name": "ipython",
    "version": 3
   },
   "file_extension": ".py",
   "mimetype": "text/x-python",
   "name": "python",
   "nbconvert_exporter": "python",
   "pygments_lexer": "ipython3",
   "version": "3.8.8"
  }
 },
 "nbformat": 4,
 "nbformat_minor": 5
}
