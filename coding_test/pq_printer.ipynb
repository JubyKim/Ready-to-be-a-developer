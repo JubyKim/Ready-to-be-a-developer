{
 "cells": [
  {
   "cell_type": "code",
   "execution_count": null,
   "id": "461c1bcc",
   "metadata": {},
   "outputs": [],
   "source": [
    "#우선순위큐를 사용해서 구현\n",
    "from queue import PriorityQueue\n",
    "\n",
    "que = PriorityQueue()\n",
    "\n",
    "que.put((3, 'Apple')) #(우선순위, item)\n",
    "que.put((1, 'Banana'))\n",
    "que.put((2, 'Cherry'))\n",
    "\n",
    "print(que.get()[1])  # Banana\n",
    "print(que.get()[1])  # Cherry\n",
    "print(que.get()[1])  # Apple\n",
    "\n"
   ]
  }
 ],
 "metadata": {
  "kernelspec": {
   "display_name": "Python 3",
   "language": "python",
   "name": "python3"
  },
  "language_info": {
   "codemirror_mode": {
    "name": "ipython",
    "version": 3
   },
   "file_extension": ".py",
   "mimetype": "text/x-python",
   "name": "python",
   "nbconvert_exporter": "python",
   "pygments_lexer": "ipython3",
   "version": "3.8.8"
  }
 },
 "nbformat": 4,
 "nbformat_minor": 5
}
