{
 "cells": [
  {
   "cell_type": "code",
   "execution_count": 1,
   "id": "461c1bcc",
   "metadata": {},
   "outputs": [
    {
     "name": "stdout",
     "output_type": "stream",
     "text": [
      "Banana\n",
      "Cherry\n",
      "Apple\n"
     ]
    }
   ],
   "source": [
    "#우선순위큐를 사용해서 구현\n",
    "from queue import PriorityQueue\n",
    "\n",
    "que = PriorityQueue()\n",
    "\n",
    "que.put((3, 'Apple')) #(우선순위, item)\n",
    "que.put((1, 'Banana'))\n",
    "que.put((2, 'Cherry'))\n",
    "\n",
    "print(que.get()[1])  # Banana\n",
    "print(que.get()[1])  # Cherry\n",
    "print(que.get()[1])  # Apple\n",
    "\n"
   ]
  },
  {
   "cell_type": "code",
   "execution_count": null,
   "id": "cece1241",
   "metadata": {},
   "outputs": [],
   "source": [
    "from collections import deque \n",
    "\n",
    "def solution(priorities, location):\n",
    "    queueList = []\n",
    "    \n",
    "    for i in range(len(priorities)):\n",
    "        queueList.append([i,priorities[i]])\n",
    "\n",
    "    printOrder = []\n",
    "    queue = deque(queueList)\n",
    "\n",
    "    while len(printOrder) != len(priorities):\n",
    "        maxNum = 1\n",
    "        \n",
    "        #maxNum 구하기\n",
    "        for que in queue : \n",
    "            if que[1] > maxNum :\n",
    "                maxNum = que[1]\n",
    "            \n",
    "    \n",
    "        popList = queue.popleft()\n",
    "        num = popList[1]\n",
    "\n",
    "        if maxNum == num:\n",
    "            printOrder.append(popList)\n",
    "        else :\n",
    "            queue.append(popList)\n",
    "        \n",
    "    for index, p in enumerate(printOrder) :\n",
    "        if p[0] == location:\n",
    "            answer = index+1\n",
    "            \n",
    "    return answer"
   ]
  }
 ],
 "metadata": {
  "kernelspec": {
   "display_name": "Python 3",
   "language": "python",
   "name": "python3"
  },
  "language_info": {
   "codemirror_mode": {
    "name": "ipython",
    "version": 3
   },
   "file_extension": ".py",
   "mimetype": "text/x-python",
   "name": "python",
   "nbconvert_exporter": "python",
   "pygments_lexer": "ipython3",
   "version": "3.8.8"
  }
 },
 "nbformat": 4,
 "nbformat_minor": 5
}
