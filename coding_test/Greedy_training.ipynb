{
 "cells": [
  {
   "cell_type": "code",
   "execution_count": 368,
   "id": "e50d2df6",
   "metadata": {},
   "outputs": [],
   "source": [
    "def solution(n, lost, reserve):\n",
    "    answer = 0\n",
    "    reserve.sort()\n",
    "    lost.sort()\n",
    "\n",
    "    for r in reserve: #[3,5]\n",
    "        print(r)\n",
    "        for l in lost :# [2,4]\n",
    "            print(\"lost\",lost)\n",
    "#             print(l)\n",
    "            if  r-1 == l: \n",
    "                print(l,\"l1\")\n",
    "                print(r,\"r1\")\n",
    "                reserve.remove(r)\n",
    "                lost.remove(l)\n",
    "                \n",
    "            elif l == r+1:\n",
    "                print(l,\"l2\")\n",
    "                print(r,\"r2\")\n",
    "                reserve.remove(r)\n",
    "                lost.remove(l)\n",
    "#                 print()\n",
    "                \n",
    "    answer = n - len(lost)\n",
    "    return answer"
   ]
  },
  {
   "cell_type": "code",
   "execution_count": 369,
   "id": "e61fce3f",
   "metadata": {},
   "outputs": [
    {
     "name": "stdout",
     "output_type": "stream",
     "text": [
      "3\n",
      "lost [2, 4]\n",
      "2 l1\n",
      "3 r1\n"
     ]
    },
    {
     "data": {
      "text/plain": [
       "4"
      ]
     },
     "execution_count": 369,
     "metadata": {},
     "output_type": "execute_result"
    }
   ],
   "source": [
    "solution(5, [2, 4], [5, 3])"
   ]
  },
  {
   "cell_type": "code",
   "execution_count": 197,
   "id": "6848713c",
   "metadata": {},
   "outputs": [
    {
     "data": {
      "text/plain": [
       "4"
      ]
     },
     "execution_count": 197,
     "metadata": {},
     "output_type": "execute_result"
    }
   ],
   "source": [
    "solution(5, [2, 4], [3, 5])"
   ]
  },
  {
   "cell_type": "code",
   "execution_count": null,
   "id": "cdc0ecc3",
   "metadata": {},
   "outputs": [],
   "source": [
    "#     print(\"lost \", lost)\n",
    "#     print(\"reserve \",reserve)\n",
    "#             print(\"i am l \", l)\n",
    "#             print(\"i am r+1 \", r+1)\n",
    "#             print(\"i am r-1 \", r-1)"
   ]
  },
  {
   "cell_type": "code",
   "execution_count": 106,
   "id": "2f032a7e",
   "metadata": {},
   "outputs": [
    {
     "name": "stdout",
     "output_type": "stream",
     "text": [
      "reserve  [1, 3, 5]\n",
      "lost  [2, 4]\n",
      "i am l  2\n",
      "i am r+1  2\n",
      "i am r-1  0\n",
      "reserve  [3, 5]\n",
      "lost  [4]\n",
      "i am l  4\n",
      "i am r+1  6\n",
      "i am r-1  4\n",
      "[]\n"
     ]
    },
    {
     "data": {
      "text/plain": [
       "5"
      ]
     },
     "execution_count": 106,
     "metadata": {},
     "output_type": "execute_result"
    }
   ],
   "source": [
    "solution(5,[2, 4],[1, 3, 5])"
   ]
  },
  {
   "cell_type": "code",
   "execution_count": 91,
   "id": "a63c67a7",
   "metadata": {},
   "outputs": [
    {
     "name": "stdout",
     "output_type": "stream",
     "text": [
      "[1]\n",
      "i am l  3\n",
      "i am r+1  2\n",
      "i am r-1  0\n",
      "[3]\n"
     ]
    },
    {
     "data": {
      "text/plain": [
       "2"
      ]
     },
     "execution_count": 91,
     "metadata": {},
     "output_type": "execute_result"
    }
   ],
   "source": [
    "solution(3,[3],[1])"
   ]
  },
  {
   "cell_type": "code",
   "execution_count": 92,
   "id": "a3984d22",
   "metadata": {},
   "outputs": [
    {
     "name": "stdout",
     "output_type": "stream",
     "text": [
      "[3, 5]\n",
      "i am l  2\n",
      "i am r+1  4\n",
      "i am r-1  2\n",
      "[4]\n"
     ]
    },
    {
     "data": {
      "text/plain": [
       "4"
      ]
     },
     "execution_count": 92,
     "metadata": {},
     "output_type": "execute_result"
    }
   ],
   "source": []
  },
  {
   "cell_type": "code",
   "execution_count": 234,
   "id": "670b0399",
   "metadata": {},
   "outputs": [
    {
     "name": "stdout",
     "output_type": "stream",
     "text": [
      "lost [2, 4]\n",
      "2\n"
     ]
    }
   ],
   "source": [
    "lost = [2,4]\n",
    "for l in lost :# [2,4]\n",
    "    print(\"lost\",lost)\n",
    "    print(l)\n",
    "    lost.remove(2)"
   ]
  },
  {
   "cell_type": "markdown",
   "id": "6b72eb44",
   "metadata": {},
   "source": [
    "# 다시!"
   ]
  },
  {
   "cell_type": "code",
   "execution_count": 377,
   "id": "7955b611",
   "metadata": {},
   "outputs": [],
   "source": [
    "def solution(n, lost, reserve):\n",
    "    answer = 0\n",
    "    absent = len(lost) \n",
    "    reserve = set(reserve)\n",
    "    lost = set(lost)\n",
    "    \n",
    "    inter = reserve.intersection(lost)\n",
    "    reserve = reserve.difference(inter)\n",
    "    lost = lost.difference(inter)\n",
    "    \n",
    "    print(lost)\n",
    "    print(reserve)\n",
    "    \n",
    "    \n",
    "    for r in reserve: \n",
    "        for l in lost :\n",
    "\n",
    "            if  r-1 == l: \n",
    "                absent -=1 \n",
    "                break\n",
    "                \n",
    "            elif l == r+1:\n",
    "                absent -= 1\n",
    "                break\n",
    "    \n",
    "    if absent < 0 : absent = 0\n",
    "    answer = n - absent\n",
    "    \n",
    "    return answer"
   ]
  },
  {
   "cell_type": "code",
   "execution_count": 378,
   "id": "4b6a32f6",
   "metadata": {},
   "outputs": [
    {
     "name": "stdout",
     "output_type": "stream",
     "text": [
      "{2, 4}\n",
      "{1, 3, 5}\n"
     ]
    },
    {
     "data": {
      "text/plain": [
       "5"
      ]
     },
     "execution_count": 378,
     "metadata": {},
     "output_type": "execute_result"
    }
   ],
   "source": [
    "solution(5,[2, 4],[1, 3, 5])"
   ]
  },
  {
   "cell_type": "code",
   "execution_count": 376,
   "id": "64db24b6",
   "metadata": {},
   "outputs": [
    {
     "name": "stdout",
     "output_type": "stream",
     "text": [
      "{1}\n",
      "{3}\n"
     ]
    },
    {
     "data": {
      "text/plain": [
       "2"
      ]
     },
     "execution_count": 376,
     "metadata": {},
     "output_type": "execute_result"
    }
   ],
   "source": [
    "solution(3,[3],[1])"
   ]
  },
  {
   "cell_type": "code",
   "execution_count": 373,
   "id": "8495c3e9",
   "metadata": {},
   "outputs": [
    {
     "data": {
      "text/plain": [
       "1"
      ]
     },
     "execution_count": 373,
     "metadata": {},
     "output_type": "execute_result"
    }
   ],
   "source": [
    "solution(3,[1,2],[2,3])"
   ]
  },
  {
   "cell_type": "code",
   "execution_count": 354,
   "id": "d808046d",
   "metadata": {},
   "outputs": [
    {
     "name": "stdout",
     "output_type": "stream",
     "text": [
      "[1, 2, 5, 6, 8]\n",
      "[2, 5, 6]\n",
      "[5, 6]\n"
     ]
    }
   ],
   "source": [
    "lost = [1,2,5,6,8]\n",
    "reserve = [1,2,3,4,8,9]\n",
    "\n",
    "for r in reserve: #[3,5]\n",
    "    print(lost)\n",
    "    for l in lost :# [2,4]\n",
    "        if l in reserve:\n",
    "            lost.remove(l)\n",
    "            reserve.remove(l)"
   ]
  },
  {
   "cell_type": "code",
   "execution_count": 367,
   "id": "b0efd16e",
   "metadata": {},
   "outputs": [
    {
     "name": "stdout",
     "output_type": "stream",
     "text": [
      "{5, 6}\n",
      "{9, 3, 4}\n"
     ]
    },
    {
     "data": {
      "text/plain": [
       "5"
      ]
     },
     "execution_count": 367,
     "metadata": {},
     "output_type": "execute_result"
    }
   ],
   "source": [
    "lost = [1,2,5,6,8]\n",
    "reserve = [1,2,3,4,8,9]\n",
    "\n",
    "solution(9,lost,reserve)"
   ]
  },
  {
   "cell_type": "code",
   "execution_count": null,
   "id": "e9aadd93",
   "metadata": {},
   "outputs": [],
   "source": []
  }
 ],
 "metadata": {
  "kernelspec": {
   "display_name": "Python 3",
   "language": "python",
   "name": "python3"
  },
  "language_info": {
   "codemirror_mode": {
    "name": "ipython",
    "version": 3
   },
   "file_extension": ".py",
   "mimetype": "text/x-python",
   "name": "python",
   "nbconvert_exporter": "python",
   "pygments_lexer": "ipython3",
   "version": "3.8.8"
  }
 },
 "nbformat": 4,
 "nbformat_minor": 5
}
