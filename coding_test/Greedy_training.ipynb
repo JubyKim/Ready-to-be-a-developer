{
 "cells": [
  {
   "cell_type": "code",
   "execution_count": 368,
   "id": "b4d7c37f",
   "metadata": {},
   "outputs": [],
   "source": [
    "def solution(n, lost, reserve):\n",
    "    answer = 0\n",
    "    reserve.sort()\n",
    "    lost.sort()\n",
    "\n",
    "    for r in reserve: #[3,5]\n",
    "        print(r)\n",
    "        for l in lost :# [2,4]\n",
    "            print(\"lost\",lost)\n",
    "#             print(l)\n",
    "            if  r-1 == l: \n",
    "                print(l,\"l1\")\n",
    "                print(r,\"r1\")\n",
    "                reserve.remove(r)\n",
    "                lost.remove(l)\n",
    "                \n",
    "            elif l == r+1:\n",
    "                print(l,\"l2\")\n",
    "                print(r,\"r2\")\n",
    "                reserve.remove(r)\n",
    "                lost.remove(l)\n",
    "#                 print()\n",
    "                \n",
    "    answer = n - len(lost)\n",
    "    return answer"
   ]
  },
  {
   "cell_type": "code",
   "execution_count": 369,
   "id": "f78f10e1",
   "metadata": {},
   "outputs": [
    {
     "name": "stdout",
     "output_type": "stream",
     "text": [
      "3\n",
      "lost [2, 4]\n",
      "2 l1\n",
      "3 r1\n"
     ]
    },
    {
     "data": {
      "text/plain": [
       "4"
      ]
     },
     "execution_count": 369,
     "metadata": {},
     "output_type": "execute_result"
    }
   ],
   "source": [
    "solution(5, [2, 4], [5, 3])"
   ]
  },
  {
   "cell_type": "code",
   "execution_count": 197,
   "id": "85ef9a04",
   "metadata": {},
   "outputs": [
    {
     "data": {
      "text/plain": [
       "4"
      ]
     },
     "execution_count": 197,
     "metadata": {},
     "output_type": "execute_result"
    }
   ],
   "source": [
    "solution(5, [2, 4], [3, 5])"
   ]
  },
  {
   "cell_type": "code",
   "execution_count": null,
   "id": "86ada05b",
   "metadata": {},
   "outputs": [],
   "source": [
    "#     print(\"lost \", lost)\n",
    "#     print(\"reserve \",reserve)\n",
    "#             print(\"i am l \", l)\n",
    "#             print(\"i am r+1 \", r+1)\n",
    "#             print(\"i am r-1 \", r-1)"
   ]
  },
  {
   "cell_type": "code",
   "execution_count": 106,
   "id": "7b2654c5",
   "metadata": {},
   "outputs": [
    {
     "name": "stdout",
     "output_type": "stream",
     "text": [
      "reserve  [1, 3, 5]\n",
      "lost  [2, 4]\n",
      "i am l  2\n",
      "i am r+1  2\n",
      "i am r-1  0\n",
      "reserve  [3, 5]\n",
      "lost  [4]\n",
      "i am l  4\n",
      "i am r+1  6\n",
      "i am r-1  4\n",
      "[]\n"
     ]
    },
    {
     "data": {
      "text/plain": [
       "5"
      ]
     },
     "execution_count": 106,
     "metadata": {},
     "output_type": "execute_result"
    }
   ],
   "source": [
    "solution(5,[2, 4],[1, 3, 5])"
   ]
  },
  {
   "cell_type": "code",
   "execution_count": 91,
   "id": "fbbed005",
   "metadata": {},
   "outputs": [
    {
     "name": "stdout",
     "output_type": "stream",
     "text": [
      "[1]\n",
      "i am l  3\n",
      "i am r+1  2\n",
      "i am r-1  0\n",
      "[3]\n"
     ]
    },
    {
     "data": {
      "text/plain": [
       "2"
      ]
     },
     "execution_count": 91,
     "metadata": {},
     "output_type": "execute_result"
    }
   ],
   "source": [
    "solution(3,[3],[1])"
   ]
  },
  {
   "cell_type": "code",
   "execution_count": 92,
   "id": "78812a75",
   "metadata": {},
   "outputs": [
    {
     "name": "stdout",
     "output_type": "stream",
     "text": [
      "[3, 5]\n",
      "i am l  2\n",
      "i am r+1  4\n",
      "i am r-1  2\n",
      "[4]\n"
     ]
    },
    {
     "data": {
      "text/plain": [
       "4"
      ]
     },
     "execution_count": 92,
     "metadata": {},
     "output_type": "execute_result"
    }
   ],
   "source": []
  },
  {
   "cell_type": "code",
   "execution_count": 234,
   "id": "4a9036ea",
   "metadata": {},
   "outputs": [
    {
     "name": "stdout",
     "output_type": "stream",
     "text": [
      "lost [2, 4]\n",
      "2\n"
     ]
    }
   ],
   "source": [
    "lost = [2,4]\n",
    "for l in lost :# [2,4]\n",
    "    print(\"lost\",lost)\n",
    "    print(l)\n",
    "    lost.remove(2)"
   ]
  },
  {
   "cell_type": "markdown",
   "id": "517b38d9",
   "metadata": {},
   "source": [
    "# 다시!"
   ]
  },
  {
   "cell_type": "code",
   "execution_count": 377,
   "id": "8e91bacc",
   "metadata": {},
   "outputs": [],
   "source": [
    "def solution(n, lost, reserve):\n",
    "    answer = 0\n",
    "    absent = len(lost) \n",
    "    reserve = set(reserve)\n",
    "    lost = set(lost)\n",
    "    \n",
    "    inter = reserve.intersection(lost)\n",
    "    reserve = reserve.difference(inter)\n",
    "    lost = lost.difference(inter)\n",
    "    \n",
    "#     print(lost)\n",
    "#     print(reserve)\n",
    "    \n",
    "    for r in reserve: \n",
    "        for l in lost :\n",
    "\n",
    "            if  r-1 == l: \n",
    "                absent -=1 \n",
    "                break\n",
    "                \n",
    "            elif l == r+1:\n",
    "                absent -= 1\n",
    "                break\n",
    "    \n",
    "    if absent < 0 : absent = 0\n",
    "    answer = n - absent\n",
    "    \n",
    "    return answer"
   ]
  },
  {
   "cell_type": "code",
   "execution_count": 383,
   "id": "def6c1a1",
   "metadata": {},
   "outputs": [
    {
     "data": {
      "text/plain": [
       "-2"
      ]
     },
     "execution_count": 383,
     "metadata": {},
     "output_type": "execute_result"
    }
   ],
   "source": [
    "solution(5,[2, 4],[1, 3, 5])"
   ]
  },
  {
   "cell_type": "code",
   "execution_count": 384,
   "id": "24402e1b",
   "metadata": {},
   "outputs": [
    {
     "data": {
      "text/plain": [
       "0"
      ]
     },
     "execution_count": 384,
     "metadata": {},
     "output_type": "execute_result"
    }
   ],
   "source": [
    "solution(3,[3],[1])"
   ]
  },
  {
   "cell_type": "code",
   "execution_count": 385,
   "id": "2de453a2",
   "metadata": {},
   "outputs": [
    {
     "data": {
      "text/plain": [
       "-1"
      ]
     },
     "execution_count": 385,
     "metadata": {},
     "output_type": "execute_result"
    }
   ],
   "source": [
    "solution(3,[1,2],[2,3])"
   ]
  },
  {
   "cell_type": "code",
   "execution_count": 354,
   "id": "39fc066c",
   "metadata": {},
   "outputs": [
    {
     "name": "stdout",
     "output_type": "stream",
     "text": [
      "[1, 2, 5, 6, 8]\n",
      "[2, 5, 6]\n",
      "[5, 6]\n"
     ]
    }
   ],
   "source": [
    "lost = [1,2,5,6,8]\n",
    "reserve = [1,2,3,4,8,9]\n",
    "\n",
    "for r in reserve: #[3,5]\n",
    "    print(lost)\n",
    "    for l in lost :# [2,4]\n",
    "        if l in reserve:\n",
    "            lost.remove(l)\n",
    "            reserve.remove(l)"
   ]
  },
  {
   "cell_type": "code",
   "execution_count": 381,
   "id": "6bdbe2b7",
   "metadata": {},
   "outputs": [
    {
     "ename": "TypeError",
     "evalue": "'set' object is not subscriptable",
     "output_type": "error",
     "traceback": [
      "\u001b[0;31m---------------------------------------------------------------------------\u001b[0m",
      "\u001b[0;31mTypeError\u001b[0m                                 Traceback (most recent call last)",
      "\u001b[0;32m<ipython-input-381-4699aa1c5aba>\u001b[0m in \u001b[0;36m<module>\u001b[0;34m\u001b[0m\n\u001b[1;32m      2\u001b[0m \u001b[0mreserve\u001b[0m \u001b[0;34m=\u001b[0m \u001b[0;34m[\u001b[0m\u001b[0;36m1\u001b[0m\u001b[0;34m,\u001b[0m\u001b[0;36m2\u001b[0m\u001b[0;34m,\u001b[0m\u001b[0;36m3\u001b[0m\u001b[0;34m,\u001b[0m\u001b[0;36m4\u001b[0m\u001b[0;34m,\u001b[0m\u001b[0;36m8\u001b[0m\u001b[0;34m,\u001b[0m\u001b[0;36m9\u001b[0m\u001b[0;34m]\u001b[0m\u001b[0;34m\u001b[0m\u001b[0;34m\u001b[0m\u001b[0m\n\u001b[1;32m      3\u001b[0m \u001b[0;34m\u001b[0m\u001b[0m\n\u001b[0;32m----> 4\u001b[0;31m \u001b[0msolution\u001b[0m\u001b[0;34m(\u001b[0m\u001b[0;36m9\u001b[0m\u001b[0;34m,\u001b[0m\u001b[0mlost\u001b[0m\u001b[0;34m,\u001b[0m\u001b[0mreserve\u001b[0m\u001b[0;34m)\u001b[0m\u001b[0;34m\u001b[0m\u001b[0;34m\u001b[0m\u001b[0m\n\u001b[0m",
      "\u001b[0;32m<ipython-input-380-feaa363c4210>\u001b[0m in \u001b[0;36msolution\u001b[0;34m(n, lost, reserve)\u001b[0m\n\u001b[1;32m     12\u001b[0m \u001b[0;31m#     print(reserve)\u001b[0m\u001b[0;34m\u001b[0m\u001b[0;34m\u001b[0m\u001b[0;34m\u001b[0m\u001b[0m\n\u001b[1;32m     13\u001b[0m \u001b[0;34m\u001b[0m\u001b[0m\n\u001b[0;32m---> 14\u001b[0;31m     \u001b[0;32mfor\u001b[0m \u001b[0mr\u001b[0m \u001b[0;32min\u001b[0m \u001b[0mreserve\u001b[0m\u001b[0;34m[\u001b[0m\u001b[0;34m:\u001b[0m\u001b[0;34m]\u001b[0m\u001b[0;34m:\u001b[0m\u001b[0;34m\u001b[0m\u001b[0;34m\u001b[0m\u001b[0m\n\u001b[0m\u001b[1;32m     15\u001b[0m         \u001b[0;32mfor\u001b[0m \u001b[0ml\u001b[0m \u001b[0;32min\u001b[0m \u001b[0mlost\u001b[0m\u001b[0;34m[\u001b[0m\u001b[0;34m:\u001b[0m\u001b[0;34m]\u001b[0m \u001b[0;34m:\u001b[0m\u001b[0;34m\u001b[0m\u001b[0;34m\u001b[0m\u001b[0m\n\u001b[1;32m     16\u001b[0m             \u001b[0;32mif\u001b[0m \u001b[0mr\u001b[0m\u001b[0;34m-\u001b[0m\u001b[0;36m1\u001b[0m \u001b[0;34m==\u001b[0m \u001b[0ml\u001b[0m \u001b[0;32mor\u001b[0m \u001b[0ml\u001b[0m \u001b[0;34m==\u001b[0m \u001b[0mr\u001b[0m\u001b[0;34m+\u001b[0m\u001b[0;36m1\u001b[0m\u001b[0;34m:\u001b[0m\u001b[0;34m\u001b[0m\u001b[0;34m\u001b[0m\u001b[0m\n",
      "\u001b[0;31mTypeError\u001b[0m: 'set' object is not subscriptable"
     ]
    }
   ],
   "source": [
    "lost = [1,2,5,6,8]\n",
    "reserve = [1,2,3,4,8,9]\n",
    "\n",
    "solution(9,lost,reserve)"
   ]
  },
  {
   "cell_type": "markdown",
   "id": "021bfc77",
   "metadata": {},
   "source": [
    "# 복사본으로 돌리기"
   ]
  },
  {
   "cell_type": "code",
   "execution_count": 386,
   "id": "d1a1c361",
   "metadata": {},
   "outputs": [],
   "source": [
    "def solution(n, lost, reserve):\n",
    "    answer = 0\n",
    "    absent = len(lost)\n",
    "    \n",
    "    reserve = set(reserve)\n",
    "    lost = set(lost)\n",
    "    \n",
    "    inter = reserve.intersection(lost)\n",
    "    reserve = list(reserve.difference(inter))\n",
    "    lost = list(lost.difference(inter))\n",
    "    \n",
    "    for r in reserve[:]: \n",
    "        for l in lost[:] :\n",
    "            if r-1 == l or l == r+1:\n",
    "                lost.remove(l)\n",
    "                reserve.remove(r)\n",
    "                break\n",
    "                \n",
    "    answer = n - len(lost)\n",
    "    \n",
    "    return answer"
   ]
  },
  {
   "cell_type": "code",
   "execution_count": null,
   "id": "dfc4d0d5",
   "metadata": {},
   "outputs": [],
   "source": []
  },
  {
   "cell_type": "code",
   "execution_count": null,
   "id": "d65ccdb7",
   "metadata": {},
   "outputs": [],
   "source": []
  }
 ],
 "metadata": {
  "kernelspec": {
   "display_name": "Python 3",
   "language": "python",
   "name": "python3"
  },
  "language_info": {
   "codemirror_mode": {
    "name": "ipython",
    "version": 3
   },
   "file_extension": ".py",
   "mimetype": "text/x-python",
   "name": "python",
   "nbconvert_exporter": "python",
   "pygments_lexer": "ipython3",
   "version": "3.8.8"
  }
 },
 "nbformat": 4,
 "nbformat_minor": 5
}
