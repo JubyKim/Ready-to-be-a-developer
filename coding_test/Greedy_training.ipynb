{
 "cells": [
  {
   "cell_type": "code",
   "execution_count": 226,
   "id": "0eb362b3",
   "metadata": {},
   "outputs": [],
   "source": [
    "def solution(n, lost, reserve):\n",
    "    answer = 0\n",
    "    reserve.sort()\n",
    "    lost.sort()\n",
    "\n",
    "    for r in reserve: #[3,5]\n",
    "        print(r)\n",
    "        for l in lost :# [2,4]\n",
    "            print(\"lost\",lost)\n",
    "#             print(l)\n",
    "            if  r-1 == l: \n",
    "                print(l,\"l1\")\n",
    "                print(r,\"r1\")\n",
    "                reserve.remove(r)\n",
    "                lost.remove(l)\n",
    "                \n",
    "            elif l == r+1:\n",
    "                print(l,\"l2\")\n",
    "                print(r,\"r2\")\n",
    "                reserve.remove(r)\n",
    "                lost.remove(l)\n",
    "#                 print()\n",
    "                \n",
    "            \n",
    "                \n",
    "    answer = n - len(lost)\n",
    "    return answer"
   ]
  },
  {
   "cell_type": "code",
   "execution_count": 249,
   "id": "3470256b",
   "metadata": {},
   "outputs": [
    {
     "name": "stdout",
     "output_type": "stream",
     "text": [
      "0\n"
     ]
    },
    {
     "data": {
      "text/plain": [
       "5"
      ]
     },
     "execution_count": 249,
     "metadata": {},
     "output_type": "execute_result"
    }
   ],
   "source": [
    "solution(5, [2, 4], [5, 3])"
   ]
  },
  {
   "cell_type": "code",
   "execution_count": 197,
   "id": "121db96a",
   "metadata": {},
   "outputs": [
    {
     "data": {
      "text/plain": [
       "4"
      ]
     },
     "execution_count": 197,
     "metadata": {},
     "output_type": "execute_result"
    }
   ],
   "source": [
    "solution(5, [2, 4], [3, 5])"
   ]
  },
  {
   "cell_type": "code",
   "execution_count": null,
   "id": "33864d44",
   "metadata": {},
   "outputs": [],
   "source": [
    "#     print(\"lost \", lost)\n",
    "#     print(\"reserve \",reserve)\n",
    "#             print(\"i am l \", l)\n",
    "#             print(\"i am r+1 \", r+1)\n",
    "#             print(\"i am r-1 \", r-1)"
   ]
  },
  {
   "cell_type": "code",
   "execution_count": 106,
   "id": "fcbcc22e",
   "metadata": {},
   "outputs": [
    {
     "name": "stdout",
     "output_type": "stream",
     "text": [
      "reserve  [1, 3, 5]\n",
      "lost  [2, 4]\n",
      "i am l  2\n",
      "i am r+1  2\n",
      "i am r-1  0\n",
      "reserve  [3, 5]\n",
      "lost  [4]\n",
      "i am l  4\n",
      "i am r+1  6\n",
      "i am r-1  4\n",
      "[]\n"
     ]
    },
    {
     "data": {
      "text/plain": [
       "5"
      ]
     },
     "execution_count": 106,
     "metadata": {},
     "output_type": "execute_result"
    }
   ],
   "source": [
    "solution(5,[2, 4],[1, 3, 5])"
   ]
  },
  {
   "cell_type": "code",
   "execution_count": 91,
   "id": "8dd291ac",
   "metadata": {},
   "outputs": [
    {
     "name": "stdout",
     "output_type": "stream",
     "text": [
      "[1]\n",
      "i am l  3\n",
      "i am r+1  2\n",
      "i am r-1  0\n",
      "[3]\n"
     ]
    },
    {
     "data": {
      "text/plain": [
       "2"
      ]
     },
     "execution_count": 91,
     "metadata": {},
     "output_type": "execute_result"
    }
   ],
   "source": [
    "solution(3,[3],[1])"
   ]
  },
  {
   "cell_type": "code",
   "execution_count": 92,
   "id": "f1bdbb6a",
   "metadata": {},
   "outputs": [
    {
     "name": "stdout",
     "output_type": "stream",
     "text": [
      "[3, 5]\n",
      "i am l  2\n",
      "i am r+1  4\n",
      "i am r-1  2\n",
      "[4]\n"
     ]
    },
    {
     "data": {
      "text/plain": [
       "4"
      ]
     },
     "execution_count": 92,
     "metadata": {},
     "output_type": "execute_result"
    }
   ],
   "source": []
  },
  {
   "cell_type": "code",
   "execution_count": 234,
   "id": "55273033",
   "metadata": {},
   "outputs": [
    {
     "name": "stdout",
     "output_type": "stream",
     "text": [
      "lost [2, 4]\n",
      "2\n"
     ]
    }
   ],
   "source": [
    "lost = [2,4]\n",
    "for l in lost :# [2,4]\n",
    "    print(\"lost\",lost)\n",
    "    print(l)\n",
    "    lost.remove(2)"
   ]
  },
  {
   "cell_type": "markdown",
   "id": "9e04b39f",
   "metadata": {},
   "source": [
    "# 다시!"
   ]
  },
  {
   "cell_type": "code",
   "execution_count": 252,
   "id": "fd4e034f",
   "metadata": {},
   "outputs": [],
   "source": [
    "def solution(n, lost, reserve):\n",
    "    answer = 0\n",
    "    count = len(lost)\n",
    "    for r in reserve: #[3,5]\n",
    "        for l in lost :# [2,4]\n",
    "            if  r-1 == l: \n",
    "                count -=1 \n",
    "                break\n",
    "                \n",
    "            elif l == r+1:\n",
    "                count -= 1\n",
    "                break\n",
    "    \n",
    "    if count < 0 :\n",
    "        count = 0\n",
    "    answer = n - count\n",
    "    \n",
    "    return answer"
   ]
  },
  {
   "cell_type": "code",
   "execution_count": 253,
   "id": "5f7f6d45",
   "metadata": {},
   "outputs": [
    {
     "data": {
      "text/plain": [
       "5"
      ]
     },
     "execution_count": 253,
     "metadata": {},
     "output_type": "execute_result"
    }
   ],
   "source": [
    "solution(5,[2, 4],[1, 3, 5])"
   ]
  },
  {
   "cell_type": "code",
   "execution_count": null,
   "id": "71b84ed4",
   "metadata": {},
   "outputs": [],
   "source": []
  }
 ],
 "metadata": {
  "kernelspec": {
   "display_name": "Python 3",
   "language": "python",
   "name": "python3"
  },
  "language_info": {
   "codemirror_mode": {
    "name": "ipython",
    "version": 3
   },
   "file_extension": ".py",
   "mimetype": "text/x-python",
   "name": "python",
   "nbconvert_exporter": "python",
   "pygments_lexer": "ipython3",
   "version": "3.8.8"
  }
 },
 "nbformat": 4,
 "nbformat_minor": 5
}
