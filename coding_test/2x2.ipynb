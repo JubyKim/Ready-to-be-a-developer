{
 "cells": [
  {
   "cell_type": "code",
   "execution_count": 1,
   "id": "32a35509",
   "metadata": {},
   "outputs": [
    {
     "ename": "SyntaxError",
     "evalue": "invalid syntax (<ipython-input-1-be1dbafb99e1>, line 3)",
     "output_type": "error",
     "traceback": [
      "\u001b[0;36m  File \u001b[0;32m\"<ipython-input-1-be1dbafb99e1>\"\u001b[0;36m, line \u001b[0;32m3\u001b[0m\n\u001b[0;31m    for i in range()\u001b[0m\n\u001b[0m                    ^\u001b[0m\n\u001b[0;31mSyntaxError\u001b[0m\u001b[0;31m:\u001b[0m invalid syntax\n"
     ]
    }
   ],
   "source": [
    "def solution(m, n, board):\n",
    "    answer = 0\n",
    "    for i in range()\n",
    "    return answer\n"
   ]
  },
  {
   "cell_type": "code",
   "execution_count": 62,
   "id": "771ae7b3",
   "metadata": {},
   "outputs": [
    {
     "name": "stdout",
     "output_type": "stream",
     "text": [
      "C\n",
      "boards[k] is  [(0, 0), (0, 1), (3, 0), (3, 1)]\n",
      "v is (0, 0)\n",
      "(x,y) is  (0, 0)\n",
      "(x,y) is  (0, 0)\n",
      "(x,y) is  (0, 0)\n",
      "v is (0, 1)\n",
      "(x,y) is  (0, 1)\n",
      "(x,y) is  (0, 1)\n",
      "(x,y) is  (0, 1)\n",
      "v is (3, 0)\n",
      "(x,y) is  (3, 0)\n",
      "(x,y) is  (3, 0)\n",
      "(x,y) is  (3, 0)\n",
      "v is (3, 1)\n",
      "(x,y) is  (3, 1)\n",
      "(x,y) is  (3, 1)\n",
      "(x,y) is  (3, 1)\n",
      "------\n",
      "B\n",
      "boards[k] is  [(0, 2), (2, 3), (3, 2), (3, 3)]\n",
      "v is (0, 2)\n",
      "(x,y) is  (0, 2)\n",
      "(x,y) is  (0, 2)\n",
      "(x,y) is  (0, 2)\n",
      "v is (2, 3)\n",
      "(x,y) is  (2, 3)\n",
      "(x,y) is  (2, 3)\n",
      "(x,y) is  (2, 3)\n",
      "v is (3, 2)\n",
      "(x,y) is  (3, 2)\n",
      "(x,y) is  (3, 2)\n",
      "(x,y) is  (3, 2)\n",
      "v is (3, 3)\n",
      "(x,y) is  (3, 3)\n",
      "(x,y) is  (3, 3)\n",
      "(x,y) is  (3, 3)\n",
      "------\n",
      "D\n",
      "boards[k] is  [(0, 3), (1, 3)]\n",
      "v is (0, 3)\n",
      "(x,y) is  (0, 3)\n",
      "(x,y) is  (0, 3)\n",
      "(x,y) is  (0, 3)\n",
      "v is (1, 3)\n",
      "(x,y) is  (1, 3)\n",
      "(x,y) is  (1, 3)\n",
      "(x,y) is  (1, 3)\n",
      "------\n",
      "E\n",
      "boards[k] is  [(0, 4), (1, 4)]\n",
      "v is (0, 4)\n",
      "v is (1, 4)\n",
      "------\n",
      "A\n",
      "boards[k] is  [(1, 0), (1, 1), (1, 2), (2, 0), (2, 1), (2, 2)]\n",
      "v is (1, 0)\n",
      "(x,y) is  (1, 0)\n",
      "(x,y) is  (1, 0)\n",
      "(x,y) is  (1, 0)\n",
      "here is delist  {(1, 0), (1, 1), (2, 0), (2, 1)}\n",
      "3\n",
      "v is (1, 1)\n",
      "(x,y) is  (1, 1)\n",
      "(x,y) is  (1, 1)\n",
      "(x,y) is  (1, 1)\n",
      "here is delist  {(1, 2), (2, 1), (1, 1), (2, 0), (2, 2), (1, 0)}\n",
      "3\n",
      "v is (1, 2)\n",
      "(x,y) is  (1, 2)\n",
      "(x,y) is  (1, 2)\n",
      "(x,y) is  (1, 2)\n",
      "v is (2, 0)\n",
      "(x,y) is  (2, 0)\n",
      "(x,y) is  (2, 0)\n",
      "(x,y) is  (2, 0)\n",
      "v is (2, 1)\n",
      "(x,y) is  (2, 1)\n",
      "(x,y) is  (2, 1)\n",
      "(x,y) is  (2, 1)\n",
      "v is (2, 2)\n",
      "(x,y) is  (2, 2)\n",
      "(x,y) is  (2, 2)\n",
      "(x,y) is  (2, 2)\n",
      "------\n",
      "F\n",
      "boards[k] is  [(2, 4), (3, 4)]\n",
      "v is (2, 4)\n",
      "v is (3, 4)\n",
      "------\n"
     ]
    }
   ],
   "source": [
    "m = 4\n",
    "n = 5\n",
    "board = [\"CCBDE\", \"AAADE\", \"AAABF\", \"CCBBF\"]\n",
    "count = 0\n",
    "delist = set()\n",
    "answer = 0\n",
    "boards = {}\n",
    "\n",
    "dx = [1,1,0] #옆 대각선 아래\n",
    "dy = [0,1,1]\n",
    "\n",
    "def checkCells(x,y,k):\n",
    "    global delist\n",
    "    \n",
    "    count = 0\n",
    "    \n",
    "    if x < 0 or x > n-1 or y < 0 or y > m-1 :\n",
    "        return    \n",
    "    \n",
    "    for mv in range(3):\n",
    "        newx = x + dx[mv]\n",
    "        newy = y + dy[mv]\n",
    "        print(\"(x,y) is \", (x,y))\n",
    "        if (newx,newy) in boards[k] :\n",
    "            count+=1\n",
    "            delist.add((x,y))\n",
    "            delist.add((newx,newy))\n",
    "            if count == 3:\n",
    "                print(\"here is delist \", delist)\n",
    "                print(count)\n",
    "\n",
    "            \n",
    "    \n",
    "for i in range(len(board)) :\n",
    "    for j in range(len(board[i])) :\n",
    "        try :\n",
    "            boards[board[i][j]].append((i,j))\n",
    "        except :\n",
    "            boards[board[i][j]] = [(i,j)]\n",
    "            \n",
    "for k in boards.keys():\n",
    "    print(k)\n",
    "    print(\"boards[k] is \", boards[k])\n",
    "    delist = set()\n",
    "    for v in boards[k]:\n",
    "        print(\"v is\",  v)\n",
    "        \n",
    "        checkCells(v[0],v[1],k)\n",
    "        count = 0\n",
    "    print(\"------\")"
   ]
  },
  {
   "cell_type": "code",
   "execution_count": 59,
   "id": "b5903f06",
   "metadata": {},
   "outputs": [
    {
     "data": {
      "text/plain": [
       "dict_keys(['C', 'B', 'D', 'E', 'A', 'F'])"
      ]
     },
     "execution_count": 59,
     "metadata": {},
     "output_type": "execute_result"
    }
   ],
   "source": [
    "boards.keys()"
   ]
  },
  {
   "cell_type": "code",
   "execution_count": null,
   "id": "0902f46c",
   "metadata": {},
   "outputs": [],
   "source": [
    "a = set()\n",
    "a.add(\"a\")"
   ]
  },
  {
   "cell_type": "code",
   "execution_count": null,
   "id": "830e654a",
   "metadata": {},
   "outputs": [],
   "source": [
    "    if len(boards[k]) < 4 :\n",
    "        continue"
   ]
  },
  {
   "cell_type": "code",
   "execution_count": 20,
   "id": "0ca52a10",
   "metadata": {},
   "outputs": [
    {
     "ename": "KeyError",
     "evalue": "1",
     "output_type": "error",
     "traceback": [
      "\u001b[0;31m---------------------------------------------------------------------------\u001b[0m",
      "\u001b[0;31mKeyError\u001b[0m                                  Traceback (most recent call last)",
      "\u001b[0;32m<ipython-input-20-660963bd1f8e>\u001b[0m in \u001b[0;36m<module>\u001b[0;34m\u001b[0m\n\u001b[0;32m----> 1\u001b[0;31m \u001b[0mboards\u001b[0m\u001b[0;34m[\u001b[0m\u001b[0;36m1\u001b[0m\u001b[0;34m]\u001b[0m\u001b[0;34m[\u001b[0m\u001b[0;36m0\u001b[0m\u001b[0;34m]\u001b[0m\u001b[0;34m\u001b[0m\u001b[0;34m\u001b[0m\u001b[0m\n\u001b[0m",
      "\u001b[0;31mKeyError\u001b[0m: 1"
     ]
    }
   ],
   "source": [
    "boards[1][0]"
   ]
  },
  {
   "cell_type": "code",
   "execution_count": null,
   "id": "250bbc70",
   "metadata": {},
   "outputs": [],
   "source": [
    "rList = []\n",
    "mList = []\n",
    "aList = []\n",
    "fList = []\n",
    "nList = []\n",
    "tList = []\n",
    "jList = []\n",
    "cList = []"
   ]
  },
  {
   "cell_type": "code",
   "execution_count": 29,
   "id": "a21faa9d",
   "metadata": {},
   "outputs": [
    {
     "data": {
      "text/plain": [
       "True"
      ]
     },
     "execution_count": 29,
     "metadata": {},
     "output_type": "execute_result"
    }
   ],
   "source": [
    "(3, 3) in [(0, 2), (2, 3), (3, 2), (3, 3)]"
   ]
  },
  {
   "cell_type": "code",
   "execution_count": 28,
   "id": "0041906c",
   "metadata": {},
   "outputs": [
    {
     "data": {
      "text/plain": [
       "[(0, 2), (2, 3), (3, 2), (3, 3)]"
      ]
     },
     "execution_count": 28,
     "metadata": {},
     "output_type": "execute_result"
    }
   ],
   "source": [
    "boards[\"B\"]"
   ]
  },
  {
   "cell_type": "code",
   "execution_count": null,
   "id": "bbd59226",
   "metadata": {},
   "outputs": [],
   "source": []
  }
 ],
 "metadata": {
  "kernelspec": {
   "display_name": "Python 3",
   "language": "python",
   "name": "python3"
  },
  "language_info": {
   "codemirror_mode": {
    "name": "ipython",
    "version": 3
   },
   "file_extension": ".py",
   "mimetype": "text/x-python",
   "name": "python",
   "nbconvert_exporter": "python",
   "pygments_lexer": "ipython3",
   "version": "3.8.8"
  }
 },
 "nbformat": 4,
 "nbformat_minor": 5
}
