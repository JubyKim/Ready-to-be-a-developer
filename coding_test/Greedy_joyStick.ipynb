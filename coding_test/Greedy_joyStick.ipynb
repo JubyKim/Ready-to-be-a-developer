{
 "cells": [
  {
   "cell_type": "code",
   "execution_count": 209,
   "id": "3a40f036",
   "metadata": {},
   "outputs": [],
   "source": [
    "def solution(name):\n",
    "    answer = 0\n",
    "    moveCount = len(name)-1\n",
    "    differAscii = []\n",
    "    \n",
    "    for idx, char in enumerate(name):\n",
    "        differAscii.append(min([ord(char)-65, 90-ord(char)+1]))\n",
    "        # 좌, 우 조작 횟수의 최솟값 구하기\n",
    "        \n",
    "        last_idx = idx +1\n",
    "        while last_idx < len(name) and name[last_idx] == 'A':\n",
    "            last_idx += 1\n",
    "        moveCount = min(moveCount, idx * 2 + len(name) - last_idx)\n",
    "    print(\"differ\" , sum(differAscii))\n",
    "    print(\"move\", moveCount)\n",
    "    answer = sum(differAscii) + moveCount\n",
    "    return answer"
   ]
  },
  {
   "cell_type": "code",
   "execution_count": 210,
   "id": "0c24c573",
   "metadata": {},
   "outputs": [
    {
     "name": "stdout",
     "output_type": "stream",
     "text": [
      "differ 51\n",
      "move 5\n"
     ]
    },
    {
     "data": {
      "text/plain": [
       "56"
      ]
     },
     "execution_count": 210,
     "metadata": {},
     "output_type": "execute_result"
    }
   ],
   "source": [
    "solution(\"JEROEN\")"
   ]
  },
  {
   "cell_type": "code",
   "execution_count": 211,
   "id": "931ad67e",
   "metadata": {},
   "outputs": [
    {
     "name": "stdout",
     "output_type": "stream",
     "text": [
      "differ 22\n",
      "move 1\n"
     ]
    },
    {
     "data": {
      "text/plain": [
       "23"
      ]
     },
     "execution_count": 211,
     "metadata": {},
     "output_type": "execute_result"
    }
   ],
   "source": [
    "solution(\"JAN\")"
   ]
  },
  {
   "cell_type": "code",
   "execution_count": 207,
   "id": "c1ca69e7",
   "metadata": {},
   "outputs": [],
   "source": [
    "def solution(name):\n",
    "    answer = 0\n",
    "    min_left_right = len(name) # 왼쪽에서 오른쪽으로만 이동할 때 좌,우 조작 횟수\n",
    "    next_idx = 0\n",
    "    for idx, char in enumerate(name):\n",
    "        # 위, 아래 조작 횟수의 최솟값 구하기\n",
    "        answer += min(ord(char) - ord('A'), ord('Z') - ord(char) + 1)\n",
    "        \n",
    "        # 좌, 우 조작 횟수의 최솟값 구하기\n",
    "        next_idx = idx + 1\n",
    "        while next_idx < len(name) and name[next_idx] == 'A':\n",
    "            next_idx += 1 # 현재 위치 이후 연속된 A 다음의 문자를 가리킴\n",
    "        \n",
    "        # 한 방향으로만 이동하는 경우와, 오른쪽으로 이동했다가 왼쪽으로 이동하는 경우를 비교\n",
    "        min_left_right = min(min_left_right, idx + idx + len(name) - next_idx)\n",
    "    print(\"answer\", answer)\n",
    "    print(\"move\",min_left_right)\n",
    "    answer += min_left_right\n",
    "    return answer"
   ]
  },
  {
   "cell_type": "code",
   "execution_count": 208,
   "id": "70600123",
   "metadata": {},
   "outputs": [
    {
     "name": "stdout",
     "output_type": "stream",
     "text": [
      "answer 51\n",
      "move 5\n",
      "56\n",
      "answer 22\n",
      "move 1\n",
      "23\n"
     ]
    }
   ],
   "source": [
    "print(solution(\"JEROEN\"))\n",
    "print(solution(\"JAN\"))"
   ]
  },
  {
   "cell_type": "code",
   "execution_count": null,
   "id": "d55b4732",
   "metadata": {},
   "outputs": [],
   "source": []
  }
 ],
 "metadata": {
  "kernelspec": {
   "display_name": "Python 3",
   "language": "python",
   "name": "python3"
  },
  "language_info": {
   "codemirror_mode": {
    "name": "ipython",
    "version": 3
   },
   "file_extension": ".py",
   "mimetype": "text/x-python",
   "name": "python",
   "nbconvert_exporter": "python",
   "pygments_lexer": "ipython3",
   "version": "3.8.8"
  }
 },
 "nbformat": 4,
 "nbformat_minor": 5
}
