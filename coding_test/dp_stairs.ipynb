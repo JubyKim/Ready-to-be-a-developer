{
 "cells": [
  {
   "cell_type": "code",
   "execution_count": null,
   "id": "ecadc1e4",
   "metadata": {},
   "outputs": [],
   "source": [
    "/*\n",
    "6 #계단의 수\n",
    "10\n",
    "20\n",
    "15\n",
    "25\n",
    "10\n",
    "20\n",
    "*/"
   ]
  },
  {
   "cell_type": "code",
   "execution_count": 32,
   "id": "6d70d03f",
   "metadata": {},
   "outputs": [
    {
     "name": "stdout",
     "output_type": "stream",
     "text": [
      "5\n",
      "10\n",
      "20\n",
      "30\n",
      "40\n",
      "50\n",
      "90\n"
     ]
    }
   ],
   "source": [
    "n = int(input())\n",
    "scores = []\n",
    "scores.append(0)\n",
    "ans = 0\n",
    "for i in range(n):\n",
    "    scores.append(int(input()))\n",
    "\n",
    "    \n",
    "ans = scores[-1] #마지막 계단은 필수로 밟아야 함.\n",
    "i = 3\n",
    "one = False\n",
    "while i != n+1 : \n",
    "    if not one : \n",
    "        if scores[-i] >= scores[-(i+1)]:\n",
    "            ans += scores[-i]\n",
    "#             print(\"scores[-i] : \", scores[-i])\n",
    "            one = True\n",
    "\n",
    "        elif scores[-i] < scores[-i-1]:\n",
    "            ans += scores[-(i+1)]\n",
    "#             print(\"scores[-(i+1)] : \",scores[-(i+1)])\n",
    "            i += 1\n",
    "        i += 1\n",
    "    elif one :\n",
    "        ans += scores[-(i+1)]\n",
    "        i += 2\n",
    "        \n",
    "# print(scores)\n",
    "print(ans)"
   ]
  },
  {
   "cell_type": "code",
   "execution_count": 25,
   "id": "9853fcaf",
   "metadata": {},
   "outputs": [
    {
     "data": {
      "text/plain": [
       "100"
      ]
     },
     "execution_count": 25,
     "metadata": {},
     "output_type": "execute_result"
    }
   ],
   "source": [
    "ans"
   ]
  },
  {
   "cell_type": "code",
   "execution_count": 33,
   "id": "e5e65353",
   "metadata": {},
   "outputs": [
    {
     "data": {
      "text/plain": [
       "[0, 10, 20, 30, 40, 50]"
      ]
     },
     "execution_count": 33,
     "metadata": {},
     "output_type": "execute_result"
    }
   ],
   "source": [
    "scores"
   ]
  },
  {
   "cell_type": "code",
   "execution_count": null,
   "id": "47455736",
   "metadata": {},
   "outputs": [],
   "source": [
    "##"
   ]
  }
 ],
 "metadata": {
  "kernelspec": {
   "display_name": "Python 3",
   "language": "python",
   "name": "python3"
  },
  "language_info": {
   "codemirror_mode": {
    "name": "ipython",
    "version": 3
   },
   "file_extension": ".py",
   "mimetype": "text/x-python",
   "name": "python",
   "nbconvert_exporter": "python",
   "pygments_lexer": "ipython3",
   "version": "3.8.8"
  }
 },
 "nbformat": 4,
 "nbformat_minor": 5
}
