{
 "cells": [
  {
   "cell_type": "code",
   "execution_count": null,
   "id": "ecadc1e4",
   "metadata": {},
   "outputs": [],
   "source": [
    "/*\n",
    "6 #계단의 수\n",
    "10\n",
    "20\n",
    "15\n",
    "25\n",
    "10\n",
    "20\n",
    "*/"
   ]
  },
  {
   "cell_type": "code",
   "execution_count": 14,
   "id": "6d70d03f",
   "metadata": {},
   "outputs": [
    {
     "name": "stdout",
     "output_type": "stream",
     "text": [
      "5\n",
      "5\n",
      "4\n",
      "3\n",
      "2\n",
      "1\n",
      "9\n"
     ]
    }
   ],
   "source": [
    "n = int(input())\n",
    "scores = []\n",
    "scores.append(0)\n",
    "ans = 0\n",
    "for i in range(n):\n",
    "    scores.append(int(input()))\n",
    "\n",
    "    \n",
    "ans = scores[-1] #마지막 계단은 필수로 밟아야 함.\n",
    "i = 2\n",
    "one = False\n",
    "while i != n+1 : \n",
    "#     print(\"I am i : \", i)\n",
    "    if not one : \n",
    "        if scores[-i] >= scores[-(i+1)]:\n",
    "            ans += scores[-i]\n",
    "#             print(\"scores[-i] : \", scores[-i])\n",
    "            one = True\n",
    "\n",
    "        elif scores[-i] < scores[-i-1]:\n",
    "            ans += scores[-(i+1)]\n",
    "#             print(\"scores[-(i+1)] : \",scores[-(i+1)])\n",
    "            i += 1\n",
    "            one = False\n",
    "        i += 1\n",
    "        \n",
    "    elif one :\n",
    "        if i < n :\n",
    "            ans += scores[-(i+1)]\n",
    "            i += 2\n",
    "        else :\n",
    "            ans += scores[-i]\n",
    "            break\n",
    "# print(scores)\n",
    "print(ans)"
   ]
  },
  {
   "cell_type": "markdown",
   "id": "ca25b44a",
   "metadata": {},
   "source": [
    "ans"
   ]
  },
  {
   "cell_type": "code",
   "execution_count": 15,
   "id": "e5e65353",
   "metadata": {},
   "outputs": [
    {
     "data": {
      "text/plain": [
       "[0, 5, 4, 3, 2, 1]"
      ]
     },
     "execution_count": 15,
     "metadata": {},
     "output_type": "execute_result"
    }
   ],
   "source": [
    "scores"
   ]
  },
  {
   "cell_type": "code",
   "execution_count": 17,
   "id": "47455736",
   "metadata": {},
   "outputs": [],
   "source": [
    "#a"
   ]
  },
  {
   "cell_type": "code",
   "execution_count": 20,
   "id": "e956cae1",
   "metadata": {},
   "outputs": [
    {
     "name": "stdout",
     "output_type": "stream",
     "text": [
      "6\n",
      "1\n",
      "10\n",
      "20\n",
      "30\n",
      "57\n"
     ]
    }
   ],
   "source": [
    "n = int(input())\n",
    "stairs = [0] + [int(input()) for _ in range(n)] + [0]\n",
    "cache = [0] * (n+2)\n",
    "cache[1] = stairs[1]\n",
    "cache[2] = cache[1] + stairs[2]\n",
    "\n",
    "for i in range(3, n+1):\n",
    "    cache[i] = max(cache[i-2], cache[i-3] + stairs[i-1]) + stairs[i]\n",
    "print(cache[n])"
   ]
  },
  {
   "cell_type": "code",
   "execution_count": null,
   "id": "595e86c2",
   "metadata": {},
   "outputs": [],
   "source": []
  }
 ],
 "metadata": {
  "kernelspec": {
   "display_name": "Python 3",
   "language": "python",
   "name": "python3"
  },
  "language_info": {
   "codemirror_mode": {
    "name": "ipython",
    "version": 3
   },
   "file_extension": ".py",
   "mimetype": "text/x-python",
   "name": "python",
   "nbconvert_exporter": "python",
   "pygments_lexer": "ipython3",
   "version": "3.8.8"
  }
 },
 "nbformat": 4,
 "nbformat_minor": 5
}
