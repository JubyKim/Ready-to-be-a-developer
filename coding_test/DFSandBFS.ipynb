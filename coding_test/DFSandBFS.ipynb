{
 "cells": [
  {
   "cell_type": "code",
   "execution_count": 79,
   "id": "96a6174d",
   "metadata": {},
   "outputs": [
    {
     "name": "stdout",
     "output_type": "stream",
     "text": [
      "4 5 1\n",
      "[False, False, False, False, False]\n",
      "1 2\n",
      "1 3\n",
      "1 4\n",
      "2 4\n",
      "3 4\n",
      "{0: [], 1: [2, 3, 4], 2: [4], 3: [4]}\n"
     ]
    },
    {
     "data": {
      "text/plain": [
       "[1, 2, 4, 3, 4, 4]"
      ]
     },
     "execution_count": 79,
     "metadata": {},
     "output_type": "execute_result"
    }
   ],
   "source": [
    "from collections import deque\n",
    "\n",
    "condition = list(map(int,input().split()))\n",
    "graphDict = {0:[]}\n",
    "visited = [False for i in range(condition[1])]\n",
    "print(visited)\n",
    "order = []\n",
    "# def bfs(graph): \n",
    "#     condition[2]\n",
    "#     print(\"a\")\n",
    "    \n",
    "    \n",
    "# def dfs_recursive(graph, start, visited = []):\n",
    "# ## 데이터를 추가하는 명령어 / 재귀가 이루어짐 \n",
    "#     visited.append(start)\n",
    " \n",
    "#     for node in graph[start]:\n",
    "#         if node not in visited:\n",
    "#             dfs_recursive(graph, node, visited)\n",
    "#     return visited\n",
    "\n",
    "def dfs(graph, start, visit):\n",
    "    visited[0] = True\n",
    "    order.append(start)\n",
    "    for i in graph[start]:\n",
    "        if visited[i] == False:\n",
    "            try :\n",
    "                dfs(graph, i, visit)\n",
    "#                 order.append(i)\n",
    "            except :\n",
    "                continue\n",
    "            \n",
    "        \n",
    "    return order\n",
    "    \n",
    "for i in range((condition[1])):\n",
    "    tmp = list(map(int,input().split()))\n",
    "    try :\n",
    "        graphDict[tmp[0]].append(tmp[1])\n",
    "    except KeyError:\n",
    "        graphDict[tmp[0]] = list()\n",
    "        graphDict[tmp[0]].append(tmp[1])\n",
    "    \n",
    "print(graphDict)\n",
    "        \n",
    "dfs(graphDict, condition[2], visited)"
   ]
  },
  {
   "cell_type": "markdown",
   "id": "09aaa99b",
   "metadata": {},
   "source": [
    "# dictTest"
   ]
  },
  {
   "cell_type": "code",
   "execution_count": 40,
   "id": "90a61c47",
   "metadata": {},
   "outputs": [
    {
     "data": {
      "text/plain": [
       "{0: [], '1': ['2', '3', '4'], '2': ['4'], '3': ['4']}"
      ]
     },
     "execution_count": 40,
     "metadata": {},
     "output_type": "execute_result"
    }
   ],
   "source": [
    "graphDict"
   ]
  },
  {
   "cell_type": "code",
   "execution_count": 50,
   "id": "9c97837e",
   "metadata": {},
   "outputs": [
    {
     "data": {
      "text/plain": [
       "{0: [], '1': ['2', '3', '4'], '2': ['4'], '3': ['4']}"
      ]
     },
     "execution_count": 50,
     "metadata": {},
     "output_type": "execute_result"
    }
   ],
   "source": [
    "graphDict"
   ]
  },
  {
   "cell_type": "code",
   "execution_count": null,
   "id": "21d595a0",
   "metadata": {},
   "outputs": [],
   "source": []
  }
 ],
 "metadata": {
  "kernelspec": {
   "display_name": "Python 3",
   "language": "python",
   "name": "python3"
  },
  "language_info": {
   "codemirror_mode": {
    "name": "ipython",
    "version": 3
   },
   "file_extension": ".py",
   "mimetype": "text/x-python",
   "name": "python",
   "nbconvert_exporter": "python",
   "pygments_lexer": "ipython3",
   "version": "3.8.8"
  }
 },
 "nbformat": 4,
 "nbformat_minor": 5
}
