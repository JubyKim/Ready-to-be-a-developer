{
 "cells": [
  {
   "cell_type": "code",
   "execution_count": 43,
   "id": "1d8577ec",
   "metadata": {},
   "outputs": [
    {
     "name": "stdout",
     "output_type": "stream",
     "text": [
      "4 1 1\n",
      "1 1\n"
     ]
    }
   ],
   "source": [
    "from collections import deque\n",
    "\n",
    "condition = list(map(int,input().split()))\n",
    "graphDict = {0:[]}\n",
    "visit = [False * condition[0]]\n",
    "\n",
    "def bfs(graph):\n",
    "    condition[2]\n",
    "    print(\"a\")\n",
    "    \n",
    "    \n",
    "    \n",
    "for i in range((condition[1])):\n",
    "    tmp = input().split()\n",
    "    try :\n",
    "        graphDict[tmp[0]].append(tmp[1])\n",
    "    except KeyError:\n",
    "        graphDict[tmp[0]] = list()\n",
    "        graphDict[tmp[0]].append(tmp[1])\n",
    "        \n",
    "        \n",
    "        \n",
    "    \n"
   ]
  },
  {
   "cell_type": "code",
   "execution_count": 22,
   "id": "fa174829",
   "metadata": {},
   "outputs": [
    {
     "data": {
      "text/plain": [
       "{0: [1, 2, 3], 1: [1, 2]}"
      ]
     },
     "execution_count": 22,
     "metadata": {},
     "output_type": "execute_result"
    }
   ],
   "source": [
    "dictTest"
   ]
  },
  {
   "cell_type": "code",
   "execution_count": 40,
   "id": "64e7dbec",
   "metadata": {},
   "outputs": [
    {
     "data": {
      "text/plain": [
       "{0: [], '1': ['2', '3', '4'], '2': ['4'], '3': ['4']}"
      ]
     },
     "execution_count": 40,
     "metadata": {},
     "output_type": "execute_result"
    }
   ],
   "source": [
    "graphDict"
   ]
  },
  {
   "cell_type": "code",
   "execution_count": null,
   "id": "3ce2a706",
   "metadata": {},
   "outputs": [],
   "source": []
  }
 ],
 "metadata": {
  "kernelspec": {
   "display_name": "Python 3",
   "language": "python",
   "name": "python3"
  },
  "language_info": {
   "codemirror_mode": {
    "name": "ipython",
    "version": 3
   },
   "file_extension": ".py",
   "mimetype": "text/x-python",
   "name": "python",
   "nbconvert_exporter": "python",
   "pygments_lexer": "ipython3",
   "version": "3.8.8"
  }
 },
 "nbformat": 4,
 "nbformat_minor": 5
}
