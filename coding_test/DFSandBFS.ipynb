{
 "cells": [
  {
   "cell_type": "code",
   "execution_count": null,
   "id": "4aa0883a",
   "metadata": {},
   "outputs": [],
   "source": [
    "from collections import deque\n",
    "\n",
    "condition = list(map(int,input().split()))\n",
    "graphDict = {0:[]}\n",
    "visitDict = {}\n",
    "order = []\n",
    "\n",
    "def dfs(graph, start, visit):\n",
    "    visit[start] = True\n",
    "    order.append(start)\n",
    "    for i in graph[start]:\n",
    "        print(i)\n",
    "        if visit[i] == False:\n",
    "            try :\n",
    "                dfs(graph, i, visit)\n",
    "            except :\n",
    "                continue\n",
    "    return order\n",
    "\n",
    "def bfs(graph, start, visit):\n",
    "    visit[start] = True\n",
    "    order.append(start)\n",
    "    \n",
    "    while len(order) != condition[0]:\n",
    "        check = deque()\n",
    "        for i in graph[start]:\n",
    "            if visit[i] == False:\n",
    "                order.append(i)\n",
    "                check.append(i)\n",
    "        start = check.popleft()\n",
    "    print(order)\n",
    "\n",
    "#graphDict 만들기\n",
    "for i in range((condition[1])):\n",
    "    tmp = list(map(int,input().split()))\n",
    "    try :\n",
    "        graphDict[tmp[0]].append(tmp[1])\n",
    "    except KeyError:\n",
    "        graphDict[tmp[0]] = list()\n",
    "        graphDict[tmp[0]].append(tmp[1])\n",
    "    try :\n",
    "        graphDict[tmp[1]].append(tmp[0])\n",
    "    except KeyError:\n",
    "        graphDict[tmp[1]] = list()\n",
    "        graphDict[tmp[1]].append(tmp[0])\n",
    "        \n",
    "for i in graphDict.items() :\n",
    "    graphDict[i[0]] = sorted(i[1]) #정렬\n",
    "    \n",
    "for i in graphDict.keys():\n",
    "    visitDict[i] = False\n",
    "    \n",
    "print(visitDict)\n",
    "print(graphDict)\n",
    "\n",
    "bfs(graphDict, condition[2], visitDict)"
   ]
  },
  {
   "cell_type": "code",
   "execution_count": null,
   "id": "9a262a0c",
   "metadata": {},
   "outputs": [],
   "source": []
  }
 ],
 "metadata": {
  "kernelspec": {
   "display_name": "Python 3",
   "language": "python",
   "name": "python3"
  },
  "language_info": {
   "codemirror_mode": {
    "name": "ipython",
    "version": 3
   },
   "file_extension": ".py",
   "mimetype": "text/x-python",
   "name": "python",
   "nbconvert_exporter": "python",
   "pygments_lexer": "ipython3",
   "version": "3.8.8"
  }
 },
 "nbformat": 4,
 "nbformat_minor": 5
}
