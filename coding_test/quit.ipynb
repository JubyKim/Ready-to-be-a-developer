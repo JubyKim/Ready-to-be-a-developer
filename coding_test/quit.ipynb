{
 "cells": [
  {
   "cell_type": "code",
   "execution_count": null,
   "id": "48b272d5",
   "metadata": {},
   "outputs": [],
   "source": [
    "7\n",
    "3 10\n",
    "5 20\n",
    "1 10\n",
    "1 20\n",
    "2 15\n",
    "4 40\n",
    "2 200"
   ]
  },
  {
   "cell_type": "code",
   "execution_count": 8,
   "id": "8d881d09",
   "metadata": {},
   "outputs": [
    {
     "name": "stdout",
     "output_type": "stream",
     "text": [
      "6\n",
      "5\n",
      "4\n",
      "3\n",
      "2\n",
      "1\n",
      "0\n"
     ]
    }
   ],
   "source": [
    "import sys\n",
    "# readline = sys.stdin.readline\n",
    "\n",
    "N = int(input())\n",
    "T, P = [], []\n",
    "for _ in range(N):\n",
    "    t, p = map(int, input().split()) \n",
    "    T.append(t)\n",
    "    P.append(p)\n",
    "\n",
    "d = [0] * (N+1)\n",
    "\n",
    "for i in range(N-1,-1,-1):\n",
    "    if i + T[i] > N: #근무일이 넘음\n",
    "        d[i] = d[i+1]\n",
    "        \n",
    "    else :\n",
    "        d[i] = max(P[i] + d[i + T[i]], d[i+1]) #왜 일을 맡지 않은 경우가 d[i+1]일까?\n",
    "print(max(d))"
   ]
  },
  {
   "cell_type": "code",
   "execution_count": 6,
   "id": "3014b85d",
   "metadata": {},
   "outputs": [
    {
     "data": {
      "text/plain": [
       "[10, 20, 10, 20, 15, 40, 200]"
      ]
     },
     "execution_count": 6,
     "metadata": {},
     "output_type": "execute_result"
    }
   ],
   "source": [
    "P"
   ]
  },
  {
   "cell_type": "code",
   "execution_count": 11,
   "id": "9ff66c21",
   "metadata": {},
   "outputs": [
    {
     "name": "stdout",
     "output_type": "stream",
     "text": [
      "45\n"
     ]
    }
   ],
   "source": [
    "N = 7\n",
    "d = [0,0,0,0,0,0,0,0]\n",
    "T = [3, 5, 1, 1, 2, 4, 2]\n",
    "P = [10, 20, 10, 20, 15, 40, 200]"
   ]
  },
  {
   "cell_type": "code",
   "execution_count": null,
   "id": "45ad75d3",
   "metadata": {},
   "outputs": [],
   "source": []
  }
 ],
 "metadata": {
  "kernelspec": {
   "display_name": "Python 3",
   "language": "python",
   "name": "python3"
  },
  "language_info": {
   "codemirror_mode": {
    "name": "ipython",
    "version": 3
   },
   "file_extension": ".py",
   "mimetype": "text/x-python",
   "name": "python",
   "nbconvert_exporter": "python",
   "pygments_lexer": "ipython3",
   "version": "3.8.8"
  }
 },
 "nbformat": 4,
 "nbformat_minor": 5
}
