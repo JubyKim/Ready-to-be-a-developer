{
 "cells": [
  {
   "cell_type": "code",
   "execution_count": 6,
   "id": "429dd3c1",
   "metadata": {},
   "outputs": [
    {
     "name": "stdout",
     "output_type": "stream",
     "text": [
      "4\n",
      "1\n"
     ]
    }
   ],
   "source": [
    "n = int(input())\n",
    "\n",
    "ans = 0\n",
    "row = [0] * n\n",
    "\n",
    "def is_promising(x): #유망한 지 여부\n",
    "    for i in range(x):\n",
    "        #같은 열에 다른 퀸이 있는 경우 / 왼쪽 대각선, 오른쪽 대각선에 다른 퀸이 있는 경우.\n",
    "        if row[x] == row[i] or abs(row[x] - row[i]) == abs(x - i):\n",
    "            return False\n",
    "    \n",
    "    return True\n",
    "\n",
    "def n_queens(x):\n",
    "    global ans\n",
    "    if x == n:\n",
    "        ans += 1\n",
    "        return\n",
    "\n",
    "    else:\n",
    "        for i in range(n):\n",
    "            # [x, i]에 퀸을 놓겠다.\n",
    "            row[x] = i\n",
    "            if is_promising(x):\n",
    "                n_queens(x+1)\n",
    "\n",
    "n_queens(0)\n",
    "print(ans)"
   ]
  },
  {
   "cell_type": "code",
   "execution_count": null,
   "id": "94859c73",
   "metadata": {},
   "outputs": [],
   "source": []
  }
 ],
 "metadata": {
  "kernelspec": {
   "display_name": "Python 3",
   "language": "python",
   "name": "python3"
  },
  "language_info": {
   "codemirror_mode": {
    "name": "ipython",
    "version": 3
   },
   "file_extension": ".py",
   "mimetype": "text/x-python",
   "name": "python",
   "nbconvert_exporter": "python",
   "pygments_lexer": "ipython3",
   "version": "3.8.8"
  }
 },
 "nbformat": 4,
 "nbformat_minor": 5
}
