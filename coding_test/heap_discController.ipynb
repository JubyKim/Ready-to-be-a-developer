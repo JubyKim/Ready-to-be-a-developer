{
 "cells": [
  {
   "cell_type": "code",
   "execution_count": 1,
   "id": "1255cd54",
   "metadata": {},
   "outputs": [
    {
     "data": {
      "text/plain": [
       "[[0, 3], [1, 9], [2, 6]]"
      ]
     },
     "execution_count": 1,
     "metadata": {},
     "output_type": "execute_result"
    }
   ],
   "source": [
    "[[0, 3], [1, 9], [2, 6]]\t"
   ]
  },
  {
   "cell_type": "code",
   "execution_count": 2,
   "id": "8015b8aa",
   "metadata": {},
   "outputs": [],
   "source": [
    "def solution(jobs):\n",
    "    heap = []\n",
    "    \n",
    "    answer = 0\n",
    "    return answer"
   ]
  },
  {
   "cell_type": "code",
   "execution_count": null,
   "id": "91a80d0a",
   "metadata": {},
   "outputs": [],
   "source": [
    "import heapq \n",
    "\n",
    "def solution(jobs): \n",
    "    answer, now, i = 0, 0, 0 \n",
    "    start = -1 \n",
    "    heap = [] \n",
    "    while i < len(jobs): # 현재 시점에서 처리할 수 있는 작업을 heap에 저장 \n",
    "        for j in jobs: \n",
    "            if start < j[0] <= now: \n",
    "                heapq.heappush(heap, [j[1], j[0]]) \n",
    "            if len(heap) > 0: # 처리할 작업이 있는 경우\n",
    "                cur = heapq.heappop(heap) \n",
    "                start = now \n",
    "                now += cur[0] \n",
    "                answer += now - cur[1] # 작업 요청시간부터 종료시간까지의 시간 계산 \n",
    "                i +=1 \n",
    "            else: # 처리할 작업이 없는 경우 다음 시간을 넘어감 \n",
    "                now += 1\n",
    "    return answer // len(jobs)"
   ]
  }
 ],
 "metadata": {
  "kernelspec": {
   "display_name": "Python 3",
   "language": "python",
   "name": "python3"
  },
  "language_info": {
   "codemirror_mode": {
    "name": "ipython",
    "version": 3
   },
   "file_extension": ".py",
   "mimetype": "text/x-python",
   "name": "python",
   "nbconvert_exporter": "python",
   "pygments_lexer": "ipython3",
   "version": "3.8.8"
  }
 },
 "nbformat": 4,
 "nbformat_minor": 5
}
