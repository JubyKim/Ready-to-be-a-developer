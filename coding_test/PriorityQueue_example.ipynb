{
 "cells": [
  {
   "cell_type": "code",
   "execution_count": 3,
   "id": "d794550f",
   "metadata": {},
   "outputs": [
    {
     "name": "stdout",
     "output_type": "stream",
     "text": [
      "Banana\n",
      "Cherry\n",
      "Apple\n"
     ]
    }
   ],
   "source": [
    "#우선순위큐를 사용해서 구현\n",
    "from queue import PriorityQueue\n",
    "\n",
    "que = PriorityQueue()\n",
    "\n",
    "que.put((3, 'Apple')) #(우선순위, item)\n",
    "que.put((1, 'Banana'))\n",
    "que.put((2, 'Cherry'))\n",
    "\n",
    "print(que.get()[1])  # Banana\n",
    "print(que.get()[1])  # Cherry\n",
    "print(que.get()[1])  # Apple\n",
    "\n"
   ]
  },
  {
   "cell_type": "code",
   "execution_count": 1,
   "id": "8768af6d",
   "metadata": {},
   "outputs": [
    {
     "ename": "TypeError",
     "evalue": "heap argument must be a list",
     "output_type": "error",
     "traceback": [
      "\u001b[0;31m---------------------------------------------------------------------------\u001b[0m",
      "\u001b[0;31mTypeError\u001b[0m                                 Traceback (most recent call last)",
      "\u001b[0;32m<ipython-input-1-01bc70d69f49>\u001b[0m in \u001b[0;36m<module>\u001b[0;34m\u001b[0m\n\u001b[1;32m      8\u001b[0m \u001b[0mheapq\u001b[0m\u001b[0;34m.\u001b[0m\u001b[0mheappush\u001b[0m\u001b[0;34m(\u001b[0m\u001b[0mhq\u001b[0m\u001b[0;34m,\u001b[0m \u001b[0;36m7\u001b[0m\u001b[0;34m)\u001b[0m\u001b[0;34m\u001b[0m\u001b[0;34m\u001b[0m\u001b[0m\n\u001b[1;32m      9\u001b[0m \u001b[0;34m\u001b[0m\u001b[0m\n\u001b[0;32m---> 10\u001b[0;31m \u001b[0mheapq\u001b[0m\u001b[0;34m.\u001b[0m\u001b[0mheappop\u001b[0m\u001b[0;34m(\u001b[0m\u001b[0mhq\u001b[0m\u001b[0;34m[\u001b[0m\u001b[0;36m1\u001b[0m\u001b[0;34m]\u001b[0m\u001b[0;34m)\u001b[0m\u001b[0;34m\u001b[0m\u001b[0;34m\u001b[0m\u001b[0m\n\u001b[0m\u001b[1;32m     11\u001b[0m \u001b[0mheapq\u001b[0m\u001b[0;34m.\u001b[0m\u001b[0mheappop\u001b[0m\u001b[0;34m(\u001b[0m\u001b[0mhq\u001b[0m\u001b[0;34m)\u001b[0m\u001b[0;34m\u001b[0m\u001b[0;34m\u001b[0m\u001b[0m\n\u001b[1;32m     12\u001b[0m \u001b[0mheapq\u001b[0m\u001b[0;34m.\u001b[0m\u001b[0mheappop\u001b[0m\u001b[0;34m(\u001b[0m\u001b[0mhq\u001b[0m\u001b[0;34m)\u001b[0m\u001b[0;34m\u001b[0m\u001b[0;34m\u001b[0m\u001b[0m\n",
      "\u001b[0;31mTypeError\u001b[0m: heap argument must be a list"
     ]
    }
   ],
   "source": [
    "#heap을 통해서 구현\n",
    "import heapq\n",
    "\n",
    "hq = []\n",
    "heapq.heappush(hq, 4)\n",
    "heapq.heappush(hq, 1)\n",
    "heapq.heappush(hq, 3)\n",
    "heapq.heappush(hq, 7)\n",
    "\n",
    "heapq.heappop(hq)\n",
    "heapq.heappop(hq)\n",
    "heapq.heappop(hq)\n",
    "heapq.heappop(hq)"
   ]
  },
  {
   "cell_type": "code",
   "execution_count": 12,
   "id": "1934d0bb",
   "metadata": {},
   "outputs": [
    {
     "name": "stdout",
     "output_type": "stream",
     "text": [
      "[1, 2, 3, 6, 4, 5]\n"
     ]
    }
   ],
   "source": [
    "x = [4, 3, 1, 2, 5, 6]\n",
    "\n",
    "heapq.heapify(x)\n",
    "print(x) # [1, 2, 4, 3, 5, 6]"
   ]
  },
  {
   "cell_type": "code",
   "execution_count": 10,
   "id": "c9f55fda",
   "metadata": {},
   "outputs": [
    {
     "name": "stdout",
     "output_type": "stream",
     "text": [
      "1\n",
      "3\n",
      "4\n",
      "5\n",
      "7\n",
      "8\n"
     ]
    }
   ],
   "source": [
    "#maxHeap\n",
    "import heapq\n",
    "\n",
    "nums = [4, 1, 7, 3, 8, 5]\n",
    "heap = []\n",
    "\n",
    "for num in nums:\n",
    "  heapq.heappush(heap, (num, num))  # (우선 순위, 값)\n",
    "\n",
    "while heap:\n",
    "  print(heapq.heappop(heap)[1])  # index 1\n"
   ]
  },
  {
   "cell_type": "code",
   "execution_count": null,
   "id": "0627d2e6",
   "metadata": {},
   "outputs": [],
   "source": []
  }
 ],
 "metadata": {
  "kernelspec": {
   "display_name": "Python 3",
   "language": "python",
   "name": "python3"
  },
  "language_info": {
   "codemirror_mode": {
    "name": "ipython",
    "version": 3
   },
   "file_extension": ".py",
   "mimetype": "text/x-python",
   "name": "python",
   "nbconvert_exporter": "python",
   "pygments_lexer": "ipython3",
   "version": "3.8.8"
  }
 },
 "nbformat": 4,
 "nbformat_minor": 5
}
