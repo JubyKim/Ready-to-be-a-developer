{
 "cells": [
  {
   "cell_type": "code",
   "execution_count": 7,
   "id": "1ea513f7",
   "metadata": {},
   "outputs": [
    {
     "name": "stdout",
     "output_type": "stream",
     "text": [
      "5\n",
      "8\n"
     ]
    }
   ],
   "source": [
    "n = int(input())\n",
    "\n",
    "tileList = []\n",
    "for i in range(n+1):\n",
    "    if i == 0 :\n",
    "        tileList.append(0)\n",
    "    if i == 1 :\n",
    "        tileList.append(1)\n",
    "    if i == 2 :\n",
    "        tileList.append(2)\n",
    "    elif i > 1 : \n",
    "        tileList.append(tileList[i-1] + tileList[i-2])\n",
    "        \n",
    "print(tileList[-1]%10007)"
   ]
  },
  {
   "cell_type": "code",
   "execution_count": null,
   "id": "45a73a31",
   "metadata": {},
   "outputs": [],
   "source": []
  },
  {
   "cell_type": "code",
   "execution_count": null,
   "id": "95cdcc39",
   "metadata": {},
   "outputs": [],
   "source": []
  }
 ],
 "metadata": {
  "kernelspec": {
   "display_name": "Python 3",
   "language": "python",
   "name": "python3"
  },
  "language_info": {
   "codemirror_mode": {
    "name": "ipython",
    "version": 3
   },
   "file_extension": ".py",
   "mimetype": "text/x-python",
   "name": "python",
   "nbconvert_exporter": "python",
   "pygments_lexer": "ipython3",
   "version": "3.8.8"
  }
 },
 "nbformat": 4,
 "nbformat_minor": 5
}
