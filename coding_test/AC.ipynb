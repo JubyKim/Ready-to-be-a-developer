{
 "cells": [
  {
   "cell_type": "code",
   "execution_count": 49,
   "id": "f11cb724",
   "metadata": {},
   "outputs": [
    {
     "name": "stdout",
     "output_type": "stream",
     "text": [
      "4\n",
      "RDD\n",
      "4\n",
      "[1,2,3,4]\n",
      "[2,1]\n",
      "DD\n",
      "1\n",
      "[42]\n",
      "error\n",
      "RRD\n",
      "6\n",
      "[1,1,2,3,5,8]\n",
      "[1,2,3,5,8]\n",
      "D\n",
      "0\n",
      "[]\n",
      "error\n"
     ]
    }
   ],
   "source": [
    "from collections import deque\n",
    "import sys\n",
    "\n",
    "num = int(input())\n",
    "\n",
    "for _ in range(num):\n",
    "    re = False\n",
    "    error = False\n",
    "    opers = sys.stdin.readline().rstrip()\n",
    "    cnt = int(input())\n",
    "    nums = deque(sys.stdin.readline().rstrip()[1:-1].split(\",\"))\n",
    "    if cnt == 0 :\n",
    "        nums = deque()\n",
    "    \n",
    "    for oper in opers:\n",
    "        if oper == \"R\":\n",
    "            re = not re\n",
    "        elif oper == \"D\":\n",
    "            if re :\n",
    "                try :\n",
    "                    nums.pop()\n",
    "                except :\n",
    "                    print(\"error\")\n",
    "                    error = True\n",
    "                    break\n",
    "            else :\n",
    "                try :\n",
    "                    nums.popleft()\n",
    "                except :\n",
    "                    print(\"error\")\n",
    "                    error = True\n",
    "                    break\n",
    "    if not error :\n",
    "        if re :\n",
    "            nums.reverse()\n",
    "            print(\"[\"+\",\".join(nums)+\"]\")\n",
    "        else :\n",
    "            print(\"[\"+\",\".join(nums)+\"]\")"
   ]
  },
  {
   "cell_type": "code",
   "execution_count": null,
   "id": "28a70dfe",
   "metadata": {},
   "outputs": [],
   "source": []
  }
 ],
 "metadata": {
  "kernelspec": {
   "display_name": "Python 3",
   "language": "python",
   "name": "python3"
  },
  "language_info": {
   "codemirror_mode": {
    "name": "ipython",
    "version": 3
   },
   "file_extension": ".py",
   "mimetype": "text/x-python",
   "name": "python",
   "nbconvert_exporter": "python",
   "pygments_lexer": "ipython3",
   "version": "3.8.8"
  }
 },
 "nbformat": 4,
 "nbformat_minor": 5
}
