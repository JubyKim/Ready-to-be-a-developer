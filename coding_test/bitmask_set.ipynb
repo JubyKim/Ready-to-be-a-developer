{
 "cells": [
  {
   "cell_type": "code",
   "execution_count": null,
   "id": "a741bb11",
   "metadata": {},
   "outputs": [],
   "source": [
    "print(\"start\")\n",
    "\n",
    "/*\n",
    "add x: S에 x를 추가한다. (1 ≤ x ≤ 20) S에 x가 이미 있는 경우에는 연산을 무시한다.\n",
    "remove x: S에서 x를 제거한다. (1 ≤ x ≤ 20) S에 x가 없는 경우에는 연산을 무시한다.\n",
    "check x: S에 x가 있으면 1을, 없으면 0을 출력한다. (1 ≤ x ≤ 20)\n",
    "toggle x: S에 x가 있으면 x를 제거하고, 없으면 x를 추가한다. (1 ≤ x ≤ 20)\n",
    "all: S를 {1, 2, ..., 20} 으로 바꾼다.\n",
    "empty: S를 공집합으로 바꾼다. */\n",
    "\n",
    "\n",
    "import sys\n",
    "\n",
    "n = sys.stdin.readline()\n",
    "\n",
    "for _ in range(int(n)):\n",
    "    ip = sys.stdin.readline()\n",
    "    oper = ip.split()[0]\n",
    "    num = ip.split()[1]"
   ]
  }
 ],
 "metadata": {
  "kernelspec": {
   "display_name": "Python 3",
   "language": "python",
   "name": "python3"
  },
  "language_info": {
   "codemirror_mode": {
    "name": "ipython",
    "version": 3
   },
   "file_extension": ".py",
   "mimetype": "text/x-python",
   "name": "python",
   "nbconvert_exporter": "python",
   "pygments_lexer": "ipython3",
   "version": "3.8.8"
  }
 },
 "nbformat": 4,
 "nbformat_minor": 5
}
