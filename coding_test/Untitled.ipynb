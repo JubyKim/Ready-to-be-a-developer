{
 "cells": [
  {
   "cell_type": "code",
   "execution_count": 1,
   "id": "d515e84e",
   "metadata": {},
   "outputs": [],
   "source": [
    "def solution(user_id, banned_id):\n",
    "    \n",
    "    countDict = {banned_id : 0 for banned_id in banned_id}\n",
    "    \n",
    "    for i in banned_id :\n",
    "        for j in user_id :\n",
    "            if len(i) == len(j):\n",
    "                count =0\n",
    "                for h in range(len(j)):\n",
    "                    if i[h] == j[h] or i[h] == \"*\" :\n",
    "                        count+=1\n",
    "                        print(count)\n",
    "                    else :\n",
    "                        continue\n",
    "                if len(i) == count:\n",
    "                    countDict[i] +=1\n",
    "    \n",
    "    print(countDict)\n",
    "    answer = 1\n",
    "    for keys, value in countDict.items():\n",
    "        print(value)\n",
    "        if value > 0:\n",
    "            answer *= value\n",
    "            \n",
    "    return answer"
   ]
  },
  {
   "cell_type": "code",
   "execution_count": 6,
   "id": "408b0823",
   "metadata": {},
   "outputs": [
    {
     "name": "stdout",
     "output_type": "stream",
     "text": [
      "1\n",
      "2\n",
      "3\n",
      "4\n",
      "5\n",
      "1\n",
      "2\n",
      "3\n",
      "4\n",
      "5\n",
      "1\n",
      "2\n",
      "3\n",
      "4\n",
      "1\n",
      "2\n",
      "3\n",
      "4\n",
      "5\n",
      "6\n",
      "1\n",
      "2\n",
      "{'fr*d*': 2, 'abc1**': 1}\n",
      "2\n",
      "1\n"
     ]
    },
    {
     "data": {
      "text/plain": [
       "2"
      ]
     },
     "execution_count": 6,
     "metadata": {},
     "output_type": "execute_result"
    }
   ],
   "source": [
    "solution([\"frodo\", \"fradi\", \"crodo\", \"abc123\", \"frodoc\"],[\"fr*d*\", \"abc1**\"])"
   ]
  },
  {
   "cell_type": "code",
   "execution_count": 7,
   "id": "9a10ee04",
   "metadata": {},
   "outputs": [
    {
     "name": "stdout",
     "output_type": "stream",
     "text": [
      "1\n",
      "2\n",
      "3\n",
      "4\n",
      "5\n",
      "1\n",
      "2\n",
      "3\n",
      "1\n",
      "2\n",
      "3\n",
      "4\n",
      "5\n",
      "1\n",
      "2\n",
      "3\n",
      "4\n",
      "5\n",
      "1\n",
      "2\n",
      "3\n",
      "1\n",
      "2\n",
      "3\n",
      "4\n",
      "5\n",
      "1\n",
      "2\n",
      "3\n",
      "4\n",
      "5\n",
      "6\n",
      "1\n",
      "2\n",
      "3\n",
      "4\n",
      "5\n",
      "6\n",
      "{'*rodo': 4, '******': 2}\n",
      "4\n",
      "2\n"
     ]
    },
    {
     "data": {
      "text/plain": [
       "8"
      ]
     },
     "execution_count": 7,
     "metadata": {},
     "output_type": "execute_result"
    }
   ],
   "source": [
    "solution([\"frodo\", \"fradi\", \"crodo\", \"abc123\", \"frodoc\"], [\"*rodo\", \"*rodo\", \"******\"])"
   ]
  },
  {
   "cell_type": "code",
   "execution_count": 8,
   "id": "554c2f20",
   "metadata": {
    "scrolled": true
   },
   "outputs": [
    {
     "name": "stdout",
     "output_type": "stream",
     "text": [
      "1\n",
      "2\n",
      "3\n",
      "4\n",
      "5\n",
      "1\n",
      "2\n",
      "3\n",
      "4\n",
      "5\n",
      "1\n",
      "2\n",
      "3\n",
      "4\n",
      "1\n",
      "2\n",
      "3\n",
      "4\n",
      "5\n",
      "1\n",
      "2\n",
      "3\n",
      "1\n",
      "2\n",
      "3\n",
      "4\n",
      "5\n",
      "1\n",
      "2\n",
      "3\n",
      "4\n",
      "5\n",
      "6\n",
      "1\n",
      "2\n",
      "3\n",
      "4\n",
      "5\n",
      "6\n",
      "1\n",
      "2\n",
      "3\n",
      "4\n",
      "5\n",
      "6\n",
      "1\n",
      "2\n",
      "3\n",
      "4\n",
      "5\n",
      "6\n",
      "{'fr*d*': 2, '*rodo': 2, '******': 4}\n",
      "2\n",
      "2\n",
      "4\n"
     ]
    },
    {
     "data": {
      "text/plain": [
       "16"
      ]
     },
     "execution_count": 8,
     "metadata": {},
     "output_type": "execute_result"
    }
   ],
   "source": [
    "solution([\"frodo\", \"fradi\", \"crodo\", \"abc123\", \"frodoc\"],[\"fr*d*\", \"*rodo\", \"******\", \"******\"])"
   ]
  },
  {
   "cell_type": "code",
   "execution_count": null,
   "id": "d8098c31",
   "metadata": {},
   "outputs": [],
   "source": []
  },
  {
   "cell_type": "code",
   "execution_count": null,
   "id": "945a5c19",
   "metadata": {},
   "outputs": [],
   "source": []
  }
 ],
 "metadata": {
  "kernelspec": {
   "display_name": "Python 3",
   "language": "python",
   "name": "python3"
  },
  "language_info": {
   "codemirror_mode": {
    "name": "ipython",
    "version": 3
   },
   "file_extension": ".py",
   "mimetype": "text/x-python",
   "name": "python",
   "nbconvert_exporter": "python",
   "pygments_lexer": "ipython3",
   "version": "3.8.8"
  }
 },
 "nbformat": 4,
 "nbformat_minor": 5
}
