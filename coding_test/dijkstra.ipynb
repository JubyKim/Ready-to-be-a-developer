{
 "cells": [
  {
   "cell_type": "code",
   "execution_count": 27,
   "id": "df964987",
   "metadata": {},
   "outputs": [],
   "source": [
    "import heapq  # 우선순위 큐 구현을 위함\n",
    "\n",
    "def dijkstra(graph, start):\n",
    "    distances = {node: float('inf') for node in graph}  # start로 부터의 거리 값을 저장하기 위함\n",
    "    distances[start] = 0  # 시작 값은 0이어야 함\n",
    "    queue = []\n",
    "    heapq.heappush(queue, (distances[start], start))  # 시작 노드부터 탐색 시작 하기 위함.\n",
    "\n",
    "    while queue:  # queue에 남아 있는 노드가 없으면 끝\n",
    "        current_distance, current_destination = heapq.heappop(queue)  # 탐색 할 노드, 거리를 가져옴.\n",
    "        print(\"current_distance : \", current_distance,\"current_destination : \", current_destination)\n",
    "        \n",
    "        if distances[current_destination] < current_distance:  # 기존에 있는 거리보다 길다면, 볼 필요도 없음\n",
    "            continue\n",
    "\n",
    "        for new_destination, new_distance in graph[current_destination].items():\n",
    "            print(\"new_destination : \", new_destination, \"new_distance :\",  new_distance)\n",
    "            distance = current_distance + new_distance  # 해당 노드를 거쳐 갈 때 거리\n",
    "            if distance < distances[new_destination]:  # 알고 있는 거리 보다 작으면 갱신\n",
    "                distances[new_destination] = distance\n",
    "                heapq.heappush(queue, [distance, new_destination])  # 다음 인접 거리를 계산 하기 위해 큐에 삽입\n",
    "\n",
    "    return distances"
   ]
  },
  {
   "cell_type": "code",
   "execution_count": 28,
   "id": "7ad5d3ed",
   "metadata": {},
   "outputs": [],
   "source": [
    "graph = {\n",
    "    'A': {'B': 8, 'C': 1, 'D': 2},\n",
    "    'B': {},\n",
    "    'C': {'B': 5, 'D': 2},\n",
    "    'D': {'E': 3, 'F': 5},\n",
    "    'E': {'F': 1},\n",
    "    'F': {'A': 5}\n",
    "}"
   ]
  },
  {
   "cell_type": "code",
   "execution_count": 29,
   "id": "72092449",
   "metadata": {},
   "outputs": [
    {
     "name": "stdout",
     "output_type": "stream",
     "text": [
      "current_distance :  0 current_destination :  A\n",
      "new_destination :  B new_distance : 8\n",
      "new_destination :  C new_distance : 1\n",
      "new_destination :  D new_distance : 2\n",
      "current_distance :  1 current_destination :  C\n",
      "new_destination :  B new_distance : 5\n",
      "new_destination :  D new_distance : 2\n",
      "current_distance :  2 current_destination :  D\n",
      "new_destination :  E new_distance : 3\n",
      "new_destination :  F new_distance : 5\n",
      "current_distance :  5 current_destination :  E\n",
      "new_destination :  F new_distance : 1\n",
      "current_distance :  6 current_destination :  B\n",
      "current_distance :  6 current_destination :  F\n",
      "new_destination :  A new_distance : 5\n",
      "current_distance :  7 current_destination :  F\n",
      "current_distance :  8 current_destination :  B\n"
     ]
    },
    {
     "data": {
      "text/plain": [
       "{'A': 0, 'B': 6, 'C': 1, 'D': 2, 'E': 5, 'F': 6}"
      ]
     },
     "execution_count": 29,
     "metadata": {},
     "output_type": "execute_result"
    }
   ],
   "source": [
    "dijkstra(graph,'A')"
   ]
  },
  {
   "cell_type": "code",
   "execution_count": null,
   "id": "9fc7ad69",
   "metadata": {},
   "outputs": [],
   "source": []
  },
  {
   "cell_type": "code",
   "execution_count": null,
   "id": "ea062f66",
   "metadata": {},
   "outputs": [],
   "source": []
  }
 ],
 "metadata": {
  "kernelspec": {
   "display_name": "Python 3",
   "language": "python",
   "name": "python3"
  },
  "language_info": {
   "codemirror_mode": {
    "name": "ipython",
    "version": 3
   },
   "file_extension": ".py",
   "mimetype": "text/x-python",
   "name": "python",
   "nbconvert_exporter": "python",
   "pygments_lexer": "ipython3",
   "version": "3.8.8"
  }
 },
 "nbformat": 4,
 "nbformat_minor": 5
}
