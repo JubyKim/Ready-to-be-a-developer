{
 "cells": [
  {
   "cell_type": "code",
   "execution_count": null,
   "id": "6fd0df65",
   "metadata": {},
   "outputs": [],
   "source": [
    "class Node:\n",
    "    def __init__(self, item, left, right):\n",
    "        self.item = item\n",
    "        self.left = left\n",
    "        self.right = right\n",
    "\n",
    "\n",
    "def preorder(node):  # 전위 순회\n",
    "    print(node.item, end='')\n",
    "    if node.left != '.':\n",
    "        preorder(tree[node.left])\n",
    "    if node.right != '.':\n",
    "        preorder(tree[node.right])\n",
    "\n",
    "\n",
    "def inorder(node):  # 중위 순회\n",
    "    if node.left != '.':\n",
    "        inorder(tree[node.left])\n",
    "    print(node.item, end='')\n",
    "    if node.right != '.':\n",
    "        inorder(tree[node.right])\n",
    "\n",
    "\n",
    "def postorder(node):  # 후위 순회\n",
    "    if node.left != '.':\n",
    "        postorder(tree[node.left])\n",
    "    if node.right != '.':\n",
    "        postorder(tree[node.right])\n",
    "    print(node.item, end='')\n",
    "    \n",
    "N = int(input())\n",
    "tree = {} #dictionary형태\n",
    "\n",
    "for _ in range(N):\n",
    "    node, left, right = map(str, input().split())\n",
    "    tree[node] = Node(item=node, left=left, right=right)\n",
    "\n",
    "preorder(tree['A'])\n",
    "print()\n",
    "# inorder(tree['A'])\n",
    "# print()\n",
    "# postorder(tree['A'])"
   ]
  },
  {
   "cell_type": "code",
   "execution_count": null,
   "id": "4f6a00be",
   "metadata": {},
   "outputs": [],
   "source": [
    "class Node:\n",
    "    def __init__(self, item, left, right):\n",
    "        self.item = item\n",
    "        self.left = left\n",
    "        self.right = right\n",
    "        \n",
    "def preorder(node):  # 전위 순회\n",
    "    print(node.item, end ='')#일렬로 출력\n",
    "    if node.left != '.':\n",
    "        preorder(tree[node.left])\n",
    "    if node.right != '.':\n",
    "        preorder(tree[node.right])\n",
    "    #어떻게 다시 루트로드로 돌아와서 오른쪽 트리 탐색하지?\n",
    "        \n",
    "n = int(input())\n",
    "tree = {} #dictionary형태\n",
    "\n",
    "for _ in range(n):\n",
    "    item, left, right = map(str, input().split())\n",
    "    tree[item] = Node(item = item, left = left, right = right)\n",
    "    \n",
    "preorder(tree['A'])\n",
    "print()"
   ]
  }
 ],
 "metadata": {
  "kernelspec": {
   "display_name": "Python 3",
   "language": "python",
   "name": "python3"
  },
  "language_info": {
   "codemirror_mode": {
    "name": "ipython",
    "version": 3
   },
   "file_extension": ".py",
   "mimetype": "text/x-python",
   "name": "python",
   "nbconvert_exporter": "python",
   "pygments_lexer": "ipython3",
   "version": "3.8.8"
  }
 },
 "nbformat": 4,
 "nbformat_minor": 5
}
