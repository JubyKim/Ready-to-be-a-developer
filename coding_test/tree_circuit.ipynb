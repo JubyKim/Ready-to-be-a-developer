{
 "cells": [
  {
   "cell_type": "code",
   "execution_count": 4,
   "id": "1900020c",
   "metadata": {},
   "outputs": [
    {
     "name": "stdout",
     "output_type": "stream",
     "text": [
      "7\n",
      "A B C\n",
      "B D .\n",
      "C E F\n",
      "E . .\n",
      "F . G\n",
      "D . .\n",
      "G . .\n",
      "ABDCEFG\n"
     ]
    }
   ],
   "source": [
    "class Node:\n",
    "    def __init__(self, item, left, right):\n",
    "        self.item = item\n",
    "        self.left = left\n",
    "        self.right = right\n",
    "        \n",
    "def preorder(node):  # 전위 순회 : 루트 - 왼 - 오\n",
    "    print(node.item, end ='')#현재노드 출력 / 일렬로 출력\n",
    "    if node.left != '.': #왼쪽이 공백이 아니라면\n",
    "        preorder(tree[node.left])\n",
    "    if node.right != '.': #오른쪽이 공백이 아니라면\n",
    "        preorder(tree[node.right])\n",
    "    \n",
    "def inorder(node):  #중위순회 : 왼 - 루트 - 오\n",
    "    if node.left != '.': #왼쪽이 공백이 아니라면\n",
    "        inorder(tree[node.left])\n",
    "    print(node.item, end ='')#현재노드 출력 / 일렬로 출력\n",
    "    if node.right != '.': #오른쪽이 공백이 아니라면\n",
    "        inorder(tree[node.right])\n",
    "    \n",
    "def postorder(node):  #후위순회 : 왼 - 오 - 루트\n",
    "    if node.left != '.': #왼쪽이 공백이 아니라면\n",
    "        postorder(tree[node.left])\n",
    "    if node.right != '.': #오른쪽이 공백이 아니라면\n",
    "        postorder(tree[node.right])\n",
    "    print(node.item, end ='')#현재노드 출력 / 일렬로 출력\n",
    "    \n",
    "n = int(input())\n",
    "tree = {} #dictionary형태\n",
    "\n",
    "for _ in range(n):\n",
    "    item, left, right = map(str, input().split())\n",
    "    tree[item] = Node(item = item, left = left, right = right)\n",
    "    \n",
    "preorder(tree['A'])\n",
    "print()\n",
    "inorder(tree['A'])\n",
    "print()\n",
    "postorder(tree['A'])\n",
    "print()"
   ]
  },
  {
   "cell_type": "code",
   "execution_count": null,
   "id": "37b7fc23",
   "metadata": {},
   "outputs": [],
   "source": []
  }
 ],
 "metadata": {
  "kernelspec": {
   "display_name": "Python 3",
   "language": "python",
   "name": "python3"
  },
  "language_info": {
   "codemirror_mode": {
    "name": "ipython",
    "version": 3
   },
   "file_extension": ".py",
   "mimetype": "text/x-python",
   "name": "python",
   "nbconvert_exporter": "python",
   "pygments_lexer": "ipython3",
   "version": "3.8.8"
  }
 },
 "nbformat": 4,
 "nbformat_minor": 5
}
