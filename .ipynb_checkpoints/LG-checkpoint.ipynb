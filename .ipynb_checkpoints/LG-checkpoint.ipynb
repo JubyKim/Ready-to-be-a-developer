{
 "cells": [
  {
   "cell_type": "code",
   "execution_count": 4,
   "id": "16b5ed90",
   "metadata": {},
   "outputs": [
    {
     "name": "stdout",
     "output_type": "stream",
     "text": [
      "['A', 'B', 'C', 'H', 'D', 'I', 'J', 'M', 'E', 'G', 'K', 'F', 'L']\n",
      "['A', 'B', 'H', 'M', 'J', 'K', 'L', 'I', 'C', 'D', 'G', 'E', 'F']\n"
     ]
    }
   ],
   "source": [
    "def bfs(graph, start_node):\n",
    "    visit = list()\n",
    "    queue = list()\n",
    "\n",
    "    queue.append(start_node)\n",
    "\n",
    "    while queue:\n",
    "        node = queue.pop(0)\n",
    "        if node not in visit:\n",
    "            visit.append(node)\n",
    "            queue.extend(graph[node])\n",
    "\n",
    "    return visit\n",
    "\n",
    "\n",
    "def dfs(graph, start_node):\n",
    "    visit = list()\n",
    "    stack = list()\n",
    "\n",
    "    stack.append(start_node)\n",
    "\n",
    "    while stack:\n",
    "        node = stack.pop()\n",
    "        if node not in visit:\n",
    "            visit.append(node)\n",
    "            stack.extend(graph[node])\n",
    "\n",
    "    return visit\n",
    "\n",
    "\n",
    "if __name__ == \"__main__\":\n",
    "    graph = {\n",
    "        'A': ['B'],\n",
    "        'B': ['A', 'C', 'H'],\n",
    "        'C': ['B', 'D'],\n",
    "        'D': ['C', 'E', 'G'],\n",
    "        'E': ['D', 'F'],\n",
    "        'F': ['E'],\n",
    "        'G': ['D'],\n",
    "        'H': ['B', 'I', 'J', 'M'],\n",
    "        'I': ['H'],\n",
    "        'J': ['H', 'K'],\n",
    "        'K': ['J', 'L'],\n",
    "        'L': ['K'],\n",
    "        'M': ['H']\n",
    "    }\n",
    "\n",
    "    print(bfs(graph, 'A'))\n",
    "    print(dfs(graph, 'A'))"
   ]
  },
  {
   "cell_type": "code",
   "execution_count": 8,
   "id": "20dd128b",
   "metadata": {},
   "outputs": [],
   "source": [
    "graph = {\n",
    "        'A': ['B'],\n",
    "        'B': ['A', 'C', 'H'],\n",
    "        'C': ['B', 'D'],\n",
    "        'D': ['C', 'E', 'G'],\n",
    "        'E': ['D', 'F'],\n",
    "        'F': ['E'],\n",
    "        'G': ['D'],\n",
    "        'H': ['B', 'I', 'J', 'M'],\n",
    "        'I': ['H'],\n",
    "        'J': ['H', 'K'],\n",
    "        'K': ['J', 'L'],\n",
    "        'L': ['K'],\n",
    "        'M': ['H']\n",
    "    }"
   ]
  },
  {
   "cell_type": "code",
   "execution_count": 9,
   "id": "b267eaaa",
   "metadata": {},
   "outputs": [],
   "source": [
    "#bfs myself\n",
    "\n",
    "def bfs(graph, startNode):\n",
    "    visit = []\n",
    "    \n",
    "    queue = [startNode]\n",
    "    \n",
    "    while queue :\n",
    "        \n",
    "        print(\"어디보자 : \", queue)\n",
    "        node = queue.pop(0)\n",
    "        if not node in visit :\n",
    "            visit.append(node)\n",
    "            queue.extend(graph[node])\n",
    "    return visit"
   ]
  },
  {
   "cell_type": "code",
   "execution_count": 10,
   "id": "9745f808",
   "metadata": {},
   "outputs": [
    {
     "data": {
      "text/plain": [
       "['A', 'B', 'C', 'H', 'D', 'I', 'J', 'M', 'E', 'G', 'K', 'F', 'L']"
      ]
     },
     "execution_count": 10,
     "metadata": {},
     "output_type": "execute_result"
    }
   ],
   "source": [
    "bfs(graph,'A')\n",
    "#['A', 'B', 'C', 'H', 'D', 'I', 'J', 'M', 'E', 'G', 'K', 'F', 'L']"
   ]
  },
  {
   "cell_type": "code",
   "execution_count": null,
   "id": "fe7b302b",
   "metadata": {},
   "outputs": [],
   "source": []
  }
 ],
 "metadata": {
  "kernelspec": {
   "display_name": "Python 3",
   "language": "python",
   "name": "python3"
  },
  "language_info": {
   "codemirror_mode": {
    "name": "ipython",
    "version": 3
   },
   "file_extension": ".py",
   "mimetype": "text/x-python",
   "name": "python",
   "nbconvert_exporter": "python",
   "pygments_lexer": "ipython3",
   "version": "3.8.8"
  }
 },
 "nbformat": 4,
 "nbformat_minor": 5
}
