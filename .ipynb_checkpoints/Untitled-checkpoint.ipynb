{
 "cells": [
  {
   "cell_type": "code",
   "execution_count": 38,
   "id": "710520e8",
   "metadata": {},
   "outputs": [],
   "source": [
    "def isPalindrome(head: list):\n",
    "\n",
    "    leftPoint = 0\n",
    "    rightPoint = len(head)-1\n",
    "    \n",
    "    while leftPoint < rightPoint:\n",
    "        if head[leftPoint] == head[rightPoint]:\n",
    "            print(head[leftPoint])\n",
    "            print(head[rightPoint])\n",
    "            leftPoint += 1\n",
    "            rightPoint -= 1\n",
    "            continue\n",
    "        else :\n",
    "            return False\n",
    "    return True"
   ]
  },
  {
   "cell_type": "code",
   "execution_count": 39,
   "id": "41d9d679",
   "metadata": {},
   "outputs": [
    {
     "name": "stdout",
     "output_type": "stream",
     "text": [
      "False\n"
     ]
    }
   ],
   "source": [
    "print(isPalindrome([1,2]))"
   ]
  },
  {
   "cell_type": "code",
   "execution_count": null,
   "id": "82eb34ae",
   "metadata": {},
   "outputs": [],
   "source": []
  }
 ],
 "metadata": {
  "kernelspec": {
   "display_name": "Python 3",
   "language": "python",
   "name": "python3"
  },
  "language_info": {
   "codemirror_mode": {
    "name": "ipython",
    "version": 3
   },
   "file_extension": ".py",
   "mimetype": "text/x-python",
   "name": "python",
   "nbconvert_exporter": "python",
   "pygments_lexer": "ipython3",
   "version": "3.8.8"
  }
 },
 "nbformat": 4,
 "nbformat_minor": 5
}
