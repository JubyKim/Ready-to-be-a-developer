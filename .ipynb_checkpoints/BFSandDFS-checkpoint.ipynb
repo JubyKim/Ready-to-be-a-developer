{
 "cells": [
  {
   "cell_type": "code",
   "execution_count": 59,
   "id": "4cce7d35",
   "metadata": {},
   "outputs": [],
   "source": [
    "def solution(numbers, target):\n",
    "    n = len(numbers)\n",
    "    answer = 0\n",
    "    \n",
    "    def dfs(idx, result):\n",
    "        if idx == n: #n 만큼 반복했다면.\n",
    "            if result == target:\n",
    "                nonlocal answer\n",
    "                answer += 1\n",
    "            return\n",
    "        else:\n",
    "            dfs(idx+1, result+numbers[idx])\n",
    "            dfs(idx+1, result-numbers[idx])\n",
    "            \n",
    "    dfs(0,0)\n",
    "    return answer"
   ]
  },
  {
   "cell_type": "code",
   "execution_count": 60,
   "id": "3b34dd7a",
   "metadata": {},
   "outputs": [
    {
     "data": {
      "text/plain": [
       "2"
      ]
     },
     "execution_count": 60,
     "metadata": {},
     "output_type": "execute_result"
    }
   ],
   "source": [
    "solution([4,1,2,1],4)"
   ]
  },
  {
   "cell_type": "code",
   "execution_count": null,
   "id": "0a188acf",
   "metadata": {},
   "outputs": [],
   "source": [
    "[[1, 1, 0], [1, 1, 0], [0, 0, 1]],2)"
   ]
  },
  {
   "cell_type": "code",
   "execution_count": 105,
   "id": "afecf110",
   "metadata": {},
   "outputs": [],
   "source": [
    "import numpy as np\n",
    "def solution(n, computers):\n",
    "    answer = 0\n",
    "    graph = { i : [] for i in range(len(computers))\n",
    "    }\n",
    "    for idx, item in enumerate(computers):\n",
    "        graph[idx] = np.where(np.array(item) == 1)[0]\n",
    "        \n",
    "    def dfs(graph, str_node):\n",
    "        queue = [str_node]\n",
    "        visit = []\n",
    "        while queue:\n",
    "            node = queue.pop(0)\n",
    "            if node not in visit:\n",
    "                visit.append(node)\n",
    "                queue.extend(graph[node])\n",
    "        return visit\n",
    "#     print(dfs(graph,0))\n",
    "    answer = n - len(dfs(graph,0)) + 1\n",
    "    return answer\n"
   ]
  },
  {
   "cell_type": "code",
   "execution_count": 293,
   "id": "b10c5ed7",
   "metadata": {},
   "outputs": [],
   "source": [
    "def solution(tickets):\n",
    "    root = {i[0] : [] for i in tickets}\n",
    "    \n",
    "    cities = [j for i in tickets for j in i]\n",
    "    cities = set(cities)\n",
    "    \n",
    "    visited = {c : False for c in cities}\n",
    "    \n",
    "    print(visited)\n",
    "    \n",
    "    for t in tickets: #makeGraph\n",
    "        root[t[0]].append(t[1])\n",
    "        \n",
    "        \n",
    "    def dfs(graph, str_node):\n",
    "        queue = [str_node]\n",
    "        visit = []\n",
    "        \n",
    "        while list(visited.values()).count(True) != len(cities) :\n",
    "            node = queue.pop(0)\n",
    "            visited[node] = True\n",
    "            visit.append(node)\n",
    "            queue.extend(graph[node])\n",
    "            print(visited)\n",
    "            print(visit)\n",
    "        return visit\n",
    "    \n",
    "    keys = sorted(root.keys())\n",
    "    \n",
    "    for i in keys:\n",
    "        try : \n",
    "            print(dfs(root,i))\n",
    "        except :\n",
    "            print(\"error\")\n",
    "    \n",
    "#     keys = sorted(root.keys())\n",
    "    \n",
    "#     for i in keys:\n",
    "#         try :\n",
    "#             answer = dfs(root,i)\n",
    "#             return\n",
    "#         except:\n",
    "#             print(\"error\")\n",
    "\n",
    "#     print(answer)\n",
    "\n",
    "# #     answer = dfs(root, 'ICN')\n",
    "#     answer = dfs(root, 'HND')\n",
    "# #     answer = dfs(root, 'JFK')"
   ]
  },
  {
   "cell_type": "code",
   "execution_count": 295,
   "id": "3f497e5b",
   "metadata": {},
   "outputs": [
    {
     "name": "stdout",
     "output_type": "stream",
     "text": [
      "{'ATL': False, 'SFO': False, 'ICN': False}\n",
      "{'ATL': True, 'SFO': False, 'ICN': False}\n",
      "['ATL']\n",
      "{'ATL': True, 'SFO': False, 'ICN': True}\n",
      "['ATL', 'ICN']\n",
      "{'ATL': True, 'SFO': True, 'ICN': True}\n",
      "['ATL', 'ICN', 'SFO']\n",
      "['ATL', 'ICN', 'SFO']\n",
      "[]\n",
      "[]\n"
     ]
    }
   ],
   "source": [
    "# solution([[\"ICN\", \"JFK\"], [\"HND\", \"IAD\"], [\"JFK\", \"HND\"]])\n",
    "\n",
    "# 행 결과 〉\t\n",
    "# 테스트 2\n",
    "solution([[\"ICN\", \"SFO\"], [\"ICN\", \"ATL\"], [\"SFO\", \"ATL\"], [\"ATL\", \"ICN\"], [\"ATL\",\"SFO\"]])\n",
    "# 기댓값 〉\t[\"ICN\", \"ATL\", \"ICN\", \"SFO\", \"ATL\", \"SFO\"]\n",
    "# 실행 결과 〉 "
   ]
  },
  {
   "cell_type": "code",
   "execution_count": 296,
   "id": "9a68fbf8",
   "metadata": {},
   "outputs": [],
   "source": [
    "tickets = [[\"ICN\", \"SFO\"], [\"ICN\", \"ATL\"], [\"SFO\", \"ATL\"], [\"ATL\", \"ICN\"], [\"ATL\", \"SFO\"]]\n",
    "cities = [j for i in tickets for j in i]\n",
    "cities = set(cities)"
   ]
  },
  {
   "cell_type": "code",
   "execution_count": 11,
   "id": "4d18b8a3",
   "metadata": {},
   "outputs": [
    {
     "name": "stdout",
     "output_type": "stream",
     "text": [
      "4 5\n",
      "00110\n",
      "00011\n",
      "11111\n",
      "00000\n",
      "[[0, 0, 1, 1, 0], [0, 0, 0, 1, 1], [1, 1, 1, 1, 1], [0, 0, 0, 0, 0]]\n",
      "3\n"
     ]
    }
   ],
   "source": [
    "# N, M을 공백을 기준으로 구분하여 입력 받기\n",
    "n, m = map(int, input().split())\n",
    "\n",
    "# 2차원 리스트의 맵 정보 입력 받기\n",
    "graph = []\n",
    "for i in range(n):\n",
    "    graph.append(list(map(int, input())))\n",
    "print(graph)\n",
    "\n",
    "# DFS로 특정한 노드를 방문한 뒤에 연결된 모든 노드들도 방문\n",
    "def dfs(x, y):\n",
    "    # 주어진 범위를 벗어나는 경우에는 즉시 종료\n",
    "    if x <= -1 or x >= n or y <= -1 or y >= m:\n",
    "        return\n",
    "    \n",
    "    # 현재 노드를 아직 방문하지 않았다면\n",
    "    if graph[x][y] == 0: \n",
    "        # 해당 노드 방문 처리\n",
    "        graph[x][y] = 1\n",
    "        \n",
    "        # 상, 하, 좌, 우의 위치들도 모두 재귀적으로 호출\n",
    "        dfs(x - 1, y)\n",
    "        dfs(x, y - 1)\n",
    "        dfs(x + 1, y)\n",
    "        dfs(x, y + 1)\n",
    "        return True\n",
    "    return\n",
    "\n",
    "# 모든 노드(위치)에 대하여 음료수 채우기\n",
    "result = 0\n",
    "for i in range(n):\n",
    "    for j in range(m):\n",
    "        # 현재 위치에서 DFS 수행\n",
    "        if dfs(i, j) == True:\n",
    "            result += 1\n",
    "\n",
    "print(result) # 정답 출력"
   ]
  },
  {
   "cell_type": "code",
   "execution_count": 51,
   "id": "ffb40aee",
   "metadata": {},
   "outputs": [
    {
     "name": "stdout",
     "output_type": "stream",
     "text": [
      "3 3\n",
      "110\n",
      "110\n",
      "011\n",
      "(0, 0)\n",
      "(1, 0)\n",
      "(2, 0)\n"
     ]
    }
   ],
   "source": [
    "# https://steadily-worked.tistory.com/495\n",
    "from collections import deque\n",
    "\n",
    "# 6 10\n",
    "# 0110000011\n",
    "# 1101111101\n",
    "# 1101010111\n",
    "# 1111010111\n",
    "# 0100111000\n",
    "# 1011110111\n",
    "\n",
    "n,m = map(int,input().split())\n",
    "graph = []\n",
    "for i in range(n):\n",
    "    graph.append(list(map(int,input())))\n",
    "    \n",
    "stack = [(0,0)]\n",
    "visit = []\n",
    "\n",
    "def dfs():\n",
    "    while stack :\n",
    "        node = stack.pop()\n",
    "        if graph[node[0]][node[1]] == 1 :\n",
    "            visit.append(node)\n",
    "            if node[0] < n-1 :\n",
    "                stack.append(((node[0]+1),node[1]))\n",
    "            elif node[1] < n-1:\n",
    "                stack.append(((node[0]),node[1]+1))\n"
   ]
  },
  {
   "cell_type": "code",
   "execution_count": 50,
   "id": "b84edac4",
   "metadata": {},
   "outputs": [
    {
     "data": {
      "text/plain": [
       "{(0, 0), (0, 1), (1, 0), (1, 1), (2, 1), (2, 2)}"
      ]
     },
     "execution_count": 50,
     "metadata": {},
     "output_type": "execute_result"
    }
   ],
   "source": [
    "set(visit)"
   ]
  },
  {
   "cell_type": "code",
   "execution_count": 53,
   "id": "e231de6b",
   "metadata": {},
   "outputs": [
    {
     "name": "stdout",
     "output_type": "stream",
     "text": [
      "4 5 1\n",
      "1 2\n",
      "1 3\n",
      "1 4\n",
      "2 3\n",
      "3 4\n",
      "[[], [2, 3, 4], [1, 3], [1, 2, 4], [1, 3]]\n",
      "[[False, False, False, False, False]]\n"
     ]
    }
   ],
   "source": [
    "from collections import  deque\n",
    "\n",
    "n, m, v = map(int, input().split())\n",
    "graph = [[] for _ in range(n + 1)]\n",
    "\n",
    "for i in range(m):\n",
    "    a, b = map(int, input().split())\n",
    "    graph[a].append(b)\n",
    "    graph[b].append(a)\n",
    "    graph[a].sort()\n",
    "    graph[b].sort()\n",
    "print(graph)\n",
    "\n",
    "visited = [False] * (n + 1)\n",
    "\n",
    "def dfs(graph, v, visited):\n",
    "    visited[v] = True\n",
    "    print(v, end=' ')\n",
    "    for i in graph[v]:\n",
    "        if not visited[i]:\n",
    "            dfs(graph, i, visited)\n",
    "\n",
    "def Bfs(graph, v, visited):\n",
    "    visited = [False] * (n + 1)\n",
    "    queue = deque([v])\n",
    "    visited[v] = True\n",
    "    while queue:\n",
    "        pop = queue.popleft()\n",
    "        print(pop, end=' ')\n",
    "        for i in graph[pop]:\n",
    "            if not visited[i]:\n",
    "                queue.append(i)\n",
    "                visited[i] = True\n",
    "\n",
    "# dfs(graph, v, visited)\n",
    "# print()\n",
    "# Bfs(graph, v, visited)"
   ]
  },
  {
   "cell_type": "code",
   "execution_count": 85,
   "id": "eaa6da19",
   "metadata": {},
   "outputs": [
    {
     "name": "stdout",
     "output_type": "stream",
     "text": [
      "3 3\n",
      "111\n",
      "111\n",
      "111\n"
     ]
    }
   ],
   "source": [
    "#아이스크림 문제\n",
    "\n",
    "n, m = map(int,input().split())\n",
    "\n",
    "graph = []\n",
    "\n",
    "for i in range(n):\n",
    "    graph.append(list(map(int,input())))\n",
    "\n",
    "#시작은 늘 (0,0)\n",
    "\n",
    "queue = [(0,0)]\n",
    "x = 0\n",
    "y = 0\n",
    "result = 0\n",
    "visit = []\n",
    "def findRoot(): # 1인 애들  \n",
    "    node = queue.pop(0)\n",
    "#     print(\"node : \",node)\n",
    "    global result\n",
    "    result += 1\n",
    "#     print(\"n-1 \", n-1)\n",
    "#     print(\"m-1 \",m-1)\n",
    "    \n",
    "    if node[0] == n-1 and node[1] == m-1:\n",
    "        return result\n",
    "\n",
    "    if node[0] < n-1 :\n",
    "        if graph[node[0]+1][node[1]]  == 1 :\n",
    "            queue.append((node[0]+1,node[1]))\n",
    "            x = node[0]\n",
    "            y = node[1]+1\n",
    "            findRoot()\n",
    "            \n",
    "    if node[1] < m-1 :\n",
    "        if graph[node[0]][node[1]+1]  == 1 :\n",
    "            queue.append((node[0],node[1]+1))\n",
    "            x = node[0]\n",
    "            y = node[1]+1\n",
    "            findRoot()\n",
    "            \n",
    "    return\n",
    "result = findRoot()"
   ]
  },
  {
   "cell_type": "raw",
   "id": "d279c476",
   "metadata": {},
   "source": []
  },
  {
   "cell_type": "markdown",
   "id": "564f3122",
   "metadata": {},
   "source": [
    "### "
   ]
  }
 ],
 "metadata": {
  "kernelspec": {
   "display_name": "Python 3",
   "language": "python",
   "name": "python3"
  },
  "language_info": {
   "codemirror_mode": {
    "name": "ipython",
    "version": 3
   },
   "file_extension": ".py",
   "mimetype": "text/x-python",
   "name": "python",
   "nbconvert_exporter": "python",
   "pygments_lexer": "ipython3",
   "version": "3.8.8"
  }
 },
 "nbformat": 4,
 "nbformat_minor": 5
}
